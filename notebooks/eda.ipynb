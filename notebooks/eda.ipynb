{
 "cells": [
  {
   "cell_type": "code",
   "execution_count": 74,
   "metadata": {
    "collapsed": true
   },
   "outputs": [],
   "source": [
    "import pandas as pd\n",
    "import numpy as np\n",
    "import matplotlib.pyplot as plt"
   ]
  },
  {
   "cell_type": "code",
   "execution_count": 75,
   "outputs": [],
   "source": [
    "billboard_df = pd.read_csv(\"../data/billboard/hot-100_all.csv\")\n",
    "spotify_df = pd.read_csv(\"../data/spofity/songs.csv\")\n",
    "audio_analysis_df = pd.read_csv(\"../data/audio/audio_features_full.csv\")"
   ],
   "metadata": {
    "collapsed": false,
    "pycharm": {
     "name": "#%%\n"
    }
   }
  },
  {
   "cell_type": "code",
   "execution_count": 76,
   "outputs": [],
   "source": [
    "billboard_df.drop(axis=1, inplace=True, labels=['image', 'artist'])\n",
    "spotify_df.drop(axis=1, inplace=True, labels=['spotify_name',\n",
    "                                              'artist',\n",
    "                                              'spotify_id',\n",
    "                                              'spotify_id',\n",
    "                                              'spotify_uri',\n",
    "                                              'spotify_external_url',\n",
    "                                              'spotify_artist_popularity',\n",
    "                                              'preview_url',\n",
    "                                              'preview_url_audio',\n",
    "                                              'full_audio',\n",
    "                                              'full_audio_duration_s'\n",
    "                                              ])\n",
    "audio_analysis_df.drop(axis=1, inplace=True, labels=['name'])"
   ],
   "metadata": {
    "collapsed": false,
    "pycharm": {
     "name": "#%%\n"
    }
   }
  },
  {
   "cell_type": "code",
   "execution_count": 79,
   "outputs": [
    {
     "data": {
      "text/plain": "                    billboard_name  peakPos  lastPos  weeks  rank  isNew  \\\n0  All I Want For Christmas Is You        1        1     37     1  False   \n1  All I Want For Christmas Is You        1        0     38    29  False   \n2  All I Want For Christmas Is You        1       29     39    14  False   \n3  All I Want For Christmas Is You        1       14     40     2  False   \n4  All I Want For Christmas Is You        1        2     41     1  False   \n\n         date  duration_ms  spotify_popularity  \\\n0  2020-01-04     241106.0                69.0   \n1  2020-11-28     241106.0                69.0   \n2  2020-12-05     241106.0                69.0   \n3  2020-12-12     241106.0                69.0   \n4  2020-12-19     241106.0                69.0   \n\n   spotify_artist_popularity_mean  ... mfcc16_mean mfcc16_var  mfcc17_mean  \\\n0                            81.0  ...    1.619618   99.73566    -3.865835   \n1                            81.0  ...    1.619618   99.73566    -3.865835   \n2                            81.0  ...    1.619618   99.73566    -3.865835   \n3                            81.0  ...    1.619618   99.73566    -3.865835   \n4                            81.0  ...    1.619618   99.73566    -3.865835   \n\n   mfcc17_var  mfcc18_mean  mfcc18_var  mfcc19_mean  mfcc19_var  mfcc20_mean  \\\n0   99.024666     2.729783   112.21958    -7.488522   122.56965     2.323859   \n1   99.024666     2.729783   112.21958    -7.488522   122.56965     2.323859   \n2   99.024666     2.729783   112.21958    -7.488522   122.56965     2.323859   \n3   99.024666     2.729783   112.21958    -7.488522   122.56965     2.323859   \n4   99.024666     2.729783   112.21958    -7.488522   122.56965     2.323859   \n\n   mfcc20_var  \n0   141.57256  \n1   141.57256  \n2   141.57256  \n3   141.57256  \n4   141.57256  \n\n[5 rows x 83 columns]",
      "text/html": "<div>\n<style scoped>\n    .dataframe tbody tr th:only-of-type {\n        vertical-align: middle;\n    }\n\n    .dataframe tbody tr th {\n        vertical-align: top;\n    }\n\n    .dataframe thead th {\n        text-align: right;\n    }\n</style>\n<table border=\"1\" class=\"dataframe\">\n  <thead>\n    <tr style=\"text-align: right;\">\n      <th></th>\n      <th>billboard_name</th>\n      <th>peakPos</th>\n      <th>lastPos</th>\n      <th>weeks</th>\n      <th>rank</th>\n      <th>isNew</th>\n      <th>date</th>\n      <th>duration_ms</th>\n      <th>spotify_popularity</th>\n      <th>spotify_artist_popularity_mean</th>\n      <th>...</th>\n      <th>mfcc16_mean</th>\n      <th>mfcc16_var</th>\n      <th>mfcc17_mean</th>\n      <th>mfcc17_var</th>\n      <th>mfcc18_mean</th>\n      <th>mfcc18_var</th>\n      <th>mfcc19_mean</th>\n      <th>mfcc19_var</th>\n      <th>mfcc20_mean</th>\n      <th>mfcc20_var</th>\n    </tr>\n  </thead>\n  <tbody>\n    <tr>\n      <th>0</th>\n      <td>All I Want For Christmas Is You</td>\n      <td>1</td>\n      <td>1</td>\n      <td>37</td>\n      <td>1</td>\n      <td>False</td>\n      <td>2020-01-04</td>\n      <td>241106.0</td>\n      <td>69.0</td>\n      <td>81.0</td>\n      <td>...</td>\n      <td>1.619618</td>\n      <td>99.73566</td>\n      <td>-3.865835</td>\n      <td>99.024666</td>\n      <td>2.729783</td>\n      <td>112.21958</td>\n      <td>-7.488522</td>\n      <td>122.56965</td>\n      <td>2.323859</td>\n      <td>141.57256</td>\n    </tr>\n    <tr>\n      <th>1</th>\n      <td>All I Want For Christmas Is You</td>\n      <td>1</td>\n      <td>0</td>\n      <td>38</td>\n      <td>29</td>\n      <td>False</td>\n      <td>2020-11-28</td>\n      <td>241106.0</td>\n      <td>69.0</td>\n      <td>81.0</td>\n      <td>...</td>\n      <td>1.619618</td>\n      <td>99.73566</td>\n      <td>-3.865835</td>\n      <td>99.024666</td>\n      <td>2.729783</td>\n      <td>112.21958</td>\n      <td>-7.488522</td>\n      <td>122.56965</td>\n      <td>2.323859</td>\n      <td>141.57256</td>\n    </tr>\n    <tr>\n      <th>2</th>\n      <td>All I Want For Christmas Is You</td>\n      <td>1</td>\n      <td>29</td>\n      <td>39</td>\n      <td>14</td>\n      <td>False</td>\n      <td>2020-12-05</td>\n      <td>241106.0</td>\n      <td>69.0</td>\n      <td>81.0</td>\n      <td>...</td>\n      <td>1.619618</td>\n      <td>99.73566</td>\n      <td>-3.865835</td>\n      <td>99.024666</td>\n      <td>2.729783</td>\n      <td>112.21958</td>\n      <td>-7.488522</td>\n      <td>122.56965</td>\n      <td>2.323859</td>\n      <td>141.57256</td>\n    </tr>\n    <tr>\n      <th>3</th>\n      <td>All I Want For Christmas Is You</td>\n      <td>1</td>\n      <td>14</td>\n      <td>40</td>\n      <td>2</td>\n      <td>False</td>\n      <td>2020-12-12</td>\n      <td>241106.0</td>\n      <td>69.0</td>\n      <td>81.0</td>\n      <td>...</td>\n      <td>1.619618</td>\n      <td>99.73566</td>\n      <td>-3.865835</td>\n      <td>99.024666</td>\n      <td>2.729783</td>\n      <td>112.21958</td>\n      <td>-7.488522</td>\n      <td>122.56965</td>\n      <td>2.323859</td>\n      <td>141.57256</td>\n    </tr>\n    <tr>\n      <th>4</th>\n      <td>All I Want For Christmas Is You</td>\n      <td>1</td>\n      <td>2</td>\n      <td>41</td>\n      <td>1</td>\n      <td>False</td>\n      <td>2020-12-19</td>\n      <td>241106.0</td>\n      <td>69.0</td>\n      <td>81.0</td>\n      <td>...</td>\n      <td>1.619618</td>\n      <td>99.73566</td>\n      <td>-3.865835</td>\n      <td>99.024666</td>\n      <td>2.729783</td>\n      <td>112.21958</td>\n      <td>-7.488522</td>\n      <td>122.56965</td>\n      <td>2.323859</td>\n      <td>141.57256</td>\n    </tr>\n  </tbody>\n</table>\n<p>5 rows × 83 columns</p>\n</div>"
     },
     "execution_count": 79,
     "metadata": {},
     "output_type": "execute_result"
    }
   ],
   "source": [
    "df = billboard_df.rename(columns={\"title\": \"billboard_name\"}).merge(spotify_df, how='inner', on='billboard_name')\n",
    "df = df.merge(audio_analysis_df, how='inner', on='billboard_name')\n",
    "df.head()"
   ],
   "metadata": {
    "collapsed": false,
    "pycharm": {
     "name": "#%%\n"
    }
   }
  },
  {
   "cell_type": "code",
   "execution_count": 73,
   "outputs": [],
   "source": [],
   "metadata": {
    "collapsed": false,
    "pycharm": {
     "name": "#%%\n"
    }
   }
  }
 ],
 "metadata": {
  "kernelspec": {
   "display_name": "Python 3",
   "language": "python",
   "name": "python3"
  },
  "language_info": {
   "codemirror_mode": {
    "name": "ipython",
    "version": 2
   },
   "file_extension": ".py",
   "mimetype": "text/x-python",
   "name": "python",
   "nbconvert_exporter": "python",
   "pygments_lexer": "ipython2",
   "version": "2.7.6"
  }
 },
 "nbformat": 4,
 "nbformat_minor": 0
}