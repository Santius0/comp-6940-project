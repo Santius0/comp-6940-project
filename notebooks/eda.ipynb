{
 "cells": [
  {
   "cell_type": "code",
   "execution_count": 83,
   "metadata": {
    "collapsed": true
   },
   "outputs": [],
   "source": [
    "import pandas as pd\n",
    "import numpy as np\n",
    "import matplotlib.pyplot as plt"
   ]
  },
  {
   "cell_type": "code",
   "execution_count": 84,
   "outputs": [],
   "source": [
    "billboard_df = pd.read_csv(\"../data/billboard/hot-100_all.csv\")\n",
    "spotify_df = pd.read_csv(\"../data/spofity/songs.csv\")\n",
    "audio_analysis_df = pd.read_csv(\"../data/audio/audio_features_full.csv\")"
   ],
   "metadata": {
    "collapsed": false,
    "pycharm": {
     "name": "#%%\n"
    }
   }
  },
  {
   "cell_type": "code",
   "execution_count": 85,
   "outputs": [],
   "source": [
    "billboard_df.drop(axis=1, inplace=True, labels=['image', 'artist'])\n",
    "spotify_df.drop(axis=1, inplace=True, labels=['spotify_name',\n",
    "                                              'artist',\n",
    "                                              'spotify_id',\n",
    "                                              'spotify_id',\n",
    "                                              'spotify_uri',\n",
    "                                              'spotify_external_url',\n",
    "                                              'spotify_artist_popularity',\n",
    "                                              'preview_url',\n",
    "                                              'preview_url_audio',\n",
    "                                              'full_audio',\n",
    "                                              'full_audio_duration_s'\n",
    "                                              ])\n",
    "audio_analysis_df.drop(axis=1, inplace=True, labels=['name'])"
   ],
   "metadata": {
    "collapsed": false,
    "pycharm": {
     "name": "#%%\n"
    }
   }
  },
  {
   "cell_type": "code",
   "execution_count": 86,
   "outputs": [
    {
     "data": {
      "text/plain": "                    billboard_name  peakPos  lastPos  weeks  rank  isNew  \\\n0  All I Want For Christmas Is You        1        1     37     1  False   \n1  All I Want For Christmas Is You        1        0     38    29  False   \n2  All I Want For Christmas Is You        1       29     39    14  False   \n3  All I Want For Christmas Is You        1       14     40     2  False   \n4  All I Want For Christmas Is You        1        2     41     1  False   \n\n         date  duration_ms  spotify_popularity  \\\n0  2020-01-04     241106.0                69.0   \n1  2020-11-28     241106.0                69.0   \n2  2020-12-05     241106.0                69.0   \n3  2020-12-12     241106.0                69.0   \n4  2020-12-19     241106.0                69.0   \n\n   spotify_artist_popularity_mean  ... mfcc16_mean mfcc16_var  mfcc17_mean  \\\n0                            81.0  ...    1.619618   99.73566    -3.865835   \n1                            81.0  ...    1.619618   99.73566    -3.865835   \n2                            81.0  ...    1.619618   99.73566    -3.865835   \n3                            81.0  ...    1.619618   99.73566    -3.865835   \n4                            81.0  ...    1.619618   99.73566    -3.865835   \n\n   mfcc17_var  mfcc18_mean  mfcc18_var  mfcc19_mean  mfcc19_var  mfcc20_mean  \\\n0   99.024666     2.729783   112.21958    -7.488522   122.56965     2.323859   \n1   99.024666     2.729783   112.21958    -7.488522   122.56965     2.323859   \n2   99.024666     2.729783   112.21958    -7.488522   122.56965     2.323859   \n3   99.024666     2.729783   112.21958    -7.488522   122.56965     2.323859   \n4   99.024666     2.729783   112.21958    -7.488522   122.56965     2.323859   \n\n   mfcc20_var  \n0   141.57256  \n1   141.57256  \n2   141.57256  \n3   141.57256  \n4   141.57256  \n\n[5 rows x 83 columns]",
      "text/html": "<div>\n<style scoped>\n    .dataframe tbody tr th:only-of-type {\n        vertical-align: middle;\n    }\n\n    .dataframe tbody tr th {\n        vertical-align: top;\n    }\n\n    .dataframe thead th {\n        text-align: right;\n    }\n</style>\n<table border=\"1\" class=\"dataframe\">\n  <thead>\n    <tr style=\"text-align: right;\">\n      <th></th>\n      <th>billboard_name</th>\n      <th>peakPos</th>\n      <th>lastPos</th>\n      <th>weeks</th>\n      <th>rank</th>\n      <th>isNew</th>\n      <th>date</th>\n      <th>duration_ms</th>\n      <th>spotify_popularity</th>\n      <th>spotify_artist_popularity_mean</th>\n      <th>...</th>\n      <th>mfcc16_mean</th>\n      <th>mfcc16_var</th>\n      <th>mfcc17_mean</th>\n      <th>mfcc17_var</th>\n      <th>mfcc18_mean</th>\n      <th>mfcc18_var</th>\n      <th>mfcc19_mean</th>\n      <th>mfcc19_var</th>\n      <th>mfcc20_mean</th>\n      <th>mfcc20_var</th>\n    </tr>\n  </thead>\n  <tbody>\n    <tr>\n      <th>0</th>\n      <td>All I Want For Christmas Is You</td>\n      <td>1</td>\n      <td>1</td>\n      <td>37</td>\n      <td>1</td>\n      <td>False</td>\n      <td>2020-01-04</td>\n      <td>241106.0</td>\n      <td>69.0</td>\n      <td>81.0</td>\n      <td>...</td>\n      <td>1.619618</td>\n      <td>99.73566</td>\n      <td>-3.865835</td>\n      <td>99.024666</td>\n      <td>2.729783</td>\n      <td>112.21958</td>\n      <td>-7.488522</td>\n      <td>122.56965</td>\n      <td>2.323859</td>\n      <td>141.57256</td>\n    </tr>\n    <tr>\n      <th>1</th>\n      <td>All I Want For Christmas Is You</td>\n      <td>1</td>\n      <td>0</td>\n      <td>38</td>\n      <td>29</td>\n      <td>False</td>\n      <td>2020-11-28</td>\n      <td>241106.0</td>\n      <td>69.0</td>\n      <td>81.0</td>\n      <td>...</td>\n      <td>1.619618</td>\n      <td>99.73566</td>\n      <td>-3.865835</td>\n      <td>99.024666</td>\n      <td>2.729783</td>\n      <td>112.21958</td>\n      <td>-7.488522</td>\n      <td>122.56965</td>\n      <td>2.323859</td>\n      <td>141.57256</td>\n    </tr>\n    <tr>\n      <th>2</th>\n      <td>All I Want For Christmas Is You</td>\n      <td>1</td>\n      <td>29</td>\n      <td>39</td>\n      <td>14</td>\n      <td>False</td>\n      <td>2020-12-05</td>\n      <td>241106.0</td>\n      <td>69.0</td>\n      <td>81.0</td>\n      <td>...</td>\n      <td>1.619618</td>\n      <td>99.73566</td>\n      <td>-3.865835</td>\n      <td>99.024666</td>\n      <td>2.729783</td>\n      <td>112.21958</td>\n      <td>-7.488522</td>\n      <td>122.56965</td>\n      <td>2.323859</td>\n      <td>141.57256</td>\n    </tr>\n    <tr>\n      <th>3</th>\n      <td>All I Want For Christmas Is You</td>\n      <td>1</td>\n      <td>14</td>\n      <td>40</td>\n      <td>2</td>\n      <td>False</td>\n      <td>2020-12-12</td>\n      <td>241106.0</td>\n      <td>69.0</td>\n      <td>81.0</td>\n      <td>...</td>\n      <td>1.619618</td>\n      <td>99.73566</td>\n      <td>-3.865835</td>\n      <td>99.024666</td>\n      <td>2.729783</td>\n      <td>112.21958</td>\n      <td>-7.488522</td>\n      <td>122.56965</td>\n      <td>2.323859</td>\n      <td>141.57256</td>\n    </tr>\n    <tr>\n      <th>4</th>\n      <td>All I Want For Christmas Is You</td>\n      <td>1</td>\n      <td>2</td>\n      <td>41</td>\n      <td>1</td>\n      <td>False</td>\n      <td>2020-12-19</td>\n      <td>241106.0</td>\n      <td>69.0</td>\n      <td>81.0</td>\n      <td>...</td>\n      <td>1.619618</td>\n      <td>99.73566</td>\n      <td>-3.865835</td>\n      <td>99.024666</td>\n      <td>2.729783</td>\n      <td>112.21958</td>\n      <td>-7.488522</td>\n      <td>122.56965</td>\n      <td>2.323859</td>\n      <td>141.57256</td>\n    </tr>\n  </tbody>\n</table>\n<p>5 rows × 83 columns</p>\n</div>"
     },
     "execution_count": 86,
     "metadata": {},
     "output_type": "execute_result"
    }
   ],
   "source": [
    "df = billboard_df.rename(columns={\"title\": \"billboard_name\"}).merge(spotify_df, how='inner', on='billboard_name')\n",
    "df = df.merge(audio_analysis_df, how='inner', on='billboard_name')\n",
    "df.head()"
   ],
   "metadata": {
    "collapsed": false,
    "pycharm": {
     "name": "#%%\n"
    }
   }
  },
  {
   "cell_type": "code",
   "execution_count": 87,
   "outputs": [
    {
     "data": {
      "text/plain": "            peakPos       lastPos        weeks          rank    duration_ms  \\\ncount  10425.000000  10425.000000  10425.00000  10425.000000   10425.000000   \nmean      34.619472     38.273573     11.96729     50.364700  198455.010264   \nstd       28.196050     30.411582     11.09633     28.875087   42599.613894   \nmin        1.000000      0.000000      1.00000      1.000000   32000.000000   \n25%        9.000000      9.000000      4.00000     25.000000  171374.000000   \n50%       29.000000     35.000000      9.00000     50.000000  197529.000000   \n75%       57.000000     64.000000     17.00000     75.000000  216573.000000   \nmax      100.000000    100.000000     90.00000    100.000000  613026.000000   \n\n       spotify_popularity  spotify_artist_popularity_mean  danceability  \\\ncount        10425.000000                    10425.000000  10425.000000   \nmean            72.878849                       83.030389      0.670615   \nstd             16.632362                       10.515888      0.144796   \nmin              0.000000                        0.000000      0.150000   \n25%             69.000000                       77.000000      0.575000   \n50%             76.000000                       85.000000      0.681000   \n75%             82.000000                       90.500000      0.775000   \nmax             95.000000                      100.000000      0.965000   \n\n             energy           key  ...   mfcc16_mean    mfcc16_var  \\\ncount  10425.000000  10425.000000  ...  10425.000000  10425.000000   \nmean       0.619547      5.252470  ...      2.212093     82.670770   \nstd        0.160771      3.598354  ...      3.357012     25.182096   \nmin        0.007600      0.000000  ...    -13.240079     32.670311   \n25%        0.525000      2.000000  ...      0.237103     64.773903   \n50%        0.630000      5.000000  ...      2.213936     79.429688   \n75%        0.730000      8.000000  ...      4.274484     97.389977   \nmax        0.984000     11.000000  ...     13.629806    207.025589   \n\n        mfcc17_mean    mfcc17_var   mfcc18_mean    mfcc18_var   mfcc19_mean  \\\ncount  10425.000000  10425.000000  10425.000000  10425.000000  10425.000000   \nmean      -3.803271     81.472740      2.413211     79.080845     -2.897044   \nstd        3.479460     25.655180      3.131525     24.612476      3.087671   \nmin      -18.392536     31.161884    -10.105947     31.325922    -14.229393   \n25%       -5.954583     62.906017      0.556827     62.011898     -5.027020   \n50%       -3.886974     78.419228      2.426253     75.888016     -3.079129   \n75%       -1.674358     94.886444      4.479098     91.739532     -1.103485   \nmax        6.795540    219.371109     12.521308    229.869766      7.686097   \n\n         mfcc19_var   mfcc20_mean    mfcc20_var  \ncount  10425.000000  10425.000000  10425.000000  \nmean      78.356190      1.450073     80.126627  \nstd       24.456939      3.224420     26.721994  \nmin       28.560005    -13.992401     28.597084  \n25%       60.955982     -0.699274     62.092537  \n50%       74.536621      1.382696     75.106773  \n75%       91.145279      3.429177     94.957146  \nmax      229.040588     14.772246    226.710175  \n\n[8 rows x 77 columns]",
      "text/html": "<div>\n<style scoped>\n    .dataframe tbody tr th:only-of-type {\n        vertical-align: middle;\n    }\n\n    .dataframe tbody tr th {\n        vertical-align: top;\n    }\n\n    .dataframe thead th {\n        text-align: right;\n    }\n</style>\n<table border=\"1\" class=\"dataframe\">\n  <thead>\n    <tr style=\"text-align: right;\">\n      <th></th>\n      <th>peakPos</th>\n      <th>lastPos</th>\n      <th>weeks</th>\n      <th>rank</th>\n      <th>duration_ms</th>\n      <th>spotify_popularity</th>\n      <th>spotify_artist_popularity_mean</th>\n      <th>danceability</th>\n      <th>energy</th>\n      <th>key</th>\n      <th>...</th>\n      <th>mfcc16_mean</th>\n      <th>mfcc16_var</th>\n      <th>mfcc17_mean</th>\n      <th>mfcc17_var</th>\n      <th>mfcc18_mean</th>\n      <th>mfcc18_var</th>\n      <th>mfcc19_mean</th>\n      <th>mfcc19_var</th>\n      <th>mfcc20_mean</th>\n      <th>mfcc20_var</th>\n    </tr>\n  </thead>\n  <tbody>\n    <tr>\n      <th>count</th>\n      <td>10425.000000</td>\n      <td>10425.000000</td>\n      <td>10425.00000</td>\n      <td>10425.000000</td>\n      <td>10425.000000</td>\n      <td>10425.000000</td>\n      <td>10425.000000</td>\n      <td>10425.000000</td>\n      <td>10425.000000</td>\n      <td>10425.000000</td>\n      <td>...</td>\n      <td>10425.000000</td>\n      <td>10425.000000</td>\n      <td>10425.000000</td>\n      <td>10425.000000</td>\n      <td>10425.000000</td>\n      <td>10425.000000</td>\n      <td>10425.000000</td>\n      <td>10425.000000</td>\n      <td>10425.000000</td>\n      <td>10425.000000</td>\n    </tr>\n    <tr>\n      <th>mean</th>\n      <td>34.619472</td>\n      <td>38.273573</td>\n      <td>11.96729</td>\n      <td>50.364700</td>\n      <td>198455.010264</td>\n      <td>72.878849</td>\n      <td>83.030389</td>\n      <td>0.670615</td>\n      <td>0.619547</td>\n      <td>5.252470</td>\n      <td>...</td>\n      <td>2.212093</td>\n      <td>82.670770</td>\n      <td>-3.803271</td>\n      <td>81.472740</td>\n      <td>2.413211</td>\n      <td>79.080845</td>\n      <td>-2.897044</td>\n      <td>78.356190</td>\n      <td>1.450073</td>\n      <td>80.126627</td>\n    </tr>\n    <tr>\n      <th>std</th>\n      <td>28.196050</td>\n      <td>30.411582</td>\n      <td>11.09633</td>\n      <td>28.875087</td>\n      <td>42599.613894</td>\n      <td>16.632362</td>\n      <td>10.515888</td>\n      <td>0.144796</td>\n      <td>0.160771</td>\n      <td>3.598354</td>\n      <td>...</td>\n      <td>3.357012</td>\n      <td>25.182096</td>\n      <td>3.479460</td>\n      <td>25.655180</td>\n      <td>3.131525</td>\n      <td>24.612476</td>\n      <td>3.087671</td>\n      <td>24.456939</td>\n      <td>3.224420</td>\n      <td>26.721994</td>\n    </tr>\n    <tr>\n      <th>min</th>\n      <td>1.000000</td>\n      <td>0.000000</td>\n      <td>1.00000</td>\n      <td>1.000000</td>\n      <td>32000.000000</td>\n      <td>0.000000</td>\n      <td>0.000000</td>\n      <td>0.150000</td>\n      <td>0.007600</td>\n      <td>0.000000</td>\n      <td>...</td>\n      <td>-13.240079</td>\n      <td>32.670311</td>\n      <td>-18.392536</td>\n      <td>31.161884</td>\n      <td>-10.105947</td>\n      <td>31.325922</td>\n      <td>-14.229393</td>\n      <td>28.560005</td>\n      <td>-13.992401</td>\n      <td>28.597084</td>\n    </tr>\n    <tr>\n      <th>25%</th>\n      <td>9.000000</td>\n      <td>9.000000</td>\n      <td>4.00000</td>\n      <td>25.000000</td>\n      <td>171374.000000</td>\n      <td>69.000000</td>\n      <td>77.000000</td>\n      <td>0.575000</td>\n      <td>0.525000</td>\n      <td>2.000000</td>\n      <td>...</td>\n      <td>0.237103</td>\n      <td>64.773903</td>\n      <td>-5.954583</td>\n      <td>62.906017</td>\n      <td>0.556827</td>\n      <td>62.011898</td>\n      <td>-5.027020</td>\n      <td>60.955982</td>\n      <td>-0.699274</td>\n      <td>62.092537</td>\n    </tr>\n    <tr>\n      <th>50%</th>\n      <td>29.000000</td>\n      <td>35.000000</td>\n      <td>9.00000</td>\n      <td>50.000000</td>\n      <td>197529.000000</td>\n      <td>76.000000</td>\n      <td>85.000000</td>\n      <td>0.681000</td>\n      <td>0.630000</td>\n      <td>5.000000</td>\n      <td>...</td>\n      <td>2.213936</td>\n      <td>79.429688</td>\n      <td>-3.886974</td>\n      <td>78.419228</td>\n      <td>2.426253</td>\n      <td>75.888016</td>\n      <td>-3.079129</td>\n      <td>74.536621</td>\n      <td>1.382696</td>\n      <td>75.106773</td>\n    </tr>\n    <tr>\n      <th>75%</th>\n      <td>57.000000</td>\n      <td>64.000000</td>\n      <td>17.00000</td>\n      <td>75.000000</td>\n      <td>216573.000000</td>\n      <td>82.000000</td>\n      <td>90.500000</td>\n      <td>0.775000</td>\n      <td>0.730000</td>\n      <td>8.000000</td>\n      <td>...</td>\n      <td>4.274484</td>\n      <td>97.389977</td>\n      <td>-1.674358</td>\n      <td>94.886444</td>\n      <td>4.479098</td>\n      <td>91.739532</td>\n      <td>-1.103485</td>\n      <td>91.145279</td>\n      <td>3.429177</td>\n      <td>94.957146</td>\n    </tr>\n    <tr>\n      <th>max</th>\n      <td>100.000000</td>\n      <td>100.000000</td>\n      <td>90.00000</td>\n      <td>100.000000</td>\n      <td>613026.000000</td>\n      <td>95.000000</td>\n      <td>100.000000</td>\n      <td>0.965000</td>\n      <td>0.984000</td>\n      <td>11.000000</td>\n      <td>...</td>\n      <td>13.629806</td>\n      <td>207.025589</td>\n      <td>6.795540</td>\n      <td>219.371109</td>\n      <td>12.521308</td>\n      <td>229.869766</td>\n      <td>7.686097</td>\n      <td>229.040588</td>\n      <td>14.772246</td>\n      <td>226.710175</td>\n    </tr>\n  </tbody>\n</table>\n<p>8 rows × 77 columns</p>\n</div>"
     },
     "execution_count": 87,
     "metadata": {},
     "output_type": "execute_result"
    }
   ],
   "source": [
    "df.describe()"
   ],
   "metadata": {
    "collapsed": false,
    "pycharm": {
     "name": "#%%\n"
    }
   }
  },
  {
   "cell_type": "code",
   "execution_count": 88,
   "outputs": [
    {
     "data": {
      "text/plain": "billboard_name    0\npeakPos           0\nlastPos           0\nweeks             0\nrank              0\n                 ..\nmfcc18_var        0\nmfcc19_mean       0\nmfcc19_var        0\nmfcc20_mean       0\nmfcc20_var        0\nLength: 83, dtype: int64"
     },
     "execution_count": 88,
     "metadata": {},
     "output_type": "execute_result"
    }
   ],
   "source": [
    "df.isna().sum()"
   ],
   "metadata": {
    "collapsed": false,
    "pycharm": {
     "name": "#%%\n"
    }
   }
  },
  {
   "cell_type": "code",
   "execution_count": null,
   "outputs": [],
   "source": [],
   "metadata": {
    "collapsed": false,
    "pycharm": {
     "name": "#%%\n"
    }
   }
  }
 ],
 "metadata": {
  "kernelspec": {
   "display_name": "Python 3",
   "language": "python",
   "name": "python3"
  },
  "language_info": {
   "codemirror_mode": {
    "name": "ipython",
    "version": 2
   },
   "file_extension": ".py",
   "mimetype": "text/x-python",
   "name": "python",
   "nbconvert_exporter": "python",
   "pygments_lexer": "ipython2",
   "version": "2.7.6"
  }
 },
 "nbformat": 4,
 "nbformat_minor": 0
}