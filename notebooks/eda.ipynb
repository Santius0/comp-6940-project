{
 "cells": [
  {
   "cell_type": "code",
   "execution_count": 1,
   "metadata": {
    "collapsed": true
   },
   "outputs": [],
   "source": [
    "import numpy as np\n",
    "import pandas as pd\n",
    "from matplotlib import pyplot as plt\n",
    "import seaborn as sns\n",
    "import statsmodels.api as sm\n",
    "import logging\n",
    "\n",
    "from sklearn.preprocessing import StandardScaler\n",
    "\n",
    "from scipy.stats import skew, kurtosis\n",
    "\n",
    "from utils.general import *\n",
    "\n",
    "import warnings"
   ]
  },
  {
   "cell_type": "code",
   "execution_count": 2,
   "outputs": [],
   "source": [
    "warnings.filterwarnings('ignore')"
   ],
   "metadata": {
    "collapsed": false,
    "pycharm": {
     "name": "#%%\n"
    }
   }
  },
  {
   "cell_type": "code",
   "execution_count": 3,
   "outputs": [],
   "source": [
    "random_state = 42\n",
    "rng = np.random.default_rng(random_state)"
   ],
   "metadata": {
    "collapsed": false,
    "pycharm": {
     "name": "#%%\n"
    }
   }
  },
  {
   "cell_type": "markdown",
   "source": [
    "# Data Loading And Preprocessing"
   ],
   "metadata": {
    "collapsed": false,
    "pycharm": {
     "name": "#%% md\n"
    }
   }
  },
  {
   "cell_type": "code",
   "execution_count": 4,
   "outputs": [],
   "source": [
    "billboard_df = pd.read_csv(\"../data/billboard/hot-100_all.csv\")\n",
    "spotify_df = pd.read_csv(\"../data/spofity/songs.csv\")\n",
    "audio_analysis_df = pd.read_csv(\"../data/audio/audio_features_full.csv\")"
   ],
   "metadata": {
    "collapsed": false,
    "pycharm": {
     "name": "#%%\n"
    }
   }
  },
  {
   "cell_type": "code",
   "execution_count": 5,
   "outputs": [],
   "source": [
    "billboard_df.drop(axis=1, inplace=True, labels=['image', 'artist'])\n",
    "billboard_df['date'] = pd.to_datetime(billboard_df['date'])\n",
    "spotify_df.drop(axis=1, inplace=True, labels=['spotify_name',\n",
    "                                              'artist',\n",
    "                                              'artist_genres',\n",
    "                                              'spotify_id',\n",
    "                                              'spotify_id',\n",
    "                                              'spotify_uri',\n",
    "                                              'spotify_external_url',\n",
    "                                              'spotify_artist_popularity',\n",
    "                                              'preview_url',\n",
    "                                              'preview_url_audio',\n",
    "                                              'full_audio',\n",
    "                                              'full_audio_duration_s'\n",
    "                                              ])\n",
    "audio_analysis_df.drop(axis=1, inplace=True, labels=['name'])"
   ],
   "metadata": {
    "collapsed": false,
    "pycharm": {
     "name": "#%%\n"
    }
   }
  },
  {
   "cell_type": "code",
   "execution_count": 6,
   "outputs": [
    {
     "data": {
      "text/plain": "                           billboard_name  duration_ms  spotify_popularity  \\\n0         All I Want For Christmas Is You     241106.0                69.0   \n1       Rockin' Around The Christmas Tree     126266.0                62.0   \n2                        Jingle Bell Rock     130973.0                62.0   \n3                 A Holly Jolly Christmas     135533.0                54.0   \n4                                 Circles     215280.0                86.0   \n...                                   ...          ...                 ...   \n1418  Christmas Isn't Canceled (Just You)     231549.0                41.0   \n1419                       Moved To Miami     222225.0                66.0   \n1420                              Hibachi     170413.0                69.0   \n1421                             Thailand     200958.0                70.0   \n1422                          Do It To It     157890.0                91.0   \n\n      spotify_artist_popularity_mean explicit  danceability  energy   key  \\\n0                          81.000000    False         0.336   0.627   7.0   \n1                          59.000000    False         0.589   0.472   8.0   \n2                          50.000000    False         0.754   0.424   2.0   \n3                          48.000000    False         0.683   0.375   0.0   \n4                          91.000000    False         0.695   0.762   0.0   \n...                              ...      ...           ...     ...   ...   \n1418                       77.000000    False         0.580   0.789   1.0   \n1419                       88.500000     True         0.717   0.444   1.0   \n1420                       86.333333     True         0.681   0.522   5.0   \n1421                       84.000000     True         0.875   0.478   7.0   \n1422                       78.000000    False         0.854   0.806  11.0   \n\n      loudness  mode  ...  mfcc16_mean  mfcc16_var  mfcc17_mean  mfcc17_var  \\\n0       -7.463   1.0  ...     1.619618   99.735660    -3.865835   99.024666   \n1       -8.749   1.0  ...    -1.039626   78.420586    -4.437555   55.536427   \n2       -8.463   1.0  ...     1.430321   58.685158    -4.030815   67.332291   \n3      -13.056   1.0  ...    -1.355817   60.197350    -6.695084   52.782772   \n4       -3.497   1.0  ...     2.563944   78.141319   -12.359889   83.661438   \n...        ...   ...  ...          ...         ...          ...         ...   \n1418    -4.918   0.0  ...     5.321839   70.412506     1.213545   77.698616   \n1419   -11.126   1.0  ...     4.598643  180.801086    -4.373017  110.878738   \n1420    -8.740   0.0  ...     8.091636   79.854568    -1.646704  123.382797   \n1421   -10.562   1.0  ...    10.420262   91.743813    -2.071233   75.112267   \n1422    -8.262   0.0  ...     2.155907   68.733521    -5.703623   47.707085   \n\n      mfcc18_mean  mfcc18_var  mfcc19_mean  mfcc19_var  mfcc20_mean  \\\n0        2.729783  112.219580    -7.488522  122.569650     2.323859   \n1        3.890496   70.359543     0.014326   77.899239     6.889563   \n2        1.802275   58.469532    -5.335912   53.423290     0.133941   \n3       -4.325858   66.221947    -3.533713   50.849602    -1.266797   \n4        4.207565   65.643173    -5.280680   54.441185    -0.751733   \n...           ...         ...          ...         ...          ...   \n1418     4.693950   85.284431    -2.604682   76.687698     5.805956   \n1419     4.545245  111.550697     4.918246   63.780304     8.114554   \n1420     5.309008   98.507568     0.213412   80.767159     2.804790   \n1421     8.341298   97.730263    -0.260812   69.875168     1.959964   \n1422    -1.433100   45.689129    -6.835608   45.040623    -1.940495   \n\n      mfcc20_var  \n0     141.572560  \n1      93.610161  \n2      58.774597  \n3      90.991325  \n4      59.799530  \n...          ...  \n1418   77.433144  \n1419   75.806396  \n1420   73.490234  \n1421   62.722679  \n1422   51.794838  \n\n[1423 rows x 76 columns]",
      "text/html": "<div>\n<style scoped>\n    .dataframe tbody tr th:only-of-type {\n        vertical-align: middle;\n    }\n\n    .dataframe tbody tr th {\n        vertical-align: top;\n    }\n\n    .dataframe thead th {\n        text-align: right;\n    }\n</style>\n<table border=\"1\" class=\"dataframe\">\n  <thead>\n    <tr style=\"text-align: right;\">\n      <th></th>\n      <th>billboard_name</th>\n      <th>duration_ms</th>\n      <th>spotify_popularity</th>\n      <th>spotify_artist_popularity_mean</th>\n      <th>explicit</th>\n      <th>danceability</th>\n      <th>energy</th>\n      <th>key</th>\n      <th>loudness</th>\n      <th>mode</th>\n      <th>...</th>\n      <th>mfcc16_mean</th>\n      <th>mfcc16_var</th>\n      <th>mfcc17_mean</th>\n      <th>mfcc17_var</th>\n      <th>mfcc18_mean</th>\n      <th>mfcc18_var</th>\n      <th>mfcc19_mean</th>\n      <th>mfcc19_var</th>\n      <th>mfcc20_mean</th>\n      <th>mfcc20_var</th>\n    </tr>\n  </thead>\n  <tbody>\n    <tr>\n      <th>0</th>\n      <td>All I Want For Christmas Is You</td>\n      <td>241106.0</td>\n      <td>69.0</td>\n      <td>81.000000</td>\n      <td>False</td>\n      <td>0.336</td>\n      <td>0.627</td>\n      <td>7.0</td>\n      <td>-7.463</td>\n      <td>1.0</td>\n      <td>...</td>\n      <td>1.619618</td>\n      <td>99.735660</td>\n      <td>-3.865835</td>\n      <td>99.024666</td>\n      <td>2.729783</td>\n      <td>112.219580</td>\n      <td>-7.488522</td>\n      <td>122.569650</td>\n      <td>2.323859</td>\n      <td>141.572560</td>\n    </tr>\n    <tr>\n      <th>1</th>\n      <td>Rockin' Around The Christmas Tree</td>\n      <td>126266.0</td>\n      <td>62.0</td>\n      <td>59.000000</td>\n      <td>False</td>\n      <td>0.589</td>\n      <td>0.472</td>\n      <td>8.0</td>\n      <td>-8.749</td>\n      <td>1.0</td>\n      <td>...</td>\n      <td>-1.039626</td>\n      <td>78.420586</td>\n      <td>-4.437555</td>\n      <td>55.536427</td>\n      <td>3.890496</td>\n      <td>70.359543</td>\n      <td>0.014326</td>\n      <td>77.899239</td>\n      <td>6.889563</td>\n      <td>93.610161</td>\n    </tr>\n    <tr>\n      <th>2</th>\n      <td>Jingle Bell Rock</td>\n      <td>130973.0</td>\n      <td>62.0</td>\n      <td>50.000000</td>\n      <td>False</td>\n      <td>0.754</td>\n      <td>0.424</td>\n      <td>2.0</td>\n      <td>-8.463</td>\n      <td>1.0</td>\n      <td>...</td>\n      <td>1.430321</td>\n      <td>58.685158</td>\n      <td>-4.030815</td>\n      <td>67.332291</td>\n      <td>1.802275</td>\n      <td>58.469532</td>\n      <td>-5.335912</td>\n      <td>53.423290</td>\n      <td>0.133941</td>\n      <td>58.774597</td>\n    </tr>\n    <tr>\n      <th>3</th>\n      <td>A Holly Jolly Christmas</td>\n      <td>135533.0</td>\n      <td>54.0</td>\n      <td>48.000000</td>\n      <td>False</td>\n      <td>0.683</td>\n      <td>0.375</td>\n      <td>0.0</td>\n      <td>-13.056</td>\n      <td>1.0</td>\n      <td>...</td>\n      <td>-1.355817</td>\n      <td>60.197350</td>\n      <td>-6.695084</td>\n      <td>52.782772</td>\n      <td>-4.325858</td>\n      <td>66.221947</td>\n      <td>-3.533713</td>\n      <td>50.849602</td>\n      <td>-1.266797</td>\n      <td>90.991325</td>\n    </tr>\n    <tr>\n      <th>4</th>\n      <td>Circles</td>\n      <td>215280.0</td>\n      <td>86.0</td>\n      <td>91.000000</td>\n      <td>False</td>\n      <td>0.695</td>\n      <td>0.762</td>\n      <td>0.0</td>\n      <td>-3.497</td>\n      <td>1.0</td>\n      <td>...</td>\n      <td>2.563944</td>\n      <td>78.141319</td>\n      <td>-12.359889</td>\n      <td>83.661438</td>\n      <td>4.207565</td>\n      <td>65.643173</td>\n      <td>-5.280680</td>\n      <td>54.441185</td>\n      <td>-0.751733</td>\n      <td>59.799530</td>\n    </tr>\n    <tr>\n      <th>...</th>\n      <td>...</td>\n      <td>...</td>\n      <td>...</td>\n      <td>...</td>\n      <td>...</td>\n      <td>...</td>\n      <td>...</td>\n      <td>...</td>\n      <td>...</td>\n      <td>...</td>\n      <td>...</td>\n      <td>...</td>\n      <td>...</td>\n      <td>...</td>\n      <td>...</td>\n      <td>...</td>\n      <td>...</td>\n      <td>...</td>\n      <td>...</td>\n      <td>...</td>\n      <td>...</td>\n    </tr>\n    <tr>\n      <th>1418</th>\n      <td>Christmas Isn't Canceled (Just You)</td>\n      <td>231549.0</td>\n      <td>41.0</td>\n      <td>77.000000</td>\n      <td>False</td>\n      <td>0.580</td>\n      <td>0.789</td>\n      <td>1.0</td>\n      <td>-4.918</td>\n      <td>0.0</td>\n      <td>...</td>\n      <td>5.321839</td>\n      <td>70.412506</td>\n      <td>1.213545</td>\n      <td>77.698616</td>\n      <td>4.693950</td>\n      <td>85.284431</td>\n      <td>-2.604682</td>\n      <td>76.687698</td>\n      <td>5.805956</td>\n      <td>77.433144</td>\n    </tr>\n    <tr>\n      <th>1419</th>\n      <td>Moved To Miami</td>\n      <td>222225.0</td>\n      <td>66.0</td>\n      <td>88.500000</td>\n      <td>True</td>\n      <td>0.717</td>\n      <td>0.444</td>\n      <td>1.0</td>\n      <td>-11.126</td>\n      <td>1.0</td>\n      <td>...</td>\n      <td>4.598643</td>\n      <td>180.801086</td>\n      <td>-4.373017</td>\n      <td>110.878738</td>\n      <td>4.545245</td>\n      <td>111.550697</td>\n      <td>4.918246</td>\n      <td>63.780304</td>\n      <td>8.114554</td>\n      <td>75.806396</td>\n    </tr>\n    <tr>\n      <th>1420</th>\n      <td>Hibachi</td>\n      <td>170413.0</td>\n      <td>69.0</td>\n      <td>86.333333</td>\n      <td>True</td>\n      <td>0.681</td>\n      <td>0.522</td>\n      <td>5.0</td>\n      <td>-8.740</td>\n      <td>0.0</td>\n      <td>...</td>\n      <td>8.091636</td>\n      <td>79.854568</td>\n      <td>-1.646704</td>\n      <td>123.382797</td>\n      <td>5.309008</td>\n      <td>98.507568</td>\n      <td>0.213412</td>\n      <td>80.767159</td>\n      <td>2.804790</td>\n      <td>73.490234</td>\n    </tr>\n    <tr>\n      <th>1421</th>\n      <td>Thailand</td>\n      <td>200958.0</td>\n      <td>70.0</td>\n      <td>84.000000</td>\n      <td>True</td>\n      <td>0.875</td>\n      <td>0.478</td>\n      <td>7.0</td>\n      <td>-10.562</td>\n      <td>1.0</td>\n      <td>...</td>\n      <td>10.420262</td>\n      <td>91.743813</td>\n      <td>-2.071233</td>\n      <td>75.112267</td>\n      <td>8.341298</td>\n      <td>97.730263</td>\n      <td>-0.260812</td>\n      <td>69.875168</td>\n      <td>1.959964</td>\n      <td>62.722679</td>\n    </tr>\n    <tr>\n      <th>1422</th>\n      <td>Do It To It</td>\n      <td>157890.0</td>\n      <td>91.0</td>\n      <td>78.000000</td>\n      <td>False</td>\n      <td>0.854</td>\n      <td>0.806</td>\n      <td>11.0</td>\n      <td>-8.262</td>\n      <td>0.0</td>\n      <td>...</td>\n      <td>2.155907</td>\n      <td>68.733521</td>\n      <td>-5.703623</td>\n      <td>47.707085</td>\n      <td>-1.433100</td>\n      <td>45.689129</td>\n      <td>-6.835608</td>\n      <td>45.040623</td>\n      <td>-1.940495</td>\n      <td>51.794838</td>\n    </tr>\n  </tbody>\n</table>\n<p>1423 rows × 76 columns</p>\n</div>"
     },
     "execution_count": 6,
     "metadata": {},
     "output_type": "execute_result"
    }
   ],
   "source": [
    "songs_df = spotify_df.merge(audio_analysis_df, how='inner', on='billboard_name')\n",
    "songs_df"
   ],
   "metadata": {
    "collapsed": false,
    "pycharm": {
     "name": "#%%\n"
    }
   }
  },
  {
   "cell_type": "code",
   "execution_count": 7,
   "outputs": [
    {
     "data": {
      "text/plain": "         duration_ms  spotify_popularity  spotify_artist_popularity_mean  \\\ncount    1423.000000         1423.000000                     1423.000000   \nmean   200696.557976           67.404076                       83.302977   \nstd     50770.975125           17.661345                       12.018877   \nmin     32000.000000            0.000000                        0.000000   \n25%    170322.000000           64.000000                       78.000000   \n50%    195428.000000           70.000000                       86.000000   \n75%    223599.000000           77.000000                       91.000000   \nmax    613026.000000           95.000000                      100.000000   \n\n       danceability       energy          key     loudness         mode  \\\ncount   1423.000000  1423.000000  1423.000000  1423.000000  1423.000000   \nmean       0.666045     0.622016     5.153197    -6.747289     0.622628   \nstd        0.151579     0.162841     3.600340     2.579960     0.484900   \nmin        0.150000     0.007600     0.000000   -33.663000     0.000000   \n25%        0.570000     0.525000     1.000000    -7.841500     0.000000   \n50%        0.680000     0.633000     5.000000    -6.360000     1.000000   \n75%        0.776000     0.733500     8.000000    -5.077500     1.000000   \nmax        0.965000     0.984000    11.000000    -1.321000     1.000000   \n\n       speechiness  acousticness  ...  mfcc16_mean   mfcc16_var  mfcc17_mean  \\\ncount  1423.000000   1423.000000  ...  1423.000000  1423.000000  1423.000000   \nmean      0.139837      0.223816  ...     2.398114    84.513799    -3.647905   \nstd       0.125819      0.253148  ...     3.631675    24.471115     3.398574   \nmin       0.023200      0.000003  ...   -13.240079    32.670311   -18.392536   \n25%       0.042800      0.031550  ...     0.246056    68.009289    -5.805181   \n50%       0.079800      0.121000  ...     2.442511    81.295982    -3.595455   \n75%       0.218000      0.321500  ...     4.722763    98.500587    -1.416037   \nmax       0.699000      0.995000  ...    13.629806   207.025589     6.795540   \n\n        mfcc17_var  mfcc18_mean   mfcc18_var  mfcc19_mean   mfcc19_var  \\\ncount  1423.000000  1423.000000  1423.000000  1423.000000  1423.000000   \nmean     82.115186     2.668189    80.818220    -2.539943    79.075432   \nstd      24.637780     3.253561    24.665541     3.023733    24.767819   \nmin      31.161884   -10.105947    31.325922   -14.229393    28.560005   \n25%      65.208897     0.716595    64.160015    -4.468847    62.009989   \n50%      78.402687     2.753472    77.774918    -2.510375    75.437561   \n75%      94.838615     4.810408    93.118820    -0.625247    91.067223   \nmax     219.371109    12.521308   229.869766     7.686097   229.040588   \n\n       mfcc20_mean   mfcc20_var  \ncount  1423.000000  1423.000000  \nmean      1.677588    80.371770  \nstd       3.186344    26.740148  \nmin     -13.992401    28.597084  \n25%      -0.239844    61.936447  \n50%       1.633557    75.101379  \n75%       3.652482    93.510078  \nmax      14.772246   226.710175  \n\n[8 rows x 73 columns]",
      "text/html": "<div>\n<style scoped>\n    .dataframe tbody tr th:only-of-type {\n        vertical-align: middle;\n    }\n\n    .dataframe tbody tr th {\n        vertical-align: top;\n    }\n\n    .dataframe thead th {\n        text-align: right;\n    }\n</style>\n<table border=\"1\" class=\"dataframe\">\n  <thead>\n    <tr style=\"text-align: right;\">\n      <th></th>\n      <th>duration_ms</th>\n      <th>spotify_popularity</th>\n      <th>spotify_artist_popularity_mean</th>\n      <th>danceability</th>\n      <th>energy</th>\n      <th>key</th>\n      <th>loudness</th>\n      <th>mode</th>\n      <th>speechiness</th>\n      <th>acousticness</th>\n      <th>...</th>\n      <th>mfcc16_mean</th>\n      <th>mfcc16_var</th>\n      <th>mfcc17_mean</th>\n      <th>mfcc17_var</th>\n      <th>mfcc18_mean</th>\n      <th>mfcc18_var</th>\n      <th>mfcc19_mean</th>\n      <th>mfcc19_var</th>\n      <th>mfcc20_mean</th>\n      <th>mfcc20_var</th>\n    </tr>\n  </thead>\n  <tbody>\n    <tr>\n      <th>count</th>\n      <td>1423.000000</td>\n      <td>1423.000000</td>\n      <td>1423.000000</td>\n      <td>1423.000000</td>\n      <td>1423.000000</td>\n      <td>1423.000000</td>\n      <td>1423.000000</td>\n      <td>1423.000000</td>\n      <td>1423.000000</td>\n      <td>1423.000000</td>\n      <td>...</td>\n      <td>1423.000000</td>\n      <td>1423.000000</td>\n      <td>1423.000000</td>\n      <td>1423.000000</td>\n      <td>1423.000000</td>\n      <td>1423.000000</td>\n      <td>1423.000000</td>\n      <td>1423.000000</td>\n      <td>1423.000000</td>\n      <td>1423.000000</td>\n    </tr>\n    <tr>\n      <th>mean</th>\n      <td>200696.557976</td>\n      <td>67.404076</td>\n      <td>83.302977</td>\n      <td>0.666045</td>\n      <td>0.622016</td>\n      <td>5.153197</td>\n      <td>-6.747289</td>\n      <td>0.622628</td>\n      <td>0.139837</td>\n      <td>0.223816</td>\n      <td>...</td>\n      <td>2.398114</td>\n      <td>84.513799</td>\n      <td>-3.647905</td>\n      <td>82.115186</td>\n      <td>2.668189</td>\n      <td>80.818220</td>\n      <td>-2.539943</td>\n      <td>79.075432</td>\n      <td>1.677588</td>\n      <td>80.371770</td>\n    </tr>\n    <tr>\n      <th>std</th>\n      <td>50770.975125</td>\n      <td>17.661345</td>\n      <td>12.018877</td>\n      <td>0.151579</td>\n      <td>0.162841</td>\n      <td>3.600340</td>\n      <td>2.579960</td>\n      <td>0.484900</td>\n      <td>0.125819</td>\n      <td>0.253148</td>\n      <td>...</td>\n      <td>3.631675</td>\n      <td>24.471115</td>\n      <td>3.398574</td>\n      <td>24.637780</td>\n      <td>3.253561</td>\n      <td>24.665541</td>\n      <td>3.023733</td>\n      <td>24.767819</td>\n      <td>3.186344</td>\n      <td>26.740148</td>\n    </tr>\n    <tr>\n      <th>min</th>\n      <td>32000.000000</td>\n      <td>0.000000</td>\n      <td>0.000000</td>\n      <td>0.150000</td>\n      <td>0.007600</td>\n      <td>0.000000</td>\n      <td>-33.663000</td>\n      <td>0.000000</td>\n      <td>0.023200</td>\n      <td>0.000003</td>\n      <td>...</td>\n      <td>-13.240079</td>\n      <td>32.670311</td>\n      <td>-18.392536</td>\n      <td>31.161884</td>\n      <td>-10.105947</td>\n      <td>31.325922</td>\n      <td>-14.229393</td>\n      <td>28.560005</td>\n      <td>-13.992401</td>\n      <td>28.597084</td>\n    </tr>\n    <tr>\n      <th>25%</th>\n      <td>170322.000000</td>\n      <td>64.000000</td>\n      <td>78.000000</td>\n      <td>0.570000</td>\n      <td>0.525000</td>\n      <td>1.000000</td>\n      <td>-7.841500</td>\n      <td>0.000000</td>\n      <td>0.042800</td>\n      <td>0.031550</td>\n      <td>...</td>\n      <td>0.246056</td>\n      <td>68.009289</td>\n      <td>-5.805181</td>\n      <td>65.208897</td>\n      <td>0.716595</td>\n      <td>64.160015</td>\n      <td>-4.468847</td>\n      <td>62.009989</td>\n      <td>-0.239844</td>\n      <td>61.936447</td>\n    </tr>\n    <tr>\n      <th>50%</th>\n      <td>195428.000000</td>\n      <td>70.000000</td>\n      <td>86.000000</td>\n      <td>0.680000</td>\n      <td>0.633000</td>\n      <td>5.000000</td>\n      <td>-6.360000</td>\n      <td>1.000000</td>\n      <td>0.079800</td>\n      <td>0.121000</td>\n      <td>...</td>\n      <td>2.442511</td>\n      <td>81.295982</td>\n      <td>-3.595455</td>\n      <td>78.402687</td>\n      <td>2.753472</td>\n      <td>77.774918</td>\n      <td>-2.510375</td>\n      <td>75.437561</td>\n      <td>1.633557</td>\n      <td>75.101379</td>\n    </tr>\n    <tr>\n      <th>75%</th>\n      <td>223599.000000</td>\n      <td>77.000000</td>\n      <td>91.000000</td>\n      <td>0.776000</td>\n      <td>0.733500</td>\n      <td>8.000000</td>\n      <td>-5.077500</td>\n      <td>1.000000</td>\n      <td>0.218000</td>\n      <td>0.321500</td>\n      <td>...</td>\n      <td>4.722763</td>\n      <td>98.500587</td>\n      <td>-1.416037</td>\n      <td>94.838615</td>\n      <td>4.810408</td>\n      <td>93.118820</td>\n      <td>-0.625247</td>\n      <td>91.067223</td>\n      <td>3.652482</td>\n      <td>93.510078</td>\n    </tr>\n    <tr>\n      <th>max</th>\n      <td>613026.000000</td>\n      <td>95.000000</td>\n      <td>100.000000</td>\n      <td>0.965000</td>\n      <td>0.984000</td>\n      <td>11.000000</td>\n      <td>-1.321000</td>\n      <td>1.000000</td>\n      <td>0.699000</td>\n      <td>0.995000</td>\n      <td>...</td>\n      <td>13.629806</td>\n      <td>207.025589</td>\n      <td>6.795540</td>\n      <td>219.371109</td>\n      <td>12.521308</td>\n      <td>229.869766</td>\n      <td>7.686097</td>\n      <td>229.040588</td>\n      <td>14.772246</td>\n      <td>226.710175</td>\n    </tr>\n  </tbody>\n</table>\n<p>8 rows × 73 columns</p>\n</div>"
     },
     "execution_count": 7,
     "metadata": {},
     "output_type": "execute_result"
    }
   ],
   "source": [
    "# print(songs_df.apply(lambda x: x.nunique()))\n",
    "songs_df.describe()"
   ],
   "metadata": {
    "collapsed": false,
    "pycharm": {
     "name": "#%%\n"
    }
   }
  },
  {
   "cell_type": "code",
   "execution_count": 8,
   "outputs": [
    {
     "data": {
      "text/plain": "billboard_name                    0\nduration_ms                       0\nspotify_popularity                0\nspotify_artist_popularity_mean    0\nexplicit                          0\n                                 ..\nmfcc18_var                        0\nmfcc19_mean                       0\nmfcc19_var                        0\nmfcc20_mean                       0\nmfcc20_var                        0\nLength: 76, dtype: int64"
     },
     "execution_count": 8,
     "metadata": {},
     "output_type": "execute_result"
    }
   ],
   "source": [
    "songs_df.isna().sum()"
   ],
   "metadata": {
    "collapsed": false,
    "pycharm": {
     "name": "#%%\n"
    }
   }
  },
  {
   "cell_type": "code",
   "execution_count": 9,
   "outputs": [],
   "source": [
    "songs_df = pd.get_dummies(songs_df, prefix=['explicit'], columns=['explicit'])"
   ],
   "metadata": {
    "collapsed": false,
    "pycharm": {
     "name": "#%%\n"
    }
   }
  },
  {
   "cell_type": "markdown",
   "source": [
    "# Testing Different Popularity Metrics"
   ],
   "metadata": {
    "collapsed": false,
    "pycharm": {
     "name": "#%% md\n"
    }
   }
  },
  {
   "cell_type": "code",
   "execution_count": 31,
   "outputs": [],
   "source": [
    "def popularity_metrics(df, score_type='basic'):\n",
    "    metrics = ['peak_rank', 'lifetime_peak_rank', 'debut_rank', 'sensationality', 'avg_rank_score', 'std_rank_score', 'time_on_chart', 'num_occurrences', 'rank_sum', 'skewness', 'kurtosis']\n",
    "    metric_vals = []\n",
    "\n",
    "    for i in range(len(df)):\n",
    "        song = df.iloc[i]\n",
    "        billboard_entries = billboard_df[billboard_df['title'] == song['billboard_name']].sort_values(by='date')\n",
    "        value_counts = billboard_entries['rank'].value_counts()\n",
    "        ranks = value_counts.index\n",
    "        rank_counts = value_counts.values\n",
    "\n",
    "\n",
    "        # max rank\n",
    "        peak = min(ranks)\n",
    "        if score_type == 'classic':\n",
    "            ranks = [rank_score_classic(peak, ra) for ra in ranks]\n",
    "        elif score_type == 'score_01':\n",
    "            ranks = [rank_score_01(peak, ra) for ra in ranks]\n",
    "        elif score_type == 'score_02':\n",
    "            ranks = [rank_score_02(peak, ra) for ra in ranks]\n",
    "        else:\n",
    "            ranks = [rank_score_basic(ra) for ra in ranks]\n",
    "\n",
    "        # sensationality\n",
    "        sensation = squiggle(rank_counts, ranks, scaled=True)\n",
    "\n",
    "        # mean rank\n",
    "        avg_rank = np.mean(ranks)\n",
    "\n",
    "        # rank std\n",
    "        std_rank = np.std(ranks)\n",
    "\n",
    "        # length\n",
    "        time_on_chart = np.max(billboard_entries['weeks'])\n",
    "\n",
    "        # lifetime_peak\n",
    "        lifetime_peak = np.max(billboard_entries['peakPos'])\n",
    "\n",
    "        # debut rank\n",
    "        debut_rank = billboard_entries['rank'].iloc[0]\n",
    "\n",
    "        # number of occurrences\n",
    "        num_occurrences = len(billboard_entries)\n",
    "\n",
    "        rank_sum = sum(ranks)\n",
    "\n",
    "        skewness = skew(ranks)\n",
    "\n",
    "        kurt = kurtosis(ranks)\n",
    "\n",
    "        metric_vals.append([peak, debut_rank, lifetime_peak, sensation, avg_rank, std_rank, time_on_chart, num_occurrences, rank_sum, skewness, kurt])\n",
    "\n",
    "    return pd.DataFrame(data=metric_vals, columns=metrics)"
   ],
   "metadata": {
    "collapsed": false,
    "pycharm": {
     "name": "#%%\n"
    }
   }
  },
  {
   "cell_type": "code",
   "execution_count": 32,
   "outputs": [
    {
     "data": {
      "text/plain": "         peak_rank  lifetime_peak_rank   debut_rank  sensationality  \\\ncount  1423.000000         1423.000000  1423.000000     1423.000000   \nmean     50.872804           60.858749    59.452565        0.173917   \nstd      28.872677           28.879139    29.739192        0.264423   \nmin       1.000000            1.000000     1.000000        0.010000   \n25%      26.000000           39.000000    36.500000        0.014492   \n50%      53.000000           66.000000    65.000000        0.040918   \n75%      76.000000           86.000000    86.000000        0.221774   \nmax     100.000000          100.000000   100.000000        1.000000   \n\n       avg_rank_score  std_rank_score  time_on_chart  num_occurrences  \\\ncount     1423.000000     1423.000000     1423.00000      1423.000000   \nmean         0.025285        0.015060        8.41532         7.326072   \nstd          0.031150        0.045298       10.98796         9.710895   \nmin          0.010000        0.000000        1.00000         1.000000   \n25%          0.012616        0.000000        1.00000         1.000000   \n50%          0.015764        0.001422        2.00000         2.000000   \n75%          0.023810        0.008715       14.00000        11.000000   \nmax          0.409608        0.424401       90.00000        87.000000   \n\n          rank_sum     skewness     kurtosis  \ncount  1423.000000  1423.000000  1423.000000  \nmean      0.221581     0.450854    -1.188760  \nstd       0.485595     0.822457     2.763996  \nmin       0.010000    -1.361391    -3.000000  \n25%       0.014493     0.000000    -3.000000  \n50%       0.040831     0.000000    -2.000000  \n75%       0.196657     0.701393    -0.694673  \nmax       3.697960     4.800006    22.324941  ",
      "text/html": "<div>\n<style scoped>\n    .dataframe tbody tr th:only-of-type {\n        vertical-align: middle;\n    }\n\n    .dataframe tbody tr th {\n        vertical-align: top;\n    }\n\n    .dataframe thead th {\n        text-align: right;\n    }\n</style>\n<table border=\"1\" class=\"dataframe\">\n  <thead>\n    <tr style=\"text-align: right;\">\n      <th></th>\n      <th>peak_rank</th>\n      <th>lifetime_peak_rank</th>\n      <th>debut_rank</th>\n      <th>sensationality</th>\n      <th>avg_rank_score</th>\n      <th>std_rank_score</th>\n      <th>time_on_chart</th>\n      <th>num_occurrences</th>\n      <th>rank_sum</th>\n      <th>skewness</th>\n      <th>kurtosis</th>\n    </tr>\n  </thead>\n  <tbody>\n    <tr>\n      <th>count</th>\n      <td>1423.000000</td>\n      <td>1423.000000</td>\n      <td>1423.000000</td>\n      <td>1423.000000</td>\n      <td>1423.000000</td>\n      <td>1423.000000</td>\n      <td>1423.00000</td>\n      <td>1423.000000</td>\n      <td>1423.000000</td>\n      <td>1423.000000</td>\n      <td>1423.000000</td>\n    </tr>\n    <tr>\n      <th>mean</th>\n      <td>50.872804</td>\n      <td>60.858749</td>\n      <td>59.452565</td>\n      <td>0.173917</td>\n      <td>0.025285</td>\n      <td>0.015060</td>\n      <td>8.41532</td>\n      <td>7.326072</td>\n      <td>0.221581</td>\n      <td>0.450854</td>\n      <td>-1.188760</td>\n    </tr>\n    <tr>\n      <th>std</th>\n      <td>28.872677</td>\n      <td>28.879139</td>\n      <td>29.739192</td>\n      <td>0.264423</td>\n      <td>0.031150</td>\n      <td>0.045298</td>\n      <td>10.98796</td>\n      <td>9.710895</td>\n      <td>0.485595</td>\n      <td>0.822457</td>\n      <td>2.763996</td>\n    </tr>\n    <tr>\n      <th>min</th>\n      <td>1.000000</td>\n      <td>1.000000</td>\n      <td>1.000000</td>\n      <td>0.010000</td>\n      <td>0.010000</td>\n      <td>0.000000</td>\n      <td>1.00000</td>\n      <td>1.000000</td>\n      <td>0.010000</td>\n      <td>-1.361391</td>\n      <td>-3.000000</td>\n    </tr>\n    <tr>\n      <th>25%</th>\n      <td>26.000000</td>\n      <td>39.000000</td>\n      <td>36.500000</td>\n      <td>0.014492</td>\n      <td>0.012616</td>\n      <td>0.000000</td>\n      <td>1.00000</td>\n      <td>1.000000</td>\n      <td>0.014493</td>\n      <td>0.000000</td>\n      <td>-3.000000</td>\n    </tr>\n    <tr>\n      <th>50%</th>\n      <td>53.000000</td>\n      <td>66.000000</td>\n      <td>65.000000</td>\n      <td>0.040918</td>\n      <td>0.015764</td>\n      <td>0.001422</td>\n      <td>2.00000</td>\n      <td>2.000000</td>\n      <td>0.040831</td>\n      <td>0.000000</td>\n      <td>-2.000000</td>\n    </tr>\n    <tr>\n      <th>75%</th>\n      <td>76.000000</td>\n      <td>86.000000</td>\n      <td>86.000000</td>\n      <td>0.221774</td>\n      <td>0.023810</td>\n      <td>0.008715</td>\n      <td>14.00000</td>\n      <td>11.000000</td>\n      <td>0.196657</td>\n      <td>0.701393</td>\n      <td>-0.694673</td>\n    </tr>\n    <tr>\n      <th>max</th>\n      <td>100.000000</td>\n      <td>100.000000</td>\n      <td>100.000000</td>\n      <td>1.000000</td>\n      <td>0.409608</td>\n      <td>0.424401</td>\n      <td>90.00000</td>\n      <td>87.000000</td>\n      <td>3.697960</td>\n      <td>4.800006</td>\n      <td>22.324941</td>\n    </tr>\n  </tbody>\n</table>\n</div>"
     },
     "execution_count": 32,
     "metadata": {},
     "output_type": "execute_result"
    }
   ],
   "source": [
    "pop_metrics = popularity_metrics(songs_df, 'basic')\n",
    "pop_metrics.describe()"
   ],
   "metadata": {
    "collapsed": false,
    "pycharm": {
     "name": "#%%\n"
    }
   }
  },
  {
   "cell_type": "code",
   "execution_count": 33,
   "outputs": [
    {
     "data": {
      "text/plain": "         peak_rank  lifetime_peak_rank   debut_rank  sensationality  \\\ncount  1423.000000         1423.000000  1423.000000     1423.000000   \nmean     50.872804           60.858749    59.452565        0.898278   \nstd      28.872677           28.879139    29.739192        0.117932   \nmin       1.000000            1.000000     1.000000        0.761594   \n25%      26.000000           39.000000    36.500000        0.761594   \n50%      53.000000           66.000000    65.000000        1.000000   \n75%      76.000000           86.000000    86.000000        1.000000   \nmax     100.000000          100.000000   100.000000        1.000000   \n\n       avg_rank_score  std_rank_score  time_on_chart  num_occurrences  \\\ncount     1423.000000     1423.000000     1423.00000      1423.000000   \nmean        14.673815        9.749975        8.41532         7.326072   \nstd         15.124559       10.401953       10.98796         9.710895   \nmin          1.000000        0.000000        1.00000         1.000000   \n25%          1.000000        0.000000        1.00000         1.000000   \n50%         10.857143        7.537241        2.00000         2.000000   \n75%         25.657143       17.808576       14.00000        11.000000   \nmax         65.333333       40.000000       90.00000        87.000000   \n\n         rank_sum     skewness     kurtosis  \ncount  1423.00000  1423.000000  1423.000000  \nmean    146.21785     0.032422    -1.819822  \nstd     217.31022     0.468476     1.306573  \nmin       1.00000    -2.398583    -3.000000  \n25%       1.00000     0.000000    -3.000000  \n50%      38.00000     0.000000    -2.000000  \n75%     232.00000     0.000000    -1.025932  \nmax    1252.00000     2.719581     7.127719  ",
      "text/html": "<div>\n<style scoped>\n    .dataframe tbody tr th:only-of-type {\n        vertical-align: middle;\n    }\n\n    .dataframe tbody tr th {\n        vertical-align: top;\n    }\n\n    .dataframe thead th {\n        text-align: right;\n    }\n</style>\n<table border=\"1\" class=\"dataframe\">\n  <thead>\n    <tr style=\"text-align: right;\">\n      <th></th>\n      <th>peak_rank</th>\n      <th>lifetime_peak_rank</th>\n      <th>debut_rank</th>\n      <th>sensationality</th>\n      <th>avg_rank_score</th>\n      <th>std_rank_score</th>\n      <th>time_on_chart</th>\n      <th>num_occurrences</th>\n      <th>rank_sum</th>\n      <th>skewness</th>\n      <th>kurtosis</th>\n    </tr>\n  </thead>\n  <tbody>\n    <tr>\n      <th>count</th>\n      <td>1423.000000</td>\n      <td>1423.000000</td>\n      <td>1423.000000</td>\n      <td>1423.000000</td>\n      <td>1423.000000</td>\n      <td>1423.000000</td>\n      <td>1423.00000</td>\n      <td>1423.000000</td>\n      <td>1423.00000</td>\n      <td>1423.000000</td>\n      <td>1423.000000</td>\n    </tr>\n    <tr>\n      <th>mean</th>\n      <td>50.872804</td>\n      <td>60.858749</td>\n      <td>59.452565</td>\n      <td>0.898278</td>\n      <td>14.673815</td>\n      <td>9.749975</td>\n      <td>8.41532</td>\n      <td>7.326072</td>\n      <td>146.21785</td>\n      <td>0.032422</td>\n      <td>-1.819822</td>\n    </tr>\n    <tr>\n      <th>std</th>\n      <td>28.872677</td>\n      <td>28.879139</td>\n      <td>29.739192</td>\n      <td>0.117932</td>\n      <td>15.124559</td>\n      <td>10.401953</td>\n      <td>10.98796</td>\n      <td>9.710895</td>\n      <td>217.31022</td>\n      <td>0.468476</td>\n      <td>1.306573</td>\n    </tr>\n    <tr>\n      <th>min</th>\n      <td>1.000000</td>\n      <td>1.000000</td>\n      <td>1.000000</td>\n      <td>0.761594</td>\n      <td>1.000000</td>\n      <td>0.000000</td>\n      <td>1.00000</td>\n      <td>1.000000</td>\n      <td>1.00000</td>\n      <td>-2.398583</td>\n      <td>-3.000000</td>\n    </tr>\n    <tr>\n      <th>25%</th>\n      <td>26.000000</td>\n      <td>39.000000</td>\n      <td>36.500000</td>\n      <td>0.761594</td>\n      <td>1.000000</td>\n      <td>0.000000</td>\n      <td>1.00000</td>\n      <td>1.000000</td>\n      <td>1.00000</td>\n      <td>0.000000</td>\n      <td>-3.000000</td>\n    </tr>\n    <tr>\n      <th>50%</th>\n      <td>53.000000</td>\n      <td>66.000000</td>\n      <td>65.000000</td>\n      <td>1.000000</td>\n      <td>10.857143</td>\n      <td>7.537241</td>\n      <td>2.00000</td>\n      <td>2.000000</td>\n      <td>38.00000</td>\n      <td>0.000000</td>\n      <td>-2.000000</td>\n    </tr>\n    <tr>\n      <th>75%</th>\n      <td>76.000000</td>\n      <td>86.000000</td>\n      <td>86.000000</td>\n      <td>1.000000</td>\n      <td>25.657143</td>\n      <td>17.808576</td>\n      <td>14.00000</td>\n      <td>11.000000</td>\n      <td>232.00000</td>\n      <td>0.000000</td>\n      <td>-1.025932</td>\n    </tr>\n    <tr>\n      <th>max</th>\n      <td>100.000000</td>\n      <td>100.000000</td>\n      <td>100.000000</td>\n      <td>1.000000</td>\n      <td>65.333333</td>\n      <td>40.000000</td>\n      <td>90.00000</td>\n      <td>87.000000</td>\n      <td>1252.00000</td>\n      <td>2.719581</td>\n      <td>7.127719</td>\n    </tr>\n  </tbody>\n</table>\n</div>"
     },
     "execution_count": 33,
     "metadata": {},
     "output_type": "execute_result"
    }
   ],
   "source": [
    "pop_metrics = popularity_metrics(songs_df, 'classic')\n",
    "pop_metrics.describe()"
   ],
   "metadata": {
    "collapsed": false,
    "pycharm": {
     "name": "#%%\n"
    }
   }
  },
  {
   "cell_type": "code",
   "execution_count": 36,
   "outputs": [
    {
     "data": {
      "text/plain": "         peak_rank  lifetime_peak_rank   debut_rank  sensationality  \\\ncount  1423.000000         1423.000000  1423.000000     1423.000000   \nmean     50.872804           60.858749    59.452565        0.900328   \nstd      28.872677           28.879139    29.739192        0.108910   \nmin       1.000000            1.000000     1.000000        0.770033   \n25%      26.000000           39.000000    36.500000        0.773848   \n50%      53.000000           66.000000    65.000000        0.970869   \n75%      76.000000           86.000000    86.000000        1.000000   \nmax     100.000000          100.000000   100.000000        1.000000   \n\n       avg_rank_score  std_rank_score  time_on_chart  num_occurrences  \\\ncount     1423.000000     1423.000000     1423.00000      1423.000000   \nmean         1.780139        0.575463        8.41532         7.326072   \nstd          4.671507        3.534214       10.98796         9.710895   \nmin          1.020408        0.000000        1.00000         1.000000   \n25%          1.026667        0.000000        1.00000         1.000000   \n50%          1.036364        0.001515        2.00000         2.000000   \n75%          1.066667        0.009947       14.00000        11.000000   \nmax         65.333333       37.124415       90.00000        87.000000   \n\n          rank_sum     skewness     kurtosis  \ncount  1423.000000  1423.000000  1423.000000  \nmean     17.299562     0.415488    -1.320215  \nstd      73.512941     0.762767     2.497012  \nmin       1.020408    -1.360677    -3.000000  \n25%       1.029851     0.000000    -3.000000  \n50%       2.103609     0.000000    -2.000000  \n75%      10.965784     0.687990    -0.715733  \nmax     927.000000     4.636364    21.196639  ",
      "text/html": "<div>\n<style scoped>\n    .dataframe tbody tr th:only-of-type {\n        vertical-align: middle;\n    }\n\n    .dataframe tbody tr th {\n        vertical-align: top;\n    }\n\n    .dataframe thead th {\n        text-align: right;\n    }\n</style>\n<table border=\"1\" class=\"dataframe\">\n  <thead>\n    <tr style=\"text-align: right;\">\n      <th></th>\n      <th>peak_rank</th>\n      <th>lifetime_peak_rank</th>\n      <th>debut_rank</th>\n      <th>sensationality</th>\n      <th>avg_rank_score</th>\n      <th>std_rank_score</th>\n      <th>time_on_chart</th>\n      <th>num_occurrences</th>\n      <th>rank_sum</th>\n      <th>skewness</th>\n      <th>kurtosis</th>\n    </tr>\n  </thead>\n  <tbody>\n    <tr>\n      <th>count</th>\n      <td>1423.000000</td>\n      <td>1423.000000</td>\n      <td>1423.000000</td>\n      <td>1423.000000</td>\n      <td>1423.000000</td>\n      <td>1423.000000</td>\n      <td>1423.00000</td>\n      <td>1423.000000</td>\n      <td>1423.000000</td>\n      <td>1423.000000</td>\n      <td>1423.000000</td>\n    </tr>\n    <tr>\n      <th>mean</th>\n      <td>50.872804</td>\n      <td>60.858749</td>\n      <td>59.452565</td>\n      <td>0.900328</td>\n      <td>1.780139</td>\n      <td>0.575463</td>\n      <td>8.41532</td>\n      <td>7.326072</td>\n      <td>17.299562</td>\n      <td>0.415488</td>\n      <td>-1.320215</td>\n    </tr>\n    <tr>\n      <th>std</th>\n      <td>28.872677</td>\n      <td>28.879139</td>\n      <td>29.739192</td>\n      <td>0.108910</td>\n      <td>4.671507</td>\n      <td>3.534214</td>\n      <td>10.98796</td>\n      <td>9.710895</td>\n      <td>73.512941</td>\n      <td>0.762767</td>\n      <td>2.497012</td>\n    </tr>\n    <tr>\n      <th>min</th>\n      <td>1.000000</td>\n      <td>1.000000</td>\n      <td>1.000000</td>\n      <td>0.770033</td>\n      <td>1.020408</td>\n      <td>0.000000</td>\n      <td>1.00000</td>\n      <td>1.000000</td>\n      <td>1.020408</td>\n      <td>-1.360677</td>\n      <td>-3.000000</td>\n    </tr>\n    <tr>\n      <th>25%</th>\n      <td>26.000000</td>\n      <td>39.000000</td>\n      <td>36.500000</td>\n      <td>0.773848</td>\n      <td>1.026667</td>\n      <td>0.000000</td>\n      <td>1.00000</td>\n      <td>1.000000</td>\n      <td>1.029851</td>\n      <td>0.000000</td>\n      <td>-3.000000</td>\n    </tr>\n    <tr>\n      <th>50%</th>\n      <td>53.000000</td>\n      <td>66.000000</td>\n      <td>65.000000</td>\n      <td>0.970869</td>\n      <td>1.036364</td>\n      <td>0.001515</td>\n      <td>2.00000</td>\n      <td>2.000000</td>\n      <td>2.103609</td>\n      <td>0.000000</td>\n      <td>-2.000000</td>\n    </tr>\n    <tr>\n      <th>75%</th>\n      <td>76.000000</td>\n      <td>86.000000</td>\n      <td>86.000000</td>\n      <td>1.000000</td>\n      <td>1.066667</td>\n      <td>0.009947</td>\n      <td>14.00000</td>\n      <td>11.000000</td>\n      <td>10.965784</td>\n      <td>0.687990</td>\n      <td>-0.715733</td>\n    </tr>\n    <tr>\n      <th>max</th>\n      <td>100.000000</td>\n      <td>100.000000</td>\n      <td>100.000000</td>\n      <td>1.000000</td>\n      <td>65.333333</td>\n      <td>37.124415</td>\n      <td>90.00000</td>\n      <td>87.000000</td>\n      <td>927.000000</td>\n      <td>4.636364</td>\n      <td>21.196639</td>\n    </tr>\n  </tbody>\n</table>\n</div>"
     },
     "execution_count": 36,
     "metadata": {},
     "output_type": "execute_result"
    }
   ],
   "source": [
    "pop_metrics = popularity_metrics(songs_df, 'score_01')\n",
    "pop_metrics.describe()"
   ],
   "metadata": {
    "collapsed": false,
    "pycharm": {
     "name": "#%%\n"
    }
   }
  },
  {
   "cell_type": "code",
   "execution_count": 37,
   "outputs": [
    {
     "data": {
      "text/plain": "         peak_rank  lifetime_peak_rank   debut_rank  sensationality  \\\ncount  1423.000000         1423.000000  1423.000000     1423.000000   \nmean     50.872804           60.858749    59.452565        0.132618   \nstd      28.872677           28.879139    29.739192        0.239601   \nmin       1.000000            1.000000     1.000000        0.005025   \n25%      26.000000           39.000000    36.500000        0.007299   \n50%      53.000000           66.000000    65.000000        0.022614   \n75%      76.000000           86.000000    86.000000        0.135852   \nmax     100.000000          100.000000   100.000000        1.000000   \n\n       avg_rank_score  std_rank_score  time_on_chart  num_occurrences  \\\ncount     1423.000000     1423.000000     1423.00000      1423.000000   \nmean         0.016987        0.011042        8.41532         7.326072   \nstd          0.030406        0.043514       10.98796         9.710895   \nmin          0.005025        0.000000        1.00000         1.000000   \n25%          0.006536        0.000000        1.00000         1.000000   \n50%          0.008691        0.000406        2.00000         2.000000   \n75%          0.014067        0.003357       14.00000        11.000000   \nmax          0.409608        0.424401       90.00000        87.000000   \n\n          rank_sum     skewness     kurtosis  \ncount  1423.000000  1423.000000  1423.000000  \nmean      0.169956     0.345212    -1.374249  \nstd       0.450653     0.750308     2.464867  \nmin       0.005025    -1.474878    -3.000000  \n25%       0.007299     0.000000    -3.000000  \n50%       0.022286     0.000000    -2.000000  \n75%       0.120634     0.470999    -0.873880  \nmax       3.697960     4.443465    19.928467  ",
      "text/html": "<div>\n<style scoped>\n    .dataframe tbody tr th:only-of-type {\n        vertical-align: middle;\n    }\n\n    .dataframe tbody tr th {\n        vertical-align: top;\n    }\n\n    .dataframe thead th {\n        text-align: right;\n    }\n</style>\n<table border=\"1\" class=\"dataframe\">\n  <thead>\n    <tr style=\"text-align: right;\">\n      <th></th>\n      <th>peak_rank</th>\n      <th>lifetime_peak_rank</th>\n      <th>debut_rank</th>\n      <th>sensationality</th>\n      <th>avg_rank_score</th>\n      <th>std_rank_score</th>\n      <th>time_on_chart</th>\n      <th>num_occurrences</th>\n      <th>rank_sum</th>\n      <th>skewness</th>\n      <th>kurtosis</th>\n    </tr>\n  </thead>\n  <tbody>\n    <tr>\n      <th>count</th>\n      <td>1423.000000</td>\n      <td>1423.000000</td>\n      <td>1423.000000</td>\n      <td>1423.000000</td>\n      <td>1423.000000</td>\n      <td>1423.000000</td>\n      <td>1423.00000</td>\n      <td>1423.000000</td>\n      <td>1423.000000</td>\n      <td>1423.000000</td>\n      <td>1423.000000</td>\n    </tr>\n    <tr>\n      <th>mean</th>\n      <td>50.872804</td>\n      <td>60.858749</td>\n      <td>59.452565</td>\n      <td>0.132618</td>\n      <td>0.016987</td>\n      <td>0.011042</td>\n      <td>8.41532</td>\n      <td>7.326072</td>\n      <td>0.169956</td>\n      <td>0.345212</td>\n      <td>-1.374249</td>\n    </tr>\n    <tr>\n      <th>std</th>\n      <td>28.872677</td>\n      <td>28.879139</td>\n      <td>29.739192</td>\n      <td>0.239601</td>\n      <td>0.030406</td>\n      <td>0.043514</td>\n      <td>10.98796</td>\n      <td>9.710895</td>\n      <td>0.450653</td>\n      <td>0.750308</td>\n      <td>2.464867</td>\n    </tr>\n    <tr>\n      <th>min</th>\n      <td>1.000000</td>\n      <td>1.000000</td>\n      <td>1.000000</td>\n      <td>0.005025</td>\n      <td>0.005025</td>\n      <td>0.000000</td>\n      <td>1.00000</td>\n      <td>1.000000</td>\n      <td>0.005025</td>\n      <td>-1.474878</td>\n      <td>-3.000000</td>\n    </tr>\n    <tr>\n      <th>25%</th>\n      <td>26.000000</td>\n      <td>39.000000</td>\n      <td>36.500000</td>\n      <td>0.007299</td>\n      <td>0.006536</td>\n      <td>0.000000</td>\n      <td>1.00000</td>\n      <td>1.000000</td>\n      <td>0.007299</td>\n      <td>0.000000</td>\n      <td>-3.000000</td>\n    </tr>\n    <tr>\n      <th>50%</th>\n      <td>53.000000</td>\n      <td>66.000000</td>\n      <td>65.000000</td>\n      <td>0.022614</td>\n      <td>0.008691</td>\n      <td>0.000406</td>\n      <td>2.00000</td>\n      <td>2.000000</td>\n      <td>0.022286</td>\n      <td>0.000000</td>\n      <td>-2.000000</td>\n    </tr>\n    <tr>\n      <th>75%</th>\n      <td>76.000000</td>\n      <td>86.000000</td>\n      <td>86.000000</td>\n      <td>0.135852</td>\n      <td>0.014067</td>\n      <td>0.003357</td>\n      <td>14.00000</td>\n      <td>11.000000</td>\n      <td>0.120634</td>\n      <td>0.470999</td>\n      <td>-0.873880</td>\n    </tr>\n    <tr>\n      <th>max</th>\n      <td>100.000000</td>\n      <td>100.000000</td>\n      <td>100.000000</td>\n      <td>1.000000</td>\n      <td>0.409608</td>\n      <td>0.424401</td>\n      <td>90.00000</td>\n      <td>87.000000</td>\n      <td>3.697960</td>\n      <td>4.443465</td>\n      <td>19.928467</td>\n    </tr>\n  </tbody>\n</table>\n</div>"
     },
     "execution_count": 37,
     "metadata": {},
     "output_type": "execute_result"
    }
   ],
   "source": [
    "pop_metrics = popularity_metrics(songs_df, 'score_02')\n",
    "pop_metrics.describe()"
   ],
   "metadata": {
    "collapsed": false,
    "pycharm": {
     "name": "#%%\n"
    }
   }
  },
  {
   "cell_type": "code",
   "execution_count": 13,
   "outputs": [],
   "source": [
    "# data_df is whats going to be used for all\n",
    "data_df = songs_df.copy()\n",
    "song_billboard_names = data_df.pop('billboard_name')\n",
    "song_audio_analysis_files = data_df.pop('audio_analysis_file')\n",
    "data_df[data_df.columns] = StandardScaler().fit_transform(data_df)"
   ],
   "metadata": {
    "collapsed": false,
    "pycharm": {
     "name": "#%%\n"
    }
   }
  },
  {
   "cell_type": "code",
   "execution_count": 14,
   "outputs": [],
   "source": [
    "# y_col = 'sensationality'\n",
    "# y = data_df.pop(y_col)"
   ],
   "metadata": {
    "collapsed": false,
    "pycharm": {
     "name": "#%%\n"
    }
   }
  },
  {
   "cell_type": "code",
   "execution_count": 18,
   "outputs": [],
   "source": [],
   "metadata": {
    "collapsed": false,
    "pycharm": {
     "name": "#%%\n"
    }
   }
  },
  {
   "cell_type": "code",
   "execution_count": 18,
   "outputs": [],
   "source": [],
   "metadata": {
    "collapsed": false,
    "pycharm": {
     "name": "#%%\n"
    }
   }
  }
 ],
 "metadata": {
  "kernelspec": {
   "display_name": "Python 3",
   "language": "python",
   "name": "python3"
  },
  "language_info": {
   "codemirror_mode": {
    "name": "ipython",
    "version": 2
   },
   "file_extension": ".py",
   "mimetype": "text/x-python",
   "name": "python",
   "nbconvert_exporter": "python",
   "pygments_lexer": "ipython2",
   "version": "2.7.6"
  }
 },
 "nbformat": 4,
 "nbformat_minor": 0
}