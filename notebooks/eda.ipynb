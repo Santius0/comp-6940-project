{
 "cells": [
  {
   "cell_type": "code",
   "execution_count": 421,
   "metadata": {
    "collapsed": true
   },
   "outputs": [],
   "source": [
    "import numpy as np\n",
    "import pandas as pd\n",
    "from matplotlib import pyplot as plt\n",
    "import seaborn as sns\n",
    "import statsmodels.api as sm\n",
    "import logging\n",
    "\n",
    "from sklearn.preprocessing import StandardScaler\n",
    "\n",
    "from scipy.stats import skew, kurtosis\n",
    "\n",
    "from utils.general import *\n",
    "\n",
    "import json\n",
    "\n",
    "import warnings"
   ]
  },
  {
   "cell_type": "code",
   "execution_count": 422,
   "outputs": [],
   "source": [
    "warnings.filterwarnings('ignore')"
   ],
   "metadata": {
    "collapsed": false,
    "pycharm": {
     "name": "#%%\n"
    }
   }
  },
  {
   "cell_type": "code",
   "execution_count": 423,
   "outputs": [],
   "source": [
    "random_state = 42\n",
    "rng = np.random.default_rng(random_state)"
   ],
   "metadata": {
    "collapsed": false,
    "pycharm": {
     "name": "#%%\n"
    }
   }
  },
  {
   "cell_type": "markdown",
   "source": [
    "# Data Loading And Preprocessing"
   ],
   "metadata": {
    "collapsed": false,
    "pycharm": {
     "name": "#%% md\n"
    }
   }
  },
  {
   "cell_type": "code",
   "execution_count": 424,
   "outputs": [],
   "source": [
    "billboard_df = pd.read_csv(\"../data/billboard/hot-100_all.csv\")\n",
    "spotify_df = pd.read_csv(\"../data/spofity/songs.csv\")\n",
    "audio_analysis_df = pd.read_csv(\"../data/audio/audio_features_full.csv\")"
   ],
   "metadata": {
    "collapsed": false,
    "pycharm": {
     "name": "#%%\n"
    }
   }
  },
  {
   "cell_type": "code",
   "execution_count": 425,
   "outputs": [],
   "source": [
    "billboard_df.drop(axis=1, inplace=True, labels=['image', 'artist'])\n",
    "billboard_df['date'] = pd.to_datetime(billboard_df['date'])\n",
    "spotify_df.drop(axis=1, inplace=True, labels=['spotify_name',\n",
    "                                              'artist',\n",
    "                                              'artist_genres',\n",
    "                                              'spotify_id',\n",
    "                                              'spotify_id',\n",
    "                                              'spotify_uri',\n",
    "                                              'spotify_external_url',\n",
    "                                              'spotify_artist_popularity',\n",
    "                                              'preview_url',\n",
    "                                              'preview_url_audio',\n",
    "                                              'full_audio',\n",
    "                                              'full_audio_duration_s'\n",
    "                                              ])\n",
    "audio_analysis_df.drop(axis=1, inplace=True, labels=['name', 'tempo'])"
   ],
   "metadata": {
    "collapsed": false,
    "pycharm": {
     "name": "#%%\n"
    }
   }
  },
  {
   "cell_type": "code",
   "execution_count": 426,
   "outputs": [
    {
     "data": {
      "text/plain": "                           billboard_name  duration_ms  spotify_popularity  \\\n0         All I Want For Christmas Is You     241106.0                69.0   \n1       Rockin' Around The Christmas Tree     126266.0                62.0   \n2                        Jingle Bell Rock     130973.0                62.0   \n3                 A Holly Jolly Christmas     135533.0                54.0   \n4                                 Circles     215280.0                86.0   \n...                                   ...          ...                 ...   \n1418  Christmas Isn't Canceled (Just You)     231549.0                41.0   \n1419                       Moved To Miami     222225.0                66.0   \n1420                              Hibachi     170413.0                69.0   \n1421                             Thailand     200958.0                70.0   \n1422                          Do It To It     157890.0                91.0   \n\n      spotify_artist_popularity_mean explicit  danceability  energy   key  \\\n0                          81.000000    False         0.336   0.627   7.0   \n1                          59.000000    False         0.589   0.472   8.0   \n2                          50.000000    False         0.754   0.424   2.0   \n3                          48.000000    False         0.683   0.375   0.0   \n4                          91.000000    False         0.695   0.762   0.0   \n...                              ...      ...           ...     ...   ...   \n1418                       77.000000    False         0.580   0.789   1.0   \n1419                       88.500000     True         0.717   0.444   1.0   \n1420                       86.333333     True         0.681   0.522   5.0   \n1421                       84.000000     True         0.875   0.478   7.0   \n1422                       78.000000    False         0.854   0.806  11.0   \n\n      loudness  mode  ...  mfcc16_mean  mfcc16_var  mfcc17_mean  mfcc17_var  \\\n0       -7.463   1.0  ...     1.619618   99.735660    -3.865835   99.024666   \n1       -8.749   1.0  ...    -1.039626   78.420586    -4.437555   55.536427   \n2       -8.463   1.0  ...     1.430321   58.685158    -4.030815   67.332291   \n3      -13.056   1.0  ...    -1.355817   60.197350    -6.695084   52.782772   \n4       -3.497   1.0  ...     2.563944   78.141319   -12.359889   83.661438   \n...        ...   ...  ...          ...         ...          ...         ...   \n1418    -4.918   0.0  ...     5.321839   70.412506     1.213545   77.698616   \n1419   -11.126   1.0  ...     4.598643  180.801086    -4.373017  110.878738   \n1420    -8.740   0.0  ...     8.091636   79.854568    -1.646704  123.382797   \n1421   -10.562   1.0  ...    10.420262   91.743813    -2.071233   75.112267   \n1422    -8.262   0.0  ...     2.155907   68.733521    -5.703623   47.707085   \n\n      mfcc18_mean  mfcc18_var  mfcc19_mean  mfcc19_var  mfcc20_mean  \\\n0        2.729783  112.219580    -7.488522  122.569650     2.323859   \n1        3.890496   70.359543     0.014326   77.899239     6.889563   \n2        1.802275   58.469532    -5.335912   53.423290     0.133941   \n3       -4.325858   66.221947    -3.533713   50.849602    -1.266797   \n4        4.207565   65.643173    -5.280680   54.441185    -0.751733   \n...           ...         ...          ...         ...          ...   \n1418     4.693950   85.284431    -2.604682   76.687698     5.805956   \n1419     4.545245  111.550697     4.918246   63.780304     8.114554   \n1420     5.309008   98.507568     0.213412   80.767159     2.804790   \n1421     8.341298   97.730263    -0.260812   69.875168     1.959964   \n1422    -1.433100   45.689129    -6.835608   45.040623    -1.940495   \n\n      mfcc20_var  \n0     141.572560  \n1      93.610161  \n2      58.774597  \n3      90.991325  \n4      59.799530  \n...          ...  \n1418   77.433144  \n1419   75.806396  \n1420   73.490234  \n1421   62.722679  \n1422   51.794838  \n\n[1423 rows x 75 columns]",
      "text/html": "<div>\n<style scoped>\n    .dataframe tbody tr th:only-of-type {\n        vertical-align: middle;\n    }\n\n    .dataframe tbody tr th {\n        vertical-align: top;\n    }\n\n    .dataframe thead th {\n        text-align: right;\n    }\n</style>\n<table border=\"1\" class=\"dataframe\">\n  <thead>\n    <tr style=\"text-align: right;\">\n      <th></th>\n      <th>billboard_name</th>\n      <th>duration_ms</th>\n      <th>spotify_popularity</th>\n      <th>spotify_artist_popularity_mean</th>\n      <th>explicit</th>\n      <th>danceability</th>\n      <th>energy</th>\n      <th>key</th>\n      <th>loudness</th>\n      <th>mode</th>\n      <th>...</th>\n      <th>mfcc16_mean</th>\n      <th>mfcc16_var</th>\n      <th>mfcc17_mean</th>\n      <th>mfcc17_var</th>\n      <th>mfcc18_mean</th>\n      <th>mfcc18_var</th>\n      <th>mfcc19_mean</th>\n      <th>mfcc19_var</th>\n      <th>mfcc20_mean</th>\n      <th>mfcc20_var</th>\n    </tr>\n  </thead>\n  <tbody>\n    <tr>\n      <th>0</th>\n      <td>All I Want For Christmas Is You</td>\n      <td>241106.0</td>\n      <td>69.0</td>\n      <td>81.000000</td>\n      <td>False</td>\n      <td>0.336</td>\n      <td>0.627</td>\n      <td>7.0</td>\n      <td>-7.463</td>\n      <td>1.0</td>\n      <td>...</td>\n      <td>1.619618</td>\n      <td>99.735660</td>\n      <td>-3.865835</td>\n      <td>99.024666</td>\n      <td>2.729783</td>\n      <td>112.219580</td>\n      <td>-7.488522</td>\n      <td>122.569650</td>\n      <td>2.323859</td>\n      <td>141.572560</td>\n    </tr>\n    <tr>\n      <th>1</th>\n      <td>Rockin' Around The Christmas Tree</td>\n      <td>126266.0</td>\n      <td>62.0</td>\n      <td>59.000000</td>\n      <td>False</td>\n      <td>0.589</td>\n      <td>0.472</td>\n      <td>8.0</td>\n      <td>-8.749</td>\n      <td>1.0</td>\n      <td>...</td>\n      <td>-1.039626</td>\n      <td>78.420586</td>\n      <td>-4.437555</td>\n      <td>55.536427</td>\n      <td>3.890496</td>\n      <td>70.359543</td>\n      <td>0.014326</td>\n      <td>77.899239</td>\n      <td>6.889563</td>\n      <td>93.610161</td>\n    </tr>\n    <tr>\n      <th>2</th>\n      <td>Jingle Bell Rock</td>\n      <td>130973.0</td>\n      <td>62.0</td>\n      <td>50.000000</td>\n      <td>False</td>\n      <td>0.754</td>\n      <td>0.424</td>\n      <td>2.0</td>\n      <td>-8.463</td>\n      <td>1.0</td>\n      <td>...</td>\n      <td>1.430321</td>\n      <td>58.685158</td>\n      <td>-4.030815</td>\n      <td>67.332291</td>\n      <td>1.802275</td>\n      <td>58.469532</td>\n      <td>-5.335912</td>\n      <td>53.423290</td>\n      <td>0.133941</td>\n      <td>58.774597</td>\n    </tr>\n    <tr>\n      <th>3</th>\n      <td>A Holly Jolly Christmas</td>\n      <td>135533.0</td>\n      <td>54.0</td>\n      <td>48.000000</td>\n      <td>False</td>\n      <td>0.683</td>\n      <td>0.375</td>\n      <td>0.0</td>\n      <td>-13.056</td>\n      <td>1.0</td>\n      <td>...</td>\n      <td>-1.355817</td>\n      <td>60.197350</td>\n      <td>-6.695084</td>\n      <td>52.782772</td>\n      <td>-4.325858</td>\n      <td>66.221947</td>\n      <td>-3.533713</td>\n      <td>50.849602</td>\n      <td>-1.266797</td>\n      <td>90.991325</td>\n    </tr>\n    <tr>\n      <th>4</th>\n      <td>Circles</td>\n      <td>215280.0</td>\n      <td>86.0</td>\n      <td>91.000000</td>\n      <td>False</td>\n      <td>0.695</td>\n      <td>0.762</td>\n      <td>0.0</td>\n      <td>-3.497</td>\n      <td>1.0</td>\n      <td>...</td>\n      <td>2.563944</td>\n      <td>78.141319</td>\n      <td>-12.359889</td>\n      <td>83.661438</td>\n      <td>4.207565</td>\n      <td>65.643173</td>\n      <td>-5.280680</td>\n      <td>54.441185</td>\n      <td>-0.751733</td>\n      <td>59.799530</td>\n    </tr>\n    <tr>\n      <th>...</th>\n      <td>...</td>\n      <td>...</td>\n      <td>...</td>\n      <td>...</td>\n      <td>...</td>\n      <td>...</td>\n      <td>...</td>\n      <td>...</td>\n      <td>...</td>\n      <td>...</td>\n      <td>...</td>\n      <td>...</td>\n      <td>...</td>\n      <td>...</td>\n      <td>...</td>\n      <td>...</td>\n      <td>...</td>\n      <td>...</td>\n      <td>...</td>\n      <td>...</td>\n      <td>...</td>\n    </tr>\n    <tr>\n      <th>1418</th>\n      <td>Christmas Isn't Canceled (Just You)</td>\n      <td>231549.0</td>\n      <td>41.0</td>\n      <td>77.000000</td>\n      <td>False</td>\n      <td>0.580</td>\n      <td>0.789</td>\n      <td>1.0</td>\n      <td>-4.918</td>\n      <td>0.0</td>\n      <td>...</td>\n      <td>5.321839</td>\n      <td>70.412506</td>\n      <td>1.213545</td>\n      <td>77.698616</td>\n      <td>4.693950</td>\n      <td>85.284431</td>\n      <td>-2.604682</td>\n      <td>76.687698</td>\n      <td>5.805956</td>\n      <td>77.433144</td>\n    </tr>\n    <tr>\n      <th>1419</th>\n      <td>Moved To Miami</td>\n      <td>222225.0</td>\n      <td>66.0</td>\n      <td>88.500000</td>\n      <td>True</td>\n      <td>0.717</td>\n      <td>0.444</td>\n      <td>1.0</td>\n      <td>-11.126</td>\n      <td>1.0</td>\n      <td>...</td>\n      <td>4.598643</td>\n      <td>180.801086</td>\n      <td>-4.373017</td>\n      <td>110.878738</td>\n      <td>4.545245</td>\n      <td>111.550697</td>\n      <td>4.918246</td>\n      <td>63.780304</td>\n      <td>8.114554</td>\n      <td>75.806396</td>\n    </tr>\n    <tr>\n      <th>1420</th>\n      <td>Hibachi</td>\n      <td>170413.0</td>\n      <td>69.0</td>\n      <td>86.333333</td>\n      <td>True</td>\n      <td>0.681</td>\n      <td>0.522</td>\n      <td>5.0</td>\n      <td>-8.740</td>\n      <td>0.0</td>\n      <td>...</td>\n      <td>8.091636</td>\n      <td>79.854568</td>\n      <td>-1.646704</td>\n      <td>123.382797</td>\n      <td>5.309008</td>\n      <td>98.507568</td>\n      <td>0.213412</td>\n      <td>80.767159</td>\n      <td>2.804790</td>\n      <td>73.490234</td>\n    </tr>\n    <tr>\n      <th>1421</th>\n      <td>Thailand</td>\n      <td>200958.0</td>\n      <td>70.0</td>\n      <td>84.000000</td>\n      <td>True</td>\n      <td>0.875</td>\n      <td>0.478</td>\n      <td>7.0</td>\n      <td>-10.562</td>\n      <td>1.0</td>\n      <td>...</td>\n      <td>10.420262</td>\n      <td>91.743813</td>\n      <td>-2.071233</td>\n      <td>75.112267</td>\n      <td>8.341298</td>\n      <td>97.730263</td>\n      <td>-0.260812</td>\n      <td>69.875168</td>\n      <td>1.959964</td>\n      <td>62.722679</td>\n    </tr>\n    <tr>\n      <th>1422</th>\n      <td>Do It To It</td>\n      <td>157890.0</td>\n      <td>91.0</td>\n      <td>78.000000</td>\n      <td>False</td>\n      <td>0.854</td>\n      <td>0.806</td>\n      <td>11.0</td>\n      <td>-8.262</td>\n      <td>0.0</td>\n      <td>...</td>\n      <td>2.155907</td>\n      <td>68.733521</td>\n      <td>-5.703623</td>\n      <td>47.707085</td>\n      <td>-1.433100</td>\n      <td>45.689129</td>\n      <td>-6.835608</td>\n      <td>45.040623</td>\n      <td>-1.940495</td>\n      <td>51.794838</td>\n    </tr>\n  </tbody>\n</table>\n<p>1423 rows × 75 columns</p>\n</div>"
     },
     "execution_count": 426,
     "metadata": {},
     "output_type": "execute_result"
    }
   ],
   "source": [
    "songs_df = spotify_df.merge(audio_analysis_df, how='inner', on='billboard_name')\n",
    "songs_df"
   ],
   "metadata": {
    "collapsed": false,
    "pycharm": {
     "name": "#%%\n"
    }
   }
  },
  {
   "cell_type": "code",
   "execution_count": 427,
   "outputs": [
    {
     "data": {
      "text/plain": "         duration_ms  spotify_popularity  spotify_artist_popularity_mean  \\\ncount    1423.000000         1423.000000                     1423.000000   \nmean   200696.557976           67.404076                       83.302977   \nstd     50770.975125           17.661345                       12.018877   \nmin     32000.000000            0.000000                        0.000000   \n25%    170322.000000           64.000000                       78.000000   \n50%    195428.000000           70.000000                       86.000000   \n75%    223599.000000           77.000000                       91.000000   \nmax    613026.000000           95.000000                      100.000000   \n\n       danceability       energy          key     loudness         mode  \\\ncount   1423.000000  1423.000000  1423.000000  1423.000000  1423.000000   \nmean       0.666045     0.622016     5.153197    -6.747289     0.622628   \nstd        0.151579     0.162841     3.600340     2.579960     0.484900   \nmin        0.150000     0.007600     0.000000   -33.663000     0.000000   \n25%        0.570000     0.525000     1.000000    -7.841500     0.000000   \n50%        0.680000     0.633000     5.000000    -6.360000     1.000000   \n75%        0.776000     0.733500     8.000000    -5.077500     1.000000   \nmax        0.965000     0.984000    11.000000    -1.321000     1.000000   \n\n       speechiness  acousticness  ...  mfcc16_mean   mfcc16_var  mfcc17_mean  \\\ncount  1423.000000   1423.000000  ...  1423.000000  1423.000000  1423.000000   \nmean      0.139837      0.223816  ...     2.398114    84.513799    -3.647905   \nstd       0.125819      0.253148  ...     3.631675    24.471115     3.398574   \nmin       0.023200      0.000003  ...   -13.240079    32.670311   -18.392536   \n25%       0.042800      0.031550  ...     0.246056    68.009289    -5.805181   \n50%       0.079800      0.121000  ...     2.442511    81.295982    -3.595455   \n75%       0.218000      0.321500  ...     4.722763    98.500587    -1.416037   \nmax       0.699000      0.995000  ...    13.629806   207.025589     6.795540   \n\n        mfcc17_var  mfcc18_mean   mfcc18_var  mfcc19_mean   mfcc19_var  \\\ncount  1423.000000  1423.000000  1423.000000  1423.000000  1423.000000   \nmean     82.115186     2.668189    80.818220    -2.539943    79.075432   \nstd      24.637780     3.253561    24.665541     3.023733    24.767819   \nmin      31.161884   -10.105947    31.325922   -14.229393    28.560005   \n25%      65.208897     0.716595    64.160015    -4.468847    62.009989   \n50%      78.402687     2.753472    77.774918    -2.510375    75.437561   \n75%      94.838615     4.810408    93.118820    -0.625247    91.067223   \nmax     219.371109    12.521308   229.869766     7.686097   229.040588   \n\n       mfcc20_mean   mfcc20_var  \ncount  1423.000000  1423.000000  \nmean      1.677588    80.371770  \nstd       3.186344    26.740148  \nmin     -13.992401    28.597084  \n25%      -0.239844    61.936447  \n50%       1.633557    75.101379  \n75%       3.652482    93.510078  \nmax      14.772246   226.710175  \n\n[8 rows x 72 columns]",
      "text/html": "<div>\n<style scoped>\n    .dataframe tbody tr th:only-of-type {\n        vertical-align: middle;\n    }\n\n    .dataframe tbody tr th {\n        vertical-align: top;\n    }\n\n    .dataframe thead th {\n        text-align: right;\n    }\n</style>\n<table border=\"1\" class=\"dataframe\">\n  <thead>\n    <tr style=\"text-align: right;\">\n      <th></th>\n      <th>duration_ms</th>\n      <th>spotify_popularity</th>\n      <th>spotify_artist_popularity_mean</th>\n      <th>danceability</th>\n      <th>energy</th>\n      <th>key</th>\n      <th>loudness</th>\n      <th>mode</th>\n      <th>speechiness</th>\n      <th>acousticness</th>\n      <th>...</th>\n      <th>mfcc16_mean</th>\n      <th>mfcc16_var</th>\n      <th>mfcc17_mean</th>\n      <th>mfcc17_var</th>\n      <th>mfcc18_mean</th>\n      <th>mfcc18_var</th>\n      <th>mfcc19_mean</th>\n      <th>mfcc19_var</th>\n      <th>mfcc20_mean</th>\n      <th>mfcc20_var</th>\n    </tr>\n  </thead>\n  <tbody>\n    <tr>\n      <th>count</th>\n      <td>1423.000000</td>\n      <td>1423.000000</td>\n      <td>1423.000000</td>\n      <td>1423.000000</td>\n      <td>1423.000000</td>\n      <td>1423.000000</td>\n      <td>1423.000000</td>\n      <td>1423.000000</td>\n      <td>1423.000000</td>\n      <td>1423.000000</td>\n      <td>...</td>\n      <td>1423.000000</td>\n      <td>1423.000000</td>\n      <td>1423.000000</td>\n      <td>1423.000000</td>\n      <td>1423.000000</td>\n      <td>1423.000000</td>\n      <td>1423.000000</td>\n      <td>1423.000000</td>\n      <td>1423.000000</td>\n      <td>1423.000000</td>\n    </tr>\n    <tr>\n      <th>mean</th>\n      <td>200696.557976</td>\n      <td>67.404076</td>\n      <td>83.302977</td>\n      <td>0.666045</td>\n      <td>0.622016</td>\n      <td>5.153197</td>\n      <td>-6.747289</td>\n      <td>0.622628</td>\n      <td>0.139837</td>\n      <td>0.223816</td>\n      <td>...</td>\n      <td>2.398114</td>\n      <td>84.513799</td>\n      <td>-3.647905</td>\n      <td>82.115186</td>\n      <td>2.668189</td>\n      <td>80.818220</td>\n      <td>-2.539943</td>\n      <td>79.075432</td>\n      <td>1.677588</td>\n      <td>80.371770</td>\n    </tr>\n    <tr>\n      <th>std</th>\n      <td>50770.975125</td>\n      <td>17.661345</td>\n      <td>12.018877</td>\n      <td>0.151579</td>\n      <td>0.162841</td>\n      <td>3.600340</td>\n      <td>2.579960</td>\n      <td>0.484900</td>\n      <td>0.125819</td>\n      <td>0.253148</td>\n      <td>...</td>\n      <td>3.631675</td>\n      <td>24.471115</td>\n      <td>3.398574</td>\n      <td>24.637780</td>\n      <td>3.253561</td>\n      <td>24.665541</td>\n      <td>3.023733</td>\n      <td>24.767819</td>\n      <td>3.186344</td>\n      <td>26.740148</td>\n    </tr>\n    <tr>\n      <th>min</th>\n      <td>32000.000000</td>\n      <td>0.000000</td>\n      <td>0.000000</td>\n      <td>0.150000</td>\n      <td>0.007600</td>\n      <td>0.000000</td>\n      <td>-33.663000</td>\n      <td>0.000000</td>\n      <td>0.023200</td>\n      <td>0.000003</td>\n      <td>...</td>\n      <td>-13.240079</td>\n      <td>32.670311</td>\n      <td>-18.392536</td>\n      <td>31.161884</td>\n      <td>-10.105947</td>\n      <td>31.325922</td>\n      <td>-14.229393</td>\n      <td>28.560005</td>\n      <td>-13.992401</td>\n      <td>28.597084</td>\n    </tr>\n    <tr>\n      <th>25%</th>\n      <td>170322.000000</td>\n      <td>64.000000</td>\n      <td>78.000000</td>\n      <td>0.570000</td>\n      <td>0.525000</td>\n      <td>1.000000</td>\n      <td>-7.841500</td>\n      <td>0.000000</td>\n      <td>0.042800</td>\n      <td>0.031550</td>\n      <td>...</td>\n      <td>0.246056</td>\n      <td>68.009289</td>\n      <td>-5.805181</td>\n      <td>65.208897</td>\n      <td>0.716595</td>\n      <td>64.160015</td>\n      <td>-4.468847</td>\n      <td>62.009989</td>\n      <td>-0.239844</td>\n      <td>61.936447</td>\n    </tr>\n    <tr>\n      <th>50%</th>\n      <td>195428.000000</td>\n      <td>70.000000</td>\n      <td>86.000000</td>\n      <td>0.680000</td>\n      <td>0.633000</td>\n      <td>5.000000</td>\n      <td>-6.360000</td>\n      <td>1.000000</td>\n      <td>0.079800</td>\n      <td>0.121000</td>\n      <td>...</td>\n      <td>2.442511</td>\n      <td>81.295982</td>\n      <td>-3.595455</td>\n      <td>78.402687</td>\n      <td>2.753472</td>\n      <td>77.774918</td>\n      <td>-2.510375</td>\n      <td>75.437561</td>\n      <td>1.633557</td>\n      <td>75.101379</td>\n    </tr>\n    <tr>\n      <th>75%</th>\n      <td>223599.000000</td>\n      <td>77.000000</td>\n      <td>91.000000</td>\n      <td>0.776000</td>\n      <td>0.733500</td>\n      <td>8.000000</td>\n      <td>-5.077500</td>\n      <td>1.000000</td>\n      <td>0.218000</td>\n      <td>0.321500</td>\n      <td>...</td>\n      <td>4.722763</td>\n      <td>98.500587</td>\n      <td>-1.416037</td>\n      <td>94.838615</td>\n      <td>4.810408</td>\n      <td>93.118820</td>\n      <td>-0.625247</td>\n      <td>91.067223</td>\n      <td>3.652482</td>\n      <td>93.510078</td>\n    </tr>\n    <tr>\n      <th>max</th>\n      <td>613026.000000</td>\n      <td>95.000000</td>\n      <td>100.000000</td>\n      <td>0.965000</td>\n      <td>0.984000</td>\n      <td>11.000000</td>\n      <td>-1.321000</td>\n      <td>1.000000</td>\n      <td>0.699000</td>\n      <td>0.995000</td>\n      <td>...</td>\n      <td>13.629806</td>\n      <td>207.025589</td>\n      <td>6.795540</td>\n      <td>219.371109</td>\n      <td>12.521308</td>\n      <td>229.869766</td>\n      <td>7.686097</td>\n      <td>229.040588</td>\n      <td>14.772246</td>\n      <td>226.710175</td>\n    </tr>\n  </tbody>\n</table>\n<p>8 rows × 72 columns</p>\n</div>"
     },
     "execution_count": 427,
     "metadata": {},
     "output_type": "execute_result"
    }
   ],
   "source": [
    "# print(songs_df.apply(lambda x: x.nunique()))\n",
    "songs_df.describe()"
   ],
   "metadata": {
    "collapsed": false,
    "pycharm": {
     "name": "#%%\n"
    }
   }
  },
  {
   "cell_type": "code",
   "execution_count": 428,
   "outputs": [
    {
     "data": {
      "text/plain": "billboard_name                    0\nduration_ms                       0\nspotify_popularity                0\nspotify_artist_popularity_mean    0\nexplicit                          0\n                                 ..\nmfcc18_var                        0\nmfcc19_mean                       0\nmfcc19_var                        0\nmfcc20_mean                       0\nmfcc20_var                        0\nLength: 75, dtype: int64"
     },
     "execution_count": 428,
     "metadata": {},
     "output_type": "execute_result"
    }
   ],
   "source": [
    "songs_df.isna().sum()"
   ],
   "metadata": {
    "collapsed": false,
    "pycharm": {
     "name": "#%%\n"
    }
   }
  },
  {
   "cell_type": "code",
   "execution_count": 429,
   "outputs": [],
   "source": [
    "songs_df = pd.get_dummies(songs_df, prefix=['explicit'], columns=['explicit'])"
   ],
   "metadata": {
    "collapsed": false,
    "pycharm": {
     "name": "#%%\n"
    }
   }
  },
  {
   "cell_type": "markdown",
   "source": [
    "# Feature Engineering"
   ],
   "metadata": {
    "collapsed": false,
    "pycharm": {
     "name": "#%% md\n"
    }
   }
  },
  {
   "cell_type": "markdown",
   "source": [
    "### I don't know what made me think we need *MORE* features, but here's more features...\n",
    "Some extra feature engineering for spotify's audio analysis object that did't happen during dataset construction."
   ],
   "metadata": {
    "collapsed": false,
    "pycharm": {
     "name": "#%% md\n"
    }
   }
  },
  {
   "cell_type": "code",
   "execution_count": 430,
   "outputs": [],
   "source": [
    "# this code is so slow it hurts me...\n",
    "\n",
    "def spotify_audio_analysis(filename):\n",
    "    file = open(filename)\n",
    "    analysis_json = json.load(file)\n",
    "    file.close()\n",
    "    timbre_coefs = np.arange(13, 1, -1)\n",
    "    bars = analysis_json['bars']\n",
    "    beats = analysis_json['beats']\n",
    "    sections = analysis_json['sections']\n",
    "    segments = analysis_json['segments']\n",
    "    tatums = analysis_json['tatums']\n",
    "\n",
    "    return pd.DataFrame(data={\n",
    "        # \"time_signature\": [analysis_json['track']['time_signature']],\n",
    "        # \"mode\": [analysis_json['track']['mode']],\n",
    "        \"num_bars\": len(bars),\n",
    "        \"mean_bar_duration\": np.mean([b['duration'] for b in bars]),\n",
    "        \"var_bar_duration\": np.var([b['duration'] for b in bars]),\n",
    "        \"num_beats\": len(beats),\n",
    "        \"mean_beat_duration\": np.mean([b['duration'] for b in beats]),\n",
    "        \"var_beat_duration\": np.var([b['duration'] for b in beats]),\n",
    "        \"num_sections\": len(sections),\n",
    "        \"mean_section_duration\": np.mean([s['duration'] for s in sections]),\n",
    "        \"var_section_duration\": np.var([s['duration'] for s in sections]),\n",
    "        \"mean_section_tempo\": np.mean([s['tempo'] for s in sections]),\n",
    "        \"var_section_tempo\": np.var([s['tempo'] for s in sections]),\n",
    "        \"mean_section_loudness\": np.mean([s['loudness'] for s in sections]),\n",
    "        \"var_section_loudness\": np.var([s['loudness'] for s in sections]),\n",
    "        # other section stuff\n",
    "        \"num_segments\": len(segments),\n",
    "        \"mean_segment_duration\": np.mean([s['duration'] for s in segments]),\n",
    "        \"var_segment_duration\": np.var([s['duration'] for s in segments]),\n",
    "        \"mean_segment_loudness_start\": np.mean([s['loudness_start'] for s in segments]),\n",
    "        \"var_segment_loudness_start\": np.var([s['loudness_start'] for s in segments]),\n",
    "        \"mean_segment_loudness_max\": np.mean([s['loudness_max'] for s in segments]),\n",
    "        \"var_segment_loudness_max\": np.var([s['loudness_max'] for s in segments]),\n",
    "        \"mean_segment_loudness_max_time\": np.mean([s['loudness_max_time'] for s in segments]),\n",
    "        \"var_segment_loudness_max_time\": np.var([s['loudness_max_time'] for s in segments]),\n",
    "        \"mean_segment_loudness_end\": np.mean([s['loudness_end'] for s in segments]),\n",
    "        \"var_segment_loudness_end\": np.var([s['loudness_end'] for s in segments]),\n",
    "        \"mean_segment_loudness_start_max_diff\": np.mean([abs(s['loudness_start'] - s['loudness_max']) for s in segments]),\n",
    "        \"var_segment_loudness_start_max_diff\": np.var([abs(s['loudness_start'] - s['loudness_max']) for s in segments]),\n",
    "        \"mean_segment_loudness_start_end_diff\": np.mean([abs(s['loudness_start'] - s['loudness_end']) for s in segments]),\n",
    "        \"var_segment_loudness_start_end_diff\": np.var([abs(s['loudness_start'] - s['loudness_end']) for s in segments]),\n",
    "        \"mean_segment_loudness_max_end_diff\": np.mean([abs(s['loudness_max'] - s['loudness_end']) for s in segments]),\n",
    "        \"var_segment_loudness_max_end_diff\": np.var([abs(s['loudness_max'] - s['loudness_end']) for s in segments]),\n",
    "        \"mean_segment_num_pitches\": np.mean([len(s['pitches']) for s in segments]),\n",
    "        \"var_segment_num_pitches\": np.var([len(s['pitches']) for s in segments]),\n",
    "        \"mean_segment_num_pure_pitches\": np.mean([len(np.array(s['pitches'])[np.array(s['pitches']) > 0.5]) for s in segments]),\n",
    "        \"var_segment_num_pure_pitches\": np.var([len(np.array(s['pitches'])[np.array(s['pitches']) > 0.5]) for s in segments]),\n",
    "        \"mean_segment_timbre\": np.mean([np.dot(s['timbre'], timbre_coefs) for s in segments]),\n",
    "        \"var_segment_timbre\": np.var([np.dot(s['timbre'], timbre_coefs) for s in segments]),\n",
    "        \"num_tatums\": len(tatums),\n",
    "        \"mean_tatum_duration\": np.mean([t['duration'] for t in tatums]),\n",
    "        \"var_tatum_duration\": np.var([t['duration'] for t in tatums]),\n",
    "    }, index=[0])"
   ],
   "metadata": {
    "collapsed": false,
    "pycharm": {
     "name": "#%%\n"
    }
   }
  },
  {
   "cell_type": "markdown",
   "source": [
    "##### This will take a little bit to run"
   ],
   "metadata": {
    "collapsed": false,
    "pycharm": {
     "name": "#%% md\n"
    }
   }
  },
  {
   "cell_type": "code",
   "execution_count": 431,
   "outputs": [],
   "source": [
    "aa = pd.DataFrame()\n",
    "for i in range(len(songs_df)):\n",
    "    aa = pd.concat([aa, spotify_audio_analysis(\"../data/spofity/audio_analysis/\" + spotify_df['audio_analysis_file'].iloc[0])], axis=0)\n",
    "aa.reset_index(inplace=True)\n",
    "songs_df = pd.concat([songs_df, aa], axis=1)\n",
    "songs_df.drop(labels='index', axis=1, inplace=True)"
   ],
   "metadata": {
    "collapsed": false,
    "pycharm": {
     "name": "#%%\n"
    }
   }
  },
  {
   "cell_type": "code",
   "execution_count": 432,
   "outputs": [
    {
     "data": {
      "text/plain": "         duration_ms  spotify_popularity  spotify_artist_popularity_mean  \\\ncount    1423.000000         1423.000000                     1423.000000   \nmean   200696.557976           67.404076                       83.302977   \nstd     50770.975125           17.661345                       12.018877   \nmin     32000.000000            0.000000                        0.000000   \n25%    170322.000000           64.000000                       78.000000   \n50%    195428.000000           70.000000                       86.000000   \n75%    223599.000000           77.000000                       91.000000   \nmax    613026.000000           95.000000                      100.000000   \n\n       danceability       energy          key     loudness         mode  \\\ncount   1423.000000  1423.000000  1423.000000  1423.000000  1423.000000   \nmean       0.666045     0.622016     5.153197    -6.747289     0.622628   \nstd        0.151579     0.162841     3.600340     2.579960     0.484900   \nmin        0.150000     0.007600     0.000000   -33.663000     0.000000   \n25%        0.570000     0.525000     1.000000    -7.841500     0.000000   \n50%        0.680000     0.633000     5.000000    -6.360000     1.000000   \n75%        0.776000     0.733500     8.000000    -5.077500     1.000000   \nmax        0.965000     0.984000    11.000000    -1.321000     1.000000   \n\n       speechiness  acousticness  ...  var_segment_loudness_max_end_diff  \\\ncount  1423.000000   1423.000000  ...                       1.423000e+03   \nmean      0.139837      0.223816  ...                       4.533173e+01   \nstd       0.125819      0.253148  ...                       8.316273e-13   \nmin       0.023200      0.000003  ...                       4.533173e+01   \n25%       0.042800      0.031550  ...                       4.533173e+01   \n50%       0.079800      0.121000  ...                       4.533173e+01   \n75%       0.218000      0.321500  ...                       4.533173e+01   \nmax       0.699000      0.995000  ...                       4.533173e+01   \n\n       mean_segment_num_pitches  var_segment_num_pitches  \\\ncount                    1423.0                   1423.0   \nmean                       12.0                      0.0   \nstd                         0.0                      0.0   \nmin                        12.0                      0.0   \n25%                        12.0                      0.0   \n50%                        12.0                      0.0   \n75%                        12.0                      0.0   \nmax                        12.0                      0.0   \n\n       mean_segment_num_pure_pitches  var_segment_num_pure_pitches  \\\ncount                   1.423000e+03                  1.423000e+03   \nmean                    2.263092e+00                  2.966942e+00   \nstd                     3.331840e-14                  6.663680e-14   \nmin                     2.263092e+00                  2.966942e+00   \n25%                     2.263092e+00                  2.966942e+00   \n50%                     2.263092e+00                  2.966942e+00   \n75%                     2.263092e+00                  2.966942e+00   \nmax                     2.263092e+00                  2.966942e+00   \n\n       mean_segment_timbre  var_segment_timbre  num_tatums  \\\ncount         1.423000e+03        1.423000e+03      1423.0   \nmean          2.754672e+02        3.564690e+05      1106.0   \nstd           3.923575e-12        1.030638e-08         0.0   \nmin           2.754672e+02        3.564690e+05      1106.0   \n25%           2.754672e+02        3.564690e+05      1106.0   \n50%           2.754672e+02        3.564690e+05      1106.0   \n75%           2.754672e+02        3.564690e+05      1106.0   \nmax           2.754672e+02        3.564690e+05      1106.0   \n\n       mean_tatum_duration  var_tatum_duration  \ncount         1.423000e+03        1.423000e+03  \nmean          2.157633e-01        6.160453e-03  \nstd           2.832064e-15        7.201633e-17  \nmin           2.157633e-01        6.160453e-03  \n25%           2.157633e-01        6.160453e-03  \n50%           2.157633e-01        6.160453e-03  \n75%           2.157633e-01        6.160453e-03  \nmax           2.157633e-01        6.160453e-03  \n\n[8 rows x 113 columns]",
      "text/html": "<div>\n<style scoped>\n    .dataframe tbody tr th:only-of-type {\n        vertical-align: middle;\n    }\n\n    .dataframe tbody tr th {\n        vertical-align: top;\n    }\n\n    .dataframe thead th {\n        text-align: right;\n    }\n</style>\n<table border=\"1\" class=\"dataframe\">\n  <thead>\n    <tr style=\"text-align: right;\">\n      <th></th>\n      <th>duration_ms</th>\n      <th>spotify_popularity</th>\n      <th>spotify_artist_popularity_mean</th>\n      <th>danceability</th>\n      <th>energy</th>\n      <th>key</th>\n      <th>loudness</th>\n      <th>mode</th>\n      <th>speechiness</th>\n      <th>acousticness</th>\n      <th>...</th>\n      <th>var_segment_loudness_max_end_diff</th>\n      <th>mean_segment_num_pitches</th>\n      <th>var_segment_num_pitches</th>\n      <th>mean_segment_num_pure_pitches</th>\n      <th>var_segment_num_pure_pitches</th>\n      <th>mean_segment_timbre</th>\n      <th>var_segment_timbre</th>\n      <th>num_tatums</th>\n      <th>mean_tatum_duration</th>\n      <th>var_tatum_duration</th>\n    </tr>\n  </thead>\n  <tbody>\n    <tr>\n      <th>count</th>\n      <td>1423.000000</td>\n      <td>1423.000000</td>\n      <td>1423.000000</td>\n      <td>1423.000000</td>\n      <td>1423.000000</td>\n      <td>1423.000000</td>\n      <td>1423.000000</td>\n      <td>1423.000000</td>\n      <td>1423.000000</td>\n      <td>1423.000000</td>\n      <td>...</td>\n      <td>1.423000e+03</td>\n      <td>1423.0</td>\n      <td>1423.0</td>\n      <td>1.423000e+03</td>\n      <td>1.423000e+03</td>\n      <td>1.423000e+03</td>\n      <td>1.423000e+03</td>\n      <td>1423.0</td>\n      <td>1.423000e+03</td>\n      <td>1.423000e+03</td>\n    </tr>\n    <tr>\n      <th>mean</th>\n      <td>200696.557976</td>\n      <td>67.404076</td>\n      <td>83.302977</td>\n      <td>0.666045</td>\n      <td>0.622016</td>\n      <td>5.153197</td>\n      <td>-6.747289</td>\n      <td>0.622628</td>\n      <td>0.139837</td>\n      <td>0.223816</td>\n      <td>...</td>\n      <td>4.533173e+01</td>\n      <td>12.0</td>\n      <td>0.0</td>\n      <td>2.263092e+00</td>\n      <td>2.966942e+00</td>\n      <td>2.754672e+02</td>\n      <td>3.564690e+05</td>\n      <td>1106.0</td>\n      <td>2.157633e-01</td>\n      <td>6.160453e-03</td>\n    </tr>\n    <tr>\n      <th>std</th>\n      <td>50770.975125</td>\n      <td>17.661345</td>\n      <td>12.018877</td>\n      <td>0.151579</td>\n      <td>0.162841</td>\n      <td>3.600340</td>\n      <td>2.579960</td>\n      <td>0.484900</td>\n      <td>0.125819</td>\n      <td>0.253148</td>\n      <td>...</td>\n      <td>8.316273e-13</td>\n      <td>0.0</td>\n      <td>0.0</td>\n      <td>3.331840e-14</td>\n      <td>6.663680e-14</td>\n      <td>3.923575e-12</td>\n      <td>1.030638e-08</td>\n      <td>0.0</td>\n      <td>2.832064e-15</td>\n      <td>7.201633e-17</td>\n    </tr>\n    <tr>\n      <th>min</th>\n      <td>32000.000000</td>\n      <td>0.000000</td>\n      <td>0.000000</td>\n      <td>0.150000</td>\n      <td>0.007600</td>\n      <td>0.000000</td>\n      <td>-33.663000</td>\n      <td>0.000000</td>\n      <td>0.023200</td>\n      <td>0.000003</td>\n      <td>...</td>\n      <td>4.533173e+01</td>\n      <td>12.0</td>\n      <td>0.0</td>\n      <td>2.263092e+00</td>\n      <td>2.966942e+00</td>\n      <td>2.754672e+02</td>\n      <td>3.564690e+05</td>\n      <td>1106.0</td>\n      <td>2.157633e-01</td>\n      <td>6.160453e-03</td>\n    </tr>\n    <tr>\n      <th>25%</th>\n      <td>170322.000000</td>\n      <td>64.000000</td>\n      <td>78.000000</td>\n      <td>0.570000</td>\n      <td>0.525000</td>\n      <td>1.000000</td>\n      <td>-7.841500</td>\n      <td>0.000000</td>\n      <td>0.042800</td>\n      <td>0.031550</td>\n      <td>...</td>\n      <td>4.533173e+01</td>\n      <td>12.0</td>\n      <td>0.0</td>\n      <td>2.263092e+00</td>\n      <td>2.966942e+00</td>\n      <td>2.754672e+02</td>\n      <td>3.564690e+05</td>\n      <td>1106.0</td>\n      <td>2.157633e-01</td>\n      <td>6.160453e-03</td>\n    </tr>\n    <tr>\n      <th>50%</th>\n      <td>195428.000000</td>\n      <td>70.000000</td>\n      <td>86.000000</td>\n      <td>0.680000</td>\n      <td>0.633000</td>\n      <td>5.000000</td>\n      <td>-6.360000</td>\n      <td>1.000000</td>\n      <td>0.079800</td>\n      <td>0.121000</td>\n      <td>...</td>\n      <td>4.533173e+01</td>\n      <td>12.0</td>\n      <td>0.0</td>\n      <td>2.263092e+00</td>\n      <td>2.966942e+00</td>\n      <td>2.754672e+02</td>\n      <td>3.564690e+05</td>\n      <td>1106.0</td>\n      <td>2.157633e-01</td>\n      <td>6.160453e-03</td>\n    </tr>\n    <tr>\n      <th>75%</th>\n      <td>223599.000000</td>\n      <td>77.000000</td>\n      <td>91.000000</td>\n      <td>0.776000</td>\n      <td>0.733500</td>\n      <td>8.000000</td>\n      <td>-5.077500</td>\n      <td>1.000000</td>\n      <td>0.218000</td>\n      <td>0.321500</td>\n      <td>...</td>\n      <td>4.533173e+01</td>\n      <td>12.0</td>\n      <td>0.0</td>\n      <td>2.263092e+00</td>\n      <td>2.966942e+00</td>\n      <td>2.754672e+02</td>\n      <td>3.564690e+05</td>\n      <td>1106.0</td>\n      <td>2.157633e-01</td>\n      <td>6.160453e-03</td>\n    </tr>\n    <tr>\n      <th>max</th>\n      <td>613026.000000</td>\n      <td>95.000000</td>\n      <td>100.000000</td>\n      <td>0.965000</td>\n      <td>0.984000</td>\n      <td>11.000000</td>\n      <td>-1.321000</td>\n      <td>1.000000</td>\n      <td>0.699000</td>\n      <td>0.995000</td>\n      <td>...</td>\n      <td>4.533173e+01</td>\n      <td>12.0</td>\n      <td>0.0</td>\n      <td>2.263092e+00</td>\n      <td>2.966942e+00</td>\n      <td>2.754672e+02</td>\n      <td>3.564690e+05</td>\n      <td>1106.0</td>\n      <td>2.157633e-01</td>\n      <td>6.160453e-03</td>\n    </tr>\n  </tbody>\n</table>\n<p>8 rows × 113 columns</p>\n</div>"
     },
     "execution_count": 432,
     "metadata": {},
     "output_type": "execute_result"
    }
   ],
   "source": [
    "songs_df.describe()"
   ],
   "metadata": {
    "collapsed": false,
    "pycharm": {
     "name": "#%%\n"
    }
   }
  },
  {
   "cell_type": "markdown",
   "source": [
    "### Testing Different Popularity Metrics"
   ],
   "metadata": {
    "collapsed": false,
    "pycharm": {
     "name": "#%% md\n"
    }
   }
  },
  {
   "cell_type": "code",
   "execution_count": 433,
   "outputs": [],
   "source": [
    "def popularity_metrics(df, score_type='basic'):\n",
    "    metrics = ['peak_rank', 'lifetime_peak_rank', 'debut_rank', 'sensationality', 'avg_rank_score', 'std_rank_score', 'time_on_chart', 'num_occurrences', 'rank_sum', 'skewness', 'kurtosis', 'spotify_popularity']\n",
    "    metric_vals = []\n",
    "\n",
    "    for i in range(len(df)):\n",
    "        song = df.iloc[i]\n",
    "        billboard_entries = billboard_df[billboard_df['title'] == song['billboard_name']].sort_values(by='date')\n",
    "        value_counts = billboard_entries['rank'].value_counts()\n",
    "        ranks = value_counts.index\n",
    "        rank_counts = value_counts.values\n",
    "\n",
    "        # max rank\n",
    "        peak = min(ranks)\n",
    "        if score_type == 'classic':\n",
    "            ranks = [rank_score_classic(peak, ra) for ra in ranks]\n",
    "            scaled = False\n",
    "        elif score_type == 'score_01':\n",
    "            ranks = [rank_score_01(peak, ra) for ra in ranks]\n",
    "            scaled = True\n",
    "        elif score_type == 'score_02':\n",
    "            ranks = [rank_score_02(peak, ra) for ra in ranks]\n",
    "            scaled = True\n",
    "        else:\n",
    "            ranks = [rank_score_basic(ra) for ra in ranks]\n",
    "            scaled = True\n",
    "\n",
    "        # sensationality\n",
    "        sensation = squiggle(rank_counts, ranks, scaled=scaled)\n",
    "\n",
    "        # mean rank\n",
    "        avg_rank = np.mean(ranks)\n",
    "\n",
    "        # rank std\n",
    "        std_rank = np.std(ranks)\n",
    "\n",
    "        # length\n",
    "        time_on_chart = np.max(billboard_entries['weeks'])\n",
    "\n",
    "        # lifetime_peak\n",
    "        lifetime_peak = np.max(billboard_entries['peakPos'])\n",
    "\n",
    "        # debut rank\n",
    "        debut_rank = billboard_entries['rank'].iloc[0]\n",
    "\n",
    "        # number of occurrences\n",
    "        num_occurrences = len(billboard_entries)\n",
    "\n",
    "        rank_sum = sum(ranks)\n",
    "\n",
    "        skewness = skew(ranks)\n",
    "\n",
    "        kurt = kurtosis(ranks)\n",
    "\n",
    "        metric_vals.append([peak, debut_rank, lifetime_peak, sensation, avg_rank, std_rank, time_on_chart, num_occurrences, rank_sum, skewness, kurt, song['spotify_popularity']])\n",
    "\n",
    "    return pd.DataFrame(data=metric_vals, columns=metrics)"
   ],
   "metadata": {
    "collapsed": false,
    "pycharm": {
     "name": "#%%\n"
    }
   }
  },
  {
   "cell_type": "code",
   "execution_count": 434,
   "outputs": [
    {
     "data": {
      "text/plain": "         peak_rank  lifetime_peak_rank   debut_rank  sensationality  \\\ncount  1423.000000         1423.000000  1423.000000     1423.000000   \nmean     50.872804           60.858749    59.452565        0.173917   \nstd      28.872677           28.879139    29.739192        0.264423   \nmin       1.000000            1.000000     1.000000        0.010000   \n25%      26.000000           39.000000    36.500000        0.014492   \n50%      53.000000           66.000000    65.000000        0.040918   \n75%      76.000000           86.000000    86.000000        0.221774   \nmax     100.000000          100.000000   100.000000        1.000000   \n\n       avg_rank_score  std_rank_score  time_on_chart  num_occurrences  \\\ncount     1423.000000     1423.000000     1423.00000      1423.000000   \nmean         0.025285        0.015060        8.41532         7.326072   \nstd          0.031150        0.045298       10.98796         9.710895   \nmin          0.010000        0.000000        1.00000         1.000000   \n25%          0.012616        0.000000        1.00000         1.000000   \n50%          0.015764        0.001422        2.00000         2.000000   \n75%          0.023810        0.008715       14.00000        11.000000   \nmax          0.409608        0.424401       90.00000        87.000000   \n\n          rank_sum     skewness     kurtosis  spotify_popularity  \ncount  1423.000000  1423.000000  1423.000000         1423.000000  \nmean      0.221581     0.450854    -1.188760           67.404076  \nstd       0.485595     0.822457     2.763996           17.661345  \nmin       0.010000    -1.361391    -3.000000            0.000000  \n25%       0.014493     0.000000    -3.000000           64.000000  \n50%       0.040831     0.000000    -2.000000           70.000000  \n75%       0.196657     0.701393    -0.694673           77.000000  \nmax       3.697960     4.800006    22.324941           95.000000  ",
      "text/html": "<div>\n<style scoped>\n    .dataframe tbody tr th:only-of-type {\n        vertical-align: middle;\n    }\n\n    .dataframe tbody tr th {\n        vertical-align: top;\n    }\n\n    .dataframe thead th {\n        text-align: right;\n    }\n</style>\n<table border=\"1\" class=\"dataframe\">\n  <thead>\n    <tr style=\"text-align: right;\">\n      <th></th>\n      <th>peak_rank</th>\n      <th>lifetime_peak_rank</th>\n      <th>debut_rank</th>\n      <th>sensationality</th>\n      <th>avg_rank_score</th>\n      <th>std_rank_score</th>\n      <th>time_on_chart</th>\n      <th>num_occurrences</th>\n      <th>rank_sum</th>\n      <th>skewness</th>\n      <th>kurtosis</th>\n      <th>spotify_popularity</th>\n    </tr>\n  </thead>\n  <tbody>\n    <tr>\n      <th>count</th>\n      <td>1423.000000</td>\n      <td>1423.000000</td>\n      <td>1423.000000</td>\n      <td>1423.000000</td>\n      <td>1423.000000</td>\n      <td>1423.000000</td>\n      <td>1423.00000</td>\n      <td>1423.000000</td>\n      <td>1423.000000</td>\n      <td>1423.000000</td>\n      <td>1423.000000</td>\n      <td>1423.000000</td>\n    </tr>\n    <tr>\n      <th>mean</th>\n      <td>50.872804</td>\n      <td>60.858749</td>\n      <td>59.452565</td>\n      <td>0.173917</td>\n      <td>0.025285</td>\n      <td>0.015060</td>\n      <td>8.41532</td>\n      <td>7.326072</td>\n      <td>0.221581</td>\n      <td>0.450854</td>\n      <td>-1.188760</td>\n      <td>67.404076</td>\n    </tr>\n    <tr>\n      <th>std</th>\n      <td>28.872677</td>\n      <td>28.879139</td>\n      <td>29.739192</td>\n      <td>0.264423</td>\n      <td>0.031150</td>\n      <td>0.045298</td>\n      <td>10.98796</td>\n      <td>9.710895</td>\n      <td>0.485595</td>\n      <td>0.822457</td>\n      <td>2.763996</td>\n      <td>17.661345</td>\n    </tr>\n    <tr>\n      <th>min</th>\n      <td>1.000000</td>\n      <td>1.000000</td>\n      <td>1.000000</td>\n      <td>0.010000</td>\n      <td>0.010000</td>\n      <td>0.000000</td>\n      <td>1.00000</td>\n      <td>1.000000</td>\n      <td>0.010000</td>\n      <td>-1.361391</td>\n      <td>-3.000000</td>\n      <td>0.000000</td>\n    </tr>\n    <tr>\n      <th>25%</th>\n      <td>26.000000</td>\n      <td>39.000000</td>\n      <td>36.500000</td>\n      <td>0.014492</td>\n      <td>0.012616</td>\n      <td>0.000000</td>\n      <td>1.00000</td>\n      <td>1.000000</td>\n      <td>0.014493</td>\n      <td>0.000000</td>\n      <td>-3.000000</td>\n      <td>64.000000</td>\n    </tr>\n    <tr>\n      <th>50%</th>\n      <td>53.000000</td>\n      <td>66.000000</td>\n      <td>65.000000</td>\n      <td>0.040918</td>\n      <td>0.015764</td>\n      <td>0.001422</td>\n      <td>2.00000</td>\n      <td>2.000000</td>\n      <td>0.040831</td>\n      <td>0.000000</td>\n      <td>-2.000000</td>\n      <td>70.000000</td>\n    </tr>\n    <tr>\n      <th>75%</th>\n      <td>76.000000</td>\n      <td>86.000000</td>\n      <td>86.000000</td>\n      <td>0.221774</td>\n      <td>0.023810</td>\n      <td>0.008715</td>\n      <td>14.00000</td>\n      <td>11.000000</td>\n      <td>0.196657</td>\n      <td>0.701393</td>\n      <td>-0.694673</td>\n      <td>77.000000</td>\n    </tr>\n    <tr>\n      <th>max</th>\n      <td>100.000000</td>\n      <td>100.000000</td>\n      <td>100.000000</td>\n      <td>1.000000</td>\n      <td>0.409608</td>\n      <td>0.424401</td>\n      <td>90.00000</td>\n      <td>87.000000</td>\n      <td>3.697960</td>\n      <td>4.800006</td>\n      <td>22.324941</td>\n      <td>95.000000</td>\n    </tr>\n  </tbody>\n</table>\n</div>"
     },
     "execution_count": 434,
     "metadata": {},
     "output_type": "execute_result"
    }
   ],
   "source": [
    "pop_metrics_basic = popularity_metrics(songs_df, 'basic')\n",
    "pop_metrics_basic.describe()"
   ],
   "metadata": {
    "collapsed": false,
    "pycharm": {
     "name": "#%%\n"
    }
   }
  },
  {
   "cell_type": "code",
   "execution_count": 435,
   "outputs": [
    {
     "data": {
      "text/plain": "         peak_rank  lifetime_peak_rank   debut_rank  sensationality  \\\ncount  1423.000000         1423.000000  1423.000000     1423.000000   \nmean     50.872804           60.858749    59.452565      169.471539   \nstd      28.872677           28.879139    29.739192      259.963205   \nmin       1.000000            1.000000     1.000000        1.000000   \n25%      26.000000           39.000000    36.500000        1.000000   \n50%      53.000000           66.000000    65.000000       41.000000   \n75%      76.000000           86.000000    86.000000      268.000000   \nmax     100.000000          100.000000   100.000000     1805.000000   \n\n       avg_rank_score  std_rank_score  time_on_chart  num_occurrences  \\\ncount     1423.000000     1423.000000     1423.00000      1423.000000   \nmean        14.673815        9.749975        8.41532         7.326072   \nstd         15.124559       10.401953       10.98796         9.710895   \nmin          1.000000        0.000000        1.00000         1.000000   \n25%          1.000000        0.000000        1.00000         1.000000   \n50%         10.857143        7.537241        2.00000         2.000000   \n75%         25.657143       17.808576       14.00000        11.000000   \nmax         65.333333       40.000000       90.00000        87.000000   \n\n         rank_sum     skewness     kurtosis  spotify_popularity  \ncount  1423.00000  1423.000000  1423.000000         1423.000000  \nmean    146.21785     0.032422    -1.819822           67.404076  \nstd     217.31022     0.468476     1.306573           17.661345  \nmin       1.00000    -2.398583    -3.000000            0.000000  \n25%       1.00000     0.000000    -3.000000           64.000000  \n50%      38.00000     0.000000    -2.000000           70.000000  \n75%     232.00000     0.000000    -1.025932           77.000000  \nmax    1252.00000     2.719581     7.127719           95.000000  ",
      "text/html": "<div>\n<style scoped>\n    .dataframe tbody tr th:only-of-type {\n        vertical-align: middle;\n    }\n\n    .dataframe tbody tr th {\n        vertical-align: top;\n    }\n\n    .dataframe thead th {\n        text-align: right;\n    }\n</style>\n<table border=\"1\" class=\"dataframe\">\n  <thead>\n    <tr style=\"text-align: right;\">\n      <th></th>\n      <th>peak_rank</th>\n      <th>lifetime_peak_rank</th>\n      <th>debut_rank</th>\n      <th>sensationality</th>\n      <th>avg_rank_score</th>\n      <th>std_rank_score</th>\n      <th>time_on_chart</th>\n      <th>num_occurrences</th>\n      <th>rank_sum</th>\n      <th>skewness</th>\n      <th>kurtosis</th>\n      <th>spotify_popularity</th>\n    </tr>\n  </thead>\n  <tbody>\n    <tr>\n      <th>count</th>\n      <td>1423.000000</td>\n      <td>1423.000000</td>\n      <td>1423.000000</td>\n      <td>1423.000000</td>\n      <td>1423.000000</td>\n      <td>1423.000000</td>\n      <td>1423.00000</td>\n      <td>1423.000000</td>\n      <td>1423.00000</td>\n      <td>1423.000000</td>\n      <td>1423.000000</td>\n      <td>1423.000000</td>\n    </tr>\n    <tr>\n      <th>mean</th>\n      <td>50.872804</td>\n      <td>60.858749</td>\n      <td>59.452565</td>\n      <td>169.471539</td>\n      <td>14.673815</td>\n      <td>9.749975</td>\n      <td>8.41532</td>\n      <td>7.326072</td>\n      <td>146.21785</td>\n      <td>0.032422</td>\n      <td>-1.819822</td>\n      <td>67.404076</td>\n    </tr>\n    <tr>\n      <th>std</th>\n      <td>28.872677</td>\n      <td>28.879139</td>\n      <td>29.739192</td>\n      <td>259.963205</td>\n      <td>15.124559</td>\n      <td>10.401953</td>\n      <td>10.98796</td>\n      <td>9.710895</td>\n      <td>217.31022</td>\n      <td>0.468476</td>\n      <td>1.306573</td>\n      <td>17.661345</td>\n    </tr>\n    <tr>\n      <th>min</th>\n      <td>1.000000</td>\n      <td>1.000000</td>\n      <td>1.000000</td>\n      <td>1.000000</td>\n      <td>1.000000</td>\n      <td>0.000000</td>\n      <td>1.00000</td>\n      <td>1.000000</td>\n      <td>1.00000</td>\n      <td>-2.398583</td>\n      <td>-3.000000</td>\n      <td>0.000000</td>\n    </tr>\n    <tr>\n      <th>25%</th>\n      <td>26.000000</td>\n      <td>39.000000</td>\n      <td>36.500000</td>\n      <td>1.000000</td>\n      <td>1.000000</td>\n      <td>0.000000</td>\n      <td>1.00000</td>\n      <td>1.000000</td>\n      <td>1.00000</td>\n      <td>0.000000</td>\n      <td>-3.000000</td>\n      <td>64.000000</td>\n    </tr>\n    <tr>\n      <th>50%</th>\n      <td>53.000000</td>\n      <td>66.000000</td>\n      <td>65.000000</td>\n      <td>41.000000</td>\n      <td>10.857143</td>\n      <td>7.537241</td>\n      <td>2.00000</td>\n      <td>2.000000</td>\n      <td>38.00000</td>\n      <td>0.000000</td>\n      <td>-2.000000</td>\n      <td>70.000000</td>\n    </tr>\n    <tr>\n      <th>75%</th>\n      <td>76.000000</td>\n      <td>86.000000</td>\n      <td>86.000000</td>\n      <td>268.000000</td>\n      <td>25.657143</td>\n      <td>17.808576</td>\n      <td>14.00000</td>\n      <td>11.000000</td>\n      <td>232.00000</td>\n      <td>0.000000</td>\n      <td>-1.025932</td>\n      <td>77.000000</td>\n    </tr>\n    <tr>\n      <th>max</th>\n      <td>100.000000</td>\n      <td>100.000000</td>\n      <td>100.000000</td>\n      <td>1805.000000</td>\n      <td>65.333333</td>\n      <td>40.000000</td>\n      <td>90.00000</td>\n      <td>87.000000</td>\n      <td>1252.00000</td>\n      <td>2.719581</td>\n      <td>7.127719</td>\n      <td>95.000000</td>\n    </tr>\n  </tbody>\n</table>\n</div>"
     },
     "execution_count": 435,
     "metadata": {},
     "output_type": "execute_result"
    }
   ],
   "source": [
    "pop_metrics_classic = popularity_metrics(songs_df, 'classic')\n",
    "pop_metrics_classic.describe()"
   ],
   "metadata": {
    "collapsed": false,
    "pycharm": {
     "name": "#%%\n"
    }
   }
  },
  {
   "cell_type": "code",
   "execution_count": 436,
   "outputs": [
    {
     "data": {
      "text/plain": "         peak_rank  lifetime_peak_rank   debut_rank  sensationality  \\\ncount  1423.000000         1423.000000  1423.000000     1423.000000   \nmean     50.872804           60.858749    59.452565        0.900328   \nstd      28.872677           28.879139    29.739192        0.108910   \nmin       1.000000            1.000000     1.000000        0.770033   \n25%      26.000000           39.000000    36.500000        0.773848   \n50%      53.000000           66.000000    65.000000        0.970869   \n75%      76.000000           86.000000    86.000000        1.000000   \nmax     100.000000          100.000000   100.000000        1.000000   \n\n       avg_rank_score  std_rank_score  time_on_chart  num_occurrences  \\\ncount     1423.000000     1423.000000     1423.00000      1423.000000   \nmean         1.780139        0.575463        8.41532         7.326072   \nstd          4.671507        3.534214       10.98796         9.710895   \nmin          1.020408        0.000000        1.00000         1.000000   \n25%          1.026667        0.000000        1.00000         1.000000   \n50%          1.036364        0.001515        2.00000         2.000000   \n75%          1.066667        0.009947       14.00000        11.000000   \nmax         65.333333       37.124415       90.00000        87.000000   \n\n          rank_sum     skewness     kurtosis  spotify_popularity  \ncount  1423.000000  1423.000000  1423.000000         1423.000000  \nmean     17.299562     0.415488    -1.320215           67.404076  \nstd      73.512941     0.762767     2.497012           17.661345  \nmin       1.020408    -1.360677    -3.000000            0.000000  \n25%       1.029851     0.000000    -3.000000           64.000000  \n50%       2.103609     0.000000    -2.000000           70.000000  \n75%      10.965784     0.687990    -0.715733           77.000000  \nmax     927.000000     4.636364    21.196639           95.000000  ",
      "text/html": "<div>\n<style scoped>\n    .dataframe tbody tr th:only-of-type {\n        vertical-align: middle;\n    }\n\n    .dataframe tbody tr th {\n        vertical-align: top;\n    }\n\n    .dataframe thead th {\n        text-align: right;\n    }\n</style>\n<table border=\"1\" class=\"dataframe\">\n  <thead>\n    <tr style=\"text-align: right;\">\n      <th></th>\n      <th>peak_rank</th>\n      <th>lifetime_peak_rank</th>\n      <th>debut_rank</th>\n      <th>sensationality</th>\n      <th>avg_rank_score</th>\n      <th>std_rank_score</th>\n      <th>time_on_chart</th>\n      <th>num_occurrences</th>\n      <th>rank_sum</th>\n      <th>skewness</th>\n      <th>kurtosis</th>\n      <th>spotify_popularity</th>\n    </tr>\n  </thead>\n  <tbody>\n    <tr>\n      <th>count</th>\n      <td>1423.000000</td>\n      <td>1423.000000</td>\n      <td>1423.000000</td>\n      <td>1423.000000</td>\n      <td>1423.000000</td>\n      <td>1423.000000</td>\n      <td>1423.00000</td>\n      <td>1423.000000</td>\n      <td>1423.000000</td>\n      <td>1423.000000</td>\n      <td>1423.000000</td>\n      <td>1423.000000</td>\n    </tr>\n    <tr>\n      <th>mean</th>\n      <td>50.872804</td>\n      <td>60.858749</td>\n      <td>59.452565</td>\n      <td>0.900328</td>\n      <td>1.780139</td>\n      <td>0.575463</td>\n      <td>8.41532</td>\n      <td>7.326072</td>\n      <td>17.299562</td>\n      <td>0.415488</td>\n      <td>-1.320215</td>\n      <td>67.404076</td>\n    </tr>\n    <tr>\n      <th>std</th>\n      <td>28.872677</td>\n      <td>28.879139</td>\n      <td>29.739192</td>\n      <td>0.108910</td>\n      <td>4.671507</td>\n      <td>3.534214</td>\n      <td>10.98796</td>\n      <td>9.710895</td>\n      <td>73.512941</td>\n      <td>0.762767</td>\n      <td>2.497012</td>\n      <td>17.661345</td>\n    </tr>\n    <tr>\n      <th>min</th>\n      <td>1.000000</td>\n      <td>1.000000</td>\n      <td>1.000000</td>\n      <td>0.770033</td>\n      <td>1.020408</td>\n      <td>0.000000</td>\n      <td>1.00000</td>\n      <td>1.000000</td>\n      <td>1.020408</td>\n      <td>-1.360677</td>\n      <td>-3.000000</td>\n      <td>0.000000</td>\n    </tr>\n    <tr>\n      <th>25%</th>\n      <td>26.000000</td>\n      <td>39.000000</td>\n      <td>36.500000</td>\n      <td>0.773848</td>\n      <td>1.026667</td>\n      <td>0.000000</td>\n      <td>1.00000</td>\n      <td>1.000000</td>\n      <td>1.029851</td>\n      <td>0.000000</td>\n      <td>-3.000000</td>\n      <td>64.000000</td>\n    </tr>\n    <tr>\n      <th>50%</th>\n      <td>53.000000</td>\n      <td>66.000000</td>\n      <td>65.000000</td>\n      <td>0.970869</td>\n      <td>1.036364</td>\n      <td>0.001515</td>\n      <td>2.00000</td>\n      <td>2.000000</td>\n      <td>2.103609</td>\n      <td>0.000000</td>\n      <td>-2.000000</td>\n      <td>70.000000</td>\n    </tr>\n    <tr>\n      <th>75%</th>\n      <td>76.000000</td>\n      <td>86.000000</td>\n      <td>86.000000</td>\n      <td>1.000000</td>\n      <td>1.066667</td>\n      <td>0.009947</td>\n      <td>14.00000</td>\n      <td>11.000000</td>\n      <td>10.965784</td>\n      <td>0.687990</td>\n      <td>-0.715733</td>\n      <td>77.000000</td>\n    </tr>\n    <tr>\n      <th>max</th>\n      <td>100.000000</td>\n      <td>100.000000</td>\n      <td>100.000000</td>\n      <td>1.000000</td>\n      <td>65.333333</td>\n      <td>37.124415</td>\n      <td>90.00000</td>\n      <td>87.000000</td>\n      <td>927.000000</td>\n      <td>4.636364</td>\n      <td>21.196639</td>\n      <td>95.000000</td>\n    </tr>\n  </tbody>\n</table>\n</div>"
     },
     "execution_count": 436,
     "metadata": {},
     "output_type": "execute_result"
    }
   ],
   "source": [
    "pop_metrics_score_01 = popularity_metrics(songs_df, 'score_01')\n",
    "pop_metrics_score_01.describe()"
   ],
   "metadata": {
    "collapsed": false,
    "pycharm": {
     "name": "#%%\n"
    }
   }
  },
  {
   "cell_type": "code",
   "execution_count": 437,
   "outputs": [
    {
     "data": {
      "text/plain": "         peak_rank  lifetime_peak_rank   debut_rank  sensationality  \\\ncount  1423.000000         1423.000000  1423.000000     1423.000000   \nmean     50.872804           60.858749    59.452565        0.132618   \nstd      28.872677           28.879139    29.739192        0.239601   \nmin       1.000000            1.000000     1.000000        0.005025   \n25%      26.000000           39.000000    36.500000        0.007299   \n50%      53.000000           66.000000    65.000000        0.022614   \n75%      76.000000           86.000000    86.000000        0.135852   \nmax     100.000000          100.000000   100.000000        1.000000   \n\n       avg_rank_score  std_rank_score  time_on_chart  num_occurrences  \\\ncount     1423.000000     1423.000000     1423.00000      1423.000000   \nmean         0.016987        0.011042        8.41532         7.326072   \nstd          0.030406        0.043514       10.98796         9.710895   \nmin          0.005025        0.000000        1.00000         1.000000   \n25%          0.006536        0.000000        1.00000         1.000000   \n50%          0.008691        0.000406        2.00000         2.000000   \n75%          0.014067        0.003357       14.00000        11.000000   \nmax          0.409608        0.424401       90.00000        87.000000   \n\n          rank_sum     skewness     kurtosis  spotify_popularity  \ncount  1423.000000  1423.000000  1423.000000         1423.000000  \nmean      0.169956     0.345212    -1.374249           67.404076  \nstd       0.450653     0.750308     2.464867           17.661345  \nmin       0.005025    -1.474878    -3.000000            0.000000  \n25%       0.007299     0.000000    -3.000000           64.000000  \n50%       0.022286     0.000000    -2.000000           70.000000  \n75%       0.120634     0.470999    -0.873880           77.000000  \nmax       3.697960     4.443465    19.928467           95.000000  ",
      "text/html": "<div>\n<style scoped>\n    .dataframe tbody tr th:only-of-type {\n        vertical-align: middle;\n    }\n\n    .dataframe tbody tr th {\n        vertical-align: top;\n    }\n\n    .dataframe thead th {\n        text-align: right;\n    }\n</style>\n<table border=\"1\" class=\"dataframe\">\n  <thead>\n    <tr style=\"text-align: right;\">\n      <th></th>\n      <th>peak_rank</th>\n      <th>lifetime_peak_rank</th>\n      <th>debut_rank</th>\n      <th>sensationality</th>\n      <th>avg_rank_score</th>\n      <th>std_rank_score</th>\n      <th>time_on_chart</th>\n      <th>num_occurrences</th>\n      <th>rank_sum</th>\n      <th>skewness</th>\n      <th>kurtosis</th>\n      <th>spotify_popularity</th>\n    </tr>\n  </thead>\n  <tbody>\n    <tr>\n      <th>count</th>\n      <td>1423.000000</td>\n      <td>1423.000000</td>\n      <td>1423.000000</td>\n      <td>1423.000000</td>\n      <td>1423.000000</td>\n      <td>1423.000000</td>\n      <td>1423.00000</td>\n      <td>1423.000000</td>\n      <td>1423.000000</td>\n      <td>1423.000000</td>\n      <td>1423.000000</td>\n      <td>1423.000000</td>\n    </tr>\n    <tr>\n      <th>mean</th>\n      <td>50.872804</td>\n      <td>60.858749</td>\n      <td>59.452565</td>\n      <td>0.132618</td>\n      <td>0.016987</td>\n      <td>0.011042</td>\n      <td>8.41532</td>\n      <td>7.326072</td>\n      <td>0.169956</td>\n      <td>0.345212</td>\n      <td>-1.374249</td>\n      <td>67.404076</td>\n    </tr>\n    <tr>\n      <th>std</th>\n      <td>28.872677</td>\n      <td>28.879139</td>\n      <td>29.739192</td>\n      <td>0.239601</td>\n      <td>0.030406</td>\n      <td>0.043514</td>\n      <td>10.98796</td>\n      <td>9.710895</td>\n      <td>0.450653</td>\n      <td>0.750308</td>\n      <td>2.464867</td>\n      <td>17.661345</td>\n    </tr>\n    <tr>\n      <th>min</th>\n      <td>1.000000</td>\n      <td>1.000000</td>\n      <td>1.000000</td>\n      <td>0.005025</td>\n      <td>0.005025</td>\n      <td>0.000000</td>\n      <td>1.00000</td>\n      <td>1.000000</td>\n      <td>0.005025</td>\n      <td>-1.474878</td>\n      <td>-3.000000</td>\n      <td>0.000000</td>\n    </tr>\n    <tr>\n      <th>25%</th>\n      <td>26.000000</td>\n      <td>39.000000</td>\n      <td>36.500000</td>\n      <td>0.007299</td>\n      <td>0.006536</td>\n      <td>0.000000</td>\n      <td>1.00000</td>\n      <td>1.000000</td>\n      <td>0.007299</td>\n      <td>0.000000</td>\n      <td>-3.000000</td>\n      <td>64.000000</td>\n    </tr>\n    <tr>\n      <th>50%</th>\n      <td>53.000000</td>\n      <td>66.000000</td>\n      <td>65.000000</td>\n      <td>0.022614</td>\n      <td>0.008691</td>\n      <td>0.000406</td>\n      <td>2.00000</td>\n      <td>2.000000</td>\n      <td>0.022286</td>\n      <td>0.000000</td>\n      <td>-2.000000</td>\n      <td>70.000000</td>\n    </tr>\n    <tr>\n      <th>75%</th>\n      <td>76.000000</td>\n      <td>86.000000</td>\n      <td>86.000000</td>\n      <td>0.135852</td>\n      <td>0.014067</td>\n      <td>0.003357</td>\n      <td>14.00000</td>\n      <td>11.000000</td>\n      <td>0.120634</td>\n      <td>0.470999</td>\n      <td>-0.873880</td>\n      <td>77.000000</td>\n    </tr>\n    <tr>\n      <th>max</th>\n      <td>100.000000</td>\n      <td>100.000000</td>\n      <td>100.000000</td>\n      <td>1.000000</td>\n      <td>0.409608</td>\n      <td>0.424401</td>\n      <td>90.00000</td>\n      <td>87.000000</td>\n      <td>3.697960</td>\n      <td>4.443465</td>\n      <td>19.928467</td>\n      <td>95.000000</td>\n    </tr>\n  </tbody>\n</table>\n</div>"
     },
     "execution_count": 437,
     "metadata": {},
     "output_type": "execute_result"
    }
   ],
   "source": [
    "pop_metrics_score_02 = popularity_metrics(songs_df, 'score_02')\n",
    "pop_metrics_score_02.describe()"
   ],
   "metadata": {
    "collapsed": false,
    "pycharm": {
     "name": "#%%\n"
    }
   }
  },
  {
   "cell_type": "code",
   "execution_count": 438,
   "outputs": [
    {
     "data": {
      "text/plain": "      duration_ms  danceability    energy       key  loudness      mode  \\\n0        0.796196     -2.178146  0.030618  0.513133 -0.277509  0.778521   \n1       -1.466521     -0.508462 -0.921567  0.790982 -0.776142  0.778521   \n2       -1.373778      0.580463 -1.216437 -0.876113 -0.665248  0.778521   \n3       -1.283932      0.111895 -1.517450 -1.431812 -2.446135  0.778521   \n4        0.287341      0.191090  0.859939 -1.431812  1.260264  0.778521   \n...           ...           ...       ...       ...       ...       ...   \n1418     0.607892     -0.567858  1.025804 -1.153963  0.709287 -1.284487   \n1419     0.424180      0.336280 -1.093574 -1.153963 -1.697798  0.778521   \n1420    -0.596684      0.098696 -0.614410 -0.042566 -0.772652 -1.284487   \n1421     0.005151      1.379008 -0.884708  0.513133 -1.479113  0.778521   \n1422    -0.843427      1.240417  1.130237  1.624529 -0.587313 -1.284487   \n\n      speechiness  acousticness  instrumentalness  liveness  ...  \\\n0       -0.806495     -0.236372         -0.153169 -0.839151  ...   \n1       -0.712676      1.541868         -0.153169  2.511305  ...   \n2       -0.823191      1.656466         -0.153169 -0.882363  ...   \n3       -0.870895      1.403561         -0.153169 -0.799026  ...   \n4       -0.797749     -0.125726         -0.126556 -0.719547  ...   \n...           ...           ...               ...       ...  ...   \n1418    -0.748454     -0.714917         -0.153169 -0.258879  ...   \n1419     0.319326     -0.806990         -0.149733 -0.505803  ...   \n1420     1.297263     -0.808966         -0.153169  1.816830  ...   \n1421     0.621453     -0.856109         -0.153169 -0.251162  ...   \n1422    -0.407369     -0.801853          0.437993 -0.843009  ...   \n\n      var_segment_loudness_max_end_diff  mean_segment_num_pitches  \\\n0                                   1.0                       0.0   \n1                                   1.0                       0.0   \n2                                   1.0                       0.0   \n3                                   1.0                       0.0   \n4                                   1.0                       0.0   \n...                                 ...                       ...   \n1418                                1.0                       0.0   \n1419                                1.0                       0.0   \n1420                                1.0                       0.0   \n1421                                1.0                       0.0   \n1422                                1.0                       0.0   \n\n      var_segment_num_pitches  mean_segment_num_pure_pitches  \\\n0                         0.0                            0.0   \n1                         0.0                            0.0   \n2                         0.0                            0.0   \n3                         0.0                            0.0   \n4                         0.0                            0.0   \n...                       ...                            ...   \n1418                      0.0                            0.0   \n1419                      0.0                            0.0   \n1420                      0.0                            0.0   \n1421                      0.0                            0.0   \n1422                      0.0                            0.0   \n\n      var_segment_num_pure_pitches  mean_segment_timbre  var_segment_timbre  \\\n0                             -1.0                  1.0                -1.0   \n1                             -1.0                  1.0                -1.0   \n2                             -1.0                  1.0                -1.0   \n3                             -1.0                  1.0                -1.0   \n4                             -1.0                  1.0                -1.0   \n...                            ...                  ...                 ...   \n1418                          -1.0                  1.0                -1.0   \n1419                          -1.0                  1.0                -1.0   \n1420                          -1.0                  1.0                -1.0   \n1421                          -1.0                  1.0                -1.0   \n1422                          -1.0                  1.0                -1.0   \n\n      num_tatums  mean_tatum_duration  var_tatum_duration  \n0            0.0                 -1.0                 1.0  \n1            0.0                 -1.0                 1.0  \n2            0.0                 -1.0                 1.0  \n3            0.0                 -1.0                 1.0  \n4            0.0                 -1.0                 1.0  \n...          ...                  ...                 ...  \n1418         0.0                 -1.0                 1.0  \n1419         0.0                 -1.0                 1.0  \n1420         0.0                 -1.0                 1.0  \n1421         0.0                 -1.0                 1.0  \n1422         0.0                 -1.0                 1.0  \n\n[1423 rows x 111 columns]",
      "text/html": "<div>\n<style scoped>\n    .dataframe tbody tr th:only-of-type {\n        vertical-align: middle;\n    }\n\n    .dataframe tbody tr th {\n        vertical-align: top;\n    }\n\n    .dataframe thead th {\n        text-align: right;\n    }\n</style>\n<table border=\"1\" class=\"dataframe\">\n  <thead>\n    <tr style=\"text-align: right;\">\n      <th></th>\n      <th>duration_ms</th>\n      <th>danceability</th>\n      <th>energy</th>\n      <th>key</th>\n      <th>loudness</th>\n      <th>mode</th>\n      <th>speechiness</th>\n      <th>acousticness</th>\n      <th>instrumentalness</th>\n      <th>liveness</th>\n      <th>...</th>\n      <th>var_segment_loudness_max_end_diff</th>\n      <th>mean_segment_num_pitches</th>\n      <th>var_segment_num_pitches</th>\n      <th>mean_segment_num_pure_pitches</th>\n      <th>var_segment_num_pure_pitches</th>\n      <th>mean_segment_timbre</th>\n      <th>var_segment_timbre</th>\n      <th>num_tatums</th>\n      <th>mean_tatum_duration</th>\n      <th>var_tatum_duration</th>\n    </tr>\n  </thead>\n  <tbody>\n    <tr>\n      <th>0</th>\n      <td>0.796196</td>\n      <td>-2.178146</td>\n      <td>0.030618</td>\n      <td>0.513133</td>\n      <td>-0.277509</td>\n      <td>0.778521</td>\n      <td>-0.806495</td>\n      <td>-0.236372</td>\n      <td>-0.153169</td>\n      <td>-0.839151</td>\n      <td>...</td>\n      <td>1.0</td>\n      <td>0.0</td>\n      <td>0.0</td>\n      <td>0.0</td>\n      <td>-1.0</td>\n      <td>1.0</td>\n      <td>-1.0</td>\n      <td>0.0</td>\n      <td>-1.0</td>\n      <td>1.0</td>\n    </tr>\n    <tr>\n      <th>1</th>\n      <td>-1.466521</td>\n      <td>-0.508462</td>\n      <td>-0.921567</td>\n      <td>0.790982</td>\n      <td>-0.776142</td>\n      <td>0.778521</td>\n      <td>-0.712676</td>\n      <td>1.541868</td>\n      <td>-0.153169</td>\n      <td>2.511305</td>\n      <td>...</td>\n      <td>1.0</td>\n      <td>0.0</td>\n      <td>0.0</td>\n      <td>0.0</td>\n      <td>-1.0</td>\n      <td>1.0</td>\n      <td>-1.0</td>\n      <td>0.0</td>\n      <td>-1.0</td>\n      <td>1.0</td>\n    </tr>\n    <tr>\n      <th>2</th>\n      <td>-1.373778</td>\n      <td>0.580463</td>\n      <td>-1.216437</td>\n      <td>-0.876113</td>\n      <td>-0.665248</td>\n      <td>0.778521</td>\n      <td>-0.823191</td>\n      <td>1.656466</td>\n      <td>-0.153169</td>\n      <td>-0.882363</td>\n      <td>...</td>\n      <td>1.0</td>\n      <td>0.0</td>\n      <td>0.0</td>\n      <td>0.0</td>\n      <td>-1.0</td>\n      <td>1.0</td>\n      <td>-1.0</td>\n      <td>0.0</td>\n      <td>-1.0</td>\n      <td>1.0</td>\n    </tr>\n    <tr>\n      <th>3</th>\n      <td>-1.283932</td>\n      <td>0.111895</td>\n      <td>-1.517450</td>\n      <td>-1.431812</td>\n      <td>-2.446135</td>\n      <td>0.778521</td>\n      <td>-0.870895</td>\n      <td>1.403561</td>\n      <td>-0.153169</td>\n      <td>-0.799026</td>\n      <td>...</td>\n      <td>1.0</td>\n      <td>0.0</td>\n      <td>0.0</td>\n      <td>0.0</td>\n      <td>-1.0</td>\n      <td>1.0</td>\n      <td>-1.0</td>\n      <td>0.0</td>\n      <td>-1.0</td>\n      <td>1.0</td>\n    </tr>\n    <tr>\n      <th>4</th>\n      <td>0.287341</td>\n      <td>0.191090</td>\n      <td>0.859939</td>\n      <td>-1.431812</td>\n      <td>1.260264</td>\n      <td>0.778521</td>\n      <td>-0.797749</td>\n      <td>-0.125726</td>\n      <td>-0.126556</td>\n      <td>-0.719547</td>\n      <td>...</td>\n      <td>1.0</td>\n      <td>0.0</td>\n      <td>0.0</td>\n      <td>0.0</td>\n      <td>-1.0</td>\n      <td>1.0</td>\n      <td>-1.0</td>\n      <td>0.0</td>\n      <td>-1.0</td>\n      <td>1.0</td>\n    </tr>\n    <tr>\n      <th>...</th>\n      <td>...</td>\n      <td>...</td>\n      <td>...</td>\n      <td>...</td>\n      <td>...</td>\n      <td>...</td>\n      <td>...</td>\n      <td>...</td>\n      <td>...</td>\n      <td>...</td>\n      <td>...</td>\n      <td>...</td>\n      <td>...</td>\n      <td>...</td>\n      <td>...</td>\n      <td>...</td>\n      <td>...</td>\n      <td>...</td>\n      <td>...</td>\n      <td>...</td>\n      <td>...</td>\n    </tr>\n    <tr>\n      <th>1418</th>\n      <td>0.607892</td>\n      <td>-0.567858</td>\n      <td>1.025804</td>\n      <td>-1.153963</td>\n      <td>0.709287</td>\n      <td>-1.284487</td>\n      <td>-0.748454</td>\n      <td>-0.714917</td>\n      <td>-0.153169</td>\n      <td>-0.258879</td>\n      <td>...</td>\n      <td>1.0</td>\n      <td>0.0</td>\n      <td>0.0</td>\n      <td>0.0</td>\n      <td>-1.0</td>\n      <td>1.0</td>\n      <td>-1.0</td>\n      <td>0.0</td>\n      <td>-1.0</td>\n      <td>1.0</td>\n    </tr>\n    <tr>\n      <th>1419</th>\n      <td>0.424180</td>\n      <td>0.336280</td>\n      <td>-1.093574</td>\n      <td>-1.153963</td>\n      <td>-1.697798</td>\n      <td>0.778521</td>\n      <td>0.319326</td>\n      <td>-0.806990</td>\n      <td>-0.149733</td>\n      <td>-0.505803</td>\n      <td>...</td>\n      <td>1.0</td>\n      <td>0.0</td>\n      <td>0.0</td>\n      <td>0.0</td>\n      <td>-1.0</td>\n      <td>1.0</td>\n      <td>-1.0</td>\n      <td>0.0</td>\n      <td>-1.0</td>\n      <td>1.0</td>\n    </tr>\n    <tr>\n      <th>1420</th>\n      <td>-0.596684</td>\n      <td>0.098696</td>\n      <td>-0.614410</td>\n      <td>-0.042566</td>\n      <td>-0.772652</td>\n      <td>-1.284487</td>\n      <td>1.297263</td>\n      <td>-0.808966</td>\n      <td>-0.153169</td>\n      <td>1.816830</td>\n      <td>...</td>\n      <td>1.0</td>\n      <td>0.0</td>\n      <td>0.0</td>\n      <td>0.0</td>\n      <td>-1.0</td>\n      <td>1.0</td>\n      <td>-1.0</td>\n      <td>0.0</td>\n      <td>-1.0</td>\n      <td>1.0</td>\n    </tr>\n    <tr>\n      <th>1421</th>\n      <td>0.005151</td>\n      <td>1.379008</td>\n      <td>-0.884708</td>\n      <td>0.513133</td>\n      <td>-1.479113</td>\n      <td>0.778521</td>\n      <td>0.621453</td>\n      <td>-0.856109</td>\n      <td>-0.153169</td>\n      <td>-0.251162</td>\n      <td>...</td>\n      <td>1.0</td>\n      <td>0.0</td>\n      <td>0.0</td>\n      <td>0.0</td>\n      <td>-1.0</td>\n      <td>1.0</td>\n      <td>-1.0</td>\n      <td>0.0</td>\n      <td>-1.0</td>\n      <td>1.0</td>\n    </tr>\n    <tr>\n      <th>1422</th>\n      <td>-0.843427</td>\n      <td>1.240417</td>\n      <td>1.130237</td>\n      <td>1.624529</td>\n      <td>-0.587313</td>\n      <td>-1.284487</td>\n      <td>-0.407369</td>\n      <td>-0.801853</td>\n      <td>0.437993</td>\n      <td>-0.843009</td>\n      <td>...</td>\n      <td>1.0</td>\n      <td>0.0</td>\n      <td>0.0</td>\n      <td>0.0</td>\n      <td>-1.0</td>\n      <td>1.0</td>\n      <td>-1.0</td>\n      <td>0.0</td>\n      <td>-1.0</td>\n      <td>1.0</td>\n    </tr>\n  </tbody>\n</table>\n<p>1423 rows × 111 columns</p>\n</div>"
     },
     "execution_count": 438,
     "metadata": {},
     "output_type": "execute_result"
    }
   ],
   "source": [
    "data_df = songs_df.copy()\n",
    "song_billboard_names = data_df.pop('billboard_name')\n",
    "song_audio_analysis_files = data_df.pop('audio_analysis_file')\n",
    "data_df.drop(labels=['spotify_popularity', 'spotify_artist_popularity_mean'], axis=1, inplace=True)\n",
    "data_df[data_df.columns] = StandardScaler().fit_transform(data_df)\n",
    "data_df"
   ],
   "metadata": {
    "collapsed": false,
    "pycharm": {
     "name": "#%%\n"
    }
   }
  },
  {
   "cell_type": "code",
   "execution_count": 439,
   "outputs": [
    {
     "data": {
      "text/plain": "      peak_rank  lifetime_peak_rank  debut_rank  sensationality  \\\n0     -1.727943           -2.073462   -1.966197        3.125194   \n1     -1.693296           -2.038823    0.792076        3.121257   \n2     -1.658649           -2.004183   -1.898922        3.053779   \n3     -1.624002           -1.969544   -1.865285        2.865487   \n4     -1.727943           -1.934905    1.162089        3.125196   \n...         ...                 ...         ...             ...   \n1418   0.974523            0.628399    0.657527       -0.610070   \n1419   1.182405            0.836235    0.859351       -0.613450   \n1420   1.390287            1.044070    1.061176       -0.616384   \n1421   1.528875            1.182627    1.195726       -0.618134   \n1422   1.598169            1.251906    1.263001       -0.618955   \n\n      avg_rank_score  std_rank_score  time_on_chart  num_occurrences  \\\n0           7.864584        6.665997       3.785898         0.687504   \n1           3.167148        3.129337       3.239654         0.996544   \n2           4.045338        1.857716       2.966532         0.481477   \n3           3.075679        1.325755       1.509881         0.378464   \n4           4.104423        4.417527       4.787346         4.086943   \n...              ...             ...            ...              ...   \n1418       -0.405501       -0.332570      -0.675096        -0.651670   \n1419       -0.434196       -0.332570      -0.675096        -0.651670   \n1420       -0.459106       -0.332570      -0.675096        -0.651670   \n1421       -0.473965       -0.332570      -0.675096        -0.651670   \n1422       -0.480935       -0.332570      -0.675096        -0.651670   \n\n      rank_sum  skewness  kurtosis  spotify_popularity  \n0     3.996271  1.149153  0.674107            0.090394  \n1     2.351366  1.096909  0.593437           -0.306091  \n2     2.036272  0.032205  0.073469           -0.306091  \n3     1.538653 -0.087403 -0.043134           -0.759217  \n4     5.535804  3.322379  3.945209            1.053287  \n...        ...       ...       ...                 ...  \n1418 -0.430392 -0.548373 -0.655528           -1.495546  \n1419 -0.432232 -0.548373 -0.655528           -0.079528  \n1420 -0.433830 -0.548373 -0.655528            0.090394  \n1421 -0.434784 -0.548373 -0.655528            0.147035  \n1422 -0.435231 -0.548373 -0.655528            1.336490  \n\n[1423 rows x 12 columns]",
      "text/html": "<div>\n<style scoped>\n    .dataframe tbody tr th:only-of-type {\n        vertical-align: middle;\n    }\n\n    .dataframe tbody tr th {\n        vertical-align: top;\n    }\n\n    .dataframe thead th {\n        text-align: right;\n    }\n</style>\n<table border=\"1\" class=\"dataframe\">\n  <thead>\n    <tr style=\"text-align: right;\">\n      <th></th>\n      <th>peak_rank</th>\n      <th>lifetime_peak_rank</th>\n      <th>debut_rank</th>\n      <th>sensationality</th>\n      <th>avg_rank_score</th>\n      <th>std_rank_score</th>\n      <th>time_on_chart</th>\n      <th>num_occurrences</th>\n      <th>rank_sum</th>\n      <th>skewness</th>\n      <th>kurtosis</th>\n      <th>spotify_popularity</th>\n    </tr>\n  </thead>\n  <tbody>\n    <tr>\n      <th>0</th>\n      <td>-1.727943</td>\n      <td>-2.073462</td>\n      <td>-1.966197</td>\n      <td>3.125194</td>\n      <td>7.864584</td>\n      <td>6.665997</td>\n      <td>3.785898</td>\n      <td>0.687504</td>\n      <td>3.996271</td>\n      <td>1.149153</td>\n      <td>0.674107</td>\n      <td>0.090394</td>\n    </tr>\n    <tr>\n      <th>1</th>\n      <td>-1.693296</td>\n      <td>-2.038823</td>\n      <td>0.792076</td>\n      <td>3.121257</td>\n      <td>3.167148</td>\n      <td>3.129337</td>\n      <td>3.239654</td>\n      <td>0.996544</td>\n      <td>2.351366</td>\n      <td>1.096909</td>\n      <td>0.593437</td>\n      <td>-0.306091</td>\n    </tr>\n    <tr>\n      <th>2</th>\n      <td>-1.658649</td>\n      <td>-2.004183</td>\n      <td>-1.898922</td>\n      <td>3.053779</td>\n      <td>4.045338</td>\n      <td>1.857716</td>\n      <td>2.966532</td>\n      <td>0.481477</td>\n      <td>2.036272</td>\n      <td>0.032205</td>\n      <td>0.073469</td>\n      <td>-0.306091</td>\n    </tr>\n    <tr>\n      <th>3</th>\n      <td>-1.624002</td>\n      <td>-1.969544</td>\n      <td>-1.865285</td>\n      <td>2.865487</td>\n      <td>3.075679</td>\n      <td>1.325755</td>\n      <td>1.509881</td>\n      <td>0.378464</td>\n      <td>1.538653</td>\n      <td>-0.087403</td>\n      <td>-0.043134</td>\n      <td>-0.759217</td>\n    </tr>\n    <tr>\n      <th>4</th>\n      <td>-1.727943</td>\n      <td>-1.934905</td>\n      <td>1.162089</td>\n      <td>3.125196</td>\n      <td>4.104423</td>\n      <td>4.417527</td>\n      <td>4.787346</td>\n      <td>4.086943</td>\n      <td>5.535804</td>\n      <td>3.322379</td>\n      <td>3.945209</td>\n      <td>1.053287</td>\n    </tr>\n    <tr>\n      <th>...</th>\n      <td>...</td>\n      <td>...</td>\n      <td>...</td>\n      <td>...</td>\n      <td>...</td>\n      <td>...</td>\n      <td>...</td>\n      <td>...</td>\n      <td>...</td>\n      <td>...</td>\n      <td>...</td>\n      <td>...</td>\n    </tr>\n    <tr>\n      <th>1418</th>\n      <td>0.974523</td>\n      <td>0.628399</td>\n      <td>0.657527</td>\n      <td>-0.610070</td>\n      <td>-0.405501</td>\n      <td>-0.332570</td>\n      <td>-0.675096</td>\n      <td>-0.651670</td>\n      <td>-0.430392</td>\n      <td>-0.548373</td>\n      <td>-0.655528</td>\n      <td>-1.495546</td>\n    </tr>\n    <tr>\n      <th>1419</th>\n      <td>1.182405</td>\n      <td>0.836235</td>\n      <td>0.859351</td>\n      <td>-0.613450</td>\n      <td>-0.434196</td>\n      <td>-0.332570</td>\n      <td>-0.675096</td>\n      <td>-0.651670</td>\n      <td>-0.432232</td>\n      <td>-0.548373</td>\n      <td>-0.655528</td>\n      <td>-0.079528</td>\n    </tr>\n    <tr>\n      <th>1420</th>\n      <td>1.390287</td>\n      <td>1.044070</td>\n      <td>1.061176</td>\n      <td>-0.616384</td>\n      <td>-0.459106</td>\n      <td>-0.332570</td>\n      <td>-0.675096</td>\n      <td>-0.651670</td>\n      <td>-0.433830</td>\n      <td>-0.548373</td>\n      <td>-0.655528</td>\n      <td>0.090394</td>\n    </tr>\n    <tr>\n      <th>1421</th>\n      <td>1.528875</td>\n      <td>1.182627</td>\n      <td>1.195726</td>\n      <td>-0.618134</td>\n      <td>-0.473965</td>\n      <td>-0.332570</td>\n      <td>-0.675096</td>\n      <td>-0.651670</td>\n      <td>-0.434784</td>\n      <td>-0.548373</td>\n      <td>-0.655528</td>\n      <td>0.147035</td>\n    </tr>\n    <tr>\n      <th>1422</th>\n      <td>1.598169</td>\n      <td>1.251906</td>\n      <td>1.263001</td>\n      <td>-0.618955</td>\n      <td>-0.480935</td>\n      <td>-0.332570</td>\n      <td>-0.675096</td>\n      <td>-0.651670</td>\n      <td>-0.435231</td>\n      <td>-0.548373</td>\n      <td>-0.655528</td>\n      <td>1.336490</td>\n    </tr>\n  </tbody>\n</table>\n<p>1423 rows × 12 columns</p>\n</div>"
     },
     "execution_count": 439,
     "metadata": {},
     "output_type": "execute_result"
    },
    {
     "data": {
      "text/plain": "<Figure size 432x288 with 1 Axes>",
      "image/png": "[encoded data removed]"
     },
     "metadata": {
      "needs_background": "light"
     },
     "output_type": "display_data"
    }
   ],
   "source": [
    "pop_metrics = pop_metrics_basic\n",
    "pop_metrics[pop_metrics.columns] = StandardScaler().fit_transform(pop_metrics)\n",
    "\n",
    "sns.distplot(pop_metrics['avg_rank_score'])\n",
    "pp_x = data_df\n",
    "pp_met = pop_metrics\n",
    "pop_metrics"
   ],
   "metadata": {
    "collapsed": false,
    "pycharm": {
     "name": "#%%\n"
    }
   }
  },
  {
   "cell_type": "code",
   "execution_count": 440,
   "outputs": [
    {
     "data": {
      "text/plain": "<AxesSubplot:xlabel='avg_rank_score', ylabel='Density'>"
     },
     "execution_count": 440,
     "metadata": {},
     "output_type": "execute_result"
    },
    {
     "data": {
      "text/plain": "<Figure size 432x288 with 1 Axes>",
      "image/png": "[encoded data removed]"
     },
     "metadata": {
      "needs_background": "light"
     },
     "output_type": "display_data"
    }
   ],
   "source": [
    "from sklearn.utils import shuffle\n",
    "\n",
    "pop_metrics['sen_range'] = pop_metrics['avg_rank_score'].apply(lambda x: 1 if x >= 0.5 else 0)\n",
    "pp_met_pos = pop_metrics[pop_metrics['sen_range'] == 1]\n",
    "pp_met_neg = shuffle(pop_metrics[pop_metrics['sen_range'] == 0]).head(len(pp_met_pos))\n",
    "pp_met = pd.concat([pp_met_pos, pp_met_neg])\n",
    "pp_x = data_df.iloc[pp_met.index]\n",
    "\n",
    "sns.distplot(pp_met['avg_rank_score'])\n",
    "\n",
    "# sns.countplot(pp_met['sen_range'])\n",
    "# y_col = 'sensationality'\n",
    "# y = data_df.pop(y_col)"
   ],
   "metadata": {
    "collapsed": false,
    "pycharm": {
     "name": "#%%\n"
    }
   }
  },
  {
   "cell_type": "code",
   "execution_count": 441,
   "outputs": [
    {
     "data": {
      "text/plain": "<Figure size 432x288 with 1 Axes>",
      "image/png": "[encoded data removed]"
     },
     "metadata": {
      "needs_background": "light"
     },
     "output_type": "display_data"
    }
   ],
   "source": [
    "x = np.sort(pop_metrics['avg_rank_score'])\n",
    "f_x = np.gradient(x)*np.exp(-x**2/2)\n",
    "sample_probs = f_x/np.sum(f_x)\n",
    "# samples = np.random.choice(x, p=sample_probs, size=1000000)\n",
    "df_samples = pop_metrics[\"avg_rank_score\"].sort_values().sample(\n",
    "    n=400,\n",
    "    weights=sample_probs,\n",
    "    replace=False,\n",
    ")\n",
    "\n",
    "sns.distplot(df_samples)\n",
    "# df_samples\n",
    "pp_met = pop_metrics.iloc[df_samples.index]\n",
    "pp_x = data_df.iloc[df_samples.index]\n",
    "# song_billboard_names = songs_df[df_samples.index]\n",
    "\n",
    "# pop_metrics[pop_metrics[\"sensationality\"] > 0]"
   ],
   "metadata": {
    "collapsed": false,
    "pycharm": {
     "name": "#%%\n"
    }
   }
  },
  {
   "cell_type": "code",
   "execution_count": 447,
   "outputs": [
    {
     "name": "stdout",
     "output_type": "stream",
     "text": [
      "Processed 2485 models on 2 predictors in 43.41655898094177 seconds.\n",
      "mse: 0.566787891094273\n"
     ]
    },
    {
     "data": {
      "text/plain": "[<matplotlib.lines.Line2D at 0x295764d90a0>]"
     },
     "execution_count": 447,
     "metadata": {},
     "output_type": "execute_result"
    },
    {
     "data": {
      "text/plain": "<Figure size 720x360 with 1 Axes>",
      "image/png": "[encoded data removed]"
     },
     "metadata": {
      "needs_background": "light"
     },
     "output_type": "display_data"
    }
   ],
   "source": [
    "from sklearn.model_selection import GridSearchCV, KFold, train_test_split\n",
    "from sklearn.linear_model import LinearRegression\n",
    "from sklearn.svm import SVC\n",
    "from sklearn.metrics import mean_squared_error\n",
    "import itertools\n",
    "import time\n",
    "\n",
    "def gscv(mdl, param_grid, x_, y_, score_method, verbose=0):\n",
    "    grid_search = GridSearchCV(mdl, param_grid=param_grid, n_jobs=-1, verbose=verbose, scoring=score_method)\n",
    "    grid_search.fit(x_, y_)\n",
    "    if verbose == 1:\n",
    "        print(f\"best params = {grid_search.best_params_}\")\n",
    "        print(f\"best score = {grid_search.best_score_}\")\n",
    "    return grid_search.best_params_\n",
    "\n",
    "# pop_metrics = [pop_metrics_basic, pop_metrics_classic, pop_metrics_score_01, pop_metrics_score_02]\n",
    "# for pms in pop_metrics:\n",
    "#     ln = LinearRegression()\n",
    "#     param_map = {\"y\": [pms[pm] for pm in pms.columns]}\n",
    "#     print(gscv(ln, param_map, data_df.values, score_method='neg_root_mean_squared_error'))\n",
    "\n",
    "def process_subset(model, X, y, features):\n",
    "    kf = KFold()\n",
    "    mse = []\n",
    "    X = X[list(features)]\n",
    "    for train_idx, test_idx in kf.split(X, y):\n",
    "        X_train, X_test = X.iloc[train_idx], X.iloc[test_idx]\n",
    "        y_train, y_test = y.iloc[train_idx], y.iloc[test_idx]\n",
    "        regr = model.fit(X_train, y=y_train)\n",
    "        y_predict = regr.predict(X_test)\n",
    "        mse.append(mean_squared_error(y_test, y_predict))\n",
    "    return {\"model\": model, \"features\": features, \"MSE\":np.mean(mse)}\n",
    "\n",
    "def best_subset(model, X, y, subset_size=-1, force=False):\n",
    "    limit = 100000\n",
    "    if subset_size == -1:\n",
    "        subset_size = len(X.columns)\n",
    "    assert len(X.columns) >= subset_size, f\"X.columns must be >= subset_size. Given len(X.columns)={len(X.columns)}, subset_size={subset_size}\"\n",
    "\n",
    "    num_combinations = np.math.factorial(len(X.columns))/(np.math.factorial(len(X.columns)-subset_size) * np.math.factorial(subset_size))\n",
    "    if num_combinations > limit and not force:\n",
    "        print(f\"Please be aware that this action run {int(num_combinations)} models and there is a real possibility it will crash your machine.\\nIf you're sure you want to do this please include the parameter 'force=True' when calling this function\")\n",
    "        return {\"model\": model, \"features\": X.columns, \"MSE\": -1}\n",
    "    tic = time.time()\n",
    "    results = []\n",
    "    for combo in itertools.combinations(X.columns, subset_size):\n",
    "        results.append(process_subset(model, X, y, combo))\n",
    "    models = pd.DataFrame(results)\n",
    "    best_model = models.loc[models['MSE'].argmin()]\n",
    "    toc = time.time()\n",
    "    print(\"Processed\", models.shape[0], \"models on\", subset_size, \"predictors in\", (toc-tic), \"seconds.\")\n",
    "    return best_model\n",
    "\n",
    "# def forward(model, X, y, staring_predictors):\n",
    "#     remaining_predictors = [p for p in X.columns if p not in staring_predictors]\n",
    "#     tic = time.time()\n",
    "#     results = []\n",
    "#     for p in remaining_predictors:\n",
    "#         results.append(process_subset(model, X, y, staring_predictors+[p]))\n",
    "#     models = pd.DataFrame(results)\n",
    "#     best_model = models.loc[models['MSE'].argmin()]\n",
    "#     toc = time.time()\n",
    "#     print(\"Processed \", models.shape[0], \"models on\", len(predictors)+1, \"predictors in\", (toc-tic), \"seconds.\")\n",
    "#\n",
    "#     Return the best model, along with some other useful information about the model\n",
    "    # return best_model\n",
    "\n",
    "# all_features = ['duration_ms', 'key', 'energy', 'loudness', 'danceability', 'speechiness', 'instrumentalness', 'tempo']\n",
    "pp_x = pp_x.filter(regex=('^((?!mfcc).)*$'))\n",
    "\n",
    "best_model = best_subset(LinearRegression(), pp_x, pp_met['avg_rank_score'], 2)\n",
    "# print(f\"Best Features: f{best_model['features']}\")\n",
    "x_train, x_test, y_train, y_test = train_test_split(pp_x[list(best_model['features'])], pp_met['avg_rank_score'])\n",
    "mdl = LinearRegression().fit(x_train, y_train)\n",
    "y_pred = mdl.predict(x_test)\n",
    "print(f\"mse: {mean_squared_error(y_test, y_pred)}\")\n",
    "\n",
    "fig = plt.figure(figsize=(10,5))\n",
    "plt.scatter(y_test,y_pred)\n",
    "plt.plot(y_test,y_test,'r', label='test')\n",
    "plt.plot(y_pred,y_pred,'b', label='pred')"
   ],
   "metadata": {
    "collapsed": false,
    "pycharm": {
     "name": "#%%\n"
    }
   }
  },
  {
   "cell_type": "code",
   "execution_count": 443,
   "outputs": [
    {
     "data": {
      "text/plain": "duration_ms            0.796196\ndanceability          -2.178146\nenergy                 0.030618\nkey                    0.513133\nloudness              -0.277509\n                         ...   \nmean_segment_timbre    1.000000\nvar_segment_timbre    -1.000000\nnum_tatums             0.000000\nmean_tatum_duration   -1.000000\nvar_tatum_duration     1.000000\nName: 0, Length: 111, dtype: float64"
     },
     "execution_count": 443,
     "metadata": {},
     "output_type": "execute_result"
    }
   ],
   "source": [
    "data_df.iloc[0]"
   ],
   "metadata": {
    "collapsed": false,
    "pycharm": {
     "name": "#%%\n"
    }
   }
  },
  {
   "cell_type": "code",
   "execution_count": 444,
   "outputs": [
    {
     "data": {
      "text/plain": "'Mood Swings'"
     },
     "execution_count": 444,
     "metadata": {},
     "output_type": "execute_result"
    }
   ],
   "source": [
    "song_billboard_names[500]"
   ],
   "metadata": {
    "collapsed": false,
    "pycharm": {
     "name": "#%%\n"
    }
   }
  },
  {
   "cell_type": "code",
   "execution_count": 445,
   "outputs": [
    {
     "data": {
      "text/plain": "1.3959902776560005"
     },
     "execution_count": 445,
     "metadata": {},
     "output_type": "execute_result"
    }
   ],
   "source": [
    "pp_met['sensationality'][400]"
   ],
   "metadata": {
    "collapsed": false,
    "pycharm": {
     "name": "#%%\n"
    }
   }
  },
  {
   "cell_type": "code",
   "execution_count": 446,
   "outputs": [
    {
     "ename": "ValueError",
     "evalue": "matmul: Input operand 1 has a mismatch in its core dimension 0, with gufunc signature (n?,k),(k,m?)->(n?,m?) (size 71 is different from 111)",
     "output_type": "error",
     "traceback": [
      "\u001B[1;31m---------------------------------------------------------------------------\u001B[0m",
      "\u001B[1;31mValueError\u001B[0m                                Traceback (most recent call last)",
      "\u001B[1;32mC:\\Users\\Public\\Documents\\Wondershare\\CreatorTemp/ipykernel_6672/423434296.py\u001B[0m in \u001B[0;36m<module>\u001B[1;34m\u001B[0m\n\u001B[1;32m----> 1\u001B[1;33m \u001B[0mmdl\u001B[0m\u001B[1;33m.\u001B[0m\u001B[0mpredict\u001B[0m\u001B[1;33m(\u001B[0m\u001B[1;33m[\u001B[0m\u001B[0mdata_df\u001B[0m\u001B[1;33m.\u001B[0m\u001B[0miloc\u001B[0m\u001B[1;33m[\u001B[0m\u001B[1;36m600\u001B[0m\u001B[1;33m]\u001B[0m\u001B[1;33m]\u001B[0m\u001B[1;33m)\u001B[0m\u001B[1;33m\u001B[0m\u001B[1;33m\u001B[0m\u001B[0m\n\u001B[0m",
      "\u001B[1;32mC:\\Anaconda3\\lib\\site-packages\\sklearn\\linear_model\\_base.py\u001B[0m in \u001B[0;36mpredict\u001B[1;34m(self, X)\u001B[0m\n\u001B[0;32m    236\u001B[0m             \u001B[0mReturns\u001B[0m \u001B[0mpredicted\u001B[0m \u001B[0mvalues\u001B[0m\u001B[1;33m.\u001B[0m\u001B[1;33m\u001B[0m\u001B[1;33m\u001B[0m\u001B[0m\n\u001B[0;32m    237\u001B[0m         \"\"\"\n\u001B[1;32m--> 238\u001B[1;33m         \u001B[1;32mreturn\u001B[0m \u001B[0mself\u001B[0m\u001B[1;33m.\u001B[0m\u001B[0m_decision_function\u001B[0m\u001B[1;33m(\u001B[0m\u001B[0mX\u001B[0m\u001B[1;33m)\u001B[0m\u001B[1;33m\u001B[0m\u001B[1;33m\u001B[0m\u001B[0m\n\u001B[0m\u001B[0;32m    239\u001B[0m \u001B[1;33m\u001B[0m\u001B[0m\n\u001B[0;32m    240\u001B[0m     \u001B[0m_preprocess_data\u001B[0m \u001B[1;33m=\u001B[0m \u001B[0mstaticmethod\u001B[0m\u001B[1;33m(\u001B[0m\u001B[0m_preprocess_data\u001B[0m\u001B[1;33m)\u001B[0m\u001B[1;33m\u001B[0m\u001B[1;33m\u001B[0m\u001B[0m\n",
      "\u001B[1;32mC:\\Anaconda3\\lib\\site-packages\\sklearn\\linear_model\\_base.py\u001B[0m in \u001B[0;36m_decision_function\u001B[1;34m(self, X)\u001B[0m\n\u001B[0;32m    219\u001B[0m \u001B[1;33m\u001B[0m\u001B[0m\n\u001B[0;32m    220\u001B[0m         \u001B[0mX\u001B[0m \u001B[1;33m=\u001B[0m \u001B[0mcheck_array\u001B[0m\u001B[1;33m(\u001B[0m\u001B[0mX\u001B[0m\u001B[1;33m,\u001B[0m \u001B[0maccept_sparse\u001B[0m\u001B[1;33m=\u001B[0m\u001B[1;33m[\u001B[0m\u001B[1;34m'csr'\u001B[0m\u001B[1;33m,\u001B[0m \u001B[1;34m'csc'\u001B[0m\u001B[1;33m,\u001B[0m \u001B[1;34m'coo'\u001B[0m\u001B[1;33m]\u001B[0m\u001B[1;33m)\u001B[0m\u001B[1;33m\u001B[0m\u001B[1;33m\u001B[0m\u001B[0m\n\u001B[1;32m--> 221\u001B[1;33m         return safe_sparse_dot(X, self.coef_.T,\n\u001B[0m\u001B[0;32m    222\u001B[0m                                dense_output=True) + self.intercept_\n\u001B[0;32m    223\u001B[0m \u001B[1;33m\u001B[0m\u001B[0m\n",
      "\u001B[1;32mC:\\Anaconda3\\lib\\site-packages\\sklearn\\utils\\validation.py\u001B[0m in \u001B[0;36minner_f\u001B[1;34m(*args, **kwargs)\u001B[0m\n\u001B[0;32m     61\u001B[0m             \u001B[0mextra_args\u001B[0m \u001B[1;33m=\u001B[0m \u001B[0mlen\u001B[0m\u001B[1;33m(\u001B[0m\u001B[0margs\u001B[0m\u001B[1;33m)\u001B[0m \u001B[1;33m-\u001B[0m \u001B[0mlen\u001B[0m\u001B[1;33m(\u001B[0m\u001B[0mall_args\u001B[0m\u001B[1;33m)\u001B[0m\u001B[1;33m\u001B[0m\u001B[1;33m\u001B[0m\u001B[0m\n\u001B[0;32m     62\u001B[0m             \u001B[1;32mif\u001B[0m \u001B[0mextra_args\u001B[0m \u001B[1;33m<=\u001B[0m \u001B[1;36m0\u001B[0m\u001B[1;33m:\u001B[0m\u001B[1;33m\u001B[0m\u001B[1;33m\u001B[0m\u001B[0m\n\u001B[1;32m---> 63\u001B[1;33m                 \u001B[1;32mreturn\u001B[0m \u001B[0mf\u001B[0m\u001B[1;33m(\u001B[0m\u001B[1;33m*\u001B[0m\u001B[0margs\u001B[0m\u001B[1;33m,\u001B[0m \u001B[1;33m**\u001B[0m\u001B[0mkwargs\u001B[0m\u001B[1;33m)\u001B[0m\u001B[1;33m\u001B[0m\u001B[1;33m\u001B[0m\u001B[0m\n\u001B[0m\u001B[0;32m     64\u001B[0m \u001B[1;33m\u001B[0m\u001B[0m\n\u001B[0;32m     65\u001B[0m             \u001B[1;31m# extra_args > 0\u001B[0m\u001B[1;33m\u001B[0m\u001B[1;33m\u001B[0m\u001B[0m\n",
      "\u001B[1;32mC:\\Anaconda3\\lib\\site-packages\\sklearn\\utils\\extmath.py\u001B[0m in \u001B[0;36msafe_sparse_dot\u001B[1;34m(a, b, dense_output)\u001B[0m\n\u001B[0;32m    150\u001B[0m             \u001B[0mret\u001B[0m \u001B[1;33m=\u001B[0m \u001B[0mnp\u001B[0m\u001B[1;33m.\u001B[0m\u001B[0mdot\u001B[0m\u001B[1;33m(\u001B[0m\u001B[0ma\u001B[0m\u001B[1;33m,\u001B[0m \u001B[0mb\u001B[0m\u001B[1;33m)\u001B[0m\u001B[1;33m\u001B[0m\u001B[1;33m\u001B[0m\u001B[0m\n\u001B[0;32m    151\u001B[0m     \u001B[1;32melse\u001B[0m\u001B[1;33m:\u001B[0m\u001B[1;33m\u001B[0m\u001B[1;33m\u001B[0m\u001B[0m\n\u001B[1;32m--> 152\u001B[1;33m         \u001B[0mret\u001B[0m \u001B[1;33m=\u001B[0m \u001B[0ma\u001B[0m \u001B[1;33m@\u001B[0m \u001B[0mb\u001B[0m\u001B[1;33m\u001B[0m\u001B[1;33m\u001B[0m\u001B[0m\n\u001B[0m\u001B[0;32m    153\u001B[0m \u001B[1;33m\u001B[0m\u001B[0m\n\u001B[0;32m    154\u001B[0m     if (sparse.issparse(a) and sparse.issparse(b)\n",
      "\u001B[1;31mValueError\u001B[0m: matmul: Input operand 1 has a mismatch in its core dimension 0, with gufunc signature (n?,k),(k,m?)->(n?,m?) (size 71 is different from 111)"
     ]
    }
   ],
   "source": [
    "mdl.predict([data_df.iloc[600]])"
   ],
   "metadata": {
    "collapsed": false,
    "pycharm": {
     "name": "#%%\n"
    }
   }
  },
  {
   "cell_type": "code",
   "execution_count": 456,
   "outputs": [
    {
     "ename": "AttributeError",
     "evalue": "'numpy.ndarray' object has no attribute 'index'",
     "output_type": "error",
     "traceback": [
      "\u001B[1;31m---------------------------------------------------------------------------\u001B[0m",
      "\u001B[1;31mAttributeError\u001B[0m                            Traceback (most recent call last)",
      "\u001B[1;32mC:\\Users\\Public\\Documents\\Wondershare\\CreatorTemp/ipykernel_6672/2970795232.py\u001B[0m in \u001B[0;36m<module>\u001B[1;34m\u001B[0m\n\u001B[0;32m      4\u001B[0m \u001B[0mpca_data\u001B[0m \u001B[1;33m=\u001B[0m \u001B[0mpca\u001B[0m\u001B[1;33m.\u001B[0m\u001B[0mfit_transform\u001B[0m\u001B[1;33m(\u001B[0m\u001B[0mdata_df\u001B[0m\u001B[1;33m)\u001B[0m\u001B[1;33m\u001B[0m\u001B[1;33m\u001B[0m\u001B[0m\n\u001B[0;32m      5\u001B[0m \u001B[1;33m\u001B[0m\u001B[0m\n\u001B[1;32m----> 6\u001B[1;33m \u001B[0mpca_comp\u001B[0m \u001B[1;33m=\u001B[0m \u001B[0mpd\u001B[0m\u001B[1;33m.\u001B[0m\u001B[0mDataFrame\u001B[0m\u001B[1;33m(\u001B[0m\u001B[0mpca\u001B[0m\u001B[1;33m.\u001B[0m\u001B[0mcomponents_\u001B[0m\u001B[1;33m,\u001B[0m \u001B[0mindex\u001B[0m\u001B[1;33m=\u001B[0m\u001B[0mpca_data\u001B[0m\u001B[1;33m.\u001B[0m\u001B[0mindex\u001B[0m\u001B[1;33m)\u001B[0m\u001B[1;33m\u001B[0m\u001B[1;33m\u001B[0m\u001B[0m\n\u001B[0m\u001B[0;32m      7\u001B[0m \u001B[0mpca_comp\u001B[0m\u001B[1;33m.\u001B[0m\u001B[0mstyle\u001B[0m\u001B[1;33m.\u001B[0m\u001B[0mbackground_gradient\u001B[0m\u001B[1;33m(\u001B[0m\u001B[0mvmin\u001B[0m\u001B[1;33m=\u001B[0m\u001B[1;33m-\u001B[0m\u001B[1;36m1\u001B[0m\u001B[1;33m,\u001B[0m \u001B[0mvmax\u001B[0m\u001B[1;33m=\u001B[0m\u001B[1;36m1\u001B[0m\u001B[1;33m,\u001B[0m \u001B[0mcmap\u001B[0m\u001B[1;33m=\u001B[0m\u001B[0msns\u001B[0m\u001B[1;33m.\u001B[0m\u001B[0mcolor_palette\u001B[0m\u001B[1;33m(\u001B[0m\u001B[1;34m\"vlag\"\u001B[0m\u001B[1;33m,\u001B[0m \u001B[0mas_cmap\u001B[0m\u001B[1;33m=\u001B[0m\u001B[1;32mTrue\u001B[0m\u001B[1;33m)\u001B[0m\u001B[1;33m)\u001B[0m\u001B[1;33m\u001B[0m\u001B[1;33m\u001B[0m\u001B[0m\n\u001B[0;32m      8\u001B[0m \u001B[0mpca_comp\u001B[0m\u001B[1;33m.\u001B[0m\u001B[0mindex\u001B[0m\u001B[1;33m\u001B[0m\u001B[1;33m\u001B[0m\u001B[0m\n",
      "\u001B[1;31mAttributeError\u001B[0m: 'numpy.ndarray' object has no attribute 'index'"
     ]
    }
   ],
   "source": [
    "from sklearn.decomposition import PCA\n",
    "\n",
    "pca = PCA(n_components=0.99, svd_solver='full')\n",
    "pca_data = pca.fit_transform(data_df)\n",
    "\n",
    "pca_comp = pd.DataFrame(pca.components_, index=pca_data.index)\n",
    "pca_comp.style.background_gradient(vmin=-1, vmax=1, cmap=sns.color_palette(\"vlag\", as_cmap=True))\n",
    "pca_comp.index"
   ],
   "metadata": {
    "collapsed": false,
    "pycharm": {
     "name": "#%%\n"
    }
   }
  },
  {
   "cell_type": "code",
   "execution_count": 449,
   "outputs": [
    {
     "data": {
      "text/plain": "         0         1         2         3         4         5         6    \\\n0  -0.045248  0.115763 -0.013466 -0.004438  0.004186 -0.041175  0.127744   \n1   0.020004 -0.087570 -0.130894  0.007010 -0.105855 -0.003493 -0.071471   \n2   0.035402 -0.021307 -0.162006 -0.027995 -0.134008 -0.010706  0.021555   \n3   0.072021 -0.093834  0.038387 -0.037840  0.077072  0.048816 -0.156800   \n4  -0.032014  0.039427 -0.220735 -0.031251 -0.260376  0.009933  0.014319   \n5  -0.041651 -0.146245 -0.009126  0.026447 -0.124109 -0.025294  0.042129   \n6   0.036111  0.028764  0.244213  0.071715  0.241247 -0.037454 -0.115436   \n7   0.015127 -0.136048 -0.255151 -0.063128 -0.267362  0.111666  0.003110   \n8  -0.012961 -0.133148 -0.046304  0.159317 -0.128334  0.193294 -0.150006   \n9  -0.243541  0.215924 -0.072438  0.325103 -0.109664 -0.231688  0.165315   \n10  0.240104 -0.116335 -0.079170 -0.239613 -0.084025  0.134342  0.012884   \n11  0.339605  0.005284  0.103565 -0.039323  0.092211  0.214412 -0.005799   \n12 -0.072419  0.281932 -0.082070  0.275462 -0.064282 -0.250231 -0.201147   \n13  0.304520 -0.210854  0.132256  0.441874  0.063864 -0.382533  0.018825   \n14  0.288357  0.092433 -0.035258  0.020698  0.012128  0.073277 -0.048253   \n15 -0.122480  0.050463  0.034421 -0.193283  0.034720  0.197604  0.078026   \n16  0.122577  0.043294 -0.056898 -0.116480 -0.004389 -0.149003 -0.120261   \n17  0.124948  0.173401  0.024224  0.017199  0.111477  0.185531  0.047803   \n18 -0.400325  0.091175  0.189033 -0.081156  0.072980  0.290565 -0.187443   \n19 -0.048545 -0.000810  0.109126 -0.276087  0.030795 -0.372132 -0.047618   \n20  0.063794 -0.101403  0.056765 -0.044510  0.046939 -0.073849  0.074942   \n21 -0.033441 -0.115754  0.110693 -0.185341 -0.002112  0.053623  0.164726   \n22 -0.443526 -0.100700 -0.126298  0.247441  0.082589  0.136860  0.032265   \n23 -0.072082  0.075565 -0.093872 -0.370237 -0.120948 -0.313611 -0.057576   \n24 -0.209952  0.029660 -0.002859 -0.323429  0.139497 -0.341120 -0.118075   \n25  0.191924  0.101211 -0.008542 -0.016053 -0.187379 -0.074588  0.279172   \n26  0.069697 -0.113571  0.002111 -0.113947  0.010329 -0.039871  0.184086   \n27 -0.120315 -0.291298  0.166026  0.052120  0.063083  0.004751  0.360798   \n28 -0.082733 -0.226504  0.058533  0.067010 -0.033879 -0.052728  0.380352   \n29 -0.044239  0.059274  0.001459 -0.122749 -0.081976 -0.024836  0.409453   \n30  0.018911 -0.253617  0.069440  0.011098  0.072289  0.005939 -0.114140   \n31  0.103334  0.323185 -0.141002  0.037023  0.048949  0.106624  0.029097   \n32 -0.092375 -0.151364  0.161059 -0.052854  0.065023 -0.079748  0.025145   \n33 -0.015524 -0.214507  0.018314 -0.024730  0.140848 -0.094922 -0.144787   \n34  0.037188 -0.287845 -0.068964  0.030987 -0.220443 -0.026393 -0.260302   \n35 -0.036775 -0.089461 -0.092341 -0.006429 -0.033777 -0.049880 -0.114672   \n36  0.002817 -0.110381  0.090235 -0.034347  0.068505  0.041430 -0.084453   \n37  0.059039  0.097060 -0.041825 -0.000238  0.231478 -0.030212  0.010304   \n38  0.091875  0.183608 -0.007371 -0.046356  0.245527 -0.038729  0.111573   \n39  0.036714 -0.039365  0.166295  0.002739 -0.004257 -0.006205 -0.080033   \n40 -0.028015 -0.096091 -0.007485 -0.027189 -0.333352 -0.012541 -0.087695   \n41  0.040639  0.013464 -0.049549 -0.009523 -0.010697 -0.012912 -0.038267   \n42  0.018352 -0.014828 -0.028082  0.015880 -0.005458 -0.013898 -0.030076   \n43 -0.068455 -0.065018  0.015564  0.016306  0.082668 -0.006793 -0.084858   \n44 -0.003017 -0.043453 -0.051225 -0.006671  0.014806 -0.044894 -0.024979   \n\n         7         8         9    ...  101  102  103  104  105  106  107  108  \\\n0  -0.061409 -0.016082  0.007374  ... -0.0 -0.0 -0.0 -0.0 -0.0 -0.0 -0.0 -0.0   \n1   0.174818  0.013865 -0.029135  ... -0.0 -0.0 -0.0 -0.0 -0.0 -0.0 -0.0 -0.0   \n2   0.074421  0.045471 -0.019159  ... -0.0 -0.0 -0.0 -0.0 -0.0 -0.0 -0.0 -0.0   \n3  -0.063901 -0.030187 -0.034880  ...  0.0  0.0  0.0  0.0  0.0  0.0  0.0  0.0   \n4   0.062228  0.090181 -0.109755  ...  0.0  0.0  0.0  0.0  0.0  0.0  0.0  0.0   \n5   0.069032  0.145676  0.166332  ... -0.0 -0.0 -0.0 -0.0 -0.0 -0.0 -0.0 -0.0   \n6  -0.134949 -0.085279 -0.026920  ... -0.0 -0.0 -0.0 -0.0 -0.0 -0.0 -0.0 -0.0   \n7   0.168861  0.125068  0.051478  ...  0.0  0.0  0.0  0.0  0.0  0.0  0.0  0.0   \n8   0.068354  0.291535 -0.037769  ...  0.0  0.0  0.0  0.0  0.0  0.0  0.0  0.0   \n9   0.093639  0.225038  0.152254  ... -0.0 -0.0 -0.0 -0.0 -0.0 -0.0 -0.0 -0.0   \n10  0.144501  0.059290  0.113983  ... -0.0 -0.0 -0.0 -0.0 -0.0 -0.0 -0.0 -0.0   \n11 -0.221039 -0.169026  0.044002  ...  0.0  0.0  0.0  0.0  0.0  0.0  0.0  0.0   \n12  0.089257 -0.062833 -0.376524  ...  0.0  0.0  0.0  0.0  0.0  0.0  0.0  0.0   \n13 -0.098534  0.225751  0.270058  ...  0.0  0.0  0.0  0.0  0.0  0.0  0.0  0.0   \n14  0.068150  0.058866  0.015464  ... -0.0 -0.0 -0.0 -0.0 -0.0 -0.0 -0.0 -0.0   \n15 -0.003838  0.199882 -0.283231  ... -0.0 -0.0 -0.0 -0.0 -0.0 -0.0 -0.0 -0.0   \n16 -0.032017  0.133240 -0.394388  ... -0.0 -0.0 -0.0 -0.0 -0.0 -0.0 -0.0 -0.0   \n17  0.029915 -0.298892  0.039861  ...  0.0  0.0  0.0  0.0  0.0  0.0  0.0  0.0   \n18 -0.110161  0.406074  0.256926  ...  0.0  0.0  0.0  0.0  0.0  0.0  0.0  0.0   \n19 -0.186751  0.123596  0.085433  ...  0.0  0.0  0.0  0.0  0.0  0.0  0.0  0.0   \n20 -0.035451  0.239342 -0.499170  ...  0.0  0.0  0.0  0.0  0.0  0.0  0.0  0.0   \n21 -0.042708  0.168883  0.096811  ... -0.0 -0.0 -0.0 -0.0 -0.0 -0.0 -0.0 -0.0   \n22 -0.024113 -0.371146 -0.032310  ...  0.0  0.0  0.0  0.0  0.0  0.0  0.0  0.0   \n23  0.051734 -0.230357  0.202168  ...  0.0  0.0  0.0  0.0  0.0  0.0  0.0  0.0   \n24  0.087982 -0.048275  0.016343  ... -0.0 -0.0 -0.0 -0.0 -0.0 -0.0 -0.0 -0.0   \n25 -0.083603  0.009555  0.008390  ...  0.0  0.0  0.0  0.0  0.0  0.0  0.0  0.0   \n26  0.303537  0.010076  0.080349  ... -0.0 -0.0 -0.0 -0.0 -0.0 -0.0 -0.0 -0.0   \n27 -0.063941  0.008030 -0.176374  ...  0.0  0.0  0.0  0.0  0.0  0.0  0.0  0.0   \n28  0.266247 -0.202176 -0.028181  ... -0.0 -0.0 -0.0 -0.0 -0.0 -0.0 -0.0 -0.0   \n29 -0.252336  0.027117 -0.070299  ... -0.0 -0.0 -0.0 -0.0 -0.0 -0.0 -0.0 -0.0   \n30  0.126919 -0.076552 -0.031527  ...  0.0  0.0  0.0  0.0  0.0  0.0  0.0  0.0   \n31  0.070719  0.038685  0.092598  ... -0.0 -0.0 -0.0 -0.0 -0.0 -0.0 -0.0 -0.0   \n32 -0.098149  0.033551 -0.071199  ...  0.0  0.0  0.0  0.0  0.0  0.0  0.0  0.0   \n33  0.201591 -0.009095  0.017167  ... -0.0 -0.0 -0.0 -0.0 -0.0 -0.0 -0.0 -0.0   \n34 -0.098871 -0.098051 -0.064157  ...  0.0  0.0  0.0  0.0  0.0  0.0  0.0  0.0   \n35 -0.017249 -0.067046  0.063475  ... -0.0 -0.0 -0.0 -0.0 -0.0 -0.0 -0.0 -0.0   \n36  0.205023  0.025483 -0.038835  ...  0.0  0.0  0.0  0.0  0.0  0.0  0.0  0.0   \n37  0.204819  0.115637  0.031257  ... -0.0 -0.0 -0.0 -0.0 -0.0 -0.0 -0.0 -0.0   \n38  0.268186  0.077269 -0.007240  ... -0.0 -0.0 -0.0 -0.0 -0.0 -0.0 -0.0 -0.0   \n39  0.021236 -0.017743 -0.082832  ...  0.0  0.0  0.0  0.0  0.0  0.0  0.0  0.0   \n40 -0.207842 -0.113780  0.003321  ... -0.0 -0.0 -0.0 -0.0 -0.0 -0.0 -0.0 -0.0   \n41 -0.112179 -0.004900  0.004238  ...  0.0  0.0  0.0  0.0  0.0  0.0  0.0  0.0   \n42 -0.122529  0.003282  0.061416  ...  0.0  0.0  0.0  0.0  0.0  0.0  0.0  0.0   \n43  0.123991 -0.015144  0.002270  ... -0.0 -0.0 -0.0 -0.0 -0.0 -0.0 -0.0 -0.0   \n44 -0.034732  0.008706  0.030634  ...  0.0  0.0  0.0  0.0  0.0  0.0  0.0  0.0   \n\n    109  110  \n0  -0.0 -0.0  \n1  -0.0 -0.0  \n2  -0.0 -0.0  \n3   0.0  0.0  \n4   0.0  0.0  \n5  -0.0 -0.0  \n6  -0.0 -0.0  \n7   0.0  0.0  \n8   0.0  0.0  \n9  -0.0 -0.0  \n10 -0.0 -0.0  \n11  0.0  0.0  \n12  0.0  0.0  \n13  0.0  0.0  \n14 -0.0 -0.0  \n15 -0.0 -0.0  \n16 -0.0 -0.0  \n17  0.0  0.0  \n18  0.0  0.0  \n19  0.0  0.0  \n20  0.0  0.0  \n21 -0.0 -0.0  \n22  0.0  0.0  \n23  0.0  0.0  \n24 -0.0 -0.0  \n25  0.0  0.0  \n26 -0.0 -0.0  \n27  0.0  0.0  \n28 -0.0 -0.0  \n29 -0.0 -0.0  \n30  0.0  0.0  \n31 -0.0 -0.0  \n32  0.0  0.0  \n33 -0.0 -0.0  \n34  0.0  0.0  \n35 -0.0 -0.0  \n36  0.0  0.0  \n37 -0.0 -0.0  \n38 -0.0 -0.0  \n39  0.0  0.0  \n40 -0.0 -0.0  \n41  0.0  0.0  \n42  0.0  0.0  \n43 -0.0 -0.0  \n44  0.0  0.0  \n\n[45 rows x 111 columns]",
      "text/html": "<div>\n<style scoped>\n    .dataframe tbody tr th:only-of-type {\n        vertical-align: middle;\n    }\n\n    .dataframe tbody tr th {\n        vertical-align: top;\n    }\n\n    .dataframe thead th {\n        text-align: right;\n    }\n</style>\n<table border=\"1\" class=\"dataframe\">\n  <thead>\n    <tr style=\"text-align: right;\">\n      <th></th>\n      <th>0</th>\n      <th>1</th>\n      <th>2</th>\n      <th>3</th>\n      <th>4</th>\n      <th>5</th>\n      <th>6</th>\n      <th>7</th>\n      <th>8</th>\n      <th>9</th>\n      <th>...</th>\n      <th>101</th>\n      <th>102</th>\n      <th>103</th>\n      <th>104</th>\n      <th>105</th>\n      <th>106</th>\n      <th>107</th>\n      <th>108</th>\n      <th>109</th>\n      <th>110</th>\n    </tr>\n  </thead>\n  <tbody>\n    <tr>\n      <th>0</th>\n      <td>-0.045248</td>\n      <td>0.115763</td>\n      <td>-0.013466</td>\n      <td>-0.004438</td>\n      <td>0.004186</td>\n      <td>-0.041175</td>\n      <td>0.127744</td>\n      <td>-0.061409</td>\n      <td>-0.016082</td>\n      <td>0.007374</td>\n      <td>...</td>\n      <td>-0.0</td>\n      <td>-0.0</td>\n      <td>-0.0</td>\n      <td>-0.0</td>\n      <td>-0.0</td>\n      <td>-0.0</td>\n      <td>-0.0</td>\n      <td>-0.0</td>\n      <td>-0.0</td>\n      <td>-0.0</td>\n    </tr>\n    <tr>\n      <th>1</th>\n      <td>0.020004</td>\n      <td>-0.087570</td>\n      <td>-0.130894</td>\n      <td>0.007010</td>\n      <td>-0.105855</td>\n      <td>-0.003493</td>\n      <td>-0.071471</td>\n      <td>0.174818</td>\n      <td>0.013865</td>\n      <td>-0.029135</td>\n      <td>...</td>\n      <td>-0.0</td>\n      <td>-0.0</td>\n      <td>-0.0</td>\n      <td>-0.0</td>\n      <td>-0.0</td>\n      <td>-0.0</td>\n      <td>-0.0</td>\n      <td>-0.0</td>\n      <td>-0.0</td>\n      <td>-0.0</td>\n    </tr>\n    <tr>\n      <th>2</th>\n      <td>0.035402</td>\n      <td>-0.021307</td>\n      <td>-0.162006</td>\n      <td>-0.027995</td>\n      <td>-0.134008</td>\n      <td>-0.010706</td>\n      <td>0.021555</td>\n      <td>0.074421</td>\n      <td>0.045471</td>\n      <td>-0.019159</td>\n      <td>...</td>\n      <td>-0.0</td>\n      <td>-0.0</td>\n      <td>-0.0</td>\n      <td>-0.0</td>\n      <td>-0.0</td>\n      <td>-0.0</td>\n      <td>-0.0</td>\n      <td>-0.0</td>\n      <td>-0.0</td>\n      <td>-0.0</td>\n    </tr>\n    <tr>\n      <th>3</th>\n      <td>0.072021</td>\n      <td>-0.093834</td>\n      <td>0.038387</td>\n      <td>-0.037840</td>\n      <td>0.077072</td>\n      <td>0.048816</td>\n      <td>-0.156800</td>\n      <td>-0.063901</td>\n      <td>-0.030187</td>\n      <td>-0.034880</td>\n      <td>...</td>\n      <td>0.0</td>\n      <td>0.0</td>\n      <td>0.0</td>\n      <td>0.0</td>\n      <td>0.0</td>\n      <td>0.0</td>\n      <td>0.0</td>\n      <td>0.0</td>\n      <td>0.0</td>\n      <td>0.0</td>\n    </tr>\n    <tr>\n      <th>4</th>\n      <td>-0.032014</td>\n      <td>0.039427</td>\n      <td>-0.220735</td>\n      <td>-0.031251</td>\n      <td>-0.260376</td>\n      <td>0.009933</td>\n      <td>0.014319</td>\n      <td>0.062228</td>\n      <td>0.090181</td>\n      <td>-0.109755</td>\n      <td>...</td>\n      <td>0.0</td>\n      <td>0.0</td>\n      <td>0.0</td>\n      <td>0.0</td>\n      <td>0.0</td>\n      <td>0.0</td>\n      <td>0.0</td>\n      <td>0.0</td>\n      <td>0.0</td>\n      <td>0.0</td>\n    </tr>\n    <tr>\n      <th>5</th>\n      <td>-0.041651</td>\n      <td>-0.146245</td>\n      <td>-0.009126</td>\n      <td>0.026447</td>\n      <td>-0.124109</td>\n      <td>-0.025294</td>\n      <td>0.042129</td>\n      <td>0.069032</td>\n      <td>0.145676</td>\n      <td>0.166332</td>\n      <td>...</td>\n      <td>-0.0</td>\n      <td>-0.0</td>\n      <td>-0.0</td>\n      <td>-0.0</td>\n      <td>-0.0</td>\n      <td>-0.0</td>\n      <td>-0.0</td>\n      <td>-0.0</td>\n      <td>-0.0</td>\n      <td>-0.0</td>\n    </tr>\n    <tr>\n      <th>6</th>\n      <td>0.036111</td>\n      <td>0.028764</td>\n      <td>0.244213</td>\n      <td>0.071715</td>\n      <td>0.241247</td>\n      <td>-0.037454</td>\n      <td>-0.115436</td>\n      <td>-0.134949</td>\n      <td>-0.085279</td>\n      <td>-0.026920</td>\n      <td>...</td>\n      <td>-0.0</td>\n      <td>-0.0</td>\n      <td>-0.0</td>\n      <td>-0.0</td>\n      <td>-0.0</td>\n      <td>-0.0</td>\n      <td>-0.0</td>\n      <td>-0.0</td>\n      <td>-0.0</td>\n      <td>-0.0</td>\n    </tr>\n    <tr>\n      <th>7</th>\n      <td>0.015127</td>\n      <td>-0.136048</td>\n      <td>-0.255151</td>\n      <td>-0.063128</td>\n      <td>-0.267362</td>\n      <td>0.111666</td>\n      <td>0.003110</td>\n      <td>0.168861</td>\n      <td>0.125068</td>\n      <td>0.051478</td>\n      <td>...</td>\n      <td>0.0</td>\n      <td>0.0</td>\n      <td>0.0</td>\n      <td>0.0</td>\n      <td>0.0</td>\n      <td>0.0</td>\n      <td>0.0</td>\n      <td>0.0</td>\n      <td>0.0</td>\n      <td>0.0</td>\n    </tr>\n    <tr>\n      <th>8</th>\n      <td>-0.012961</td>\n      <td>-0.133148</td>\n      <td>-0.046304</td>\n      <td>0.159317</td>\n      <td>-0.128334</td>\n      <td>0.193294</td>\n      <td>-0.150006</td>\n      <td>0.068354</td>\n      <td>0.291535</td>\n      <td>-0.037769</td>\n      <td>...</td>\n      <td>0.0</td>\n      <td>0.0</td>\n      <td>0.0</td>\n      <td>0.0</td>\n      <td>0.0</td>\n      <td>0.0</td>\n      <td>0.0</td>\n      <td>0.0</td>\n      <td>0.0</td>\n      <td>0.0</td>\n    </tr>\n    <tr>\n      <th>9</th>\n      <td>-0.243541</td>\n      <td>0.215924</td>\n      <td>-0.072438</td>\n      <td>0.325103</td>\n      <td>-0.109664</td>\n      <td>-0.231688</td>\n      <td>0.165315</td>\n      <td>0.093639</td>\n      <td>0.225038</td>\n      <td>0.152254</td>\n      <td>...</td>\n      <td>-0.0</td>\n      <td>-0.0</td>\n      <td>-0.0</td>\n      <td>-0.0</td>\n      <td>-0.0</td>\n      <td>-0.0</td>\n      <td>-0.0</td>\n      <td>-0.0</td>\n      <td>-0.0</td>\n      <td>-0.0</td>\n    </tr>\n    <tr>\n      <th>10</th>\n      <td>0.240104</td>\n      <td>-0.116335</td>\n      <td>-0.079170</td>\n      <td>-0.239613</td>\n      <td>-0.084025</td>\n      <td>0.134342</td>\n      <td>0.012884</td>\n      <td>0.144501</td>\n      <td>0.059290</td>\n      <td>0.113983</td>\n      <td>...</td>\n      <td>-0.0</td>\n      <td>-0.0</td>\n      <td>-0.0</td>\n      <td>-0.0</td>\n      <td>-0.0</td>\n      <td>-0.0</td>\n      <td>-0.0</td>\n      <td>-0.0</td>\n      <td>-0.0</td>\n      <td>-0.0</td>\n    </tr>\n    <tr>\n      <th>11</th>\n      <td>0.339605</td>\n      <td>0.005284</td>\n      <td>0.103565</td>\n      <td>-0.039323</td>\n      <td>0.092211</td>\n      <td>0.214412</td>\n      <td>-0.005799</td>\n      <td>-0.221039</td>\n      <td>-0.169026</td>\n      <td>0.044002</td>\n      <td>...</td>\n      <td>0.0</td>\n      <td>0.0</td>\n      <td>0.0</td>\n      <td>0.0</td>\n      <td>0.0</td>\n      <td>0.0</td>\n      <td>0.0</td>\n      <td>0.0</td>\n      <td>0.0</td>\n      <td>0.0</td>\n    </tr>\n    <tr>\n      <th>12</th>\n      <td>-0.072419</td>\n      <td>0.281932</td>\n      <td>-0.082070</td>\n      <td>0.275462</td>\n      <td>-0.064282</td>\n      <td>-0.250231</td>\n      <td>-0.201147</td>\n      <td>0.089257</td>\n      <td>-0.062833</td>\n      <td>-0.376524</td>\n      <td>...</td>\n      <td>0.0</td>\n      <td>0.0</td>\n      <td>0.0</td>\n      <td>0.0</td>\n      <td>0.0</td>\n      <td>0.0</td>\n      <td>0.0</td>\n      <td>0.0</td>\n      <td>0.0</td>\n      <td>0.0</td>\n    </tr>\n    <tr>\n      <th>13</th>\n      <td>0.304520</td>\n      <td>-0.210854</td>\n      <td>0.132256</td>\n      <td>0.441874</td>\n      <td>0.063864</td>\n      <td>-0.382533</td>\n      <td>0.018825</td>\n      <td>-0.098534</td>\n      <td>0.225751</td>\n      <td>0.270058</td>\n      <td>...</td>\n      <td>0.0</td>\n      <td>0.0</td>\n      <td>0.0</td>\n      <td>0.0</td>\n      <td>0.0</td>\n      <td>0.0</td>\n      <td>0.0</td>\n      <td>0.0</td>\n      <td>0.0</td>\n      <td>0.0</td>\n    </tr>\n    <tr>\n      <th>14</th>\n      <td>0.288357</td>\n      <td>0.092433</td>\n      <td>-0.035258</td>\n      <td>0.020698</td>\n      <td>0.012128</td>\n      <td>0.073277</td>\n      <td>-0.048253</td>\n      <td>0.068150</td>\n      <td>0.058866</td>\n      <td>0.015464</td>\n      <td>...</td>\n      <td>-0.0</td>\n      <td>-0.0</td>\n      <td>-0.0</td>\n      <td>-0.0</td>\n      <td>-0.0</td>\n      <td>-0.0</td>\n      <td>-0.0</td>\n      <td>-0.0</td>\n      <td>-0.0</td>\n      <td>-0.0</td>\n    </tr>\n    <tr>\n      <th>15</th>\n      <td>-0.122480</td>\n      <td>0.050463</td>\n      <td>0.034421</td>\n      <td>-0.193283</td>\n      <td>0.034720</td>\n      <td>0.197604</td>\n      <td>0.078026</td>\n      <td>-0.003838</td>\n      <td>0.199882</td>\n      <td>-0.283231</td>\n      <td>...</td>\n      <td>-0.0</td>\n      <td>-0.0</td>\n      <td>-0.0</td>\n      <td>-0.0</td>\n      <td>-0.0</td>\n      <td>-0.0</td>\n      <td>-0.0</td>\n      <td>-0.0</td>\n      <td>-0.0</td>\n      <td>-0.0</td>\n    </tr>\n    <tr>\n      <th>16</th>\n      <td>0.122577</td>\n      <td>0.043294</td>\n      <td>-0.056898</td>\n      <td>-0.116480</td>\n      <td>-0.004389</td>\n      <td>-0.149003</td>\n      <td>-0.120261</td>\n      <td>-0.032017</td>\n      <td>0.133240</td>\n      <td>-0.394388</td>\n      <td>...</td>\n      <td>-0.0</td>\n      <td>-0.0</td>\n      <td>-0.0</td>\n      <td>-0.0</td>\n      <td>-0.0</td>\n      <td>-0.0</td>\n      <td>-0.0</td>\n      <td>-0.0</td>\n      <td>-0.0</td>\n      <td>-0.0</td>\n    </tr>\n    <tr>\n      <th>17</th>\n      <td>0.124948</td>\n      <td>0.173401</td>\n      <td>0.024224</td>\n      <td>0.017199</td>\n      <td>0.111477</td>\n      <td>0.185531</td>\n      <td>0.047803</td>\n      <td>0.029915</td>\n      <td>-0.298892</td>\n      <td>0.039861</td>\n      <td>...</td>\n      <td>0.0</td>\n      <td>0.0</td>\n      <td>0.0</td>\n      <td>0.0</td>\n      <td>0.0</td>\n      <td>0.0</td>\n      <td>0.0</td>\n      <td>0.0</td>\n      <td>0.0</td>\n      <td>0.0</td>\n    </tr>\n    <tr>\n      <th>18</th>\n      <td>-0.400325</td>\n      <td>0.091175</td>\n      <td>0.189033</td>\n      <td>-0.081156</td>\n      <td>0.072980</td>\n      <td>0.290565</td>\n      <td>-0.187443</td>\n      <td>-0.110161</td>\n      <td>0.406074</td>\n      <td>0.256926</td>\n      <td>...</td>\n      <td>0.0</td>\n      <td>0.0</td>\n      <td>0.0</td>\n      <td>0.0</td>\n      <td>0.0</td>\n      <td>0.0</td>\n      <td>0.0</td>\n      <td>0.0</td>\n      <td>0.0</td>\n      <td>0.0</td>\n    </tr>\n    <tr>\n      <th>19</th>\n      <td>-0.048545</td>\n      <td>-0.000810</td>\n      <td>0.109126</td>\n      <td>-0.276087</td>\n      <td>0.030795</td>\n      <td>-0.372132</td>\n      <td>-0.047618</td>\n      <td>-0.186751</td>\n      <td>0.123596</td>\n      <td>0.085433</td>\n      <td>...</td>\n      <td>0.0</td>\n      <td>0.0</td>\n      <td>0.0</td>\n      <td>0.0</td>\n      <td>0.0</td>\n      <td>0.0</td>\n      <td>0.0</td>\n      <td>0.0</td>\n      <td>0.0</td>\n      <td>0.0</td>\n    </tr>\n    <tr>\n      <th>20</th>\n      <td>0.063794</td>\n      <td>-0.101403</td>\n      <td>0.056765</td>\n      <td>-0.044510</td>\n      <td>0.046939</td>\n      <td>-0.073849</td>\n      <td>0.074942</td>\n      <td>-0.035451</td>\n      <td>0.239342</td>\n      <td>-0.499170</td>\n      <td>...</td>\n      <td>0.0</td>\n      <td>0.0</td>\n      <td>0.0</td>\n      <td>0.0</td>\n      <td>0.0</td>\n      <td>0.0</td>\n      <td>0.0</td>\n      <td>0.0</td>\n      <td>0.0</td>\n      <td>0.0</td>\n    </tr>\n    <tr>\n      <th>21</th>\n      <td>-0.033441</td>\n      <td>-0.115754</td>\n      <td>0.110693</td>\n      <td>-0.185341</td>\n      <td>-0.002112</td>\n      <td>0.053623</td>\n      <td>0.164726</td>\n      <td>-0.042708</td>\n      <td>0.168883</td>\n      <td>0.096811</td>\n      <td>...</td>\n      <td>-0.0</td>\n      <td>-0.0</td>\n      <td>-0.0</td>\n      <td>-0.0</td>\n      <td>-0.0</td>\n      <td>-0.0</td>\n      <td>-0.0</td>\n      <td>-0.0</td>\n      <td>-0.0</td>\n      <td>-0.0</td>\n    </tr>\n    <tr>\n      <th>22</th>\n      <td>-0.443526</td>\n      <td>-0.100700</td>\n      <td>-0.126298</td>\n      <td>0.247441</td>\n      <td>0.082589</td>\n      <td>0.136860</td>\n      <td>0.032265</td>\n      <td>-0.024113</td>\n      <td>-0.371146</td>\n      <td>-0.032310</td>\n      <td>...</td>\n      <td>0.0</td>\n      <td>0.0</td>\n      <td>0.0</td>\n      <td>0.0</td>\n      <td>0.0</td>\n      <td>0.0</td>\n      <td>0.0</td>\n      <td>0.0</td>\n      <td>0.0</td>\n      <td>0.0</td>\n    </tr>\n    <tr>\n      <th>23</th>\n      <td>-0.072082</td>\n      <td>0.075565</td>\n      <td>-0.093872</td>\n      <td>-0.370237</td>\n      <td>-0.120948</td>\n      <td>-0.313611</td>\n      <td>-0.057576</td>\n      <td>0.051734</td>\n      <td>-0.230357</td>\n      <td>0.202168</td>\n      <td>...</td>\n      <td>0.0</td>\n      <td>0.0</td>\n      <td>0.0</td>\n      <td>0.0</td>\n      <td>0.0</td>\n      <td>0.0</td>\n      <td>0.0</td>\n      <td>0.0</td>\n      <td>0.0</td>\n      <td>0.0</td>\n    </tr>\n    <tr>\n      <th>24</th>\n      <td>-0.209952</td>\n      <td>0.029660</td>\n      <td>-0.002859</td>\n      <td>-0.323429</td>\n      <td>0.139497</td>\n      <td>-0.341120</td>\n      <td>-0.118075</td>\n      <td>0.087982</td>\n      <td>-0.048275</td>\n      <td>0.016343</td>\n      <td>...</td>\n      <td>-0.0</td>\n      <td>-0.0</td>\n      <td>-0.0</td>\n      <td>-0.0</td>\n      <td>-0.0</td>\n      <td>-0.0</td>\n      <td>-0.0</td>\n      <td>-0.0</td>\n      <td>-0.0</td>\n      <td>-0.0</td>\n    </tr>\n    <tr>\n      <th>25</th>\n      <td>0.191924</td>\n      <td>0.101211</td>\n      <td>-0.008542</td>\n      <td>-0.016053</td>\n      <td>-0.187379</td>\n      <td>-0.074588</td>\n      <td>0.279172</td>\n      <td>-0.083603</td>\n      <td>0.009555</td>\n      <td>0.008390</td>\n      <td>...</td>\n      <td>0.0</td>\n      <td>0.0</td>\n      <td>0.0</td>\n      <td>0.0</td>\n      <td>0.0</td>\n      <td>0.0</td>\n      <td>0.0</td>\n      <td>0.0</td>\n      <td>0.0</td>\n      <td>0.0</td>\n    </tr>\n    <tr>\n      <th>26</th>\n      <td>0.069697</td>\n      <td>-0.113571</td>\n      <td>0.002111</td>\n      <td>-0.113947</td>\n      <td>0.010329</td>\n      <td>-0.039871</td>\n      <td>0.184086</td>\n      <td>0.303537</td>\n      <td>0.010076</td>\n      <td>0.080349</td>\n      <td>...</td>\n      <td>-0.0</td>\n      <td>-0.0</td>\n      <td>-0.0</td>\n      <td>-0.0</td>\n      <td>-0.0</td>\n      <td>-0.0</td>\n      <td>-0.0</td>\n      <td>-0.0</td>\n      <td>-0.0</td>\n      <td>-0.0</td>\n    </tr>\n    <tr>\n      <th>27</th>\n      <td>-0.120315</td>\n      <td>-0.291298</td>\n      <td>0.166026</td>\n      <td>0.052120</td>\n      <td>0.063083</td>\n      <td>0.004751</td>\n      <td>0.360798</td>\n      <td>-0.063941</td>\n      <td>0.008030</td>\n      <td>-0.176374</td>\n      <td>...</td>\n      <td>0.0</td>\n      <td>0.0</td>\n      <td>0.0</td>\n      <td>0.0</td>\n      <td>0.0</td>\n      <td>0.0</td>\n      <td>0.0</td>\n      <td>0.0</td>\n      <td>0.0</td>\n      <td>0.0</td>\n    </tr>\n    <tr>\n      <th>28</th>\n      <td>-0.082733</td>\n      <td>-0.226504</td>\n      <td>0.058533</td>\n      <td>0.067010</td>\n      <td>-0.033879</td>\n      <td>-0.052728</td>\n      <td>0.380352</td>\n      <td>0.266247</td>\n      <td>-0.202176</td>\n      <td>-0.028181</td>\n      <td>...</td>\n      <td>-0.0</td>\n      <td>-0.0</td>\n      <td>-0.0</td>\n      <td>-0.0</td>\n      <td>-0.0</td>\n      <td>-0.0</td>\n      <td>-0.0</td>\n      <td>-0.0</td>\n      <td>-0.0</td>\n      <td>-0.0</td>\n    </tr>\n    <tr>\n      <th>29</th>\n      <td>-0.044239</td>\n      <td>0.059274</td>\n      <td>0.001459</td>\n      <td>-0.122749</td>\n      <td>-0.081976</td>\n      <td>-0.024836</td>\n      <td>0.409453</td>\n      <td>-0.252336</td>\n      <td>0.027117</td>\n      <td>-0.070299</td>\n      <td>...</td>\n      <td>-0.0</td>\n      <td>-0.0</td>\n      <td>-0.0</td>\n      <td>-0.0</td>\n      <td>-0.0</td>\n      <td>-0.0</td>\n      <td>-0.0</td>\n      <td>-0.0</td>\n      <td>-0.0</td>\n      <td>-0.0</td>\n    </tr>\n    <tr>\n      <th>30</th>\n      <td>0.018911</td>\n      <td>-0.253617</td>\n      <td>0.069440</td>\n      <td>0.011098</td>\n      <td>0.072289</td>\n      <td>0.005939</td>\n      <td>-0.114140</td>\n      <td>0.126919</td>\n      <td>-0.076552</td>\n      <td>-0.031527</td>\n      <td>...</td>\n      <td>0.0</td>\n      <td>0.0</td>\n      <td>0.0</td>\n      <td>0.0</td>\n      <td>0.0</td>\n      <td>0.0</td>\n      <td>0.0</td>\n      <td>0.0</td>\n      <td>0.0</td>\n      <td>0.0</td>\n    </tr>\n    <tr>\n      <th>31</th>\n      <td>0.103334</td>\n      <td>0.323185</td>\n      <td>-0.141002</td>\n      <td>0.037023</td>\n      <td>0.048949</td>\n      <td>0.106624</td>\n      <td>0.029097</td>\n      <td>0.070719</td>\n      <td>0.038685</td>\n      <td>0.092598</td>\n      <td>...</td>\n      <td>-0.0</td>\n      <td>-0.0</td>\n      <td>-0.0</td>\n      <td>-0.0</td>\n      <td>-0.0</td>\n      <td>-0.0</td>\n      <td>-0.0</td>\n      <td>-0.0</td>\n      <td>-0.0</td>\n      <td>-0.0</td>\n    </tr>\n    <tr>\n      <th>32</th>\n      <td>-0.092375</td>\n      <td>-0.151364</td>\n      <td>0.161059</td>\n      <td>-0.052854</td>\n      <td>0.065023</td>\n      <td>-0.079748</td>\n      <td>0.025145</td>\n      <td>-0.098149</td>\n      <td>0.033551</td>\n      <td>-0.071199</td>\n      <td>...</td>\n      <td>0.0</td>\n      <td>0.0</td>\n      <td>0.0</td>\n      <td>0.0</td>\n      <td>0.0</td>\n      <td>0.0</td>\n      <td>0.0</td>\n      <td>0.0</td>\n      <td>0.0</td>\n      <td>0.0</td>\n    </tr>\n    <tr>\n      <th>33</th>\n      <td>-0.015524</td>\n      <td>-0.214507</td>\n      <td>0.018314</td>\n      <td>-0.024730</td>\n      <td>0.140848</td>\n      <td>-0.094922</td>\n      <td>-0.144787</td>\n      <td>0.201591</td>\n      <td>-0.009095</td>\n      <td>0.017167</td>\n      <td>...</td>\n      <td>-0.0</td>\n      <td>-0.0</td>\n      <td>-0.0</td>\n      <td>-0.0</td>\n      <td>-0.0</td>\n      <td>-0.0</td>\n      <td>-0.0</td>\n      <td>-0.0</td>\n      <td>-0.0</td>\n      <td>-0.0</td>\n    </tr>\n    <tr>\n      <th>34</th>\n      <td>0.037188</td>\n      <td>-0.287845</td>\n      <td>-0.068964</td>\n      <td>0.030987</td>\n      <td>-0.220443</td>\n      <td>-0.026393</td>\n      <td>-0.260302</td>\n      <td>-0.098871</td>\n      <td>-0.098051</td>\n      <td>-0.064157</td>\n      <td>...</td>\n      <td>0.0</td>\n      <td>0.0</td>\n      <td>0.0</td>\n      <td>0.0</td>\n      <td>0.0</td>\n      <td>0.0</td>\n      <td>0.0</td>\n      <td>0.0</td>\n      <td>0.0</td>\n      <td>0.0</td>\n    </tr>\n    <tr>\n      <th>35</th>\n      <td>-0.036775</td>\n      <td>-0.089461</td>\n      <td>-0.092341</td>\n      <td>-0.006429</td>\n      <td>-0.033777</td>\n      <td>-0.049880</td>\n      <td>-0.114672</td>\n      <td>-0.017249</td>\n      <td>-0.067046</td>\n      <td>0.063475</td>\n      <td>...</td>\n      <td>-0.0</td>\n      <td>-0.0</td>\n      <td>-0.0</td>\n      <td>-0.0</td>\n      <td>-0.0</td>\n      <td>-0.0</td>\n      <td>-0.0</td>\n      <td>-0.0</td>\n      <td>-0.0</td>\n      <td>-0.0</td>\n    </tr>\n    <tr>\n      <th>36</th>\n      <td>0.002817</td>\n      <td>-0.110381</td>\n      <td>0.090235</td>\n      <td>-0.034347</td>\n      <td>0.068505</td>\n      <td>0.041430</td>\n      <td>-0.084453</td>\n      <td>0.205023</td>\n      <td>0.025483</td>\n      <td>-0.038835</td>\n      <td>...</td>\n      <td>0.0</td>\n      <td>0.0</td>\n      <td>0.0</td>\n      <td>0.0</td>\n      <td>0.0</td>\n      <td>0.0</td>\n      <td>0.0</td>\n      <td>0.0</td>\n      <td>0.0</td>\n      <td>0.0</td>\n    </tr>\n    <tr>\n      <th>37</th>\n      <td>0.059039</td>\n      <td>0.097060</td>\n      <td>-0.041825</td>\n      <td>-0.000238</td>\n      <td>0.231478</td>\n      <td>-0.030212</td>\n      <td>0.010304</td>\n      <td>0.204819</td>\n      <td>0.115637</td>\n      <td>0.031257</td>\n      <td>...</td>\n      <td>-0.0</td>\n      <td>-0.0</td>\n      <td>-0.0</td>\n      <td>-0.0</td>\n      <td>-0.0</td>\n      <td>-0.0</td>\n      <td>-0.0</td>\n      <td>-0.0</td>\n      <td>-0.0</td>\n      <td>-0.0</td>\n    </tr>\n    <tr>\n      <th>38</th>\n      <td>0.091875</td>\n      <td>0.183608</td>\n      <td>-0.007371</td>\n      <td>-0.046356</td>\n      <td>0.245527</td>\n      <td>-0.038729</td>\n      <td>0.111573</td>\n      <td>0.268186</td>\n      <td>0.077269</td>\n      <td>-0.007240</td>\n      <td>...</td>\n      <td>-0.0</td>\n      <td>-0.0</td>\n      <td>-0.0</td>\n      <td>-0.0</td>\n      <td>-0.0</td>\n      <td>-0.0</td>\n      <td>-0.0</td>\n      <td>-0.0</td>\n      <td>-0.0</td>\n      <td>-0.0</td>\n    </tr>\n    <tr>\n      <th>39</th>\n      <td>0.036714</td>\n      <td>-0.039365</td>\n      <td>0.166295</td>\n      <td>0.002739</td>\n      <td>-0.004257</td>\n      <td>-0.006205</td>\n      <td>-0.080033</td>\n      <td>0.021236</td>\n      <td>-0.017743</td>\n      <td>-0.082832</td>\n      <td>...</td>\n      <td>0.0</td>\n      <td>0.0</td>\n      <td>0.0</td>\n      <td>0.0</td>\n      <td>0.0</td>\n      <td>0.0</td>\n      <td>0.0</td>\n      <td>0.0</td>\n      <td>0.0</td>\n      <td>0.0</td>\n    </tr>\n    <tr>\n      <th>40</th>\n      <td>-0.028015</td>\n      <td>-0.096091</td>\n      <td>-0.007485</td>\n      <td>-0.027189</td>\n      <td>-0.333352</td>\n      <td>-0.012541</td>\n      <td>-0.087695</td>\n      <td>-0.207842</td>\n      <td>-0.113780</td>\n      <td>0.003321</td>\n      <td>...</td>\n      <td>-0.0</td>\n      <td>-0.0</td>\n      <td>-0.0</td>\n      <td>-0.0</td>\n      <td>-0.0</td>\n      <td>-0.0</td>\n      <td>-0.0</td>\n      <td>-0.0</td>\n      <td>-0.0</td>\n      <td>-0.0</td>\n    </tr>\n    <tr>\n      <th>41</th>\n      <td>0.040639</td>\n      <td>0.013464</td>\n      <td>-0.049549</td>\n      <td>-0.009523</td>\n      <td>-0.010697</td>\n      <td>-0.012912</td>\n      <td>-0.038267</td>\n      <td>-0.112179</td>\n      <td>-0.004900</td>\n      <td>0.004238</td>\n      <td>...</td>\n      <td>0.0</td>\n      <td>0.0</td>\n      <td>0.0</td>\n      <td>0.0</td>\n      <td>0.0</td>\n      <td>0.0</td>\n      <td>0.0</td>\n      <td>0.0</td>\n      <td>0.0</td>\n      <td>0.0</td>\n    </tr>\n    <tr>\n      <th>42</th>\n      <td>0.018352</td>\n      <td>-0.014828</td>\n      <td>-0.028082</td>\n      <td>0.015880</td>\n      <td>-0.005458</td>\n      <td>-0.013898</td>\n      <td>-0.030076</td>\n      <td>-0.122529</td>\n      <td>0.003282</td>\n      <td>0.061416</td>\n      <td>...</td>\n      <td>0.0</td>\n      <td>0.0</td>\n      <td>0.0</td>\n      <td>0.0</td>\n      <td>0.0</td>\n      <td>0.0</td>\n      <td>0.0</td>\n      <td>0.0</td>\n      <td>0.0</td>\n      <td>0.0</td>\n    </tr>\n    <tr>\n      <th>43</th>\n      <td>-0.068455</td>\n      <td>-0.065018</td>\n      <td>0.015564</td>\n      <td>0.016306</td>\n      <td>0.082668</td>\n      <td>-0.006793</td>\n      <td>-0.084858</td>\n      <td>0.123991</td>\n      <td>-0.015144</td>\n      <td>0.002270</td>\n      <td>...</td>\n      <td>-0.0</td>\n      <td>-0.0</td>\n      <td>-0.0</td>\n      <td>-0.0</td>\n      <td>-0.0</td>\n      <td>-0.0</td>\n      <td>-0.0</td>\n      <td>-0.0</td>\n      <td>-0.0</td>\n      <td>-0.0</td>\n    </tr>\n    <tr>\n      <th>44</th>\n      <td>-0.003017</td>\n      <td>-0.043453</td>\n      <td>-0.051225</td>\n      <td>-0.006671</td>\n      <td>0.014806</td>\n      <td>-0.044894</td>\n      <td>-0.024979</td>\n      <td>-0.034732</td>\n      <td>0.008706</td>\n      <td>0.030634</td>\n      <td>...</td>\n      <td>0.0</td>\n      <td>0.0</td>\n      <td>0.0</td>\n      <td>0.0</td>\n      <td>0.0</td>\n      <td>0.0</td>\n      <td>0.0</td>\n      <td>0.0</td>\n      <td>0.0</td>\n      <td>0.0</td>\n    </tr>\n  </tbody>\n</table>\n<p>45 rows × 111 columns</p>\n</div>"
     },
     "execution_count": 449,
     "metadata": {},
     "output_type": "execute_result"
    }
   ],
   "source": [
    "pca_comp"
   ],
   "metadata": {
    "collapsed": false,
    "pycharm": {
     "name": "#%%\n"
    }
   }
  },
  {
   "cell_type": "code",
   "execution_count": null,
   "outputs": [],
   "source": [
    "# y = pp_met.iloc[pca_comp.index]\n",
    "# # print(y.shape)\n",
    "# print(pca_comp)\n",
    "# x_train, x_test, y_train, y_test = train_test_split(pca_data, y)\n",
    "# mdl = LinearRegression().fit(x_train, y_train)\n",
    "# y_pred = mdl.predict(x_test)\n",
    "# print(f\"mse: {mean_squared_error(y_test, y_pred)}\")\n",
    "#\n",
    "# fig = plt.figure(figsize=(10,5))\n",
    "# plt.scatter(y_test,y_pred)\n",
    "# plt.plot(y_test,y_test,'r', label='test')\n",
    "# plt.plot(y_pred,y_pred,'b', label='pred')"
   ],
   "metadata": {
    "collapsed": false,
    "pycharm": {
     "name": "#%%\n"
    }
   }
  },
  {
   "cell_type": "code",
   "execution_count": null,
   "outputs": [],
   "source": [
    "pca_data"
   ],
   "metadata": {
    "collapsed": false,
    "pycharm": {
     "name": "#%%\n"
    }
   }
  },
  {
   "cell_type": "markdown",
   "source": [
    "1. All 111 or 71 if mfccs are left out\n",
    "2. 1 model with forward regression\n",
    "3. 1 model with backward regression\n",
    "4. best 2 models with best subset with len=avg(forward and backward)\n",
    "5. Limit our initial feature set => data visualisations and exploration"
   ],
   "metadata": {
    "collapsed": false,
    "pycharm": {
     "name": "#%% md\n"
    }
   }
  }
 ],
 "metadata": {
  "kernelspec": {
   "display_name": "Python 3",
   "language": "python",
   "name": "python3"
  },
  "language_info": {
   "codemirror_mode": {
    "name": "ipython",
    "version": 2
   },
   "file_extension": ".py",
   "mimetype": "text/x-python",
   "name": "python",
   "nbconvert_exporter": "python",
   "pygments_lexer": "ipython2",
   "version": "2.7.6"
  }
 },
 "nbformat": 4,
 "nbformat_minor": 0
}