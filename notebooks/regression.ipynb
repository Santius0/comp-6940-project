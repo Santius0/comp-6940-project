{
 "cells": [
  {
   "cell_type": "code",
   "execution_count": 776,
   "metadata": {
    "collapsed": true,
    "pycharm": {
     "name": "#%%\n"
    }
   },
   "outputs": [],
   "source": [
    "import pandas as pd\n",
    "import numpy as np\n",
    "import matplotlib.pyplot as plt\n",
    "import seaborn as sns\n",
    "\n",
    "from sklearn.metrics import mean_squared_error, r2_score\n",
    "from sklearn.model_selection import train_test_split, KFold, GridSearchCV\n",
    "from sklearn.feature_selection import SequentialFeatureSelector\n",
    "from sklearn.linear_model import Ridge, Lasso, ElasticNet, LinearRegression\n",
    "from sklearn.preprocessing import StandardScaler\n",
    "\n",
    "import warnings\n",
    "import itertools\n",
    "import time\n",
    "from joblib import load, dump"
   ]
  },
  {
   "cell_type": "code",
   "execution_count": 777,
   "outputs": [],
   "source": [
    "warnings.filterwarnings(\"ignore\")"
   ],
   "metadata": {
    "collapsed": false,
    "pycharm": {
     "name": "#%%\n"
    }
   }
  },
  {
   "cell_type": "code",
   "execution_count": 778,
   "outputs": [],
   "source": [
    "data_df = pd.read_csv(\"../data/data.csv\")\n",
    "billboard_df = pd.read_csv(\"../data/billboard/hot-100_all.csv\")\n",
    "pop_metrics = pd.read_csv(\"../data/popularity_metrics.csv\")\n",
    "\n",
    "data_df.drop(labels='Unnamed: 0', axis=1, inplace=True)\n",
    "mfccs = data_df.filter(regex='mfcc*')\n",
    "data_df = data_df.filter(regex='^((?!mfcc).)*$')\n",
    "pop_metrics.drop(labels='Unnamed: 0', axis=1, inplace=True)\n",
    "# pop_metrics['avg_rank_score'] = pop_metrics['avg_rank_score'].apply(lambda x: x*100)"
   ],
   "metadata": {
    "collapsed": false,
    "pycharm": {
     "name": "#%%\n"
    }
   }
  },
  {
   "cell_type": "code",
   "execution_count": 779,
   "outputs": [
    {
     "data": {
      "text/plain": "      duration_ms  danceability    energy       key  loudness      mode  \\\n0        0.796196     -2.178146  0.030618  0.513133 -0.277509  0.778521   \n1       -1.466521     -0.508462 -0.921567  0.790982 -0.776142  0.778521   \n2       -1.373778      0.580463 -1.216437 -0.876113 -0.665248  0.778521   \n3       -1.283932      0.111895 -1.517450 -1.431812 -2.446135  0.778521   \n4        0.287341      0.191090  0.859939 -1.431812  1.260264  0.778521   \n...           ...           ...       ...       ...       ...       ...   \n1418     0.607892     -0.567858  1.025804 -1.153963  0.709287 -1.284487   \n1419     0.424180      0.336280 -1.093574 -1.153963 -1.697798  0.778521   \n1420    -0.596684      0.098696 -0.614410 -0.042566 -0.772652 -1.284487   \n1421     0.005151      1.379008 -0.884708  0.513133 -1.479113  0.778521   \n1422    -0.843427      1.240417  1.130237  1.624529 -0.587313 -1.284487   \n\n      speechiness  acousticness  instrumentalness  liveness  ...  \\\n0       -0.806495     -0.236372         -0.153169 -0.839151  ...   \n1       -0.712676      1.541868         -0.153169  2.511305  ...   \n2       -0.823191      1.656466         -0.153169 -0.882363  ...   \n3       -0.870895      1.403561         -0.153169 -0.799026  ...   \n4       -0.797749     -0.125726         -0.126556 -0.719547  ...   \n...           ...           ...               ...       ...  ...   \n1418    -0.748454     -0.714917         -0.153169 -0.258879  ...   \n1419     0.319326     -0.806990         -0.149733 -0.505803  ...   \n1420     1.297263     -0.808966         -0.153169  1.816830  ...   \n1421     0.621453     -0.856109         -0.153169 -0.251162  ...   \n1422    -0.407369     -0.801853          0.437993 -0.843009  ...   \n\n      var_segment_loudness_max_end_diff  mean_segment_num_pitches  \\\n0                                   1.0                       0.0   \n1                                   1.0                       0.0   \n2                                   1.0                       0.0   \n3                                   1.0                       0.0   \n4                                   1.0                       0.0   \n...                                 ...                       ...   \n1418                                1.0                       0.0   \n1419                                1.0                       0.0   \n1420                                1.0                       0.0   \n1421                                1.0                       0.0   \n1422                                1.0                       0.0   \n\n      var_segment_num_pitches  mean_segment_num_pure_pitches  \\\n0                         0.0                            0.0   \n1                         0.0                            0.0   \n2                         0.0                            0.0   \n3                         0.0                            0.0   \n4                         0.0                            0.0   \n...                       ...                            ...   \n1418                      0.0                            0.0   \n1419                      0.0                            0.0   \n1420                      0.0                            0.0   \n1421                      0.0                            0.0   \n1422                      0.0                            0.0   \n\n      var_segment_num_pure_pitches  mean_segment_timbre  var_segment_timbre  \\\n0                             -1.0                  1.0                 0.0   \n1                             -1.0                  1.0                 0.0   \n2                             -1.0                  1.0                 0.0   \n3                             -1.0                  1.0                 0.0   \n4                             -1.0                  1.0                 0.0   \n...                            ...                  ...                 ...   \n1418                          -1.0                  1.0                 0.0   \n1419                          -1.0                  1.0                 0.0   \n1420                          -1.0                  1.0                 0.0   \n1421                          -1.0                  1.0                 0.0   \n1422                          -1.0                  1.0                 0.0   \n\n      num_tatums  mean_tatum_duration  var_tatum_duration  \n0            0.0                 -1.0                 1.0  \n1            0.0                 -1.0                 1.0  \n2            0.0                 -1.0                 1.0  \n3            0.0                 -1.0                 1.0  \n4            0.0                 -1.0                 1.0  \n...          ...                  ...                 ...  \n1418         0.0                 -1.0                 1.0  \n1419         0.0                 -1.0                 1.0  \n1420         0.0                 -1.0                 1.0  \n1421         0.0                 -1.0                 1.0  \n1422         0.0                 -1.0                 1.0  \n\n[1423 rows x 71 columns]",
      "text/html": "<div>\n<style scoped>\n    .dataframe tbody tr th:only-of-type {\n        vertical-align: middle;\n    }\n\n    .dataframe tbody tr th {\n        vertical-align: top;\n    }\n\n    .dataframe thead th {\n        text-align: right;\n    }\n</style>\n<table border=\"1\" class=\"dataframe\">\n  <thead>\n    <tr style=\"text-align: right;\">\n      <th></th>\n      <th>duration_ms</th>\n      <th>danceability</th>\n      <th>energy</th>\n      <th>key</th>\n      <th>loudness</th>\n      <th>mode</th>\n      <th>speechiness</th>\n      <th>acousticness</th>\n      <th>instrumentalness</th>\n      <th>liveness</th>\n      <th>...</th>\n      <th>var_segment_loudness_max_end_diff</th>\n      <th>mean_segment_num_pitches</th>\n      <th>var_segment_num_pitches</th>\n      <th>mean_segment_num_pure_pitches</th>\n      <th>var_segment_num_pure_pitches</th>\n      <th>mean_segment_timbre</th>\n      <th>var_segment_timbre</th>\n      <th>num_tatums</th>\n      <th>mean_tatum_duration</th>\n      <th>var_tatum_duration</th>\n    </tr>\n  </thead>\n  <tbody>\n    <tr>\n      <th>0</th>\n      <td>0.796196</td>\n      <td>-2.178146</td>\n      <td>0.030618</td>\n      <td>0.513133</td>\n      <td>-0.277509</td>\n      <td>0.778521</td>\n      <td>-0.806495</td>\n      <td>-0.236372</td>\n      <td>-0.153169</td>\n      <td>-0.839151</td>\n      <td>...</td>\n      <td>1.0</td>\n      <td>0.0</td>\n      <td>0.0</td>\n      <td>0.0</td>\n      <td>-1.0</td>\n      <td>1.0</td>\n      <td>0.0</td>\n      <td>0.0</td>\n      <td>-1.0</td>\n      <td>1.0</td>\n    </tr>\n    <tr>\n      <th>1</th>\n      <td>-1.466521</td>\n      <td>-0.508462</td>\n      <td>-0.921567</td>\n      <td>0.790982</td>\n      <td>-0.776142</td>\n      <td>0.778521</td>\n      <td>-0.712676</td>\n      <td>1.541868</td>\n      <td>-0.153169</td>\n      <td>2.511305</td>\n      <td>...</td>\n      <td>1.0</td>\n      <td>0.0</td>\n      <td>0.0</td>\n      <td>0.0</td>\n      <td>-1.0</td>\n      <td>1.0</td>\n      <td>0.0</td>\n      <td>0.0</td>\n      <td>-1.0</td>\n      <td>1.0</td>\n    </tr>\n    <tr>\n      <th>2</th>\n      <td>-1.373778</td>\n      <td>0.580463</td>\n      <td>-1.216437</td>\n      <td>-0.876113</td>\n      <td>-0.665248</td>\n      <td>0.778521</td>\n      <td>-0.823191</td>\n      <td>1.656466</td>\n      <td>-0.153169</td>\n      <td>-0.882363</td>\n      <td>...</td>\n      <td>1.0</td>\n      <td>0.0</td>\n      <td>0.0</td>\n      <td>0.0</td>\n      <td>-1.0</td>\n      <td>1.0</td>\n      <td>0.0</td>\n      <td>0.0</td>\n      <td>-1.0</td>\n      <td>1.0</td>\n    </tr>\n    <tr>\n      <th>3</th>\n      <td>-1.283932</td>\n      <td>0.111895</td>\n      <td>-1.517450</td>\n      <td>-1.431812</td>\n      <td>-2.446135</td>\n      <td>0.778521</td>\n      <td>-0.870895</td>\n      <td>1.403561</td>\n      <td>-0.153169</td>\n      <td>-0.799026</td>\n      <td>...</td>\n      <td>1.0</td>\n      <td>0.0</td>\n      <td>0.0</td>\n      <td>0.0</td>\n      <td>-1.0</td>\n      <td>1.0</td>\n      <td>0.0</td>\n      <td>0.0</td>\n      <td>-1.0</td>\n      <td>1.0</td>\n    </tr>\n    <tr>\n      <th>4</th>\n      <td>0.287341</td>\n      <td>0.191090</td>\n      <td>0.859939</td>\n      <td>-1.431812</td>\n      <td>1.260264</td>\n      <td>0.778521</td>\n      <td>-0.797749</td>\n      <td>-0.125726</td>\n      <td>-0.126556</td>\n      <td>-0.719547</td>\n      <td>...</td>\n      <td>1.0</td>\n      <td>0.0</td>\n      <td>0.0</td>\n      <td>0.0</td>\n      <td>-1.0</td>\n      <td>1.0</td>\n      <td>0.0</td>\n      <td>0.0</td>\n      <td>-1.0</td>\n      <td>1.0</td>\n    </tr>\n    <tr>\n      <th>...</th>\n      <td>...</td>\n      <td>...</td>\n      <td>...</td>\n      <td>...</td>\n      <td>...</td>\n      <td>...</td>\n      <td>...</td>\n      <td>...</td>\n      <td>...</td>\n      <td>...</td>\n      <td>...</td>\n      <td>...</td>\n      <td>...</td>\n      <td>...</td>\n      <td>...</td>\n      <td>...</td>\n      <td>...</td>\n      <td>...</td>\n      <td>...</td>\n      <td>...</td>\n      <td>...</td>\n    </tr>\n    <tr>\n      <th>1418</th>\n      <td>0.607892</td>\n      <td>-0.567858</td>\n      <td>1.025804</td>\n      <td>-1.153963</td>\n      <td>0.709287</td>\n      <td>-1.284487</td>\n      <td>-0.748454</td>\n      <td>-0.714917</td>\n      <td>-0.153169</td>\n      <td>-0.258879</td>\n      <td>...</td>\n      <td>1.0</td>\n      <td>0.0</td>\n      <td>0.0</td>\n      <td>0.0</td>\n      <td>-1.0</td>\n      <td>1.0</td>\n      <td>0.0</td>\n      <td>0.0</td>\n      <td>-1.0</td>\n      <td>1.0</td>\n    </tr>\n    <tr>\n      <th>1419</th>\n      <td>0.424180</td>\n      <td>0.336280</td>\n      <td>-1.093574</td>\n      <td>-1.153963</td>\n      <td>-1.697798</td>\n      <td>0.778521</td>\n      <td>0.319326</td>\n      <td>-0.806990</td>\n      <td>-0.149733</td>\n      <td>-0.505803</td>\n      <td>...</td>\n      <td>1.0</td>\n      <td>0.0</td>\n      <td>0.0</td>\n      <td>0.0</td>\n      <td>-1.0</td>\n      <td>1.0</td>\n      <td>0.0</td>\n      <td>0.0</td>\n      <td>-1.0</td>\n      <td>1.0</td>\n    </tr>\n    <tr>\n      <th>1420</th>\n      <td>-0.596684</td>\n      <td>0.098696</td>\n      <td>-0.614410</td>\n      <td>-0.042566</td>\n      <td>-0.772652</td>\n      <td>-1.284487</td>\n      <td>1.297263</td>\n      <td>-0.808966</td>\n      <td>-0.153169</td>\n      <td>1.816830</td>\n      <td>...</td>\n      <td>1.0</td>\n      <td>0.0</td>\n      <td>0.0</td>\n      <td>0.0</td>\n      <td>-1.0</td>\n      <td>1.0</td>\n      <td>0.0</td>\n      <td>0.0</td>\n      <td>-1.0</td>\n      <td>1.0</td>\n    </tr>\n    <tr>\n      <th>1421</th>\n      <td>0.005151</td>\n      <td>1.379008</td>\n      <td>-0.884708</td>\n      <td>0.513133</td>\n      <td>-1.479113</td>\n      <td>0.778521</td>\n      <td>0.621453</td>\n      <td>-0.856109</td>\n      <td>-0.153169</td>\n      <td>-0.251162</td>\n      <td>...</td>\n      <td>1.0</td>\n      <td>0.0</td>\n      <td>0.0</td>\n      <td>0.0</td>\n      <td>-1.0</td>\n      <td>1.0</td>\n      <td>0.0</td>\n      <td>0.0</td>\n      <td>-1.0</td>\n      <td>1.0</td>\n    </tr>\n    <tr>\n      <th>1422</th>\n      <td>-0.843427</td>\n      <td>1.240417</td>\n      <td>1.130237</td>\n      <td>1.624529</td>\n      <td>-0.587313</td>\n      <td>-1.284487</td>\n      <td>-0.407369</td>\n      <td>-0.801853</td>\n      <td>0.437993</td>\n      <td>-0.843009</td>\n      <td>...</td>\n      <td>1.0</td>\n      <td>0.0</td>\n      <td>0.0</td>\n      <td>0.0</td>\n      <td>-1.0</td>\n      <td>1.0</td>\n      <td>0.0</td>\n      <td>0.0</td>\n      <td>-1.0</td>\n      <td>1.0</td>\n    </tr>\n  </tbody>\n</table>\n<p>1423 rows × 71 columns</p>\n</div>"
     },
     "execution_count": 779,
     "metadata": {},
     "output_type": "execute_result"
    }
   ],
   "source": [
    "data_df"
   ],
   "metadata": {
    "collapsed": false,
    "pycharm": {
     "name": "#%%\n"
    }
   }
  },
  {
   "cell_type": "code",
   "execution_count": 780,
   "outputs": [
    {
     "data": {
      "text/plain": "                                   title  \\\n0        All I Want For Christmas Is You   \n1      Rockin' Around The Christmas Tree   \n2                       Jingle Bell Rock   \n3                A Holly Jolly Christmas   \n4                                Circles   \n...                                  ...   \n10495                             Bubbly   \n10496                        Do It To It   \n10497                            No Love   \n10498                        Knowing You   \n10499                        Family Ties   \n\n                                     artist  image  peakPos  lastPos  weeks  \\\n0                              Mariah Carey    NaN        1        1     37   \n1                                Brenda Lee    NaN        2        2     32   \n2                               Bobby Helms    NaN        3        9     30   \n3                                 Burl Ives    NaN        4        6     15   \n4                               Post Malone    NaN        1        3     17   \n...                                     ...    ...      ...      ...    ...   \n10495  Young Thug With Drake & Travis Scott    NaN       20      100     10   \n10496              Acraze Featuring Cherish    NaN       97        0      1   \n10497                   Summer Walker & SZA    NaN       13       96      7   \n10498                         Kenny Chesney    NaN       57       84     19   \n10499            Baby Keem & Kendrick Lamar    NaN       18       93     17   \n\n       rank  isNew        date  \n0         1  False  2020-01-04  \n1         2  False  2020-01-04  \n2         3  False  2020-01-04  \n3         4  False  2020-01-04  \n4         5  False  2020-01-04  \n...     ...    ...         ...  \n10495    96  False  2022-01-01  \n10496    97   True  2022-01-01  \n10497    98  False  2022-01-01  \n10498    99  False  2022-01-01  \n10499   100  False  2022-01-01  \n\n[10500 rows x 9 columns]",
      "text/html": "<div>\n<style scoped>\n    .dataframe tbody tr th:only-of-type {\n        vertical-align: middle;\n    }\n\n    .dataframe tbody tr th {\n        vertical-align: top;\n    }\n\n    .dataframe thead th {\n        text-align: right;\n    }\n</style>\n<table border=\"1\" class=\"dataframe\">\n  <thead>\n    <tr style=\"text-align: right;\">\n      <th></th>\n      <th>title</th>\n      <th>artist</th>\n      <th>image</th>\n      <th>peakPos</th>\n      <th>lastPos</th>\n      <th>weeks</th>\n      <th>rank</th>\n      <th>isNew</th>\n      <th>date</th>\n    </tr>\n  </thead>\n  <tbody>\n    <tr>\n      <th>0</th>\n      <td>All I Want For Christmas Is You</td>\n      <td>Mariah Carey</td>\n      <td>NaN</td>\n      <td>1</td>\n      <td>1</td>\n      <td>37</td>\n      <td>1</td>\n      <td>False</td>\n      <td>2020-01-04</td>\n    </tr>\n    <tr>\n      <th>1</th>\n      <td>Rockin' Around The Christmas Tree</td>\n      <td>Brenda Lee</td>\n      <td>NaN</td>\n      <td>2</td>\n      <td>2</td>\n      <td>32</td>\n      <td>2</td>\n      <td>False</td>\n      <td>2020-01-04</td>\n    </tr>\n    <tr>\n      <th>2</th>\n      <td>Jingle Bell Rock</td>\n      <td>Bobby Helms</td>\n      <td>NaN</td>\n      <td>3</td>\n      <td>9</td>\n      <td>30</td>\n      <td>3</td>\n      <td>False</td>\n      <td>2020-01-04</td>\n    </tr>\n    <tr>\n      <th>3</th>\n      <td>A Holly Jolly Christmas</td>\n      <td>Burl Ives</td>\n      <td>NaN</td>\n      <td>4</td>\n      <td>6</td>\n      <td>15</td>\n      <td>4</td>\n      <td>False</td>\n      <td>2020-01-04</td>\n    </tr>\n    <tr>\n      <th>4</th>\n      <td>Circles</td>\n      <td>Post Malone</td>\n      <td>NaN</td>\n      <td>1</td>\n      <td>3</td>\n      <td>17</td>\n      <td>5</td>\n      <td>False</td>\n      <td>2020-01-04</td>\n    </tr>\n    <tr>\n      <th>...</th>\n      <td>...</td>\n      <td>...</td>\n      <td>...</td>\n      <td>...</td>\n      <td>...</td>\n      <td>...</td>\n      <td>...</td>\n      <td>...</td>\n      <td>...</td>\n    </tr>\n    <tr>\n      <th>10495</th>\n      <td>Bubbly</td>\n      <td>Young Thug With Drake &amp; Travis Scott</td>\n      <td>NaN</td>\n      <td>20</td>\n      <td>100</td>\n      <td>10</td>\n      <td>96</td>\n      <td>False</td>\n      <td>2022-01-01</td>\n    </tr>\n    <tr>\n      <th>10496</th>\n      <td>Do It To It</td>\n      <td>Acraze Featuring Cherish</td>\n      <td>NaN</td>\n      <td>97</td>\n      <td>0</td>\n      <td>1</td>\n      <td>97</td>\n      <td>True</td>\n      <td>2022-01-01</td>\n    </tr>\n    <tr>\n      <th>10497</th>\n      <td>No Love</td>\n      <td>Summer Walker &amp; SZA</td>\n      <td>NaN</td>\n      <td>13</td>\n      <td>96</td>\n      <td>7</td>\n      <td>98</td>\n      <td>False</td>\n      <td>2022-01-01</td>\n    </tr>\n    <tr>\n      <th>10498</th>\n      <td>Knowing You</td>\n      <td>Kenny Chesney</td>\n      <td>NaN</td>\n      <td>57</td>\n      <td>84</td>\n      <td>19</td>\n      <td>99</td>\n      <td>False</td>\n      <td>2022-01-01</td>\n    </tr>\n    <tr>\n      <th>10499</th>\n      <td>Family Ties</td>\n      <td>Baby Keem &amp; Kendrick Lamar</td>\n      <td>NaN</td>\n      <td>18</td>\n      <td>93</td>\n      <td>17</td>\n      <td>100</td>\n      <td>False</td>\n      <td>2022-01-01</td>\n    </tr>\n  </tbody>\n</table>\n<p>10500 rows × 9 columns</p>\n</div>"
     },
     "execution_count": 780,
     "metadata": {},
     "output_type": "execute_result"
    }
   ],
   "source": [
    "billboard_df"
   ],
   "metadata": {
    "collapsed": false,
    "pycharm": {
     "name": "#%%\n"
    }
   }
  },
  {
   "cell_type": "code",
   "execution_count": 781,
   "outputs": [
    {
     "data": {
      "text/plain": "      peak_rank  debut_rank  lifetime_peak_rank  sensationality  \\\n0             1           1                   1        0.999999   \n1             2           2                   2        0.998958   \n2             3           3                   3        0.981122   \n3             4           4                   4        0.931350   \n4             1           5                   1        0.999999   \n...         ...         ...                 ...             ...   \n1418         79          79                  79        0.012658   \n1419         85          85                  85        0.011764   \n1420         91          91                  91        0.010989   \n1421         95          95                  95        0.010526   \n1422         97          97                  97        0.010309   \n\n      avg_rank_score  std_rank_score  time_on_chart  num_occurrences  \\\n0           0.270183        0.316913             50               14   \n1           0.123908        0.156764             44               17   \n2           0.151254        0.099182             41               12   \n3           0.121060        0.075093             25               11   \n4           0.153094        0.215097             61               47   \n...              ...             ...            ...              ...   \n1418        0.012658        0.000000              1                1   \n1419        0.011765        0.000000              1                1   \n1420        0.010989        0.000000              1                1   \n1421        0.010526        0.000000              1                1   \n1422        0.010309        0.000000              1                1   \n\n      rank_sum  skewness  kurtosis  spotify_popularity  \n0     2.161467  1.395650  0.673814                69.0  \n1     1.362990  1.352697  0.450922                62.0  \n2     1.210036  0.477332 -0.985764                62.0  \n3     0.968480  0.378995 -1.307941                54.0  \n4     2.908793  3.182407  9.711951                86.0  \n...        ...       ...       ...                 ...  \n1418  0.012658  0.000000 -3.000000                41.0  \n1419  0.011765  0.000000 -3.000000                66.0  \n1420  0.010989  0.000000 -3.000000                69.0  \n1421  0.010526  0.000000 -3.000000                70.0  \n1422  0.010309  0.000000 -3.000000                91.0  \n\n[1423 rows x 12 columns]",
      "text/html": "<div>\n<style scoped>\n    .dataframe tbody tr th:only-of-type {\n        vertical-align: middle;\n    }\n\n    .dataframe tbody tr th {\n        vertical-align: top;\n    }\n\n    .dataframe thead th {\n        text-align: right;\n    }\n</style>\n<table border=\"1\" class=\"dataframe\">\n  <thead>\n    <tr style=\"text-align: right;\">\n      <th></th>\n      <th>peak_rank</th>\n      <th>debut_rank</th>\n      <th>lifetime_peak_rank</th>\n      <th>sensationality</th>\n      <th>avg_rank_score</th>\n      <th>std_rank_score</th>\n      <th>time_on_chart</th>\n      <th>num_occurrences</th>\n      <th>rank_sum</th>\n      <th>skewness</th>\n      <th>kurtosis</th>\n      <th>spotify_popularity</th>\n    </tr>\n  </thead>\n  <tbody>\n    <tr>\n      <th>0</th>\n      <td>1</td>\n      <td>1</td>\n      <td>1</td>\n      <td>0.999999</td>\n      <td>0.270183</td>\n      <td>0.316913</td>\n      <td>50</td>\n      <td>14</td>\n      <td>2.161467</td>\n      <td>1.395650</td>\n      <td>0.673814</td>\n      <td>69.0</td>\n    </tr>\n    <tr>\n      <th>1</th>\n      <td>2</td>\n      <td>2</td>\n      <td>2</td>\n      <td>0.998958</td>\n      <td>0.123908</td>\n      <td>0.156764</td>\n      <td>44</td>\n      <td>17</td>\n      <td>1.362990</td>\n      <td>1.352697</td>\n      <td>0.450922</td>\n      <td>62.0</td>\n    </tr>\n    <tr>\n      <th>2</th>\n      <td>3</td>\n      <td>3</td>\n      <td>3</td>\n      <td>0.981122</td>\n      <td>0.151254</td>\n      <td>0.099182</td>\n      <td>41</td>\n      <td>12</td>\n      <td>1.210036</td>\n      <td>0.477332</td>\n      <td>-0.985764</td>\n      <td>62.0</td>\n    </tr>\n    <tr>\n      <th>3</th>\n      <td>4</td>\n      <td>4</td>\n      <td>4</td>\n      <td>0.931350</td>\n      <td>0.121060</td>\n      <td>0.075093</td>\n      <td>25</td>\n      <td>11</td>\n      <td>0.968480</td>\n      <td>0.378995</td>\n      <td>-1.307941</td>\n      <td>54.0</td>\n    </tr>\n    <tr>\n      <th>4</th>\n      <td>1</td>\n      <td>5</td>\n      <td>1</td>\n      <td>0.999999</td>\n      <td>0.153094</td>\n      <td>0.215097</td>\n      <td>61</td>\n      <td>47</td>\n      <td>2.908793</td>\n      <td>3.182407</td>\n      <td>9.711951</td>\n      <td>86.0</td>\n    </tr>\n    <tr>\n      <th>...</th>\n      <td>...</td>\n      <td>...</td>\n      <td>...</td>\n      <td>...</td>\n      <td>...</td>\n      <td>...</td>\n      <td>...</td>\n      <td>...</td>\n      <td>...</td>\n      <td>...</td>\n      <td>...</td>\n      <td>...</td>\n    </tr>\n    <tr>\n      <th>1418</th>\n      <td>79</td>\n      <td>79</td>\n      <td>79</td>\n      <td>0.012658</td>\n      <td>0.012658</td>\n      <td>0.000000</td>\n      <td>1</td>\n      <td>1</td>\n      <td>0.012658</td>\n      <td>0.000000</td>\n      <td>-3.000000</td>\n      <td>41.0</td>\n    </tr>\n    <tr>\n      <th>1419</th>\n      <td>85</td>\n      <td>85</td>\n      <td>85</td>\n      <td>0.011764</td>\n      <td>0.011765</td>\n      <td>0.000000</td>\n      <td>1</td>\n      <td>1</td>\n      <td>0.011765</td>\n      <td>0.000000</td>\n      <td>-3.000000</td>\n      <td>66.0</td>\n    </tr>\n    <tr>\n      <th>1420</th>\n      <td>91</td>\n      <td>91</td>\n      <td>91</td>\n      <td>0.010989</td>\n      <td>0.010989</td>\n      <td>0.000000</td>\n      <td>1</td>\n      <td>1</td>\n      <td>0.010989</td>\n      <td>0.000000</td>\n      <td>-3.000000</td>\n      <td>69.0</td>\n    </tr>\n    <tr>\n      <th>1421</th>\n      <td>95</td>\n      <td>95</td>\n      <td>95</td>\n      <td>0.010526</td>\n      <td>0.010526</td>\n      <td>0.000000</td>\n      <td>1</td>\n      <td>1</td>\n      <td>0.010526</td>\n      <td>0.000000</td>\n      <td>-3.000000</td>\n      <td>70.0</td>\n    </tr>\n    <tr>\n      <th>1422</th>\n      <td>97</td>\n      <td>97</td>\n      <td>97</td>\n      <td>0.010309</td>\n      <td>0.010309</td>\n      <td>0.000000</td>\n      <td>1</td>\n      <td>1</td>\n      <td>0.010309</td>\n      <td>0.000000</td>\n      <td>-3.000000</td>\n      <td>91.0</td>\n    </tr>\n  </tbody>\n</table>\n<p>1423 rows × 12 columns</p>\n</div>"
     },
     "execution_count": 781,
     "metadata": {},
     "output_type": "execute_result"
    }
   ],
   "source": [
    "pop_metrics"
   ],
   "metadata": {
    "collapsed": false,
    "pycharm": {
     "name": "#%%\n"
    }
   }
  },
  {
   "cell_type": "code",
   "execution_count": 782,
   "outputs": [
    {
     "data": {
      "text/plain": "         peak_rank   debut_rank  lifetime_peak_rank  sensationality  \\\ncount  1423.000000  1423.000000         1423.000000     1423.000000   \nmean     50.872804    60.858749           49.780745        0.173917   \nstd      28.872677    28.879139           29.203101        0.264423   \nmin       1.000000     1.000000            1.000000        0.010000   \n25%      26.000000    39.000000           25.000000        0.014492   \n50%      53.000000    66.000000           52.000000        0.040918   \n75%      76.000000    86.000000           75.000000        0.221774   \nmax     100.000000   100.000000          100.000000        1.000000   \n\n       avg_rank_score  std_rank_score  time_on_chart  num_occurrences  \\\ncount     1423.000000     1423.000000     1423.00000      1423.000000   \nmean         0.025285        0.015060        8.41532         7.326072   \nstd          0.031150        0.045298       10.98796         9.710895   \nmin          0.010000        0.000000        1.00000         1.000000   \n25%          0.012616        0.000000        1.00000         1.000000   \n50%          0.015764        0.001422        2.00000         2.000000   \n75%          0.023810        0.008715       14.00000        11.000000   \nmax          0.409608        0.424401       90.00000        87.000000   \n\n          rank_sum     skewness     kurtosis  spotify_popularity  \ncount  1423.000000  1423.000000  1423.000000         1423.000000  \nmean      0.221581     0.450854    -1.188760           67.404076  \nstd       0.485595     0.822457     2.763996           17.661345  \nmin       0.010000    -1.361391    -3.000000            0.000000  \n25%       0.014493     0.000000    -3.000000           64.000000  \n50%       0.040831     0.000000    -2.000000           70.000000  \n75%       0.196657     0.701393    -0.694673           77.000000  \nmax       3.697960     4.800006    22.324941           95.000000  ",
      "text/html": "<div>\n<style scoped>\n    .dataframe tbody tr th:only-of-type {\n        vertical-align: middle;\n    }\n\n    .dataframe tbody tr th {\n        vertical-align: top;\n    }\n\n    .dataframe thead th {\n        text-align: right;\n    }\n</style>\n<table border=\"1\" class=\"dataframe\">\n  <thead>\n    <tr style=\"text-align: right;\">\n      <th></th>\n      <th>peak_rank</th>\n      <th>debut_rank</th>\n      <th>lifetime_peak_rank</th>\n      <th>sensationality</th>\n      <th>avg_rank_score</th>\n      <th>std_rank_score</th>\n      <th>time_on_chart</th>\n      <th>num_occurrences</th>\n      <th>rank_sum</th>\n      <th>skewness</th>\n      <th>kurtosis</th>\n      <th>spotify_popularity</th>\n    </tr>\n  </thead>\n  <tbody>\n    <tr>\n      <th>count</th>\n      <td>1423.000000</td>\n      <td>1423.000000</td>\n      <td>1423.000000</td>\n      <td>1423.000000</td>\n      <td>1423.000000</td>\n      <td>1423.000000</td>\n      <td>1423.00000</td>\n      <td>1423.000000</td>\n      <td>1423.000000</td>\n      <td>1423.000000</td>\n      <td>1423.000000</td>\n      <td>1423.000000</td>\n    </tr>\n    <tr>\n      <th>mean</th>\n      <td>50.872804</td>\n      <td>60.858749</td>\n      <td>49.780745</td>\n      <td>0.173917</td>\n      <td>0.025285</td>\n      <td>0.015060</td>\n      <td>8.41532</td>\n      <td>7.326072</td>\n      <td>0.221581</td>\n      <td>0.450854</td>\n      <td>-1.188760</td>\n      <td>67.404076</td>\n    </tr>\n    <tr>\n      <th>std</th>\n      <td>28.872677</td>\n      <td>28.879139</td>\n      <td>29.203101</td>\n      <td>0.264423</td>\n      <td>0.031150</td>\n      <td>0.045298</td>\n      <td>10.98796</td>\n      <td>9.710895</td>\n      <td>0.485595</td>\n      <td>0.822457</td>\n      <td>2.763996</td>\n      <td>17.661345</td>\n    </tr>\n    <tr>\n      <th>min</th>\n      <td>1.000000</td>\n      <td>1.000000</td>\n      <td>1.000000</td>\n      <td>0.010000</td>\n      <td>0.010000</td>\n      <td>0.000000</td>\n      <td>1.00000</td>\n      <td>1.000000</td>\n      <td>0.010000</td>\n      <td>-1.361391</td>\n      <td>-3.000000</td>\n      <td>0.000000</td>\n    </tr>\n    <tr>\n      <th>25%</th>\n      <td>26.000000</td>\n      <td>39.000000</td>\n      <td>25.000000</td>\n      <td>0.014492</td>\n      <td>0.012616</td>\n      <td>0.000000</td>\n      <td>1.00000</td>\n      <td>1.000000</td>\n      <td>0.014493</td>\n      <td>0.000000</td>\n      <td>-3.000000</td>\n      <td>64.000000</td>\n    </tr>\n    <tr>\n      <th>50%</th>\n      <td>53.000000</td>\n      <td>66.000000</td>\n      <td>52.000000</td>\n      <td>0.040918</td>\n      <td>0.015764</td>\n      <td>0.001422</td>\n      <td>2.00000</td>\n      <td>2.000000</td>\n      <td>0.040831</td>\n      <td>0.000000</td>\n      <td>-2.000000</td>\n      <td>70.000000</td>\n    </tr>\n    <tr>\n      <th>75%</th>\n      <td>76.000000</td>\n      <td>86.000000</td>\n      <td>75.000000</td>\n      <td>0.221774</td>\n      <td>0.023810</td>\n      <td>0.008715</td>\n      <td>14.00000</td>\n      <td>11.000000</td>\n      <td>0.196657</td>\n      <td>0.701393</td>\n      <td>-0.694673</td>\n      <td>77.000000</td>\n    </tr>\n    <tr>\n      <th>max</th>\n      <td>100.000000</td>\n      <td>100.000000</td>\n      <td>100.000000</td>\n      <td>1.000000</td>\n      <td>0.409608</td>\n      <td>0.424401</td>\n      <td>90.00000</td>\n      <td>87.000000</td>\n      <td>3.697960</td>\n      <td>4.800006</td>\n      <td>22.324941</td>\n      <td>95.000000</td>\n    </tr>\n  </tbody>\n</table>\n</div>"
     },
     "execution_count": 782,
     "metadata": {},
     "output_type": "execute_result"
    }
   ],
   "source": [
    "pop_metrics.describe()"
   ],
   "metadata": {
    "collapsed": false,
    "pycharm": {
     "name": "#%%\n"
    }
   }
  },
  {
   "cell_type": "code",
   "execution_count": 783,
   "outputs": [],
   "source": [
    "MIN_PREDICTORS = 40\n",
    "MAX_PREDICTORS = 40\n",
    "assert MIN_PREDICTORS <= MAX_PREDICTORS, \"MIN_PREDICTORS must be <= MAX_PREDICTORS\""
   ],
   "metadata": {
    "collapsed": false,
    "pycharm": {
     "name": "#%%\n"
    }
   }
  },
  {
   "cell_type": "code",
   "execution_count": 784,
   "outputs": [],
   "source": [
    "def gscv(mdl, param_grid, x_, y_, score_method, verbose=0):\n",
    "    grid_search = GridSearchCV(mdl, param_grid=param_grid, n_jobs=-1, verbose=verbose, scoring=score_method)\n",
    "    grid_search.fit(x_, y_)\n",
    "    if verbose == 1:\n",
    "        print(f\"best params = {grid_search.best_params_}\")\n",
    "        print(f\"best score = {grid_search.best_score_}\")\n",
    "    return grid_search.best_params_, grid_search.best_score_"
   ],
   "metadata": {
    "collapsed": false,
    "pycharm": {
     "name": "#%%\n"
    }
   }
  },
  {
   "cell_type": "code",
   "execution_count": 785,
   "outputs": [],
   "source": [
    "def process_subset(model, X, y, features):\n",
    "    kf = KFold()\n",
    "    mse = []\n",
    "    X = X[list(features)]\n",
    "    for train_idx, test_idx in kf.split(X, y):\n",
    "        X_train, X_test = X.iloc[train_idx], X.iloc[test_idx]\n",
    "        y_train, y_test = y.iloc[train_idx], y.iloc[test_idx]\n",
    "        regr = model.fit(X_train, y=y_train)\n",
    "        y_predict = regr.predict(X_test)\n",
    "        mse.append(mean_squared_error(y_test, y_predict))\n",
    "    return {\"model\": model, \"features\": features, \"MSE\":np.mean(mse)}"
   ],
   "metadata": {
    "collapsed": false,
    "pycharm": {
     "name": "#%%\n"
    }
   }
  },
  {
   "cell_type": "code",
   "execution_count": 786,
   "outputs": [],
   "source": [
    "def best_subset(model, X, y, subset_size=-1, force=False):\n",
    "    limit = 100000\n",
    "    if subset_size == -1:\n",
    "        subset_size = len(X.columns)\n",
    "    assert len(X.columns) >= subset_size, f\"X.columns must be >= subset_size. Given len(X.columns)={len(X.columns)}, subset_size={subset_size}\"\n",
    "\n",
    "    num_combinations = np.math.factorial(len(X.columns))/(np.math.factorial(len(X.columns)-subset_size) * np.math.factorial(subset_size))\n",
    "    if num_combinations > limit and not force:\n",
    "        print(f\"Please be aware that this action will run {int(num_combinations)} models and there is a real possibility it will crash your system.\\nIf you're ABSOLUTELY SURE you want to do this please include the parameter 'force=True' when calling this function\")\n",
    "        return {\"model\": model, \"features\": X.columns, \"MSE\": -1}\n",
    "    tic = time.time()\n",
    "    results = []\n",
    "    for combo in itertools.combinations(X.columns, subset_size):\n",
    "        results.append(process_subset(model, X, y, combo))\n",
    "    models = pd.DataFrame(results)\n",
    "    best_model = models.loc[models['MSE'].argmin()]\n",
    "    toc = time.time()\n",
    "    print(\"Processed\", models.shape[0], \"models on\", subset_size, \"predictors in\", (toc-tic), \"seconds.\")\n",
    "    return best_model"
   ],
   "metadata": {
    "collapsed": false,
    "pycharm": {
     "name": "#%%\n"
    }
   }
  },
  {
   "cell_type": "code",
   "execution_count": 787,
   "outputs": [],
   "source": [
    "def stepwise_selection(model, X, y, direction='forward', num_features=None, scoring='neg_root_mean_squared_error'):\n",
    "    sfs = SequentialFeatureSelector(model, direction=direction, n_features_to_select=num_features, scoring=scoring)\n",
    "    sfs.fit(X, y)\n",
    "    return sfs.transform(X), sfs.get_support()"
   ],
   "metadata": {
    "collapsed": false,
    "pycharm": {
     "name": "#%%\n"
    }
   }
  },
  {
   "cell_type": "code",
   "execution_count": 788,
   "outputs": [],
   "source": [
    "# get n samples from 1-dimensional df following a gaussian distribution\n",
    "def sample(df: pd.DataFrame, n=400, plot=False):\n",
    "    x = np.sort(df)\n",
    "    f_x = np.gradient(x)*np.exp(-x**2/2)\n",
    "    sample_probs = f_x/np.sum(f_x)\n",
    "    df_samples = df.sort_values().sample(n=n, weights=sample_probs, replace=False)\n",
    "    if plot:\n",
    "        sns.distplot(df_samples)\n",
    "    return df_samples"
   ],
   "metadata": {
    "collapsed": false,
    "pycharm": {
     "name": "#%%\n"
    }
   }
  },
  {
   "cell_type": "code",
   "execution_count": 789,
   "outputs": [],
   "source": [
    "# tic = time.time()\n",
    "# features, idx_mask = stepwise_selection(Ridge(), data_df, pop_metrics['avg_rank_score'], num_features=70)\n",
    "# toc = time.time()\n",
    "# print(toc-tic)\n",
    "# fs = data_df.loc[:, idx_mask==True]"
   ],
   "metadata": {
    "collapsed": false,
    "pycharm": {
     "name": "#%%\n"
    }
   }
  },
  {
   "cell_type": "code",
   "execution_count": 790,
   "outputs": [],
   "source": [
    "# features, idx_mask = stepwise_selection(LinearRegression(), data_df, pop_metrics['avg_rank_score'], direction='backward')\n",
    "# bs = data_df.loc[:, idx_mask==True]"
   ],
   "metadata": {
    "collapsed": false,
    "pycharm": {
     "name": "#%%\n"
    }
   }
  },
  {
   "cell_type": "code",
   "execution_count": 791,
   "outputs": [],
   "source": [
    "def run_regression(model, X, y):\n",
    "    mse = []\n",
    "    for train_idx, test_idx in KFold().split(X, y):\n",
    "        X_train, X_test = X.iloc[train_idx], X.iloc[test_idx]\n",
    "        y_train, y_test = y.iloc[train_idx], y.iloc[test_idx]\n",
    "        regr = model.fit(X_train, y=y_train)\n",
    "        y_predict = regr.predict(X_test)\n",
    "        mse.append(mean_squared_error(y_test, y_predict))\n",
    "    return np.mean(mse)"
   ],
   "metadata": {
    "collapsed": false,
    "pycharm": {
     "name": "#%%\n"
    }
   }
  },
  {
   "cell_type": "markdown",
   "source": [
    "# Balancing Data And Extracting Training and Testing Samples"
   ],
   "metadata": {
    "collapsed": false,
    "pycharm": {
     "name": "#%% md\n"
    }
   }
  },
  {
   "cell_type": "code",
   "execution_count": 814,
   "outputs": [
    {
     "data": {
      "text/plain": "<Figure size 360x360 with 1 Axes>",
      "image/png": "[encoded data removed]"
     },
     "metadata": {},
     "output_type": "display_data"
    },
    {
     "data": {
      "text/plain": "<Figure size 432x288 with 1 Axes>",
      "image/png": "[encoded data removed]"
     },
     "metadata": {},
     "output_type": "display_data"
    },
    {
     "data": {
      "text/plain": "<Figure size 432x288 with 1 Axes>",
      "image/png": "[encoded data removed]"
     },
     "metadata": {},
     "output_type": "display_data"
    },
    {
     "data": {
      "text/plain": "<Figure size 360x360 with 1 Axes>",
      "image/png": "[encoded data removed]"
     },
     "metadata": {},
     "output_type": "display_data"
    },
    {
     "data": {
      "text/plain": "      duration_ms  danceability    energy       key  loudness      mode  \\\n514     -0.375062      0.534266 -0.000098  1.624529  0.357608  0.778521   \n556     -0.568843      0.362678 -2.119476 -1.153963 -0.147617  0.778521   \n16      -0.650276     -0.079491  0.049047  1.346680  0.815528  0.778521   \n516     -0.904960      1.332811 -0.442403  0.235283  0.128066  0.778521   \n652      0.371927     -0.752645 -2.438918 -1.431812 -1.843200  0.778521   \n...           ...           ...       ...       ...       ...       ...   \n15      -0.168198     -2.290339 -2.531065 -1.153963 -3.289467  0.778521   \n1039    -0.665684      0.804848  0.036761  1.624529  0.388239 -1.284487   \n1240     0.388871     -0.548059  0.294772  0.790982 -0.210043  0.778521   \n239     -0.741088      0.125095  1.388248  0.790982  0.847710 -1.284487   \n538      1.206338     -0.884636  0.006045 -0.042566 -0.954114  0.778521   \n\n      speechiness  acousticness  instrumentalness  liveness  ...  \\\n514     -0.445532     -0.188953         -0.153169 -0.220297  ...   \n556     -0.821601      1.620901         -0.153169 -0.521236  ...   \n16      -0.905879     -0.279840         -0.153169 -0.528952  ...   \n516      0.685058     -0.161291         -0.153169 -0.544385  ...   \n652     -0.732553      2.383569         -0.153169 -0.528952  ...   \n...           ...           ...               ...       ...  ...   \n15      -0.840683      2.751072         -0.152290 -0.320610  ...   \n1039    -0.157717     -0.856188         -0.153169 -0.366908  ...   \n1240    -0.598186     -0.736651         -0.152078 -0.413206  ...   \n239     -0.429631     -0.544205         -0.153091 -0.781278  ...   \n538     -0.848633      1.241543         -0.152375 -0.671705  ...   \n\n      var_segment_loudness_max_end_diff  mean_segment_num_pitches  \\\n514                                 1.0                       0.0   \n556                                 1.0                       0.0   \n16                                  1.0                       0.0   \n516                                 1.0                       0.0   \n652                                 1.0                       0.0   \n...                                 ...                       ...   \n15                                  1.0                       0.0   \n1039                                1.0                       0.0   \n1240                                1.0                       0.0   \n239                                 1.0                       0.0   \n538                                 1.0                       0.0   \n\n      var_segment_num_pitches  mean_segment_num_pure_pitches  \\\n514                       0.0                            0.0   \n556                       0.0                            0.0   \n16                        0.0                            0.0   \n516                       0.0                            0.0   \n652                       0.0                            0.0   \n...                       ...                            ...   \n15                        0.0                            0.0   \n1039                      0.0                            0.0   \n1240                      0.0                            0.0   \n239                       0.0                            0.0   \n538                       0.0                            0.0   \n\n      var_segment_num_pure_pitches  mean_segment_timbre  var_segment_timbre  \\\n514                           -1.0                  1.0                 0.0   \n556                           -1.0                  1.0                 0.0   \n16                            -1.0                  1.0                 0.0   \n516                           -1.0                  1.0                 0.0   \n652                           -1.0                  1.0                 0.0   \n...                            ...                  ...                 ...   \n15                            -1.0                  1.0                 0.0   \n1039                          -1.0                  1.0                 0.0   \n1240                          -1.0                  1.0                 0.0   \n239                           -1.0                  1.0                 0.0   \n538                           -1.0                  1.0                 0.0   \n\n      num_tatums  mean_tatum_duration  var_tatum_duration  \n514          0.0                 -1.0                 1.0  \n556          0.0                 -1.0                 1.0  \n16           0.0                 -1.0                 1.0  \n516          0.0                 -1.0                 1.0  \n652          0.0                 -1.0                 1.0  \n...          ...                  ...                 ...  \n15           0.0                 -1.0                 1.0  \n1039         0.0                 -1.0                 1.0  \n1240         0.0                 -1.0                 1.0  \n239          0.0                 -1.0                 1.0  \n538          0.0                 -1.0                 1.0  \n\n[500 rows x 71 columns]",
      "text/html": "<div>\n<style scoped>\n    .dataframe tbody tr th:only-of-type {\n        vertical-align: middle;\n    }\n\n    .dataframe tbody tr th {\n        vertical-align: top;\n    }\n\n    .dataframe thead th {\n        text-align: right;\n    }\n</style>\n<table border=\"1\" class=\"dataframe\">\n  <thead>\n    <tr style=\"text-align: right;\">\n      <th></th>\n      <th>duration_ms</th>\n      <th>danceability</th>\n      <th>energy</th>\n      <th>key</th>\n      <th>loudness</th>\n      <th>mode</th>\n      <th>speechiness</th>\n      <th>acousticness</th>\n      <th>instrumentalness</th>\n      <th>liveness</th>\n      <th>...</th>\n      <th>var_segment_loudness_max_end_diff</th>\n      <th>mean_segment_num_pitches</th>\n      <th>var_segment_num_pitches</th>\n      <th>mean_segment_num_pure_pitches</th>\n      <th>var_segment_num_pure_pitches</th>\n      <th>mean_segment_timbre</th>\n      <th>var_segment_timbre</th>\n      <th>num_tatums</th>\n      <th>mean_tatum_duration</th>\n      <th>var_tatum_duration</th>\n    </tr>\n  </thead>\n  <tbody>\n    <tr>\n      <th>514</th>\n      <td>-0.375062</td>\n      <td>0.534266</td>\n      <td>-0.000098</td>\n      <td>1.624529</td>\n      <td>0.357608</td>\n      <td>0.778521</td>\n      <td>-0.445532</td>\n      <td>-0.188953</td>\n      <td>-0.153169</td>\n      <td>-0.220297</td>\n      <td>...</td>\n      <td>1.0</td>\n      <td>0.0</td>\n      <td>0.0</td>\n      <td>0.0</td>\n      <td>-1.0</td>\n      <td>1.0</td>\n      <td>0.0</td>\n      <td>0.0</td>\n      <td>-1.0</td>\n      <td>1.0</td>\n    </tr>\n    <tr>\n      <th>556</th>\n      <td>-0.568843</td>\n      <td>0.362678</td>\n      <td>-2.119476</td>\n      <td>-1.153963</td>\n      <td>-0.147617</td>\n      <td>0.778521</td>\n      <td>-0.821601</td>\n      <td>1.620901</td>\n      <td>-0.153169</td>\n      <td>-0.521236</td>\n      <td>...</td>\n      <td>1.0</td>\n      <td>0.0</td>\n      <td>0.0</td>\n      <td>0.0</td>\n      <td>-1.0</td>\n      <td>1.0</td>\n      <td>0.0</td>\n      <td>0.0</td>\n      <td>-1.0</td>\n      <td>1.0</td>\n    </tr>\n    <tr>\n      <th>16</th>\n      <td>-0.650276</td>\n      <td>-0.079491</td>\n      <td>0.049047</td>\n      <td>1.346680</td>\n      <td>0.815528</td>\n      <td>0.778521</td>\n      <td>-0.905879</td>\n      <td>-0.279840</td>\n      <td>-0.153169</td>\n      <td>-0.528952</td>\n      <td>...</td>\n      <td>1.0</td>\n      <td>0.0</td>\n      <td>0.0</td>\n      <td>0.0</td>\n      <td>-1.0</td>\n      <td>1.0</td>\n      <td>0.0</td>\n      <td>0.0</td>\n      <td>-1.0</td>\n      <td>1.0</td>\n    </tr>\n    <tr>\n      <th>516</th>\n      <td>-0.904960</td>\n      <td>1.332811</td>\n      <td>-0.442403</td>\n      <td>0.235283</td>\n      <td>0.128066</td>\n      <td>0.778521</td>\n      <td>0.685058</td>\n      <td>-0.161291</td>\n      <td>-0.153169</td>\n      <td>-0.544385</td>\n      <td>...</td>\n      <td>1.0</td>\n      <td>0.0</td>\n      <td>0.0</td>\n      <td>0.0</td>\n      <td>-1.0</td>\n      <td>1.0</td>\n      <td>0.0</td>\n      <td>0.0</td>\n      <td>-1.0</td>\n      <td>1.0</td>\n    </tr>\n    <tr>\n      <th>652</th>\n      <td>0.371927</td>\n      <td>-0.752645</td>\n      <td>-2.438918</td>\n      <td>-1.431812</td>\n      <td>-1.843200</td>\n      <td>0.778521</td>\n      <td>-0.732553</td>\n      <td>2.383569</td>\n      <td>-0.153169</td>\n      <td>-0.528952</td>\n      <td>...</td>\n      <td>1.0</td>\n      <td>0.0</td>\n      <td>0.0</td>\n      <td>0.0</td>\n      <td>-1.0</td>\n      <td>1.0</td>\n      <td>0.0</td>\n      <td>0.0</td>\n      <td>-1.0</td>\n      <td>1.0</td>\n    </tr>\n    <tr>\n      <th>...</th>\n      <td>...</td>\n      <td>...</td>\n      <td>...</td>\n      <td>...</td>\n      <td>...</td>\n      <td>...</td>\n      <td>...</td>\n      <td>...</td>\n      <td>...</td>\n      <td>...</td>\n      <td>...</td>\n      <td>...</td>\n      <td>...</td>\n      <td>...</td>\n      <td>...</td>\n      <td>...</td>\n      <td>...</td>\n      <td>...</td>\n      <td>...</td>\n      <td>...</td>\n      <td>...</td>\n    </tr>\n    <tr>\n      <th>15</th>\n      <td>-0.168198</td>\n      <td>-2.290339</td>\n      <td>-2.531065</td>\n      <td>-1.153963</td>\n      <td>-3.289467</td>\n      <td>0.778521</td>\n      <td>-0.840683</td>\n      <td>2.751072</td>\n      <td>-0.152290</td>\n      <td>-0.320610</td>\n      <td>...</td>\n      <td>1.0</td>\n      <td>0.0</td>\n      <td>0.0</td>\n      <td>0.0</td>\n      <td>-1.0</td>\n      <td>1.0</td>\n      <td>0.0</td>\n      <td>0.0</td>\n      <td>-1.0</td>\n      <td>1.0</td>\n    </tr>\n    <tr>\n      <th>1039</th>\n      <td>-0.665684</td>\n      <td>0.804848</td>\n      <td>0.036761</td>\n      <td>1.624529</td>\n      <td>0.388239</td>\n      <td>-1.284487</td>\n      <td>-0.157717</td>\n      <td>-0.856188</td>\n      <td>-0.153169</td>\n      <td>-0.366908</td>\n      <td>...</td>\n      <td>1.0</td>\n      <td>0.0</td>\n      <td>0.0</td>\n      <td>0.0</td>\n      <td>-1.0</td>\n      <td>1.0</td>\n      <td>0.0</td>\n      <td>0.0</td>\n      <td>-1.0</td>\n      <td>1.0</td>\n    </tr>\n    <tr>\n      <th>1240</th>\n      <td>0.388871</td>\n      <td>-0.548059</td>\n      <td>0.294772</td>\n      <td>0.790982</td>\n      <td>-0.210043</td>\n      <td>0.778521</td>\n      <td>-0.598186</td>\n      <td>-0.736651</td>\n      <td>-0.152078</td>\n      <td>-0.413206</td>\n      <td>...</td>\n      <td>1.0</td>\n      <td>0.0</td>\n      <td>0.0</td>\n      <td>0.0</td>\n      <td>-1.0</td>\n      <td>1.0</td>\n      <td>0.0</td>\n      <td>0.0</td>\n      <td>-1.0</td>\n      <td>1.0</td>\n    </tr>\n    <tr>\n      <th>239</th>\n      <td>-0.741088</td>\n      <td>0.125095</td>\n      <td>1.388248</td>\n      <td>0.790982</td>\n      <td>0.847710</td>\n      <td>-1.284487</td>\n      <td>-0.429631</td>\n      <td>-0.544205</td>\n      <td>-0.153091</td>\n      <td>-0.781278</td>\n      <td>...</td>\n      <td>1.0</td>\n      <td>0.0</td>\n      <td>0.0</td>\n      <td>0.0</td>\n      <td>-1.0</td>\n      <td>1.0</td>\n      <td>0.0</td>\n      <td>0.0</td>\n      <td>-1.0</td>\n      <td>1.0</td>\n    </tr>\n    <tr>\n      <th>538</th>\n      <td>1.206338</td>\n      <td>-0.884636</td>\n      <td>0.006045</td>\n      <td>-0.042566</td>\n      <td>-0.954114</td>\n      <td>0.778521</td>\n      <td>-0.848633</td>\n      <td>1.241543</td>\n      <td>-0.152375</td>\n      <td>-0.671705</td>\n      <td>...</td>\n      <td>1.0</td>\n      <td>0.0</td>\n      <td>0.0</td>\n      <td>0.0</td>\n      <td>-1.0</td>\n      <td>1.0</td>\n      <td>0.0</td>\n      <td>0.0</td>\n      <td>-1.0</td>\n      <td>1.0</td>\n    </tr>\n  </tbody>\n</table>\n<p>500 rows × 71 columns</p>\n</div>"
     },
     "execution_count": 814,
     "metadata": {},
     "output_type": "execute_result"
    }
   ],
   "source": [
    "balance_metric = 'sensationality'\n",
    "\n",
    "sns.displot(pop_metrics[balance_metric])\n",
    "plt.title('Imbalanced ' + balance_metric)\n",
    "plt.show()\n",
    "\n",
    "pop_metrics['score_zone'] = pop_metrics[balance_metric].apply(lambda x: 1 if x >= 0.4 else 0)\n",
    "sns.countplot(pop_metrics['score_zone'])\n",
    "plt.show()\n",
    "hi_scores = pop_metrics[pop_metrics['score_zone'] == 1]\n",
    "lo_scores = pop_metrics[pop_metrics['score_zone'] == 0]\n",
    "\n",
    "# take a random sample of the lo scores to get an equal number of lo and hi scores\n",
    "lo_scores_sample = sample(lo_scores[balance_metric], n=len(hi_scores))\n",
    "lo_scores = pop_metrics.iloc[lo_scores_sample.index]\n",
    "\n",
    "# pm and df are the balanced versions of pop_metrics and data_df\n",
    "pm_samples = sample(pop_metrics[balance_metric], n=500)\n",
    "pm = pop_metrics.iloc[pm_samples.index]\n",
    "# pm = pd.concat([lo_scores, hi_scores])\n",
    "df = data_df.iloc[pm.index]\n",
    "\n",
    "sns.countplot(pm['score_zone'])\n",
    "plt.show()\n",
    "sns.displot(pm[balance_metric])\n",
    "plt.title(\"Balanced \" + balance_metric)\n",
    "plt.show()\n",
    "\n",
    "# y_train = sample(pop_metrics['avg_rank_score'], n=200, plot=True)\n",
    "# X_train = data_df.iloc[y_train.index]\n",
    "\n",
    "# pop_metrics[pop_metrics.columns] = StandardScaler().fit_transform(pop_metrics)\n",
    "# pm[pm.columns] = StandardScaler().fit_transform(pm)    # scale the y-variables, testing multiple with different scales\n",
    "#                                                        # X should already be scaled\n",
    "\n",
    "\n",
    "# using the balanced data as the training set, we then use all remaining data for testing\n",
    "X_train = df\n",
    "y_train = pm\n",
    "\n",
    "# test data is all data not used for training\n",
    "y_test = pop_metrics.loc[~pop_metrics.index.isin(y_train.index)]\n",
    "X_test = data_df.loc[~data_df.index.isin(X_train.index)]\n",
    "\n",
    "# X_train, X_test, y_train, y_test = train_test_split(df, pm, train_size=0.9)\n",
    "\n",
    "X_train_idx = list(X_train.index)\n",
    "X_test_idx = list(X_test.index)\n",
    "y_train_idx = list(y_train.index)\n",
    "y_test_idx = list(y_test.index)\n",
    "X_train"
   ],
   "metadata": {
    "collapsed": false,
    "pycharm": {
     "name": "#%%\n"
    }
   }
  },
  {
   "cell_type": "markdown",
   "source": [
    "## Running Linear Regression Models\n",
    "\n",
    "This will take a long time to run"
   ],
   "metadata": {
    "collapsed": false,
    "pycharm": {
     "name": "#%% md\n"
    }
   }
  },
  {
   "cell_type": "code",
   "execution_count": 793,
   "outputs": [],
   "source": [
    "def run(mdl, X: pd.DataFrame, y, y_name='', forward=True, backward=True, verbose=0):\n",
    "    tic = time.time()\n",
    "    results = []\n",
    "    if forward:\n",
    "        for f in range(MIN_PREDICTORS, MAX_PREDICTORS + 1):\n",
    "            _, predictors_mask = stepwise_selection(mdl['model'], X, y, direction='forward', num_features=f)\n",
    "            predictors = X.loc[:, predictors_mask==True]\n",
    "            best_params, best_score = gscv(mdl['model'], mdl['cv'], predictors, y, score_method='r2', verbose=verbose)\n",
    "            results.append({\"model\": mdl['model'], \"best_params\": best_params, \"best_score\": best_score, \"features\": list(predictors.columns), \"features_mask\": predictors_mask, \"feature_selection_method\": \"forward_selection\", \"num_features\": f, \"y_name\": y_name, \"base\": mdl['base']})\n",
    "            print(f\"model: {mdl['model']}, best_params: {best_params}, best_score: {best_score}, forward_num_features: {f}, y: {y_name}\")\n",
    "\n",
    "    if backward:\n",
    "        for f in range(MIN_PREDICTORS, MAX_PREDICTORS + 1):\n",
    "            _, predictors_mask = stepwise_selection(mdl['model'], X, y, direction='backward', num_features=f)\n",
    "            predictors = X.loc[:, predictors_mask==True]\n",
    "            best_params, best_score = gscv(mdl['model'], mdl['cv'], predictors, y, score_method='r2', verbose=verbose)\n",
    "            results.append({\"model\": mdl['model'], \"best_params\": best_params, \"best_score\": best_score, \"features\": list(predictors.columns), \"features_mask\": list(predictors_mask), \"feature_selection_method\": \"backward_selection\", \"num_features\": f, \"y_name\": y_name, \"base\": mdl['base']})\n",
    "            print(f\"model: {mdl['model']}, best_params: {best_params}, best_score: {best_score}, backward_num_features: {f}, y: {y_name}\")\n",
    "\n",
    "    best_params, best_score = gscv(mdl['model'], mdl['cv'], X, y, score_method='r2', verbose=verbose)\n",
    "    results.append({\"model\": mdl['model'], \"best_params\": best_params, \"best_score\": best_score, \"features\": X.columns, \"features_mask\": [], \"feature_selection_method\": \"none\", \"num_features\": -1, \"y_name\":  y_name, \"base\": mdl['base']})\n",
    "    print(f\"model: {mdl['model']}, best_params: {best_params}, best_score: {best_score}, num_features: {len(X.columns)}, y: {y_name}\")\n",
    "\n",
    "    toc = time.time()\n",
    "\n",
    "    if verbose == 1:\n",
    "        print(f\"Processed {len(results)} in {toc-tic} seconds.\")\n",
    "\n",
    "    return results"
   ],
   "metadata": {
    "collapsed": false,
    "pycharm": {
     "name": "#%%\n"
    }
   }
  },
  {
   "cell_type": "code",
   "execution_count": 794,
   "outputs": [
    {
     "name": "stdout",
     "output_type": "stream",
     "text": [
      "model: Ridge(), best_params: {'alpha': 10.0, 'fit_intercept': False, 'normalize': False, 'solver': 'sag'}, best_score: 0.0019026245194217139, forward_num_features: 40, y: avg_rank_score\n",
      "model: Ridge(), best_params: {'alpha': 1, 'fit_intercept': True, 'normalize': True, 'solver': 'sag'}, best_score: -0.0012831938335163607, backward_num_features: 40, y: avg_rank_score\n",
      "model: Ridge(), best_params: {'alpha': 10.0, 'fit_intercept': True, 'normalize': True, 'solver': 'sparse_cg'}, best_score: -0.031855036421850835, num_features: 71, y: avg_rank_score\n",
      "model: Lasso(), best_params: {'alpha': 0.001, 'fit_intercept': True, 'max_iter': 10000, 'normalize': True}, best_score: -0.014661453829931536, forward_num_features: 40, y: avg_rank_score\n",
      "model: Lasso(), best_params: {'alpha': 0.001, 'fit_intercept': True, 'max_iter': 10000, 'normalize': True}, best_score: -0.014661453829931536, backward_num_features: 40, y: avg_rank_score\n",
      "model: Lasso(), best_params: {'alpha': 0.001, 'fit_intercept': True, 'max_iter': 10000, 'normalize': True}, best_score: -0.014661453829931536, num_features: 71, y: avg_rank_score\n",
      "model: ElasticNet(), best_params: {'fit_intercept': True, 'l1_ratio': 0.001, 'max_iter': 10000, 'normalize': True}, best_score: -0.014661453829931536, forward_num_features: 40, y: avg_rank_score\n",
      "model: ElasticNet(), best_params: {'fit_intercept': True, 'l1_ratio': 0.001, 'max_iter': 10000, 'normalize': True}, best_score: -0.014661453829931536, backward_num_features: 40, y: avg_rank_score\n",
      "model: ElasticNet(), best_params: {'fit_intercept': True, 'l1_ratio': 0.001, 'max_iter': 10000, 'normalize': True}, best_score: -0.014661453829931536, num_features: 71, y: avg_rank_score\n",
      "model: LinearRegression(), best_params: {}, best_score: 0.0011198825582772632, forward_num_features: 40, y: avg_rank_score\n",
      "model: LinearRegression(), best_params: {}, best_score: -0.013936558208560101, backward_num_features: 40, y: avg_rank_score\n",
      "model: LinearRegression(), best_params: {}, best_score: -3.146569814545511, num_features: 71, y: avg_rank_score\n",
      "Processed 12 models in 105.64564824104309 seconds.\n"
     ]
    }
   ],
   "source": [
    "# TODO: Add pop_metrics.columns as all possible y_values\n",
    "model_configs = {\n",
    "    \"models\": [\n",
    "        {\"model\": Ridge(),\n",
    "         \"base\": Ridge,\n",
    "         \"cv\": { 'alpha':[0.0001, 0.001, 0.01, 0.01, 1, 10.0],\n",
    "                 'fit_intercept':[True, False],\n",
    "                 'normalize':[True, False],\n",
    "                 'solver':['auto', 'svd', 'cholesky', 'lsqr', 'sparse_cg', 'sag', 'saga']\n",
    "                 }\n",
    "         },\n",
    "        {\"model\": Lasso(),\n",
    "         \"base\": Lasso,\n",
    "         \"cv\": { 'max_iter': [10000],\n",
    "                 'alpha': [.0001, 0.001, 0.01, 0.01, 1, 10.0],\n",
    "                 'fit_intercept': [True, False],\n",
    "                 'normalize': [True, False],\n",
    "                 }\n",
    "         },\n",
    "        {\"model\": ElasticNet(),\n",
    "         \"base\": ElasticNet,\n",
    "         \"cv\": { 'max_iter': [10000],\n",
    "                 'l1_ratio':[0.0001, 0.001, 0.01, 0.1, 0.5, 0.7, 0.9, 0.95, 0.99, 1, 10.0],\n",
    "                 'fit_intercept':[True, False],\n",
    "                 'normalize':[True, False],\n",
    "                 }\n",
    "         },\n",
    "        {\"model\": LinearRegression(), \"base\": LinearRegression, \"cv\": {}},\n",
    "    ],\n",
    "    \"y\": pop_metrics.columns,\n",
    "}\n",
    "\n",
    "tic = time.time()\n",
    "all_models = []\n",
    "\n",
    "for m in model_configs['models']:\n",
    "    for y in model_configs['y']:\n",
    "        y_train = pop_metrics[y].iloc[y_train_idx]\n",
    "        all_models += run(m, X_train, y_train, y, forward=True, backward=True)\n",
    "toc = time.time()\n",
    "print(f\"Processed {len(all_models)} models in {toc-tic} seconds.\")"
   ],
   "metadata": {
    "collapsed": false,
    "pycharm": {
     "name": "#%%\n"
    }
   }
  },
  {
   "cell_type": "code",
   "execution_count": 795,
   "outputs": [
    {
     "name": "stdout",
     "output_type": "stream",
     "text": [
      "Model: Ridge()\n",
      "Params: {'alpha': 10.0, 'fit_intercept': False, 'normalize': False, 'solver': 'sag'}\n",
      "CV Score: 0.0019026245194217139\n",
      "Num Features: 40\n",
      "Y-Variable: avg_rank_score\n",
      "Test MSE: 0.0010689365635436932\n",
      "Test R2: -0.13641778362437407\n"
     ]
    },
    {
     "data": {
      "text/plain": "Text(0, 0.5, 'avg_rank_score')"
     },
     "execution_count": 795,
     "metadata": {},
     "output_type": "execute_result"
    },
    {
     "data": {
      "text/plain": "<Figure size 720x360 with 1 Axes>",
      "image/png": "[encoded data removed]"
     },
     "metadata": {},
     "output_type": "display_data"
    }
   ],
   "source": [
    "dump(all_models, '../models/linear_regression/linear_regression_all.joblib')\n",
    "# d = load('../models/linear_regression/linear_regression_all.joblib')\n",
    "\n",
    "from math import inf\n",
    "hi = -inf\n",
    "best_model = None\n",
    "for am in all_models:\n",
    "    if am['best_score'] > hi:\n",
    "        hi = am['best_score']\n",
    "        best_model = am\n",
    "\n",
    "\n",
    "y_train = pop_metrics[best_model['y_name']].iloc[y_train_idx]\n",
    "y_test = pop_metrics[best_model['y_name']].iloc[y_test_idx]\n",
    "\n",
    "X_train = data_df[best_model['features']].iloc[X_train_idx]\n",
    "X_test = data_df[best_model['features']].iloc[X_test_idx]\n",
    "\n",
    "mdl = best_model['base'](**best_model['best_params'])\n",
    "mdl.fit(X_train, y_train)\n",
    "y_pred = mdl.predict(X_test)\n",
    "\n",
    "print(f\"Model: {best_model['model']}\")\n",
    "print(f\"Params: {best_model['best_params']}\")\n",
    "print(f\"CV Score: {best_model['best_score']}\")\n",
    "print(f\"Num Features: {len(best_model['features'])}\")\n",
    "print(f\"Y-Variable: {best_model['y_name']}\")\n",
    "print(f\"Test MSE: {mean_squared_error(y_test, y_pred)}\")\n",
    "print(f\"Test R2: {r2_score(y_test, y_pred)}\")\n",
    "\n",
    "fig = plt.figure(figsize=(10,5))\n",
    "plt.scatter(y_test, y_pred)\n",
    "plt.plot(y_test,y_test,'r')\n",
    "plt.title(f\"{mdl}\")\n",
    "plt.ylabel(best_model['y_name'])"
   ],
   "metadata": {
    "collapsed": false,
    "pycharm": {
     "name": "#%%\n"
    }
   }
  },
  {
   "cell_type": "code",
   "execution_count": 797,
   "outputs": [],
   "source": [
    "import os\n",
    "\n",
    "from keras.models import Sequential\n",
    "from keras.layers import Dense, Activation\n",
    "from tensorflow.keras.optimizers import Adam\n",
    "from keras.callbacks import ModelCheckpoint\n",
    "import tensorflow as tf\n",
    "\n",
    "# from keras_visualizer import visualizer\n",
    "from ann_visualizer.visualize import ann_viz\n",
    "\n",
    "import pandas as pd\n",
    "import numpy as np\n",
    "import matplotlib.pyplot as plt\n",
    "import seaborn as sns\n",
    "\n",
    "from sklearn.model_selection import train_test_split\n",
    "from sklearn.preprocessing import StandardScaler\n",
    "from sklearn.metrics import mean_absolute_error, mean_squared_error, explained_variance_score\n",
    "\n",
    "import warnings\n",
    "warnings.filterwarnings('ignore')"
   ],
   "metadata": {
    "collapsed": false,
    "pycharm": {
     "name": "#%%\n"
    }
   }
  },
  {
   "cell_type": "code",
   "execution_count": null,
   "outputs": [],
   "source": [],
   "metadata": {
    "collapsed": false,
    "pycharm": {
     "name": "#%%\n"
    }
   }
  },
  {
   "cell_type": "code",
   "execution_count": null,
   "outputs": [],
   "source": [],
   "metadata": {
    "collapsed": false,
    "pycharm": {
     "name": "#%%\n"
    }
   }
  },
  {
   "cell_type": "code",
   "execution_count": 803,
   "outputs": [],
   "source": [
    "spotify_df = pd.read_csv(\"../data/spofity/songs.csv\")\n",
    "audio_analysis_df = pd.read_csv(\"../data/audio/audio_features_full.csv\")\n",
    "songs_df = spotify_df.merge(audio_analysis_df, how='inner', on='billboard_name')"
   ],
   "metadata": {
    "collapsed": false,
    "pycharm": {
     "name": "#%%\n"
    }
   }
  },
  {
   "cell_type": "code",
   "execution_count": 812,
   "outputs": [
    {
     "data": {
      "text/plain": "<matplotlib.collections.PathCollection at 0x1f35fe66c40>"
     },
     "execution_count": 812,
     "metadata": {},
     "output_type": "execute_result"
    },
    {
     "data": {
      "text/plain": "<Figure size 432x288 with 1 Axes>",
      "image/png": "[encoded data removed]"
     },
     "metadata": {},
     "output_type": "display_data"
    }
   ],
   "source": [
    "plt.scatter(songs_df['spotify_artist_popularity_mean'], pop_metrics['std_rank_score'])"
   ],
   "metadata": {
    "collapsed": false,
    "pycharm": {
     "name": "#%%\n"
    }
   }
  },
  {
   "cell_type": "code",
   "execution_count": null,
   "outputs": [],
   "source": [
    "pop_metrics"
   ],
   "metadata": {
    "collapsed": false,
    "pycharm": {
     "name": "#%%\n"
    }
   }
  }
 ],
 "metadata": {
  "kernelspec": {
   "display_name": "Python 3",
   "language": "python",
   "name": "python3"
  },
  "language_info": {
   "codemirror_mode": {
    "name": "ipython",
    "version": 2
   },
   "file_extension": ".py",
   "mimetype": "text/x-python",
   "name": "python",
   "nbconvert_exporter": "python",
   "pygments_lexer": "ipython2",
   "version": "2.7.6"
  }
 },
 "nbformat": 4,
 "nbformat_minor": 0
}