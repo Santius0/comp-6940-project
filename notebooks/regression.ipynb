{
 "cells": [
  {
   "cell_type": "code",
   "execution_count": 272,
   "metadata": {
    "collapsed": true,
    "pycharm": {
     "name": "#%%\n"
    }
   },
   "outputs": [],
   "source": [
    "import pandas as pd\n",
    "import numpy as np\n",
    "import matplotlib.pyplot as plt\n",
    "import seaborn as sns\n",
    "\n",
    "from sklearn.metrics import mean_squared_error, r2_score\n",
    "from sklearn.model_selection import train_test_split, KFold, GridSearchCV\n",
    "from sklearn.feature_selection import SequentialFeatureSelector\n",
    "from sklearn.linear_model import Ridge, Lasso, ElasticNet, LinearRegression\n",
    "from sklearn.preprocessing import StandardScaler\n",
    "from sklearn.cluster import DBSCAN\n",
    "\n",
    "import warnings\n",
    "import itertools\n",
    "import time\n",
    "from joblib import load, dump\n",
    "from math import inf\n",
    "\n",
    "from sklearn.svm import SVR\n",
    "\n",
    "from utils.general import remove_punctuation"
   ]
  },
  {
   "cell_type": "code",
   "execution_count": 273,
   "outputs": [],
   "source": [
    "warnings.filterwarnings(\"ignore\")"
   ],
   "metadata": {
    "collapsed": false,
    "pycharm": {
     "name": "#%%\n"
    }
   }
  },
  {
   "cell_type": "code",
   "execution_count": 274,
   "outputs": [],
   "source": [
    "data_df = pd.read_csv(\"../data/data.csv\")\n",
    "billboard_df = pd.read_csv(\"../data/billboard/hot-100_all.csv\")\n",
    "pop_metrics = pd.read_csv(\"../data/popularity_metrics.csv\")\n",
    "regression_features = pd.read_csv(\"./regression_features.csv\")\n",
    "regression_features.drop(labels=['top_10', 'top_20', 'top_50'], axis=1, inplace=True)\n",
    "\n",
    "\n",
    "data_df.drop(labels='Unnamed: 0', axis=1, inplace=True)\n",
    "# mfccs = data_df.filter(regex='mfcc*')\n",
    "# data_df = data_df.filter(regex='^((?!mfcc).)*$')\n",
    "pop_metrics.drop(labels='Unnamed: 0', axis=1, inplace=True)\n",
    "pop_metrics.drop(labels=['top_10', 'top_20', 'top_50'], axis=1, inplace=True)\n",
    "# pop_metrics['avg_rank_score'] = pop_metrics['avg_rank_score'].apply(lambda x: x*100)"
   ],
   "metadata": {
    "collapsed": false,
    "pycharm": {
     "name": "#%%\n"
    }
   }
  },
  {
   "cell_type": "code",
   "execution_count": 275,
   "outputs": [
    {
     "data": {
      "text/plain": "      duration_ms  danceability    energy       key  loudness      mode  \\\n0        0.796196     -2.178146  0.030618  0.513133 -0.277509  0.778521   \n1       -1.466521     -0.508462 -0.921567  0.790982 -0.776142  0.778521   \n2       -1.373778      0.580463 -1.216437 -0.876113 -0.665248  0.778521   \n3       -1.283932      0.111895 -1.517450 -1.431812 -2.446135  0.778521   \n4        0.287341      0.191090  0.859939 -1.431812  1.260264  0.778521   \n...           ...           ...       ...       ...       ...       ...   \n1418     0.607892     -0.567858  1.025804 -1.153963  0.709287 -1.284487   \n1419     0.424180      0.336280 -1.093574 -1.153963 -1.697798  0.778521   \n1420    -0.596684      0.098696 -0.614410 -0.042566 -0.772652 -1.284487   \n1421     0.005151      1.379008 -0.884708  0.513133 -1.479113  0.778521   \n1422    -0.843427      1.240417  1.130237  1.624529 -0.587313 -1.284487   \n\n      speechiness  acousticness  instrumentalness  liveness  ...  \\\n0       -0.806495     -0.236372         -0.153169 -0.839151  ...   \n1       -0.712676      1.541868         -0.153169  2.511305  ...   \n2       -0.823191      1.656466         -0.153169 -0.882363  ...   \n3       -0.870895      1.403561         -0.153169 -0.799026  ...   \n4       -0.797749     -0.125726         -0.126556 -0.719547  ...   \n...           ...           ...               ...       ...  ...   \n1418    -0.748454     -0.714917         -0.153169 -0.258879  ...   \n1419     0.319326     -0.806990         -0.149733 -0.505803  ...   \n1420     1.297263     -0.808966         -0.153169  1.816830  ...   \n1421     0.621453     -0.856109         -0.153169 -0.251162  ...   \n1422    -0.407369     -0.801853          0.437993 -0.843009  ...   \n\n      var_segment_loudness_max_end_diff  mean_segment_num_pitches  \\\n0                                   1.0                       0.0   \n1                                   1.0                       0.0   \n2                                   1.0                       0.0   \n3                                   1.0                       0.0   \n4                                   1.0                       0.0   \n...                                 ...                       ...   \n1418                                1.0                       0.0   \n1419                                1.0                       0.0   \n1420                                1.0                       0.0   \n1421                                1.0                       0.0   \n1422                                1.0                       0.0   \n\n      var_segment_num_pitches  mean_segment_num_pure_pitches  \\\n0                         0.0                            0.0   \n1                         0.0                            0.0   \n2                         0.0                            0.0   \n3                         0.0                            0.0   \n4                         0.0                            0.0   \n...                       ...                            ...   \n1418                      0.0                            0.0   \n1419                      0.0                            0.0   \n1420                      0.0                            0.0   \n1421                      0.0                            0.0   \n1422                      0.0                            0.0   \n\n      var_segment_num_pure_pitches  mean_segment_timbre  var_segment_timbre  \\\n0                             -1.0                  1.0                 0.0   \n1                             -1.0                  1.0                 0.0   \n2                             -1.0                  1.0                 0.0   \n3                             -1.0                  1.0                 0.0   \n4                             -1.0                  1.0                 0.0   \n...                            ...                  ...                 ...   \n1418                          -1.0                  1.0                 0.0   \n1419                          -1.0                  1.0                 0.0   \n1420                          -1.0                  1.0                 0.0   \n1421                          -1.0                  1.0                 0.0   \n1422                          -1.0                  1.0                 0.0   \n\n      num_tatums  mean_tatum_duration  var_tatum_duration  \n0            0.0                 -1.0                 1.0  \n1            0.0                 -1.0                 1.0  \n2            0.0                 -1.0                 1.0  \n3            0.0                 -1.0                 1.0  \n4            0.0                 -1.0                 1.0  \n...          ...                  ...                 ...  \n1418         0.0                 -1.0                 1.0  \n1419         0.0                 -1.0                 1.0  \n1420         0.0                 -1.0                 1.0  \n1421         0.0                 -1.0                 1.0  \n1422         0.0                 -1.0                 1.0  \n\n[1423 rows x 111 columns]",
      "text/html": "<div>\n<style scoped>\n    .dataframe tbody tr th:only-of-type {\n        vertical-align: middle;\n    }\n\n    .dataframe tbody tr th {\n        vertical-align: top;\n    }\n\n    .dataframe thead th {\n        text-align: right;\n    }\n</style>\n<table border=\"1\" class=\"dataframe\">\n  <thead>\n    <tr style=\"text-align: right;\">\n      <th></th>\n      <th>duration_ms</th>\n      <th>danceability</th>\n      <th>energy</th>\n      <th>key</th>\n      <th>loudness</th>\n      <th>mode</th>\n      <th>speechiness</th>\n      <th>acousticness</th>\n      <th>instrumentalness</th>\n      <th>liveness</th>\n      <th>...</th>\n      <th>var_segment_loudness_max_end_diff</th>\n      <th>mean_segment_num_pitches</th>\n      <th>var_segment_num_pitches</th>\n      <th>mean_segment_num_pure_pitches</th>\n      <th>var_segment_num_pure_pitches</th>\n      <th>mean_segment_timbre</th>\n      <th>var_segment_timbre</th>\n      <th>num_tatums</th>\n      <th>mean_tatum_duration</th>\n      <th>var_tatum_duration</th>\n    </tr>\n  </thead>\n  <tbody>\n    <tr>\n      <th>0</th>\n      <td>0.796196</td>\n      <td>-2.178146</td>\n      <td>0.030618</td>\n      <td>0.513133</td>\n      <td>-0.277509</td>\n      <td>0.778521</td>\n      <td>-0.806495</td>\n      <td>-0.236372</td>\n      <td>-0.153169</td>\n      <td>-0.839151</td>\n      <td>...</td>\n      <td>1.0</td>\n      <td>0.0</td>\n      <td>0.0</td>\n      <td>0.0</td>\n      <td>-1.0</td>\n      <td>1.0</td>\n      <td>0.0</td>\n      <td>0.0</td>\n      <td>-1.0</td>\n      <td>1.0</td>\n    </tr>\n    <tr>\n      <th>1</th>\n      <td>-1.466521</td>\n      <td>-0.508462</td>\n      <td>-0.921567</td>\n      <td>0.790982</td>\n      <td>-0.776142</td>\n      <td>0.778521</td>\n      <td>-0.712676</td>\n      <td>1.541868</td>\n      <td>-0.153169</td>\n      <td>2.511305</td>\n      <td>...</td>\n      <td>1.0</td>\n      <td>0.0</td>\n      <td>0.0</td>\n      <td>0.0</td>\n      <td>-1.0</td>\n      <td>1.0</td>\n      <td>0.0</td>\n      <td>0.0</td>\n      <td>-1.0</td>\n      <td>1.0</td>\n    </tr>\n    <tr>\n      <th>2</th>\n      <td>-1.373778</td>\n      <td>0.580463</td>\n      <td>-1.216437</td>\n      <td>-0.876113</td>\n      <td>-0.665248</td>\n      <td>0.778521</td>\n      <td>-0.823191</td>\n      <td>1.656466</td>\n      <td>-0.153169</td>\n      <td>-0.882363</td>\n      <td>...</td>\n      <td>1.0</td>\n      <td>0.0</td>\n      <td>0.0</td>\n      <td>0.0</td>\n      <td>-1.0</td>\n      <td>1.0</td>\n      <td>0.0</td>\n      <td>0.0</td>\n      <td>-1.0</td>\n      <td>1.0</td>\n    </tr>\n    <tr>\n      <th>3</th>\n      <td>-1.283932</td>\n      <td>0.111895</td>\n      <td>-1.517450</td>\n      <td>-1.431812</td>\n      <td>-2.446135</td>\n      <td>0.778521</td>\n      <td>-0.870895</td>\n      <td>1.403561</td>\n      <td>-0.153169</td>\n      <td>-0.799026</td>\n      <td>...</td>\n      <td>1.0</td>\n      <td>0.0</td>\n      <td>0.0</td>\n      <td>0.0</td>\n      <td>-1.0</td>\n      <td>1.0</td>\n      <td>0.0</td>\n      <td>0.0</td>\n      <td>-1.0</td>\n      <td>1.0</td>\n    </tr>\n    <tr>\n      <th>4</th>\n      <td>0.287341</td>\n      <td>0.191090</td>\n      <td>0.859939</td>\n      <td>-1.431812</td>\n      <td>1.260264</td>\n      <td>0.778521</td>\n      <td>-0.797749</td>\n      <td>-0.125726</td>\n      <td>-0.126556</td>\n      <td>-0.719547</td>\n      <td>...</td>\n      <td>1.0</td>\n      <td>0.0</td>\n      <td>0.0</td>\n      <td>0.0</td>\n      <td>-1.0</td>\n      <td>1.0</td>\n      <td>0.0</td>\n      <td>0.0</td>\n      <td>-1.0</td>\n      <td>1.0</td>\n    </tr>\n    <tr>\n      <th>...</th>\n      <td>...</td>\n      <td>...</td>\n      <td>...</td>\n      <td>...</td>\n      <td>...</td>\n      <td>...</td>\n      <td>...</td>\n      <td>...</td>\n      <td>...</td>\n      <td>...</td>\n      <td>...</td>\n      <td>...</td>\n      <td>...</td>\n      <td>...</td>\n      <td>...</td>\n      <td>...</td>\n      <td>...</td>\n      <td>...</td>\n      <td>...</td>\n      <td>...</td>\n      <td>...</td>\n    </tr>\n    <tr>\n      <th>1418</th>\n      <td>0.607892</td>\n      <td>-0.567858</td>\n      <td>1.025804</td>\n      <td>-1.153963</td>\n      <td>0.709287</td>\n      <td>-1.284487</td>\n      <td>-0.748454</td>\n      <td>-0.714917</td>\n      <td>-0.153169</td>\n      <td>-0.258879</td>\n      <td>...</td>\n      <td>1.0</td>\n      <td>0.0</td>\n      <td>0.0</td>\n      <td>0.0</td>\n      <td>-1.0</td>\n      <td>1.0</td>\n      <td>0.0</td>\n      <td>0.0</td>\n      <td>-1.0</td>\n      <td>1.0</td>\n    </tr>\n    <tr>\n      <th>1419</th>\n      <td>0.424180</td>\n      <td>0.336280</td>\n      <td>-1.093574</td>\n      <td>-1.153963</td>\n      <td>-1.697798</td>\n      <td>0.778521</td>\n      <td>0.319326</td>\n      <td>-0.806990</td>\n      <td>-0.149733</td>\n      <td>-0.505803</td>\n      <td>...</td>\n      <td>1.0</td>\n      <td>0.0</td>\n      <td>0.0</td>\n      <td>0.0</td>\n      <td>-1.0</td>\n      <td>1.0</td>\n      <td>0.0</td>\n      <td>0.0</td>\n      <td>-1.0</td>\n      <td>1.0</td>\n    </tr>\n    <tr>\n      <th>1420</th>\n      <td>-0.596684</td>\n      <td>0.098696</td>\n      <td>-0.614410</td>\n      <td>-0.042566</td>\n      <td>-0.772652</td>\n      <td>-1.284487</td>\n      <td>1.297263</td>\n      <td>-0.808966</td>\n      <td>-0.153169</td>\n      <td>1.816830</td>\n      <td>...</td>\n      <td>1.0</td>\n      <td>0.0</td>\n      <td>0.0</td>\n      <td>0.0</td>\n      <td>-1.0</td>\n      <td>1.0</td>\n      <td>0.0</td>\n      <td>0.0</td>\n      <td>-1.0</td>\n      <td>1.0</td>\n    </tr>\n    <tr>\n      <th>1421</th>\n      <td>0.005151</td>\n      <td>1.379008</td>\n      <td>-0.884708</td>\n      <td>0.513133</td>\n      <td>-1.479113</td>\n      <td>0.778521</td>\n      <td>0.621453</td>\n      <td>-0.856109</td>\n      <td>-0.153169</td>\n      <td>-0.251162</td>\n      <td>...</td>\n      <td>1.0</td>\n      <td>0.0</td>\n      <td>0.0</td>\n      <td>0.0</td>\n      <td>-1.0</td>\n      <td>1.0</td>\n      <td>0.0</td>\n      <td>0.0</td>\n      <td>-1.0</td>\n      <td>1.0</td>\n    </tr>\n    <tr>\n      <th>1422</th>\n      <td>-0.843427</td>\n      <td>1.240417</td>\n      <td>1.130237</td>\n      <td>1.624529</td>\n      <td>-0.587313</td>\n      <td>-1.284487</td>\n      <td>-0.407369</td>\n      <td>-0.801853</td>\n      <td>0.437993</td>\n      <td>-0.843009</td>\n      <td>...</td>\n      <td>1.0</td>\n      <td>0.0</td>\n      <td>0.0</td>\n      <td>0.0</td>\n      <td>-1.0</td>\n      <td>1.0</td>\n      <td>0.0</td>\n      <td>0.0</td>\n      <td>-1.0</td>\n      <td>1.0</td>\n    </tr>\n  </tbody>\n</table>\n<p>1423 rows × 111 columns</p>\n</div>"
     },
     "execution_count": 275,
     "metadata": {},
     "output_type": "execute_result"
    }
   ],
   "source": [
    "data_df"
   ],
   "metadata": {
    "collapsed": false,
    "pycharm": {
     "name": "#%%\n"
    }
   }
  },
  {
   "cell_type": "code",
   "execution_count": 276,
   "outputs": [
    {
     "data": {
      "text/plain": "                                   title  \\\n0        All I Want For Christmas Is You   \n1      Rockin' Around The Christmas Tree   \n2                       Jingle Bell Rock   \n3                A Holly Jolly Christmas   \n4                                Circles   \n...                                  ...   \n10495                             Bubbly   \n10496                        Do It To It   \n10497                            No Love   \n10498                        Knowing You   \n10499                        Family Ties   \n\n                                     artist  image  peakPos  lastPos  weeks  \\\n0                              Mariah Carey    NaN        1        1     37   \n1                                Brenda Lee    NaN        2        2     32   \n2                               Bobby Helms    NaN        3        9     30   \n3                                 Burl Ives    NaN        4        6     15   \n4                               Post Malone    NaN        1        3     17   \n...                                     ...    ...      ...      ...    ...   \n10495  Young Thug With Drake & Travis Scott    NaN       20      100     10   \n10496              Acraze Featuring Cherish    NaN       97        0      1   \n10497                   Summer Walker & SZA    NaN       13       96      7   \n10498                         Kenny Chesney    NaN       57       84     19   \n10499            Baby Keem & Kendrick Lamar    NaN       18       93     17   \n\n       rank  isNew        date  \n0         1  False  2020-01-04  \n1         2  False  2020-01-04  \n2         3  False  2020-01-04  \n3         4  False  2020-01-04  \n4         5  False  2020-01-04  \n...     ...    ...         ...  \n10495    96  False  2022-01-01  \n10496    97   True  2022-01-01  \n10497    98  False  2022-01-01  \n10498    99  False  2022-01-01  \n10499   100  False  2022-01-01  \n\n[10500 rows x 9 columns]",
      "text/html": "<div>\n<style scoped>\n    .dataframe tbody tr th:only-of-type {\n        vertical-align: middle;\n    }\n\n    .dataframe tbody tr th {\n        vertical-align: top;\n    }\n\n    .dataframe thead th {\n        text-align: right;\n    }\n</style>\n<table border=\"1\" class=\"dataframe\">\n  <thead>\n    <tr style=\"text-align: right;\">\n      <th></th>\n      <th>title</th>\n      <th>artist</th>\n      <th>image</th>\n      <th>peakPos</th>\n      <th>lastPos</th>\n      <th>weeks</th>\n      <th>rank</th>\n      <th>isNew</th>\n      <th>date</th>\n    </tr>\n  </thead>\n  <tbody>\n    <tr>\n      <th>0</th>\n      <td>All I Want For Christmas Is You</td>\n      <td>Mariah Carey</td>\n      <td>NaN</td>\n      <td>1</td>\n      <td>1</td>\n      <td>37</td>\n      <td>1</td>\n      <td>False</td>\n      <td>2020-01-04</td>\n    </tr>\n    <tr>\n      <th>1</th>\n      <td>Rockin' Around The Christmas Tree</td>\n      <td>Brenda Lee</td>\n      <td>NaN</td>\n      <td>2</td>\n      <td>2</td>\n      <td>32</td>\n      <td>2</td>\n      <td>False</td>\n      <td>2020-01-04</td>\n    </tr>\n    <tr>\n      <th>2</th>\n      <td>Jingle Bell Rock</td>\n      <td>Bobby Helms</td>\n      <td>NaN</td>\n      <td>3</td>\n      <td>9</td>\n      <td>30</td>\n      <td>3</td>\n      <td>False</td>\n      <td>2020-01-04</td>\n    </tr>\n    <tr>\n      <th>3</th>\n      <td>A Holly Jolly Christmas</td>\n      <td>Burl Ives</td>\n      <td>NaN</td>\n      <td>4</td>\n      <td>6</td>\n      <td>15</td>\n      <td>4</td>\n      <td>False</td>\n      <td>2020-01-04</td>\n    </tr>\n    <tr>\n      <th>4</th>\n      <td>Circles</td>\n      <td>Post Malone</td>\n      <td>NaN</td>\n      <td>1</td>\n      <td>3</td>\n      <td>17</td>\n      <td>5</td>\n      <td>False</td>\n      <td>2020-01-04</td>\n    </tr>\n    <tr>\n      <th>...</th>\n      <td>...</td>\n      <td>...</td>\n      <td>...</td>\n      <td>...</td>\n      <td>...</td>\n      <td>...</td>\n      <td>...</td>\n      <td>...</td>\n      <td>...</td>\n    </tr>\n    <tr>\n      <th>10495</th>\n      <td>Bubbly</td>\n      <td>Young Thug With Drake &amp; Travis Scott</td>\n      <td>NaN</td>\n      <td>20</td>\n      <td>100</td>\n      <td>10</td>\n      <td>96</td>\n      <td>False</td>\n      <td>2022-01-01</td>\n    </tr>\n    <tr>\n      <th>10496</th>\n      <td>Do It To It</td>\n      <td>Acraze Featuring Cherish</td>\n      <td>NaN</td>\n      <td>97</td>\n      <td>0</td>\n      <td>1</td>\n      <td>97</td>\n      <td>True</td>\n      <td>2022-01-01</td>\n    </tr>\n    <tr>\n      <th>10497</th>\n      <td>No Love</td>\n      <td>Summer Walker &amp; SZA</td>\n      <td>NaN</td>\n      <td>13</td>\n      <td>96</td>\n      <td>7</td>\n      <td>98</td>\n      <td>False</td>\n      <td>2022-01-01</td>\n    </tr>\n    <tr>\n      <th>10498</th>\n      <td>Knowing You</td>\n      <td>Kenny Chesney</td>\n      <td>NaN</td>\n      <td>57</td>\n      <td>84</td>\n      <td>19</td>\n      <td>99</td>\n      <td>False</td>\n      <td>2022-01-01</td>\n    </tr>\n    <tr>\n      <th>10499</th>\n      <td>Family Ties</td>\n      <td>Baby Keem &amp; Kendrick Lamar</td>\n      <td>NaN</td>\n      <td>18</td>\n      <td>93</td>\n      <td>17</td>\n      <td>100</td>\n      <td>False</td>\n      <td>2022-01-01</td>\n    </tr>\n  </tbody>\n</table>\n<p>10500 rows × 9 columns</p>\n</div>"
     },
     "execution_count": 276,
     "metadata": {},
     "output_type": "execute_result"
    }
   ],
   "source": [
    "billboard_df"
   ],
   "metadata": {
    "collapsed": false,
    "pycharm": {
     "name": "#%%\n"
    }
   }
  },
  {
   "cell_type": "code",
   "execution_count": 277,
   "outputs": [
    {
     "data": {
      "text/plain": "      peak_rank  debut_rank  lifetime_peak_rank  sensationality  \\\n0             1    1.000000                   1        0.999999   \n1             2    0.500000                   2        0.998958   \n2             3    0.333333                   3        0.981122   \n3             4    0.250000                   4        0.931350   \n4             1    0.200000                   1        0.999999   \n...         ...         ...                 ...             ...   \n1418         79    0.012658                  79        0.012658   \n1419         85    0.011765                  85        0.011764   \n1420         91    0.010989                  91        0.010989   \n1421         95    0.010526                  95        0.010526   \n1422         97    0.010309                  97        0.010309   \n\n      avg_rank_score  std_rank_score  time_on_chart  num_occurrences  \\\n0           0.270183        0.316913             50               14   \n1           0.123908        0.156764             44               17   \n2           0.151254        0.099182             41               12   \n3           0.121060        0.075093             25               11   \n4           0.153094        0.215097             61               47   \n...              ...             ...            ...              ...   \n1418        0.012658        0.000000              1                1   \n1419        0.011765        0.000000              1                1   \n1420        0.010989        0.000000              1                1   \n1421        0.010526        0.000000              1                1   \n1422        0.010309        0.000000              1                1   \n\n      rank_sum  skewness  kurtosis  spotify_popularity  \n0     2.161467  1.395650  0.673814                69.0  \n1     1.362990  1.352697  0.450922                62.0  \n2     1.210036  0.477332 -0.985764                62.0  \n3     0.968480  0.378995 -1.307941                54.0  \n4     2.908793  3.182407  9.711951                86.0  \n...        ...       ...       ...                 ...  \n1418  0.012658  0.000000 -3.000000                41.0  \n1419  0.011765  0.000000 -3.000000                66.0  \n1420  0.010989  0.000000 -3.000000                69.0  \n1421  0.010526  0.000000 -3.000000                70.0  \n1422  0.010309  0.000000 -3.000000                91.0  \n\n[1423 rows x 12 columns]",
      "text/html": "<div>\n<style scoped>\n    .dataframe tbody tr th:only-of-type {\n        vertical-align: middle;\n    }\n\n    .dataframe tbody tr th {\n        vertical-align: top;\n    }\n\n    .dataframe thead th {\n        text-align: right;\n    }\n</style>\n<table border=\"1\" class=\"dataframe\">\n  <thead>\n    <tr style=\"text-align: right;\">\n      <th></th>\n      <th>peak_rank</th>\n      <th>debut_rank</th>\n      <th>lifetime_peak_rank</th>\n      <th>sensationality</th>\n      <th>avg_rank_score</th>\n      <th>std_rank_score</th>\n      <th>time_on_chart</th>\n      <th>num_occurrences</th>\n      <th>rank_sum</th>\n      <th>skewness</th>\n      <th>kurtosis</th>\n      <th>spotify_popularity</th>\n    </tr>\n  </thead>\n  <tbody>\n    <tr>\n      <th>0</th>\n      <td>1</td>\n      <td>1.000000</td>\n      <td>1</td>\n      <td>0.999999</td>\n      <td>0.270183</td>\n      <td>0.316913</td>\n      <td>50</td>\n      <td>14</td>\n      <td>2.161467</td>\n      <td>1.395650</td>\n      <td>0.673814</td>\n      <td>69.0</td>\n    </tr>\n    <tr>\n      <th>1</th>\n      <td>2</td>\n      <td>0.500000</td>\n      <td>2</td>\n      <td>0.998958</td>\n      <td>0.123908</td>\n      <td>0.156764</td>\n      <td>44</td>\n      <td>17</td>\n      <td>1.362990</td>\n      <td>1.352697</td>\n      <td>0.450922</td>\n      <td>62.0</td>\n    </tr>\n    <tr>\n      <th>2</th>\n      <td>3</td>\n      <td>0.333333</td>\n      <td>3</td>\n      <td>0.981122</td>\n      <td>0.151254</td>\n      <td>0.099182</td>\n      <td>41</td>\n      <td>12</td>\n      <td>1.210036</td>\n      <td>0.477332</td>\n      <td>-0.985764</td>\n      <td>62.0</td>\n    </tr>\n    <tr>\n      <th>3</th>\n      <td>4</td>\n      <td>0.250000</td>\n      <td>4</td>\n      <td>0.931350</td>\n      <td>0.121060</td>\n      <td>0.075093</td>\n      <td>25</td>\n      <td>11</td>\n      <td>0.968480</td>\n      <td>0.378995</td>\n      <td>-1.307941</td>\n      <td>54.0</td>\n    </tr>\n    <tr>\n      <th>4</th>\n      <td>1</td>\n      <td>0.200000</td>\n      <td>1</td>\n      <td>0.999999</td>\n      <td>0.153094</td>\n      <td>0.215097</td>\n      <td>61</td>\n      <td>47</td>\n      <td>2.908793</td>\n      <td>3.182407</td>\n      <td>9.711951</td>\n      <td>86.0</td>\n    </tr>\n    <tr>\n      <th>...</th>\n      <td>...</td>\n      <td>...</td>\n      <td>...</td>\n      <td>...</td>\n      <td>...</td>\n      <td>...</td>\n      <td>...</td>\n      <td>...</td>\n      <td>...</td>\n      <td>...</td>\n      <td>...</td>\n      <td>...</td>\n    </tr>\n    <tr>\n      <th>1418</th>\n      <td>79</td>\n      <td>0.012658</td>\n      <td>79</td>\n      <td>0.012658</td>\n      <td>0.012658</td>\n      <td>0.000000</td>\n      <td>1</td>\n      <td>1</td>\n      <td>0.012658</td>\n      <td>0.000000</td>\n      <td>-3.000000</td>\n      <td>41.0</td>\n    </tr>\n    <tr>\n      <th>1419</th>\n      <td>85</td>\n      <td>0.011765</td>\n      <td>85</td>\n      <td>0.011764</td>\n      <td>0.011765</td>\n      <td>0.000000</td>\n      <td>1</td>\n      <td>1</td>\n      <td>0.011765</td>\n      <td>0.000000</td>\n      <td>-3.000000</td>\n      <td>66.0</td>\n    </tr>\n    <tr>\n      <th>1420</th>\n      <td>91</td>\n      <td>0.010989</td>\n      <td>91</td>\n      <td>0.010989</td>\n      <td>0.010989</td>\n      <td>0.000000</td>\n      <td>1</td>\n      <td>1</td>\n      <td>0.010989</td>\n      <td>0.000000</td>\n      <td>-3.000000</td>\n      <td>69.0</td>\n    </tr>\n    <tr>\n      <th>1421</th>\n      <td>95</td>\n      <td>0.010526</td>\n      <td>95</td>\n      <td>0.010526</td>\n      <td>0.010526</td>\n      <td>0.000000</td>\n      <td>1</td>\n      <td>1</td>\n      <td>0.010526</td>\n      <td>0.000000</td>\n      <td>-3.000000</td>\n      <td>70.0</td>\n    </tr>\n    <tr>\n      <th>1422</th>\n      <td>97</td>\n      <td>0.010309</td>\n      <td>97</td>\n      <td>0.010309</td>\n      <td>0.010309</td>\n      <td>0.000000</td>\n      <td>1</td>\n      <td>1</td>\n      <td>0.010309</td>\n      <td>0.000000</td>\n      <td>-3.000000</td>\n      <td>91.0</td>\n    </tr>\n  </tbody>\n</table>\n<p>1423 rows × 12 columns</p>\n</div>"
     },
     "execution_count": 277,
     "metadata": {},
     "output_type": "execute_result"
    }
   ],
   "source": [
    "pop_metrics"
   ],
   "metadata": {
    "collapsed": false,
    "pycharm": {
     "name": "#%%\n"
    }
   }
  },
  {
   "cell_type": "code",
   "execution_count": 278,
   "outputs": [
    {
     "data": {
      "text/plain": "         peak_rank   debut_rank  lifetime_peak_rank  sensationality  \\\ncount  1423.000000  1423.000000         1423.000000     1423.000000   \nmean     50.872804     0.046989           49.780745        0.173917   \nstd      28.872677     0.134828           29.203101        0.264423   \nmin       1.000000     0.010000            1.000000        0.010000   \n25%      26.000000     0.011628           25.000000        0.014492   \n50%      53.000000     0.015152           52.000000        0.040918   \n75%      76.000000     0.025641           75.000000        0.221774   \nmax     100.000000     1.000000          100.000000        1.000000   \n\n       avg_rank_score  std_rank_score  time_on_chart  num_occurrences  \\\ncount     1423.000000     1423.000000     1423.00000      1423.000000   \nmean         0.025285        0.015060        8.41532         7.326072   \nstd          0.031150        0.045298       10.98796         9.710895   \nmin          0.010000        0.000000        1.00000         1.000000   \n25%          0.012616        0.000000        1.00000         1.000000   \n50%          0.015764        0.001422        2.00000         2.000000   \n75%          0.023810        0.008715       14.00000        11.000000   \nmax          0.409608        0.424401       90.00000        87.000000   \n\n          rank_sum     skewness     kurtosis  spotify_popularity  \ncount  1423.000000  1423.000000  1423.000000         1423.000000  \nmean      0.221581     0.450854    -1.188760           67.404076  \nstd       0.485595     0.822457     2.763996           17.661345  \nmin       0.010000    -1.361391    -3.000000            0.000000  \n25%       0.014493     0.000000    -3.000000           64.000000  \n50%       0.040831     0.000000    -2.000000           70.000000  \n75%       0.196657     0.701393    -0.694673           77.000000  \nmax       3.697960     4.800006    22.324941           95.000000  ",
      "text/html": "<div>\n<style scoped>\n    .dataframe tbody tr th:only-of-type {\n        vertical-align: middle;\n    }\n\n    .dataframe tbody tr th {\n        vertical-align: top;\n    }\n\n    .dataframe thead th {\n        text-align: right;\n    }\n</style>\n<table border=\"1\" class=\"dataframe\">\n  <thead>\n    <tr style=\"text-align: right;\">\n      <th></th>\n      <th>peak_rank</th>\n      <th>debut_rank</th>\n      <th>lifetime_peak_rank</th>\n      <th>sensationality</th>\n      <th>avg_rank_score</th>\n      <th>std_rank_score</th>\n      <th>time_on_chart</th>\n      <th>num_occurrences</th>\n      <th>rank_sum</th>\n      <th>skewness</th>\n      <th>kurtosis</th>\n      <th>spotify_popularity</th>\n    </tr>\n  </thead>\n  <tbody>\n    <tr>\n      <th>count</th>\n      <td>1423.000000</td>\n      <td>1423.000000</td>\n      <td>1423.000000</td>\n      <td>1423.000000</td>\n      <td>1423.000000</td>\n      <td>1423.000000</td>\n      <td>1423.00000</td>\n      <td>1423.000000</td>\n      <td>1423.000000</td>\n      <td>1423.000000</td>\n      <td>1423.000000</td>\n      <td>1423.000000</td>\n    </tr>\n    <tr>\n      <th>mean</th>\n      <td>50.872804</td>\n      <td>0.046989</td>\n      <td>49.780745</td>\n      <td>0.173917</td>\n      <td>0.025285</td>\n      <td>0.015060</td>\n      <td>8.41532</td>\n      <td>7.326072</td>\n      <td>0.221581</td>\n      <td>0.450854</td>\n      <td>-1.188760</td>\n      <td>67.404076</td>\n    </tr>\n    <tr>\n      <th>std</th>\n      <td>28.872677</td>\n      <td>0.134828</td>\n      <td>29.203101</td>\n      <td>0.264423</td>\n      <td>0.031150</td>\n      <td>0.045298</td>\n      <td>10.98796</td>\n      <td>9.710895</td>\n      <td>0.485595</td>\n      <td>0.822457</td>\n      <td>2.763996</td>\n      <td>17.661345</td>\n    </tr>\n    <tr>\n      <th>min</th>\n      <td>1.000000</td>\n      <td>0.010000</td>\n      <td>1.000000</td>\n      <td>0.010000</td>\n      <td>0.010000</td>\n      <td>0.000000</td>\n      <td>1.00000</td>\n      <td>1.000000</td>\n      <td>0.010000</td>\n      <td>-1.361391</td>\n      <td>-3.000000</td>\n      <td>0.000000</td>\n    </tr>\n    <tr>\n      <th>25%</th>\n      <td>26.000000</td>\n      <td>0.011628</td>\n      <td>25.000000</td>\n      <td>0.014492</td>\n      <td>0.012616</td>\n      <td>0.000000</td>\n      <td>1.00000</td>\n      <td>1.000000</td>\n      <td>0.014493</td>\n      <td>0.000000</td>\n      <td>-3.000000</td>\n      <td>64.000000</td>\n    </tr>\n    <tr>\n      <th>50%</th>\n      <td>53.000000</td>\n      <td>0.015152</td>\n      <td>52.000000</td>\n      <td>0.040918</td>\n      <td>0.015764</td>\n      <td>0.001422</td>\n      <td>2.00000</td>\n      <td>2.000000</td>\n      <td>0.040831</td>\n      <td>0.000000</td>\n      <td>-2.000000</td>\n      <td>70.000000</td>\n    </tr>\n    <tr>\n      <th>75%</th>\n      <td>76.000000</td>\n      <td>0.025641</td>\n      <td>75.000000</td>\n      <td>0.221774</td>\n      <td>0.023810</td>\n      <td>0.008715</td>\n      <td>14.00000</td>\n      <td>11.000000</td>\n      <td>0.196657</td>\n      <td>0.701393</td>\n      <td>-0.694673</td>\n      <td>77.000000</td>\n    </tr>\n    <tr>\n      <th>max</th>\n      <td>100.000000</td>\n      <td>1.000000</td>\n      <td>100.000000</td>\n      <td>1.000000</td>\n      <td>0.409608</td>\n      <td>0.424401</td>\n      <td>90.00000</td>\n      <td>87.000000</td>\n      <td>3.697960</td>\n      <td>4.800006</td>\n      <td>22.324941</td>\n      <td>95.000000</td>\n    </tr>\n  </tbody>\n</table>\n</div>"
     },
     "execution_count": 278,
     "metadata": {},
     "output_type": "execute_result"
    }
   ],
   "source": [
    "pop_metrics.describe()"
   ],
   "metadata": {
    "collapsed": false,
    "pycharm": {
     "name": "#%%\n"
    }
   }
  },
  {
   "cell_type": "code",
   "execution_count": 279,
   "outputs": [
    {
     "name": "stdout",
     "output_type": "stream",
     "text": [
      "len(peak_rank features) = 51\n",
      "len(debut_rank features) = 45\n",
      "len(lifetime_peak_rank features) = 51\n",
      "len(sensationality features) = 53\n",
      "len(avg_rank_score features) = 43\n",
      "len(std_rank_score features) = 51\n",
      "len(time_on_chart features) = 54\n",
      "len(num_occurrences features) = 60\n",
      "len(rank_sum features) = 48\n",
      "len(skewness features) = 47\n",
      "len(kurtosis features) = 59\n",
      "len(spotify_popularity features) = 52\n",
      "avg num features = 51.166666666666664\n",
      "60\n"
     ]
    }
   ],
   "source": [
    "def remove_all_except_commas_and_underscores(val: str):\n",
    "    return val.translate(str.maketrans('', '', '!\"#$%&\\'()*+-./:;<=>?@[\\\\]^`{|}~'))\n",
    "s = 0\n",
    "rf = regression_features\n",
    "m = -inf\n",
    "for c in regression_features.columns:\n",
    "    rf[c] = regression_features[c].apply(lambda x: remove_all_except_commas_and_underscores(x.replace(\" \", \"\")).split(','))\n",
    "    num_features = len(regression_features[c].iloc[0])\n",
    "    m = num_features if num_features > m else m\n",
    "    print(f\"len({c} features) = {num_features}\")\n",
    "    # print(regression_features[c].iloc[0][0])\n",
    "    s += num_features\n",
    "print(f\"avg num features = {s/len(regression_features.columns)}\")\n",
    "print(m)\n",
    "MIN_PREDICTORS = m - 1 - 10\n",
    "MAX_PREDICTORS = m - 1\n",
    "assert MIN_PREDICTORS <= MAX_PREDICTORS, \"MIN_PREDICTORS must be <= MAX_PREDICTORS\"\n",
    "regression_features = rf\n",
    "# features = [f for f in regression_features['peak_rank'][0]]\n",
    "# features"
   ],
   "metadata": {
    "collapsed": false,
    "pycharm": {
     "name": "#%%\n"
    }
   }
  },
  {
   "cell_type": "code",
   "execution_count": 280,
   "outputs": [],
   "source": [
    "def gscv(mdl, param_grid, x_, y_, score_method, verbose=0):\n",
    "    grid_search = GridSearchCV(mdl, param_grid=param_grid, n_jobs=-1, verbose=verbose, scoring=score_method)\n",
    "    grid_search.fit(x_, y_)\n",
    "    if verbose == 1:\n",
    "        print(f\"best params = {grid_search.best_params_}\")\n",
    "        print(f\"best score = {grid_search.best_score_}\")\n",
    "    return grid_search.best_params_, grid_search.best_score_"
   ],
   "metadata": {
    "collapsed": false,
    "pycharm": {
     "name": "#%%\n"
    }
   }
  },
  {
   "cell_type": "code",
   "execution_count": 281,
   "outputs": [],
   "source": [
    "def process_subset(model, X, y, features):\n",
    "    kf = KFold()\n",
    "    mse = []\n",
    "    X = X[list(features)]\n",
    "    for train_idx, test_idx in kf.split(X, y):\n",
    "        X_train, X_test = X.iloc[train_idx], X.iloc[test_idx]\n",
    "        y_train, y_test = y.iloc[train_idx], y.iloc[test_idx]\n",
    "        regr = model.fit(X_train, y=y_train)\n",
    "        y_predict = regr.predict(X_test)\n",
    "        mse.append(mean_squared_error(y_test, y_predict))\n",
    "    return {\"model\": model, \"features\": features, \"MSE\":np.mean(mse)}"
   ],
   "metadata": {
    "collapsed": false,
    "pycharm": {
     "name": "#%%\n"
    }
   }
  },
  {
   "cell_type": "code",
   "execution_count": 282,
   "outputs": [],
   "source": [
    "def best_subset(model, X, y, subset_size=-1, force=False):\n",
    "    limit = 100000\n",
    "    if subset_size == -1:\n",
    "        subset_size = len(X.columns)\n",
    "    assert len(X.columns) >= subset_size, f\"X.columns must be >= subset_size. Given len(X.columns)={len(X.columns)}, subset_size={subset_size}\"\n",
    "\n",
    "    num_combinations = np.math.factorial(len(X.columns))/(np.math.factorial(len(X.columns)-subset_size) * np.math.factorial(subset_size))\n",
    "    if num_combinations > limit and not force:\n",
    "        print(f\"Please be aware that this action will run {int(num_combinations)} models and there is a real possibility it will crash your system.\\nIf you're ABSOLUTELY SURE you want to do this please include the parameter 'force=True' when calling this function\")\n",
    "        return {\"model\": model, \"features\": X.columns, \"MSE\": -1}\n",
    "    tic = time.time()\n",
    "    results = []\n",
    "    for combo in itertools.combinations(X.columns, subset_size):\n",
    "        results.append(process_subset(model, X, y, combo))\n",
    "    models = pd.DataFrame(results)\n",
    "    best_model = models.loc[models['MSE'].argmin()]\n",
    "    toc = time.time()\n",
    "    print(\"Processed\", models.shape[0], \"models on\", subset_size, \"predictors in\", (toc-tic), \"seconds.\")\n",
    "    return best_model"
   ],
   "metadata": {
    "collapsed": false,
    "pycharm": {
     "name": "#%%\n"
    }
   }
  },
  {
   "cell_type": "code",
   "execution_count": 283,
   "outputs": [],
   "source": [
    "def stepwise_selection(model, X, y, direction='forward', num_features=None, scoring='neg_root_mean_squared_error'):\n",
    "    sfs = SequentialFeatureSelector(model, direction=direction, n_features_to_select=num_features, scoring=scoring)\n",
    "    sfs.fit(X, y)\n",
    "    return sfs.transform(X), sfs.get_support()"
   ],
   "metadata": {
    "collapsed": false,
    "pycharm": {
     "name": "#%%\n"
    }
   }
  },
  {
   "cell_type": "code",
   "execution_count": 284,
   "outputs": [],
   "source": [
    "# get n samples from 1-dimensional df following a gaussian distribution\n",
    "def sample(df: pd.DataFrame, n=400, plot=False):\n",
    "    x = np.sort(df)\n",
    "    f_x = np.gradient(x)*np.exp(-x**2/2)\n",
    "    sample_probs = f_x/np.sum(f_x)\n",
    "    df_samples = df.sort_values().sample(n=n, weights=sample_probs, replace=False, random_state=1212178686)\n",
    "    if plot:\n",
    "        sns.distplot(df_samples)\n",
    "    return df_samples"
   ],
   "metadata": {
    "collapsed": false,
    "pycharm": {
     "name": "#%%\n"
    }
   }
  },
  {
   "cell_type": "code",
   "execution_count": 285,
   "outputs": [],
   "source": [
    "# tic = time.time()\n",
    "# features, idx_mask = stepwise_selection(Ridge(), data_df, pop_metrics['avg_rank_score'], num_features=70)\n",
    "# toc = time.time()\n",
    "# print(toc-tic)\n",
    "# fs = data_df.loc[:, idx_mask==True]"
   ],
   "metadata": {
    "collapsed": false,
    "pycharm": {
     "name": "#%%\n"
    }
   }
  },
  {
   "cell_type": "code",
   "execution_count": 286,
   "outputs": [],
   "source": [
    "# features, idx_mask = stepwise_selection(LinearRegression(), data_df, pop_metrics['avg_rank_score'], direction='backward')\n",
    "# bs = data_df.loc[:, idx_mask==True]"
   ],
   "metadata": {
    "collapsed": false,
    "pycharm": {
     "name": "#%%\n"
    }
   }
  },
  {
   "cell_type": "code",
   "execution_count": 287,
   "outputs": [],
   "source": [
    "def run_regression(model, X, y):\n",
    "    mse = []\n",
    "    for train_idx, test_idx in KFold().split(X, y):\n",
    "        X_train, X_test = X.iloc[train_idx], X.iloc[test_idx]\n",
    "        y_train, y_test = y.iloc[train_idx], y.iloc[test_idx]\n",
    "        regr = model.fit(X_train, y=y_train)\n",
    "        y_predict = regr.predict(X_test)\n",
    "        mse.append(mean_squared_error(y_test, y_predict))\n",
    "    return np.mean(mse)"
   ],
   "metadata": {
    "collapsed": false,
    "pycharm": {
     "name": "#%%\n"
    }
   }
  },
  {
   "cell_type": "markdown",
   "source": [
    "# Removing Outliers"
   ],
   "metadata": {
    "collapsed": false,
    "pycharm": {
     "name": "#%% md\n"
    }
   }
  },
  {
   "cell_type": "markdown",
   "source": [
    "For the most part we would like to avoid removing too many data points as \"outliers\" as with regression there may be many extreme results that are within reason given the context of the data, such as in this use case. A very popular song simply fits current listening criteria very well. As such we have tuned our use of the DBSCAN algorithm to remove only the most extreme outlier cases. Update: Using sensationality instead to balance data, less affected by outlier value dur to normalisation so skipping outlier removal here."
   ],
   "metadata": {
    "collapsed": false,
    "pycharm": {
     "name": "#%% md\n"
    }
   }
  },
  {
   "cell_type": "code",
   "execution_count": 288,
   "outputs": [],
   "source": [
    "# dbscan = DBSCAN(eps = 0.1, min_samples = 60)\n",
    "# pred = dbscan.fit_predict(pop_metrics[['sensationality']])\n",
    "# anom_index = np.where(pred == -1)\n",
    "# data_df = data_df[~data_df.index.isin(anom_index[0])]\n",
    "# pop_metrics = pop_metrics[~pop_metrics.index.isin(anom_index[0])]\n",
    "#\n",
    "# sns.displot(pop_metrics['avg_rank_score'])\n",
    "# plt.show()\n",
    "#\n",
    "# print(f\"{len(anom_index[0])} anomalies removed...\")\n",
    "# for an_idx in anom_index[0]:\n",
    "#     print(f\"removed {an_idx}. {billboard_df['title'].iloc[an_idx]}\")"
   ],
   "metadata": {
    "collapsed": false,
    "pycharm": {
     "name": "#%%\n"
    }
   }
  },
  {
   "cell_type": "markdown",
   "source": [
    "# Balancing Data And Extracting Training and Testing Samples"
   ],
   "metadata": {
    "collapsed": false,
    "pycharm": {
     "name": "#%% md\n"
    }
   }
  },
  {
   "cell_type": "code",
   "execution_count": 290,
   "outputs": [
    {
     "data": {
      "text/plain": "<Figure size 360x360 with 1 Axes>",
      "image/png": "[encoded data removed]"
     },
     "metadata": {},
     "output_type": "display_data"
    },
    {
     "data": {
      "text/plain": "<Figure size 432x288 with 1 Axes>",
      "image/png": "[encoded data removed]"
     },
     "metadata": {},
     "output_type": "display_data"
    },
    {
     "data": {
      "text/plain": "<Figure size 432x288 with 1 Axes>",
      "image/png": "[encoded data removed]"
     },
     "metadata": {},
     "output_type": "display_data"
    },
    {
     "data": {
      "text/plain": "<Figure size 360x360 with 1 Axes>",
      "image/png": "[encoded data removed]"
     },
     "metadata": {},
     "output_type": "display_data"
    },
    {
     "data": {
      "text/plain": "      duration_ms  danceability    energy       key  loudness      mode  \\\n563     -1.185416      0.230687  0.577356  0.513133  1.192798 -1.284487   \n699     -0.936879      0.745452  0.122764  0.790982  0.165289 -1.284487   \n368      0.849986      1.154623  0.651073  0.513133  1.309507  0.778521   \n12      -0.079691      1.517598 -0.221250  1.346680  0.023376 -1.284487   \n718      0.099234     -0.759244  0.823081 -0.876113  0.697655  0.778521   \n...           ...           ...       ...       ...       ...       ...   \n1251     0.537966     -0.515061  0.485209  1.068831  0.138535  0.778521   \n1285     0.472827     -0.409469 -1.572738 -0.042566 -0.299223  0.778521   \n1320    -0.141677      0.138294  0.976659 -1.153963  0.752714  0.778521   \n1321    -0.064125     -0.257679 -0.024670 -0.876113 -0.690839  0.778521   \n1341     8.124217     -0.231281 -0.638983 -1.431812 -0.784672  0.778521   \n\n      speechiness  acousticness  instrumentalness  liveness  ...  \\\n563     -0.824781     -0.196856         -0.153169  1.114639  ...   \n699     -0.189520     -0.733094         -0.153169  0.157806  ...   \n368     -0.726988     -0.549738         -0.153169 -0.235729  ...   \n12      -0.667357     -0.473471         -0.153169  4.710476  ...   \n718     -0.593416     -0.682513         -0.153169 -0.795168  ...   \n...           ...           ...               ...       ...  ...   \n1251    -0.792183     -0.852315         -0.153169  0.157806  ...   \n1285    -0.887592      1.399609         -0.153169 -0.359192  ...   \n1320    -0.690414     -0.741788         -0.153169 -0.802884  ...   \n1321    -0.764356     -0.663940         -0.153169  1.322981  ...   \n1341    -0.870895      0.198309         -0.153169 -0.706429  ...   \n\n      var_segment_loudness_max_end_diff  mean_segment_num_pitches  \\\n563                                 1.0                       0.0   \n699                                 1.0                       0.0   \n368                                 1.0                       0.0   \n12                                  1.0                       0.0   \n718                                 1.0                       0.0   \n...                                 ...                       ...   \n1251                                1.0                       0.0   \n1285                                1.0                       0.0   \n1320                                1.0                       0.0   \n1321                                1.0                       0.0   \n1341                                1.0                       0.0   \n\n      var_segment_num_pitches  mean_segment_num_pure_pitches  \\\n563                       0.0                            0.0   \n699                       0.0                            0.0   \n368                       0.0                            0.0   \n12                        0.0                            0.0   \n718                       0.0                            0.0   \n...                       ...                            ...   \n1251                      0.0                            0.0   \n1285                      0.0                            0.0   \n1320                      0.0                            0.0   \n1321                      0.0                            0.0   \n1341                      0.0                            0.0   \n\n      var_segment_num_pure_pitches  mean_segment_timbre  var_segment_timbre  \\\n563                           -1.0                  1.0                 0.0   \n699                           -1.0                  1.0                 0.0   \n368                           -1.0                  1.0                 0.0   \n12                            -1.0                  1.0                 0.0   \n718                           -1.0                  1.0                 0.0   \n...                            ...                  ...                 ...   \n1251                          -1.0                  1.0                 0.0   \n1285                          -1.0                  1.0                 0.0   \n1320                          -1.0                  1.0                 0.0   \n1321                          -1.0                  1.0                 0.0   \n1341                          -1.0                  1.0                 0.0   \n\n      num_tatums  mean_tatum_duration  var_tatum_duration  \n563          0.0                 -1.0                 1.0  \n699          0.0                 -1.0                 1.0  \n368          0.0                 -1.0                 1.0  \n12           0.0                 -1.0                 1.0  \n718          0.0                 -1.0                 1.0  \n...          ...                  ...                 ...  \n1251         0.0                 -1.0                 1.0  \n1285         0.0                 -1.0                 1.0  \n1320         0.0                 -1.0                 1.0  \n1321         0.0                 -1.0                 1.0  \n1341         0.0                 -1.0                 1.0  \n\n[478 rows x 111 columns]",
      "text/html": "<div>\n<style scoped>\n    .dataframe tbody tr th:only-of-type {\n        vertical-align: middle;\n    }\n\n    .dataframe tbody tr th {\n        vertical-align: top;\n    }\n\n    .dataframe thead th {\n        text-align: right;\n    }\n</style>\n<table border=\"1\" class=\"dataframe\">\n  <thead>\n    <tr style=\"text-align: right;\">\n      <th></th>\n      <th>duration_ms</th>\n      <th>danceability</th>\n      <th>energy</th>\n      <th>key</th>\n      <th>loudness</th>\n      <th>mode</th>\n      <th>speechiness</th>\n      <th>acousticness</th>\n      <th>instrumentalness</th>\n      <th>liveness</th>\n      <th>...</th>\n      <th>var_segment_loudness_max_end_diff</th>\n      <th>mean_segment_num_pitches</th>\n      <th>var_segment_num_pitches</th>\n      <th>mean_segment_num_pure_pitches</th>\n      <th>var_segment_num_pure_pitches</th>\n      <th>mean_segment_timbre</th>\n      <th>var_segment_timbre</th>\n      <th>num_tatums</th>\n      <th>mean_tatum_duration</th>\n      <th>var_tatum_duration</th>\n    </tr>\n  </thead>\n  <tbody>\n    <tr>\n      <th>563</th>\n      <td>-1.185416</td>\n      <td>0.230687</td>\n      <td>0.577356</td>\n      <td>0.513133</td>\n      <td>1.192798</td>\n      <td>-1.284487</td>\n      <td>-0.824781</td>\n      <td>-0.196856</td>\n      <td>-0.153169</td>\n      <td>1.114639</td>\n      <td>...</td>\n      <td>1.0</td>\n      <td>0.0</td>\n      <td>0.0</td>\n      <td>0.0</td>\n      <td>-1.0</td>\n      <td>1.0</td>\n      <td>0.0</td>\n      <td>0.0</td>\n      <td>-1.0</td>\n      <td>1.0</td>\n    </tr>\n    <tr>\n      <th>699</th>\n      <td>-0.936879</td>\n      <td>0.745452</td>\n      <td>0.122764</td>\n      <td>0.790982</td>\n      <td>0.165289</td>\n      <td>-1.284487</td>\n      <td>-0.189520</td>\n      <td>-0.733094</td>\n      <td>-0.153169</td>\n      <td>0.157806</td>\n      <td>...</td>\n      <td>1.0</td>\n      <td>0.0</td>\n      <td>0.0</td>\n      <td>0.0</td>\n      <td>-1.0</td>\n      <td>1.0</td>\n      <td>0.0</td>\n      <td>0.0</td>\n      <td>-1.0</td>\n      <td>1.0</td>\n    </tr>\n    <tr>\n      <th>368</th>\n      <td>0.849986</td>\n      <td>1.154623</td>\n      <td>0.651073</td>\n      <td>0.513133</td>\n      <td>1.309507</td>\n      <td>0.778521</td>\n      <td>-0.726988</td>\n      <td>-0.549738</td>\n      <td>-0.153169</td>\n      <td>-0.235729</td>\n      <td>...</td>\n      <td>1.0</td>\n      <td>0.0</td>\n      <td>0.0</td>\n      <td>0.0</td>\n      <td>-1.0</td>\n      <td>1.0</td>\n      <td>0.0</td>\n      <td>0.0</td>\n      <td>-1.0</td>\n      <td>1.0</td>\n    </tr>\n    <tr>\n      <th>12</th>\n      <td>-0.079691</td>\n      <td>1.517598</td>\n      <td>-0.221250</td>\n      <td>1.346680</td>\n      <td>0.023376</td>\n      <td>-1.284487</td>\n      <td>-0.667357</td>\n      <td>-0.473471</td>\n      <td>-0.153169</td>\n      <td>4.710476</td>\n      <td>...</td>\n      <td>1.0</td>\n      <td>0.0</td>\n      <td>0.0</td>\n      <td>0.0</td>\n      <td>-1.0</td>\n      <td>1.0</td>\n      <td>0.0</td>\n      <td>0.0</td>\n      <td>-1.0</td>\n      <td>1.0</td>\n    </tr>\n    <tr>\n      <th>718</th>\n      <td>0.099234</td>\n      <td>-0.759244</td>\n      <td>0.823081</td>\n      <td>-0.876113</td>\n      <td>0.697655</td>\n      <td>0.778521</td>\n      <td>-0.593416</td>\n      <td>-0.682513</td>\n      <td>-0.153169</td>\n      <td>-0.795168</td>\n      <td>...</td>\n      <td>1.0</td>\n      <td>0.0</td>\n      <td>0.0</td>\n      <td>0.0</td>\n      <td>-1.0</td>\n      <td>1.0</td>\n      <td>0.0</td>\n      <td>0.0</td>\n      <td>-1.0</td>\n      <td>1.0</td>\n    </tr>\n    <tr>\n      <th>...</th>\n      <td>...</td>\n      <td>...</td>\n      <td>...</td>\n      <td>...</td>\n      <td>...</td>\n      <td>...</td>\n      <td>...</td>\n      <td>...</td>\n      <td>...</td>\n      <td>...</td>\n      <td>...</td>\n      <td>...</td>\n      <td>...</td>\n      <td>...</td>\n      <td>...</td>\n      <td>...</td>\n      <td>...</td>\n      <td>...</td>\n      <td>...</td>\n      <td>...</td>\n      <td>...</td>\n    </tr>\n    <tr>\n      <th>1251</th>\n      <td>0.537966</td>\n      <td>-0.515061</td>\n      <td>0.485209</td>\n      <td>1.068831</td>\n      <td>0.138535</td>\n      <td>0.778521</td>\n      <td>-0.792183</td>\n      <td>-0.852315</td>\n      <td>-0.153169</td>\n      <td>0.157806</td>\n      <td>...</td>\n      <td>1.0</td>\n      <td>0.0</td>\n      <td>0.0</td>\n      <td>0.0</td>\n      <td>-1.0</td>\n      <td>1.0</td>\n      <td>0.0</td>\n      <td>0.0</td>\n      <td>-1.0</td>\n      <td>1.0</td>\n    </tr>\n    <tr>\n      <th>1285</th>\n      <td>0.472827</td>\n      <td>-0.409469</td>\n      <td>-1.572738</td>\n      <td>-0.042566</td>\n      <td>-0.299223</td>\n      <td>0.778521</td>\n      <td>-0.887592</td>\n      <td>1.399609</td>\n      <td>-0.153169</td>\n      <td>-0.359192</td>\n      <td>...</td>\n      <td>1.0</td>\n      <td>0.0</td>\n      <td>0.0</td>\n      <td>0.0</td>\n      <td>-1.0</td>\n      <td>1.0</td>\n      <td>0.0</td>\n      <td>0.0</td>\n      <td>-1.0</td>\n      <td>1.0</td>\n    </tr>\n    <tr>\n      <th>1320</th>\n      <td>-0.141677</td>\n      <td>0.138294</td>\n      <td>0.976659</td>\n      <td>-1.153963</td>\n      <td>0.752714</td>\n      <td>0.778521</td>\n      <td>-0.690414</td>\n      <td>-0.741788</td>\n      <td>-0.153169</td>\n      <td>-0.802884</td>\n      <td>...</td>\n      <td>1.0</td>\n      <td>0.0</td>\n      <td>0.0</td>\n      <td>0.0</td>\n      <td>-1.0</td>\n      <td>1.0</td>\n      <td>0.0</td>\n      <td>0.0</td>\n      <td>-1.0</td>\n      <td>1.0</td>\n    </tr>\n    <tr>\n      <th>1321</th>\n      <td>-0.064125</td>\n      <td>-0.257679</td>\n      <td>-0.024670</td>\n      <td>-0.876113</td>\n      <td>-0.690839</td>\n      <td>0.778521</td>\n      <td>-0.764356</td>\n      <td>-0.663940</td>\n      <td>-0.153169</td>\n      <td>1.322981</td>\n      <td>...</td>\n      <td>1.0</td>\n      <td>0.0</td>\n      <td>0.0</td>\n      <td>0.0</td>\n      <td>-1.0</td>\n      <td>1.0</td>\n      <td>0.0</td>\n      <td>0.0</td>\n      <td>-1.0</td>\n      <td>1.0</td>\n    </tr>\n    <tr>\n      <th>1341</th>\n      <td>8.124217</td>\n      <td>-0.231281</td>\n      <td>-0.638983</td>\n      <td>-1.431812</td>\n      <td>-0.784672</td>\n      <td>0.778521</td>\n      <td>-0.870895</td>\n      <td>0.198309</td>\n      <td>-0.153169</td>\n      <td>-0.706429</td>\n      <td>...</td>\n      <td>1.0</td>\n      <td>0.0</td>\n      <td>0.0</td>\n      <td>0.0</td>\n      <td>-1.0</td>\n      <td>1.0</td>\n      <td>0.0</td>\n      <td>0.0</td>\n      <td>-1.0</td>\n      <td>1.0</td>\n    </tr>\n  </tbody>\n</table>\n<p>478 rows × 111 columns</p>\n</div>"
     },
     "execution_count": 290,
     "metadata": {},
     "output_type": "execute_result"
    }
   ],
   "source": [
    "balance_metric = 'sensationality'\n",
    "\n",
    "sns.displot(pop_metrics[balance_metric])\n",
    "plt.title('Imbalanced ' + balance_metric)\n",
    "plt.show()\n",
    "\n",
    "pop_metrics['score_zone'] = pop_metrics[balance_metric].apply(lambda x: 1 if x >= 0.35 else 0)\n",
    "sns.countplot(pop_metrics['score_zone'])\n",
    "plt.show()\n",
    "hi_scores = pop_metrics[pop_metrics['score_zone'] == 1]\n",
    "lo_scores = pop_metrics[pop_metrics['score_zone'] == 0]\n",
    "\n",
    "\n",
    "lo_scores_sample = np.array(np.random.choice(data_df.index, len(hi_scores), replace = False))\n",
    "lo_scores = pop_metrics.iloc[lo_scores_sample]\n",
    "\n",
    "# pm and df are the balanced versions of pop_metrics and data_df\n",
    "# pm_samples = sample(pop_metrics[balance_metric], n=400)\n",
    "# pm = pop_metrics.iloc[pm_samples.index]\n",
    "pm = pd.concat([lo_scores, hi_scores])\n",
    "df = data_df.iloc[pm.index]\n",
    "\n",
    "sns.countplot(pm['score_zone'])\n",
    "plt.show()\n",
    "sns.displot(pm[balance_metric])\n",
    "plt.title(\"Balanced \" + balance_metric)\n",
    "plt.show()\n",
    "pop_metrics.drop(labels=\"score_zone\", axis=1, inplace=True)\n",
    "# y_train = sample(pop_metrics['avg_rank_score'], n=200, plot=True)\n",
    "# X_train = data_df.iloc[y_train.index]\n",
    "\n",
    "# pop_metrics[pop_metrics.columns] = StandardScaler().fit_transform(pop_metrics)\n",
    "# pm[pm.columns] = StandardScaler().fit_transform(pm)    # scale the y-variables, testing multiple with different scales\n",
    "#                                                        # X should already be scaled\n",
    "\n",
    "\n",
    "# using the balanced data as the training set, we then use all remaining data for testing\n",
    "X_train = df\n",
    "y_train = pm\n",
    "\n",
    "# test data is all data not used for training\n",
    "y_test = pop_metrics.loc[~pop_metrics.index.isin(y_train.index)]\n",
    "X_test = data_df.loc[~data_df.index.isin(X_train.index)]\n",
    "\n",
    "# X_train, X_test, y_train, y_test = train_test_split(df, pm, train_size=0.9)\n",
    "\n",
    "X_train_idx = list(X_train.index)\n",
    "X_test_idx = list(X_test.index)\n",
    "y_train_idx = list(y_train.index)\n",
    "y_test_idx = list(y_test.index)\n",
    "X_train"
   ],
   "metadata": {
    "collapsed": false,
    "pycharm": {
     "name": "#%%\n"
    }
   }
  },
  {
   "cell_type": "markdown",
   "source": [
    "## Running Linear Regression Models\n",
    "\n",
    "This will take a long time to run"
   ],
   "metadata": {
    "collapsed": false,
    "pycharm": {
     "name": "#%% md\n"
    }
   }
  },
  {
   "cell_type": "code",
   "execution_count": 291,
   "outputs": [],
   "source": [
    "def run(mdl, X: pd.DataFrame, y, y_name, forward=True, backward=True, verbose=0):\n",
    "    tic = time.time()\n",
    "    # features = [f for f in regression_features[y_name][0]]\n",
    "    # X = X[features]\n",
    "    print(f\"Starting test metric = {y_name}\\nnum X features = {len(X.columns)}\\nX_features={X.columns}\")\n",
    "    results = []\n",
    "    if forward:\n",
    "        for f in range(MIN_PREDICTORS, MAX_PREDICTORS + 1):\n",
    "            _, predictors_mask = stepwise_selection(mdl['model'], X, y, direction='forward', num_features=f)\n",
    "            predictors = X.loc[:, predictors_mask==True]\n",
    "            best_params, best_score = gscv(mdl['model'], mdl['cv'], predictors, y, score_method='neg_root_mean_squared_error', verbose=verbose)\n",
    "            results.append({\"model\": mdl['model'], \"best_params\": best_params, \"best_score\": best_score, \"features\": list(predictors.columns), \"features_mask\": predictors_mask, \"feature_selection_method\": \"forward_selection\", \"num_features\": f, \"y_name\": y_name, \"base\": mdl['base']})\n",
    "            print(f\"model: {mdl['model']}, best_params: {best_params}, best_score: {best_score}, forward_num_features: {f}, y: {y_name}\")\n",
    "\n",
    "    if backward:\n",
    "        for f in range(MIN_PREDICTORS, MAX_PREDICTORS + 1):\n",
    "            _, predictors_mask = stepwise_selection(mdl['model'], X, y, direction='backward', num_features=f)\n",
    "            predictors = X.loc[:, predictors_mask==True]\n",
    "            best_params, best_score = gscv(mdl['model'], mdl['cv'], predictors, y, score_method='neg_root_mean_squared_error', verbose=verbose)\n",
    "            results.append({\"model\": mdl['model'], \"best_params\": best_params, \"best_score\": best_score, \"features\": list(predictors.columns), \"features_mask\": list(predictors_mask), \"feature_selection_method\": \"backward_selection\", \"num_features\": f, \"y_name\": y_name, \"base\": mdl['base']})\n",
    "            print(f\"model: {mdl['model']}, best_params: {best_params}, best_score: {best_score}, backward_num_features: {f}, y: {y_name}\")\n",
    "\n",
    "    best_params, best_score = gscv(mdl['model'], mdl['cv'], X, y, score_method='neg_root_mean_squared_error', verbose=verbose)\n",
    "    results.append({\"model\": mdl['model'], \"best_params\": best_params, \"best_score\": best_score, \"features\": X.columns, \"features_mask\": [], \"feature_selection_method\": \"none\", \"num_features\": -1, \"y_name\":  y_name, \"base\": mdl['base']})\n",
    "    print(f\"model: {mdl['model']}, best_params: {best_params}, best_score: {best_score}, num_features: {len(X.columns)}, y: {y_name}\")\n",
    "\n",
    "    toc = time.time()\n",
    "\n",
    "    if verbose == 1:\n",
    "        print(f\"Processed {len(results)} in {toc-tic} seconds.\")\n",
    "\n",
    "    return results"
   ],
   "metadata": {
    "collapsed": false,
    "pycharm": {
     "name": "#%%\n"
    }
   }
  },
  {
   "cell_type": "code",
   "execution_count": null,
   "outputs": [],
   "source": [
    "# TODO: Add pop_metrics.columns as all possible y_values\n",
    "model_configs = {\n",
    "    \"models\": [\n",
    "    #     {\"model\": Ridge(),\n",
    "    #      \"base\": Ridge,\n",
    "    #      \"cv\": { 'alpha':[0.0001, 0.001, 0.01, 0.01, 1, 10.0],\n",
    "    #              'fit_intercept':[True, False],\n",
    "    #              'normalize':[True, False],\n",
    "    #              'solver':['auto', 'svd', 'cholesky', 'lsqr', 'sparse_cg', 'sag', 'saga']\n",
    "    #              }\n",
    "    #      },\n",
    "    #     {\"model\": Lasso(),\n",
    "    #      \"base\": Lasso,\n",
    "    #      \"cv\": { 'max_iter': [10000],\n",
    "    #              'alpha': [.0001, 0.001, 0.01, 0.01, 1, 10.0],\n",
    "    #              'fit_intercept': [True, False],\n",
    "    #              'normalize': [True, False],\n",
    "    #              }\n",
    "    #      },\n",
    "    #     {\"model\": ElasticNet(),\n",
    "    #      \"base\": ElasticNet,\n",
    "    #      \"cv\": { 'max_iter': [10000],\n",
    "    #              'l1_ratio':[0.0001, 0.001, 0.01, 0.1, 0.5, 0.7, 0.9, 0.95, 0.99, 1, 10.0],\n",
    "    #              'fit_intercept':[True, False],\n",
    "    #              'normalize':[True, False],\n",
    "    #              }\n",
    "    #      },\n",
    "    #     {\"model\": LinearRegression(), \"base\": LinearRegression, \"cv\": {}},\n",
    "\n",
    "        {\"model\": SVR(),\n",
    "         \"base\": SVR,\n",
    "         \"cv\": {\n",
    "             \"kernel\": [\"linear\", \"poly\", \"rbf\", \"sigmoid\", \"precomputed\"],\n",
    "             \"degree\": [3, 4],\n",
    "             \"gamma\": [\"auto\", \"scale\"],\n",
    "             \"epsilon\": [0.001, 0.01, 0.1, 1],\n",
    "             \"max_iter\": [-1],\n",
    "             \"cache_size\": [800]\n",
    "         }},\n",
    "    ],\n",
    "    \"y\": pop_metrics.columns,\n",
    "}\n",
    "\n",
    "tic = time.time()\n",
    "all_models = []\n",
    "\n",
    "for m in model_configs['models']:\n",
    "    for y in model_configs['y']:\n",
    "        y_train = pop_metrics[y].iloc[y_train_idx]\n",
    "        all_models += run(m, X_train, y_train, y, forward=False, backward=False)\n",
    "toc = time.time()\n",
    "print(f\"Processed {len(all_models)} models in {toc-tic} seconds.\")\n",
    "safety_save = all_models.copy()"
   ],
   "metadata": {
    "collapsed": false,
    "pycharm": {
     "name": "#%%\n"
    }
   }
  },
  {
   "cell_type": "code",
   "execution_count": 294,
   "outputs": [
    {
     "name": "stdout",
     "output_type": "stream",
     "text": [
      "Model: Ridge()\n",
      "Params: {'alpha': 10.0, 'fit_intercept': False, 'normalize': False, 'solver': 'saga'}\n",
      "CV Score: 0.02063409317125331\n",
      "Num Features: 40\n",
      "Y-Variable: debut_rank\n",
      "Test MSE: 0.0119307122260908\n",
      "Test R2: -20.203315264403564\n"
     ]
    },
    {
     "data": {
      "text/plain": "Text(0, 0.5, 'debut_rank')"
     },
     "execution_count": 294,
     "metadata": {},
     "output_type": "execute_result"
    },
    {
     "data": {
      "text/plain": "<Figure size 720x360 with 1 Axes>",
      "image/png": "[encoded data removed]"
     },
     "metadata": {},
     "output_type": "display_data"
    }
   ],
   "source": [
    "# dump(all_models, '../models/linear_regression/linear_regression_all_5.joblib')\n",
    "# dump(all_models, '../models/linear_regression/linear_regression_all_4.joblib')\n",
    "# dump(all_models, '../models/linear_regression/linear_regression_all_3.joblib')\n",
    "all_models = load('../models/linear_regression/linear_regression_all.joblib')\n",
    "\n",
    "from math import inf\n",
    "hi = -inf\n",
    "best_model = None\n",
    "for am in all_models:\n",
    "    if am['best_score'] > hi:\n",
    "        hi = am['best_score']\n",
    "        best_model = am\n",
    "\n",
    "\n",
    "y_train = pop_metrics[best_model['y_name']].iloc[y_train_idx]\n",
    "y_test = pop_metrics[best_model['y_name']].iloc[y_test_idx]\n",
    "\n",
    "X_train = data_df[best_model['features']].iloc[X_train_idx]\n",
    "X_test = data_df[best_model['features']].iloc[X_test_idx]\n",
    "\n",
    "mdl = best_model['base'](**best_model['best_params'])\n",
    "mdl.fit(X_train, y_train)\n",
    "y_pred = mdl.predict(X_test)\n",
    "\n",
    "print(f\"Model: {best_model['model']}\")\n",
    "print(f\"Params: {best_model['best_params']}\")\n",
    "print(f\"CV Score: {best_model['best_score']}\")\n",
    "print(f\"Num Features: {len(best_model['features'])}\")\n",
    "print(f\"Y-Variable: {best_model['y_name']}\")\n",
    "print(f\"Test MSE: {mean_squared_error(y_test, y_pred)}\")\n",
    "print(f\"Test R2: {r2_score(y_test, y_pred)}\")\n",
    "\n",
    "fig = plt.figure(figsize=(10,5))\n",
    "plt.scatter(y_test, y_pred)\n",
    "plt.plot(y_test,y_test,'r')\n",
    "plt.title(f\"{mdl}\")\n",
    "plt.ylabel(best_model['y_name'])"
   ],
   "metadata": {
    "collapsed": false,
    "pycharm": {
     "name": "#%%\n"
    }
   }
  },
  {
   "cell_type": "code",
   "execution_count": null,
   "outputs": [],
   "source": [
    "mdl = best_model['base'](**best_model['best_params'])\n",
    "mdl.fit(data_df[best_model['features']], pop_metrics[best_model['y_name']])\n",
    "y_pred = mdl.predict(X_test)\n",
    "\n",
    "model_config = {\n",
    "    \"model\": mdl,\n",
    "    \"features\": best_model['features']\n",
    "}\n",
    "\n",
    "# dump(model_config, '../models/linear_regression/linear_regression_all_best_3.joblib')\n",
    "# dump(model_config, '../models/linear_regression/linear_regression_all_best_4.joblib')\n",
    "# dump(model_config, '../models/linear_regression/linear_regression_all_best_5.joblib')\n",
    "\n",
    "# print(f\"Model: {best_model['model']}\")\n",
    "# print(f\"Params: {best_model['best_params']}\")\n",
    "# print(f\"CV Score: {best_model['best_score']}\")\n",
    "# print(f\"Num Features: {len(best_model['features'])}\")\n",
    "# print(f\"Y-Variable: {best_model['y_name']}\")\n",
    "# print(f\"Test MSE: {mean_squared_error(y_test, y_pred)}\")\n",
    "# print(f\"Test R2: {r2_score(y_test, y_pred)}\")\n",
    "#\n",
    "# fig = plt.figure(figsize=(10,5))\n",
    "# plt.scatter(y_test, y_pred)\n",
    "# plt.plot(y_test,y_test,'r')\n",
    "# plt.title(f\"{mdl}\")\n",
    "# plt.ylabel(best_model['y_name'])\n",
    "mdl.coef_"
   ],
   "metadata": {
    "collapsed": false,
    "pycharm": {
     "name": "#%%\n"
    }
   }
  },
  {
   "cell_type": "code",
   "execution_count": null,
   "outputs": [],
   "source": [
    "data_df"
   ],
   "metadata": {
    "collapsed": false,
    "pycharm": {
     "name": "#%%\n"
    }
   }
  },
  {
   "cell_type": "code",
   "execution_count": null,
   "outputs": [],
   "source": [
    "np.arange(12, 0, -1)"
   ],
   "metadata": {
    "collapsed": false,
    "pycharm": {
     "name": "#%%\n"
    }
   }
  },
  {
   "cell_type": "code",
   "execution_count": null,
   "outputs": [],
   "source": [],
   "metadata": {
    "collapsed": false,
    "pycharm": {
     "name": "#%%\n"
    }
   }
  }
 ],
 "metadata": {
  "kernelspec": {
   "display_name": "Python 3",
   "language": "python",
   "name": "python3"
  },
  "language_info": {
   "codemirror_mode": {
    "name": "ipython",
    "version": 2
   },
   "file_extension": ".py",
   "mimetype": "text/x-python",
   "name": "python",
   "nbconvert_exporter": "python",
   "pygments_lexer": "ipython2",
   "version": "2.7.6"
  }
 },
 "nbformat": 4,
 "nbformat_minor": 0
}