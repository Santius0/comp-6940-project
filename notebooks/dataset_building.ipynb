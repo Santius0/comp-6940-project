{
 "cells": [
  {
   "cell_type": "code",
   "execution_count": 1,
   "metadata": {
    "collapsed": true
   },
   "outputs": [],
   "source": [
    "from utils.general import *\n",
    "from utils.billboard_data import get_chart\n",
    "from utils.spotify import get_song_data\n",
    "from utils.youtube import *\n",
    "from utils.audio import extract_audio_features\n",
    "\n",
    "import pandas as pd\n",
    "\n",
    "import animation\n",
    "import os\n",
    "import glob\n",
    "import json\n",
    "import wget\n",
    "\n",
    "import warnings\n",
    "\n",
    "# import matplotlib.pyplot as plt\n",
    "# import cupy as cp\n",
    "# import cudf"
   ]
  },
  {
   "cell_type": "code",
   "execution_count": 32,
   "outputs": [],
   "source": [
    "warnings.filterwarnings('ignore')"
   ],
   "metadata": {
    "collapsed": false,
    "pycharm": {
     "name": "#%%\n"
    }
   }
  },
  {
   "cell_type": "code",
   "execution_count": 33,
   "outputs": [],
   "source": [
    "@animation.wait('spinner', text='Fetching Billboard Charts', speed=0.2)\n",
    "@execution_time(round_to=2)\n",
    "def get_billboard_data(start_year, end_year, chart_title='hot-100', output_dir=os.getcwd()):\n",
    "    state_cols = ['last_date', 'last_id', 'next_id', 'num_weeks', 'num_songs']\n",
    "    default_state = [[None, 0, 0, 0, 0]]\n",
    "    output_path = mkdir(f\"{output_dir}/{chart_title}\")\n",
    "    year = end_year\n",
    "    while year >= start_year:\n",
    "        for week in all_day_in_year(4, year):\n",
    "            state_df= pd.read_csv(f'{output_path}/state.csv') if os.path.exists(f'{output_path}/state.csv') else \\\n",
    "                pd.DataFrame(data=default_state, columns=state_cols)\n",
    "            next_id = state_df.iloc[0]['next_id']\n",
    "            num_weeks = state_df.iloc[0]['num_weeks']\n",
    "            num_songs = state_df.iloc[0]['num_songs']\n",
    "            chart_df, last_id = get_chart(chart_title=chart_title, week=week, starting_id=next_id)\n",
    "            state_df.update(pd.DataFrame(data=[[week, last_id-1, last_id, num_weeks+1, num_songs+(last_id-next_id)]], columns=state_cols))\n",
    "            state_df.to_csv(f\"{output_path}/state.csv\", index=False)\n",
    "            chart_df.to_csv(f\"{output_path}/{chart_title}_{week}.csv\", index_label='title')\n",
    "        year -= 1\n",
    "    print(f\"Data written to {output_path}\")"
   ],
   "metadata": {
    "collapsed": false,
    "pycharm": {
     "name": "#%%\n"
    }
   }
  },
  {
   "cell_type": "code",
   "execution_count": 34,
   "outputs": [],
   "source": [
    "@animation.wait('spinner', text='Fetching Spotify Song Data', speed=0.2)\n",
    "@execution_time(round_to=2)\n",
    "def fetch_spotify_songs(song_dir, glob_pattern='*', output_dir='./', output_file='songs.csv', audio_analysis_dir=None, preview_audio_dir='../data/audio/previews', preview_format=\"m4a\", verbose=False):\n",
    "    state_cols = ['billboard_name', 'spotify_name', 'song_data', 'audio_features', 'audio_analysis']\n",
    "    spotify_song_cols = ['billboard_name', 'spotify_name', 'artist', 'duration_ms', 'spotify_id', 'spotify_uri', 'spotify_external_url', 'spotify_popularity', 'spotify_artist_popularity', 'spotify_artist_popularity_mean', 'explicit', 'preview_url', 'preview_url_audio', 'full_audio', 'full_audio_duration_s', 'artist_genres']\n",
    "    audio_feature_cols = ['danceability', 'energy', 'key', 'loudness', 'mode', 'speechiness', 'acousticness', 'instrumentalness', 'liveness', 'valence', 'tempo', 'time_signature']\n",
    "    audio_analysis_cols = ['audio_analysis_file']\n",
    "    song_dir = os.path.abspath(song_dir)\n",
    "    audio_analysis_dir = os.path.abspath(audio_analysis_dir) if audio_analysis_dir is not None else f\"{output_dir}/audio_analysis\"\n",
    "    audio_analysis_dir = mkdir(audio_analysis_dir)\n",
    "    path_glob = glob.glob(f\"{song_dir}/{glob_pattern}\")\n",
    "    # output_dir = os.path.abspath(output_dir)\n",
    "    output_dir = mkdir(output_dir)\n",
    "    # preview_audio_dir = os.path.abspath(preview_audio_dir)\n",
    "    preview_audio_dir = mkdir(preview_audio_dir)\n",
    "    for file in path_glob:\n",
    "        weeks_songs = pd.read_csv(file)\n",
    "        spotify_songs_df = open_or_create_csv(f'{output_dir}/{output_file}', spotify_song_cols)\n",
    "        for i in range(len(weeks_songs)):\n",
    "            song = weeks_songs.iloc[i]\n",
    "            spotify_song = spotify_songs_df.loc[spotify_songs_df['billboard_name'] == song['title']]\n",
    "            if spotify_song.empty:\n",
    "                # if empty get song data\n",
    "                song_data, audio_features, audio_analysis = get_song_data(song['title'], artist=song['artist'])\n",
    "                state = [song['title']]\n",
    "\n",
    "                if song_data is not None:\n",
    "                    state.append(song_data['name'])\n",
    "                    state.append(True)\n",
    "                    s_df = pd.DataFrame(data=[[\n",
    "                        song['title'],\n",
    "                        song_data['name'],\n",
    "                        song['artist'],\n",
    "                        song_data['duration_ms'],\n",
    "                        song_data['id'],\n",
    "                        song_data['uri'],\n",
    "                        song_data['external_urls']['spotify'],\n",
    "                        song_data['popularity'],\n",
    "                        song_data['artist_popularity'],\n",
    "                        sum(song_data['artist_popularity'])/len(song_data['artist_popularity']),\n",
    "                        song_data['explicit'],\n",
    "                        song_data['preview_url'],\n",
    "                         wget.download(song_data['preview_url'], out=f\"{preview_audio_dir}/{remove_punctuation(song['title'])}.{preview_format}\").split(os.sep)[-1] if song_data['preview_url'] else None,\n",
    "                        \"not_fetched\",\n",
    "                        -1,\n",
    "                        song_data['artist_genres']]], columns=spotify_song_cols)\n",
    "                else:\n",
    "                    state.append(None)\n",
    "                    state.append(False)\n",
    "                    s_df = pd.DataFrame(data=[[song['title']] + [None for i in range(len(spotify_song_cols)-1)]], columns=spotify_song_cols)\n",
    "\n",
    "                if audio_features is not None:\n",
    "                    state.append(True)\n",
    "                    # audio_feature_cols = ['spotify_' + item for item in audio_feature_cols]\n",
    "                    af_df = pd.DataFrame(data=[[audio_features['danceability'],\n",
    "                                                audio_features['energy'],\n",
    "                                                audio_features['key'],\n",
    "                                                audio_features['loudness'],\n",
    "                                                audio_features['mode'],\n",
    "                                                audio_features['speechiness'],\n",
    "                                                audio_features['acousticness'],\n",
    "                                                audio_features['instrumentalness'],\n",
    "                                                audio_features['liveness'],\n",
    "                                                audio_features['valence'],\n",
    "                                                audio_features['tempo'],\n",
    "                                                audio_features['time_signature']]], columns=audio_feature_cols)\n",
    "                    # af_df = pd.DataFrame(data=[['sample feature 1']], columns=['audio_feature_1'])\n",
    "                else:\n",
    "                    state.append(False)\n",
    "                    af_df = pd.DataFrame(data=[[None for i in range(len(audio_feature_cols))]], columns=audio_feature_cols)\n",
    "\n",
    "                if audio_analysis is not None:\n",
    "                    state.append(True)\n",
    "                    song_title = remove_punctuation(song['title'])\n",
    "                    with open(f\"{audio_analysis_dir}/{song_title}.json\", \"w+\", encoding=\"utf-8\") as json_file:\n",
    "                        json.dump(audio_analysis, json_file, ensure_ascii=False, indent=4)\n",
    "                        aa_df = pd.DataFrame(data=[[f\"{song_title}.json\"]], columns=audio_analysis_cols)\n",
    "                    # aa_df = pd.DataFrame(data=[['sample analysis 1']], columns=['audio_analysis_1'])\n",
    "                else:\n",
    "                    state.append(False)\n",
    "                    aa_df = pd.DataFrame(data=[[None for i in range(len(audio_analysis_cols))]], columns=audio_analysis_cols)\n",
    "                    # aa_df = pd.DataFrame(data=[['sample analysis 1 EMPTY']], columns=['audio_analysis_1'])\n",
    "\n",
    "                s_df = pd.concat([s_df, af_df, aa_df], axis=1)\n",
    "                spotify_songs_df = pd.concat([spotify_songs_df, s_df])\n",
    "                spotify_songs_df.to_csv(f'{output_dir}/{output_file}', index=False)\n",
    "                state_df = open_or_create_csv(f'{output_dir}/state.csv', cols=state_cols)\n",
    "                state_df = pd.concat([state_df, pd.DataFrame(data=[state], columns=state_cols)])\n",
    "                state_df.to_csv(f'{output_dir}/state.csv', index=False)\n",
    "            elif verbose:\n",
    "                print(f\"{spotify_song.iloc[0]['billboard_name']} - {song['artist']} skipped...\")\n",
    "    print(f\"Data written to {output_file}\")"
   ],
   "metadata": {
    "collapsed": false,
    "pycharm": {
     "name": "#%%\n"
    }
   }
  },
  {
   "cell_type": "code",
   "execution_count": 35,
   "outputs": [],
   "source": [
    "@animation.wait('spinner', text='Fetching Audio Files', speed=0.2)\n",
    "@execution_time(round_to=2)\n",
    "def fetch_audio_data(songs_csv_filepath=\"../data/spotify/songs.csv\", output_dir=\"../data/audio/full\"):\n",
    "    songs_csv_filepath = os.path.abspath(songs_csv_filepath)\n",
    "    output_dir = mkdir(output_dir)\n",
    "    songs_df_full = pd.read_csv(songs_csv_filepath)\n",
    "    songs_df = songs_df_full[['billboard_name', 'artist', 'full_audio']]\n",
    "    try:\n",
    "        for i in range(len(songs_df)):\n",
    "            song = songs_df.iloc[i]\n",
    "            if song['full_audio'] == \"not_fetched\":\n",
    "                query_string = f\"{song['billboard_name']} {song['artist']} lyrics\"\n",
    "                yt_id = yt_query(query_string, all_ids=False)\n",
    "                # print(f\"{song['billboard_name']}: {yt_id}\")\n",
    "                audio_file, duration_s = yt_download_audio(yt_id, output_dir=output_dir) if yt_id is not None else (None, None)\n",
    "                songs_df_full.iat[i, songs_df_full.columns.get_loc('full_audio')] = audio_file.split(os.sep)[-1]\n",
    "                songs_df_full.iat[i, songs_df_full.columns.get_loc('full_audio_duration_s')] = duration_s\n",
    "    except Exception:\n",
    "        songs_df_full.to_csv(songs_csv_filepath, index=False)\n",
    "    finally:\n",
    "        songs_df_full.to_csv(songs_csv_filepath, index=False)\n",
    "    print(f\"Data written to {output_dir}\")"
   ],
   "metadata": {
    "collapsed": false,
    "pycharm": {
     "name": "#%%\n"
    }
   }
  },
  {
   "cell_type": "markdown",
   "source": [
    "### Features to extract (modelled off GTZAN dataset):\n",
    "0. length of analysed segments\n",
    "1. Chroma stft (short term fourier transform)\n",
    "2. rms (root mean square)\n",
    "3. spectral centroid\n",
    "4. spectral bandwidth\n",
    "5. rolloff\n",
    "6. zero crossing rate\n",
    "7. harmony\n",
    "8. perceptr\n",
    "9. tempo\n",
    "10. mfccs"
   ],
   "metadata": {
    "collapsed": false
   }
  },
  {
   "cell_type": "code",
   "execution_count": 51,
   "outputs": [],
   "source": [
    "@animation.wait('spinner', text='Fetching Audio Features', speed=0.2)\n",
    "@execution_time(round_to=2)\n",
    "def fetch_audio_features(song_path='../data/spofity/songs.csv', output_path='../data/audio/audio_features_full.csv', audio_dir='../data/audio/full', audio_type='full', batch_size=None):\n",
    "    assert audio_type == 'full' or audio_type == 'preview', 'audio_type must either be full or preview'\n",
    "    audio_field = \"full_audio\" if audio_type == \"full\" else 'preview_url_audio'\n",
    "    song_path = os.path.abspath(song_path)\n",
    "    output_path = os.path.abspath(output_path)\n",
    "    audio_dir = os.path.abspath(audio_dir)\n",
    "    songs_df = pd.read_csv(song_path)\n",
    "\n",
    "    status_dir = os.sep.join(output_path.split(os.sep)[:-1])\n",
    "    state_cols = ['billboard_name']\n",
    "    status_file = f\"{status_dir}/{audio_type}_state.csv\"\n",
    "    status_df = open_or_create_csv(status_file, state_cols)\n",
    "    count = 0\n",
    "\n",
    "    for i in range(len(songs_df)):\n",
    "        filename = songs_df.iloc[i][audio_field] if not pd.isna(songs_df.iloc[i][audio_field]) else None\n",
    "        if filename in status_df['billboard_name'].unique() or not filename: continue\n",
    "        filepath = f\"{audio_dir}/{filename}\"\n",
    "        audio_features, cols = extract_audio_features(filepath, song_name=songs_df.iloc[i]['billboard_name'])\n",
    "        try:\n",
    "            output_df = open_or_create_csv(output_path, cols)\n",
    "            output_df = pd.concat([output_df, audio_features])\n",
    "            output_df.to_csv(output_path, index=False)\n",
    "            status_df = pd.concat([status_df, pd.DataFrame(data=[[filename]], columns=state_cols)])\n",
    "            status_df.to_csv(status_file, index=False)\n",
    "        except KeyboardInterrupt:\n",
    "            output_df = open_or_create_csv(output_path, cols)\n",
    "            output_df = pd.concat([output_df, audio_features])\n",
    "            output_df.to_csv(output_path, index=False)\n",
    "            status_df = pd.concat([status_df, pd.DataFrame(data=[[filename]], columns=state_cols)])\n",
    "            status_df.to_csv(status_file, index=False)\n",
    "            print('KeyboardInterrupt during save. Data successfully saved.')\n",
    "        count += 1\n",
    "        if batch_size and count >= batch_size: break\n",
    "    try:\n",
    "        output_df = open_or_create_csv(output_path, cols=[])\n",
    "    except KeyboardInterrupt:\n",
    "        output_df = open_or_create_csv(output_path, cols=[])\n",
    "        print('KeyboardInterrupt during save. Data successfully saved.')\n",
    "    # songs_df = pd.concat([songs_df, output_df], axis=1)\n",
    "    # songs_df.to_csv(song_path, index=False)\n",
    "    return output_df"
   ],
   "metadata": {
    "collapsed": false,
    "pycharm": {
     "name": "#%%\n"
    }
   }
  },
  {
   "cell_type": "markdown",
   "source": [
    "# Dataset Construction"
   ],
   "metadata": {
    "collapsed": false,
    "pycharm": {
     "name": "#%% md\n"
    }
   }
  },
  {
   "cell_type": "code",
   "execution_count": 52,
   "outputs": [],
   "source": [
    "# get_billboard_data(2020, 2021, output_dir=\"../data/billboard\")"
   ],
   "metadata": {
    "collapsed": false,
    "pycharm": {
     "name": "#%%\n"
    }
   }
  },
  {
   "cell_type": "code",
   "execution_count": 53,
   "outputs": [],
   "source": [
    "# merge_csvs_in_path('../data/billboard/hot-100', glob_pattern='hot-100_*.csv', output_path='../data/billboard', output_filename='hot-100_all')"
   ],
   "metadata": {
    "collapsed": false,
    "pycharm": {
     "name": "#%%\n"
    }
   }
  },
  {
   "cell_type": "code",
   "execution_count": 54,
   "outputs": [],
   "source": [
    "# fetch_spotify_songs(song_dir=\"../data/billboard/hot-100/\", glob_pattern=\"hot-100_*.csv\", output_dir='../data/spofity', output_file='songs.csv', audio_analysis_dir='../data/spofity/audio_analysis', preview_audio_dir=\"../data/audio/previews\")"
   ],
   "metadata": {
    "collapsed": false,
    "pycharm": {
     "name": "#%%\n"
    }
   }
  },
  {
   "cell_type": "code",
   "execution_count": 55,
   "outputs": [],
   "source": [
    "# fetch_audio_data(\"../data/spofity/songs.csv\", output_dir=\"../data/audio/full\")"
   ],
   "metadata": {
    "collapsed": false,
    "pycharm": {
     "name": "#%%\n"
    }
   }
  },
  {
   "cell_type": "code",
   "execution_count": 56,
   "outputs": [
    {
     "name": "stdout",
     "output_type": "stream",
     "text": [
      "Fetching Audio Features\t/\n",
      " func:fetch_audio_features args:[('../data/spofity/songs.csv',), {'batch_size': 100}] took: 2394.55 sec\n",
      "\u001B[K\n"
     ]
    },
    {
     "data": {
      "text/plain": "                        billboard_name  \\\n0      All I Want For Christmas Is You   \n1    Rockin' Around The Christmas Tree   \n2                     Jingle Bell Rock   \n3              A Holly Jolly Christmas   \n4                              Circles   \n..                                 ...   \n445                                ily   \n446                         Sour Candy   \n447                   Tell Me U Luv Me   \n448                                TKN   \n449                     Got What I Got   \n\n                                              filename      length  \\\n0    Mariah Carey  All I Want For Christmas Is You ...  241.696508   \n1    Brenda Lee  Rockin Around The Christmas Tree O...  127.523991   \n2             Bobby Helms  Jingle Bell Rock Lyrics.m4a  131.169524   \n3          Burl Ives  Holly Jolly Christmas Lyrics.m4a  153.553560   \n4                      Post Malone  Circles Lyrics.m4a  215.411519   \n..                                                 ...         ...   \n445  ily  i love you baby  Surf Mesa Lyrics feat Em...  219.312472   \n446          Lady Gaga BLACKPINK  Sour Candy Audio.m4a  158.754830   \n447  Juice WRLD  Tell Me U Luv Me ft Trippie Redd D...  175.380317   \n448      ROSALÍA  Travis Scott  TKN Official Video.m4a  174.567619   \n449       Jason Aldean  Got What I Got Lyric Video.m4a  178.189932   \n\n     chroma_stft_mean  chroma_stft_var  rms_mean   rms_var  \\\n0            0.317660         0.091317  0.160702  0.005551   \n1            0.333602         0.087056  0.099516  0.002398   \n2            0.299308         0.089412  0.129217  0.002749   \n3            0.328846         0.089120  0.069804  0.000859   \n4            0.340946         0.093090  0.329962  0.017911   \n..                ...              ...       ...       ...   \n445          0.366953         0.100014  0.156067  0.013576   \n446          0.405144         0.088331  0.345357  0.013790   \n447          0.368009         0.098404  0.301113  0.012131   \n448          0.418824         0.101354  0.202577  0.026454   \n449          0.331344         0.086657  0.170519  0.005009   \n\n     spectral_centroid_mean  spectral_centroid_var  spectral_bandwidth_mean  \\\n0               2963.679826           4.258230e+05              2887.388904   \n1               2337.289099           3.094718e+05              2206.637701   \n2               2307.602960           5.159224e+05              2374.071872   \n3               2200.466281           2.688014e+05              2378.395310   \n4               1821.167852           6.991870e+05              2252.989888   \n..                      ...                    ...                      ...   \n445             1772.444136           8.111845e+05              2090.773228   \n446             2437.245856           1.139283e+06              2578.441677   \n447             2118.807085           9.455963e+05              2364.706816   \n448             1928.206227           8.485432e+05              2127.341061   \n449             1858.775543           4.763788e+05              2062.789769   \n\n     ...  mfcc16_mean  mfcc16_var  mfcc17_mean  mfcc17_var  mfcc18_mean  \\\n0    ...     1.619618   99.735657    -3.865835   99.024666     2.729783   \n1    ...    -1.039626   78.420586    -4.437555   55.536427     3.890496   \n2    ...     2.863054   54.716408    -3.496011   67.803917     3.036057   \n3    ...    -1.355817   60.197353    -6.695084   52.782776    -4.325858   \n4    ...     2.563944   78.141327   -12.359889   83.661438     4.207565   \n..   ...          ...         ...          ...         ...          ...   \n445  ...     3.334013   95.546463    -4.563417  107.478104    -0.752642   \n446  ...     2.624121   96.990189    -3.457182   79.862694     0.606756   \n447  ...    -1.485630   80.089821    -3.892924   54.923885     1.328957   \n448  ...    -0.655075   82.914726    -3.749826   75.330368     1.697349   \n449  ...     0.960065   62.002491    -5.326714   63.708397     2.468667   \n\n     mfcc18_var  mfcc19_mean  mfcc19_var  mfcc20_mean  mfcc20_var  \n0    112.219582    -7.488522  122.569649     2.323859  141.572556  \n1     70.359535     0.014326   77.899239     6.889563   93.610161  \n2     54.096622    -4.979988   54.835514     1.543585   60.288670  \n3     66.221947    -3.533713   50.849602    -1.266797   90.991325  \n4     65.643173    -5.280680   54.441189    -0.751733   59.799530  \n..          ...          ...         ...          ...         ...  \n445  128.320984     1.436519  162.552689     1.427357  176.099014  \n446   66.925880    -5.185279   57.675297     2.298836   73.481468  \n447   76.606110    -3.940502   69.265221     1.670564   88.055016  \n448   96.304649    -1.481964  104.518761     0.169030  102.902336  \n449   56.676628     0.231022   85.444496     1.980171   82.830727  \n\n[450 rows x 60 columns]",
      "text/html": "<div>\n<style scoped>\n    .dataframe tbody tr th:only-of-type {\n        vertical-align: middle;\n    }\n\n    .dataframe tbody tr th {\n        vertical-align: top;\n    }\n\n    .dataframe thead th {\n        text-align: right;\n    }\n</style>\n<table border=\"1\" class=\"dataframe\">\n  <thead>\n    <tr style=\"text-align: right;\">\n      <th></th>\n      <th>billboard_name</th>\n      <th>filename</th>\n      <th>length</th>\n      <th>chroma_stft_mean</th>\n      <th>chroma_stft_var</th>\n      <th>rms_mean</th>\n      <th>rms_var</th>\n      <th>spectral_centroid_mean</th>\n      <th>spectral_centroid_var</th>\n      <th>spectral_bandwidth_mean</th>\n      <th>...</th>\n      <th>mfcc16_mean</th>\n      <th>mfcc16_var</th>\n      <th>mfcc17_mean</th>\n      <th>mfcc17_var</th>\n      <th>mfcc18_mean</th>\n      <th>mfcc18_var</th>\n      <th>mfcc19_mean</th>\n      <th>mfcc19_var</th>\n      <th>mfcc20_mean</th>\n      <th>mfcc20_var</th>\n    </tr>\n  </thead>\n  <tbody>\n    <tr>\n      <th>0</th>\n      <td>All I Want For Christmas Is You</td>\n      <td>Mariah Carey  All I Want For Christmas Is You ...</td>\n      <td>241.696508</td>\n      <td>0.317660</td>\n      <td>0.091317</td>\n      <td>0.160702</td>\n      <td>0.005551</td>\n      <td>2963.679826</td>\n      <td>4.258230e+05</td>\n      <td>2887.388904</td>\n      <td>...</td>\n      <td>1.619618</td>\n      <td>99.735657</td>\n      <td>-3.865835</td>\n      <td>99.024666</td>\n      <td>2.729783</td>\n      <td>112.219582</td>\n      <td>-7.488522</td>\n      <td>122.569649</td>\n      <td>2.323859</td>\n      <td>141.572556</td>\n    </tr>\n    <tr>\n      <th>1</th>\n      <td>Rockin' Around The Christmas Tree</td>\n      <td>Brenda Lee  Rockin Around The Christmas Tree O...</td>\n      <td>127.523991</td>\n      <td>0.333602</td>\n      <td>0.087056</td>\n      <td>0.099516</td>\n      <td>0.002398</td>\n      <td>2337.289099</td>\n      <td>3.094718e+05</td>\n      <td>2206.637701</td>\n      <td>...</td>\n      <td>-1.039626</td>\n      <td>78.420586</td>\n      <td>-4.437555</td>\n      <td>55.536427</td>\n      <td>3.890496</td>\n      <td>70.359535</td>\n      <td>0.014326</td>\n      <td>77.899239</td>\n      <td>6.889563</td>\n      <td>93.610161</td>\n    </tr>\n    <tr>\n      <th>2</th>\n      <td>Jingle Bell Rock</td>\n      <td>Bobby Helms  Jingle Bell Rock Lyrics.m4a</td>\n      <td>131.169524</td>\n      <td>0.299308</td>\n      <td>0.089412</td>\n      <td>0.129217</td>\n      <td>0.002749</td>\n      <td>2307.602960</td>\n      <td>5.159224e+05</td>\n      <td>2374.071872</td>\n      <td>...</td>\n      <td>2.863054</td>\n      <td>54.716408</td>\n      <td>-3.496011</td>\n      <td>67.803917</td>\n      <td>3.036057</td>\n      <td>54.096622</td>\n      <td>-4.979988</td>\n      <td>54.835514</td>\n      <td>1.543585</td>\n      <td>60.288670</td>\n    </tr>\n    <tr>\n      <th>3</th>\n      <td>A Holly Jolly Christmas</td>\n      <td>Burl Ives  Holly Jolly Christmas Lyrics.m4a</td>\n      <td>153.553560</td>\n      <td>0.328846</td>\n      <td>0.089120</td>\n      <td>0.069804</td>\n      <td>0.000859</td>\n      <td>2200.466281</td>\n      <td>2.688014e+05</td>\n      <td>2378.395310</td>\n      <td>...</td>\n      <td>-1.355817</td>\n      <td>60.197353</td>\n      <td>-6.695084</td>\n      <td>52.782776</td>\n      <td>-4.325858</td>\n      <td>66.221947</td>\n      <td>-3.533713</td>\n      <td>50.849602</td>\n      <td>-1.266797</td>\n      <td>90.991325</td>\n    </tr>\n    <tr>\n      <th>4</th>\n      <td>Circles</td>\n      <td>Post Malone  Circles Lyrics.m4a</td>\n      <td>215.411519</td>\n      <td>0.340946</td>\n      <td>0.093090</td>\n      <td>0.329962</td>\n      <td>0.017911</td>\n      <td>1821.167852</td>\n      <td>6.991870e+05</td>\n      <td>2252.989888</td>\n      <td>...</td>\n      <td>2.563944</td>\n      <td>78.141327</td>\n      <td>-12.359889</td>\n      <td>83.661438</td>\n      <td>4.207565</td>\n      <td>65.643173</td>\n      <td>-5.280680</td>\n      <td>54.441189</td>\n      <td>-0.751733</td>\n      <td>59.799530</td>\n    </tr>\n    <tr>\n      <th>...</th>\n      <td>...</td>\n      <td>...</td>\n      <td>...</td>\n      <td>...</td>\n      <td>...</td>\n      <td>...</td>\n      <td>...</td>\n      <td>...</td>\n      <td>...</td>\n      <td>...</td>\n      <td>...</td>\n      <td>...</td>\n      <td>...</td>\n      <td>...</td>\n      <td>...</td>\n      <td>...</td>\n      <td>...</td>\n      <td>...</td>\n      <td>...</td>\n      <td>...</td>\n      <td>...</td>\n    </tr>\n    <tr>\n      <th>445</th>\n      <td>ily</td>\n      <td>ily  i love you baby  Surf Mesa Lyrics feat Em...</td>\n      <td>219.312472</td>\n      <td>0.366953</td>\n      <td>0.100014</td>\n      <td>0.156067</td>\n      <td>0.013576</td>\n      <td>1772.444136</td>\n      <td>8.111845e+05</td>\n      <td>2090.773228</td>\n      <td>...</td>\n      <td>3.334013</td>\n      <td>95.546463</td>\n      <td>-4.563417</td>\n      <td>107.478104</td>\n      <td>-0.752642</td>\n      <td>128.320984</td>\n      <td>1.436519</td>\n      <td>162.552689</td>\n      <td>1.427357</td>\n      <td>176.099014</td>\n    </tr>\n    <tr>\n      <th>446</th>\n      <td>Sour Candy</td>\n      <td>Lady Gaga BLACKPINK  Sour Candy Audio.m4a</td>\n      <td>158.754830</td>\n      <td>0.405144</td>\n      <td>0.088331</td>\n      <td>0.345357</td>\n      <td>0.013790</td>\n      <td>2437.245856</td>\n      <td>1.139283e+06</td>\n      <td>2578.441677</td>\n      <td>...</td>\n      <td>2.624121</td>\n      <td>96.990189</td>\n      <td>-3.457182</td>\n      <td>79.862694</td>\n      <td>0.606756</td>\n      <td>66.925880</td>\n      <td>-5.185279</td>\n      <td>57.675297</td>\n      <td>2.298836</td>\n      <td>73.481468</td>\n    </tr>\n    <tr>\n      <th>447</th>\n      <td>Tell Me U Luv Me</td>\n      <td>Juice WRLD  Tell Me U Luv Me ft Trippie Redd D...</td>\n      <td>175.380317</td>\n      <td>0.368009</td>\n      <td>0.098404</td>\n      <td>0.301113</td>\n      <td>0.012131</td>\n      <td>2118.807085</td>\n      <td>9.455963e+05</td>\n      <td>2364.706816</td>\n      <td>...</td>\n      <td>-1.485630</td>\n      <td>80.089821</td>\n      <td>-3.892924</td>\n      <td>54.923885</td>\n      <td>1.328957</td>\n      <td>76.606110</td>\n      <td>-3.940502</td>\n      <td>69.265221</td>\n      <td>1.670564</td>\n      <td>88.055016</td>\n    </tr>\n    <tr>\n      <th>448</th>\n      <td>TKN</td>\n      <td>ROSALÍA  Travis Scott  TKN Official Video.m4a</td>\n      <td>174.567619</td>\n      <td>0.418824</td>\n      <td>0.101354</td>\n      <td>0.202577</td>\n      <td>0.026454</td>\n      <td>1928.206227</td>\n      <td>8.485432e+05</td>\n      <td>2127.341061</td>\n      <td>...</td>\n      <td>-0.655075</td>\n      <td>82.914726</td>\n      <td>-3.749826</td>\n      <td>75.330368</td>\n      <td>1.697349</td>\n      <td>96.304649</td>\n      <td>-1.481964</td>\n      <td>104.518761</td>\n      <td>0.169030</td>\n      <td>102.902336</td>\n    </tr>\n    <tr>\n      <th>449</th>\n      <td>Got What I Got</td>\n      <td>Jason Aldean  Got What I Got Lyric Video.m4a</td>\n      <td>178.189932</td>\n      <td>0.331344</td>\n      <td>0.086657</td>\n      <td>0.170519</td>\n      <td>0.005009</td>\n      <td>1858.775543</td>\n      <td>4.763788e+05</td>\n      <td>2062.789769</td>\n      <td>...</td>\n      <td>0.960065</td>\n      <td>62.002491</td>\n      <td>-5.326714</td>\n      <td>63.708397</td>\n      <td>2.468667</td>\n      <td>56.676628</td>\n      <td>0.231022</td>\n      <td>85.444496</td>\n      <td>1.980171</td>\n      <td>82.830727</td>\n    </tr>\n  </tbody>\n</table>\n<p>450 rows × 60 columns</p>\n</div>"
     },
     "execution_count": 56,
     "metadata": {},
     "output_type": "execute_result"
    }
   ],
   "source": [
    "fetch_audio_features('../data/spofity/songs.csv', batch_size=100)"
   ],
   "metadata": {
    "collapsed": false,
    "pycharm": {
     "name": "#%%\n"
    }
   }
  },
  {
   "cell_type": "markdown",
   "source": [
    "# Testing Metric"
   ],
   "metadata": {
    "collapsed": false,
    "pycharm": {
     "name": "#%% md\n"
    }
   }
  },
  {
   "cell_type": "code",
   "execution_count": 9,
   "outputs": [
    {
     "data": {
      "text/plain": "1.2882117882117883"
     },
     "execution_count": 9,
     "metadata": {},
     "output_type": "execute_result"
    }
   ],
   "source": [
    "rank_counts = [10, 4, 1]\n",
    "ranks = [11, 13, 14]\n",
    "squiggle(rank_counts, ranks, scaled=False)"
   ],
   "metadata": {
    "collapsed": false,
    "pycharm": {
     "name": "#%%\n"
    }
   }
  },
  {
   "cell_type": "code",
   "execution_count": 10,
   "outputs": [
    {
     "data": {
      "text/plain": "0.7265253672884535"
     },
     "execution_count": 10,
     "metadata": {},
     "output_type": "execute_result"
    }
   ],
   "source": [
    "rank_counts = [4, 4, 1]\n",
    "ranks = [11, 13, 4]\n",
    "squiggle(rank_counts, ranks, scaled=True)"
   ],
   "metadata": {
    "collapsed": false,
    "pycharm": {
     "name": "#%%\n"
    }
   }
  },
  {
   "cell_type": "code",
   "execution_count": 43,
   "outputs": [],
   "source": [],
   "metadata": {
    "collapsed": false,
    "pycharm": {
     "name": "#%%\n"
    }
   }
  }
 ],
 "metadata": {
  "kernelspec": {
   "display_name": "Python 3",
   "language": "python",
   "name": "python3"
  },
  "language_info": {
   "codemirror_mode": {
    "name": "ipython",
    "version": 2
   },
   "file_extension": ".py",
   "mimetype": "text/x-python",
   "name": "python",
   "nbconvert_exporter": "python",
   "pygments_lexer": "ipython2",
   "version": "2.7.6"
  }
 },
 "nbformat": 4,
 "nbformat_minor": 0
}