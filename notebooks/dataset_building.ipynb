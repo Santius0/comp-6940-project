{
 "cells": [
  {
   "cell_type": "code",
   "execution_count": 6,
   "metadata": {
    "collapsed": true
   },
   "outputs": [],
   "source": [
    "from utils.general import *\n",
    "from utils.billboard_data import get_chart\n",
    "from utils.spotify import get_song_data\n",
    "from utils.youtube import *\n",
    "from utils.audio import extract_audio_features\n",
    "\n",
    "import pandas as pd\n",
    "import numpy as np\n",
    "\n",
    "import animation\n",
    "import os\n",
    "import glob\n",
    "import json\n",
    "import wget\n",
    "import time\n",
    "from math import floor\n",
    "\n",
    "import warnings\n",
    "\n",
    "# import matplotlib.pyplot as plt\n",
    "# import cupy as cp\n",
    "# import cudf"
   ]
  },
  {
   "cell_type": "code",
   "execution_count": 7,
   "outputs": [],
   "source": [
    "warnings.filterwarnings('ignore')"
   ],
   "metadata": {
    "collapsed": false,
    "pycharm": {
     "name": "#%%\n"
    }
   }
  },
  {
   "cell_type": "code",
   "execution_count": 8,
   "outputs": [],
   "source": [
    "@animation.wait('spinner', text='Fetching Billboard Charts', speed=0.2)\n",
    "def get_billboard_data(start_year, end_year, chart_title='hot-100', output_dir=os.getcwd()):\n",
    "    state_cols = ['last_date', 'last_id', 'next_id', 'num_weeks', 'num_songs']\n",
    "    default_state = [[None, 0, 0, 0, 0]]\n",
    "    output_path = mkdir(f\"{output_dir}/{chart_title}\")\n",
    "    year = end_year\n",
    "    while year >= start_year:\n",
    "        for week in all_day_in_year(4, year):\n",
    "            state_df= pd.read_csv(f'{output_path}/state.csv') if os.path.exists(f'{output_path}/state.csv') else \\\n",
    "                pd.DataFrame(data=default_state, columns=state_cols)\n",
    "            next_id = state_df.iloc[0]['next_id']\n",
    "            num_weeks = state_df.iloc[0]['num_weeks']\n",
    "            num_songs = state_df.iloc[0]['num_songs']\n",
    "            chart_df, last_id = get_chart(chart_title=chart_title, week=week, starting_id=next_id)\n",
    "            state_df.update(pd.DataFrame(data=[[week, last_id-1, last_id, num_weeks+1, num_songs+(last_id-next_id)]], columns=state_cols))\n",
    "            state_df.to_csv(f\"{output_path}/state.csv\", index=False)\n",
    "            chart_df.to_csv(f\"{output_path}/{chart_title}_{week}.csv\", index_label='title')\n",
    "        year -= 1\n",
    "    print(f\"Data written to {output_path}\")"
   ],
   "metadata": {
    "collapsed": false,
    "pycharm": {
     "name": "#%%\n"
    }
   }
  },
  {
   "cell_type": "code",
   "execution_count": 10,
   "outputs": [],
   "source": [
    "@animation.wait('spinner', text='Fetching Spotify Song Data', speed=0.2)\n",
    "def fetch_spotify_songs(song_dir, glob_pattern='*', output_dir='./', output_file='songs.csv', audio_analysis_dir=None, preview_audio_dir='../data/audio/previews', preview_format=\"m4a\", verbose=False):\n",
    "    state_cols = ['billboard_name', 'spotify_name', 'song_data', 'audio_features', 'audio_analysis']\n",
    "    spotify_song_cols = ['billboard_name', 'spotify_name', 'artist', 'duration_ms', 'spotify_id', 'spotify_uri', 'spotify_external_url', 'spotify_popularity', 'spotify_artist_popularity', 'spotify_artist_popularity_mean', 'explicit', 'preview_url', 'preview_url_audio', 'full_audio', 'full_audio_duration_s', 'artist_genres']\n",
    "    audio_feature_cols = ['danceability', 'energy', 'key', 'loudness', 'mode', 'speechiness', 'acousticness', 'instrumentalness', 'liveness', 'valence', 'tempo', 'time_signature']\n",
    "    audio_analysis_cols = ['audio_analysis_file']\n",
    "    song_dir = os.path.abspath(song_dir)\n",
    "    audio_analysis_dir = os.path.abspath(audio_analysis_dir) if audio_analysis_dir is not None else f\"{output_dir}/audio_analysis\"\n",
    "    audio_analysis_dir = mkdir(audio_analysis_dir)\n",
    "    path_glob = glob.glob(f\"{song_dir}/{glob_pattern}\")\n",
    "    # output_dir = os.path.abspath(output_dir)\n",
    "    output_dir = mkdir(output_dir)\n",
    "    # preview_audio_dir = os.path.abspath(preview_audio_dir)\n",
    "    preview_audio_dir = mkdir(preview_audio_dir)\n",
    "    for file in path_glob:\n",
    "        weeks_songs = pd.read_csv(file)\n",
    "        spotify_songs_df = open_or_create_csv(f'{output_dir}/{output_file}', spotify_song_cols)\n",
    "        for i in range(len(weeks_songs)):\n",
    "            song = weeks_songs.iloc[i]\n",
    "            spotify_song = spotify_songs_df.loc[spotify_songs_df['billboard_name'] == song['title']]\n",
    "            if spotify_song.empty:\n",
    "                # if empty get song data\n",
    "                song_data, audio_features, audio_analysis = get_song_data(song['title'], artist=song['artist'])\n",
    "                state = [song['title']]\n",
    "\n",
    "                if song_data is not None:\n",
    "                    state.append(song_data['name'])\n",
    "                    state.append(True)\n",
    "                    s_df = pd.DataFrame(data=[[\n",
    "                        song['title'],\n",
    "                        song_data['name'],\n",
    "                        song['artist'],\n",
    "                        song_data['duration_ms'],\n",
    "                        song_data['id'],\n",
    "                        song_data['uri'],\n",
    "                        song_data['external_urls']['spotify'],\n",
    "                        song_data['popularity'],\n",
    "                        song_data['artist_popularity'],\n",
    "                        sum(song_data['artist_popularity'])/len(song_data['artist_popularity']),\n",
    "                        song_data['explicit'],\n",
    "                        song_data['preview_url'],\n",
    "                         wget.download(song_data['preview_url'], out=f\"{preview_audio_dir}/{remove_punctuation(song['title'])}.{preview_format}\").split(os.sep)[-1] if song_data['preview_url'] else None,\n",
    "                        \"not_fetched\",\n",
    "                        -1,\n",
    "                        song_data['artist_genres']]], columns=spotify_song_cols)\n",
    "                else:\n",
    "                    state.append(None)\n",
    "                    state.append(False)\n",
    "                    s_df = pd.DataFrame(data=[[song['title']] + [None for i in range(len(spotify_song_cols)-1)]], columns=spotify_song_cols)\n",
    "\n",
    "                if audio_features is not None:\n",
    "                    state.append(True)\n",
    "                    # audio_feature_cols = ['spotify_' + item for item in audio_feature_cols]\n",
    "                    af_df = pd.DataFrame(data=[[audio_features['danceability'],\n",
    "                                                audio_features['energy'],\n",
    "                                                audio_features['key'],\n",
    "                                                audio_features['loudness'],\n",
    "                                                audio_features['mode'],\n",
    "                                                audio_features['speechiness'],\n",
    "                                                audio_features['acousticness'],\n",
    "                                                audio_features['instrumentalness'],\n",
    "                                                audio_features['liveness'],\n",
    "                                                audio_features['valence'],\n",
    "                                                audio_features['tempo'],\n",
    "                                                audio_features['time_signature']]], columns=audio_feature_cols)\n",
    "                    # af_df = pd.DataFrame(data=[['sample feature 1']], columns=['audio_feature_1'])\n",
    "                else:\n",
    "                    state.append(False)\n",
    "                    af_df = pd.DataFrame(data=[[None for i in range(len(audio_feature_cols))]], columns=audio_feature_cols)\n",
    "\n",
    "                if audio_analysis is not None:\n",
    "                    state.append(True)\n",
    "                    song_title = remove_punctuation(song['title'])\n",
    "                    with open(f\"{audio_analysis_dir}/{song_title}.json\", \"w+\", encoding=\"utf-8\") as json_file:\n",
    "                        json.dump(audio_analysis, json_file, ensure_ascii=False, indent=4)\n",
    "                        aa_df = pd.DataFrame(data=[[f\"{song_title}.json\"]], columns=audio_analysis_cols)\n",
    "                    # aa_df = pd.DataFrame(data=[['sample analysis 1']], columns=['audio_analysis_1'])\n",
    "                else:\n",
    "                    state.append(False)\n",
    "                    aa_df = pd.DataFrame(data=[[None for i in range(len(audio_analysis_cols))]], columns=audio_analysis_cols)\n",
    "                    # aa_df = pd.DataFrame(data=[['sample analysis 1 EMPTY']], columns=['audio_analysis_1'])\n",
    "\n",
    "                s_df = pd.concat([s_df, af_df, aa_df], axis=1)\n",
    "                spotify_songs_df = pd.concat([spotify_songs_df, s_df])\n",
    "                spotify_songs_df.to_csv(f'{output_dir}/{output_file}', index=False)\n",
    "                state_df = open_or_create_csv(f'{output_dir}/state.csv', cols=state_cols)\n",
    "                state_df = pd.concat([state_df, pd.DataFrame(data=[state], columns=state_cols)])\n",
    "                state_df.to_csv(f'{output_dir}/state.csv', index=False)\n",
    "            elif verbose:\n",
    "                print(f\"{spotify_song.iloc[0]['billboard_name']} - {song['artist']} skipped...\")\n",
    "    print(f\"Data written to {output_file}\")"
   ],
   "metadata": {
    "collapsed": false,
    "pycharm": {
     "name": "#%%\n"
    }
   }
  },
  {
   "cell_type": "code",
   "execution_count": 11,
   "outputs": [],
   "source": [
    "@animation.wait('spinner', text='Fetching Audio Files', speed=0.2)\n",
    "def fetch_audio_data(songs_csv_filepath=\"../data/spotify/songs.csv\", output_dir=\"../data/audio/full\"):\n",
    "    songs_csv_filepath = os.path.abspath(songs_csv_filepath)\n",
    "    output_dir = mkdir(output_dir)\n",
    "    songs_df_full = pd.read_csv(songs_csv_filepath)\n",
    "    songs_df = songs_df_full[['billboard_name', 'artist', 'full_audio']]\n",
    "    try:\n",
    "        for i in range(len(songs_df)):\n",
    "            song = songs_df.iloc[i]\n",
    "            if song['full_audio'] == \"not_fetched\":\n",
    "                query_string = f\"{song['billboard_name']} {song['artist']} lyrics\"\n",
    "                yt_id = yt_query(query_string, all_ids=False)\n",
    "                # print(f\"{song['billboard_name']}: {yt_id}\")\n",
    "                audio_file, duration_s = yt_download_audio(yt_id, output_dir=output_dir) if yt_id is not None else (None, None)\n",
    "                songs_df_full.iat[i, songs_df_full.columns.get_loc('full_audio')] = audio_file.split(os.sep)[-1]\n",
    "                songs_df_full.iat[i, songs_df_full.columns.get_loc('full_audio_duration_s')] = duration_s\n",
    "    except Exception:\n",
    "        songs_df_full.to_csv(songs_csv_filepath, index=False)\n",
    "    finally:\n",
    "        songs_df_full.to_csv(songs_csv_filepath, index=False)\n",
    "    print(f\"Data written to {output_dir}\")"
   ],
   "metadata": {
    "collapsed": false,
    "pycharm": {
     "name": "#%%\n"
    }
   }
  },
  {
   "cell_type": "markdown",
   "source": [
    "### Features to extract (modelled off GTZAN dataset):\n",
    "0. length of analysed segments\n",
    "1. Chroma stft (short term fourier transform)\n",
    "2. rms (root mean square)\n",
    "3. spectral centroid\n",
    "4. spectral bandwidth\n",
    "5. rolloff\n",
    "6. zero crossing rate\n",
    "7. harmony\n",
    "8. perceptr\n",
    "9. tempo\n",
    "10. mfccs"
   ],
   "metadata": {
    "collapsed": false
   }
  },
  {
   "cell_type": "code",
   "execution_count": 12,
   "outputs": [],
   "source": [
    "@animation.wait('spinner', text='Fetching Audio Features', speed=0.2)\n",
    "def fetch_audio_features(song_path='../data/spofity/songs.csv', output_path='../data/audio/audio_features_full.csv', audio_dir='../data/audio/full', audio_type='full', batch_size=None):\n",
    "    assert audio_type == 'full' or audio_type == 'preview', 'audio_type must either be full or preview'\n",
    "    audio_field = \"full_audio\" if audio_type == \"full\" else 'preview_url_audio'\n",
    "    song_path = os.path.abspath(song_path)\n",
    "    output_path = os.path.abspath(output_path)\n",
    "    audio_dir = os.path.abspath(audio_dir)\n",
    "    songs_df = pd.read_csv(song_path)\n",
    "\n",
    "    status_dir = os.sep.join(output_path.split(os.sep)[:-1])\n",
    "    state_cols = ['billboard_name']\n",
    "    status_file = f\"{status_dir}/{audio_type}_state.csv\"\n",
    "    status_df = open_or_create_csv(status_file, state_cols)\n",
    "    count = 0\n",
    "\n",
    "    for i in range(len(songs_df)):\n",
    "        filename = songs_df.iloc[i][audio_field] if not pd.isna(songs_df.iloc[i][audio_field]) else None\n",
    "        if filename in status_df['billboard_name'].unique() or not filename: continue\n",
    "        filepath = f\"{audio_dir}/{filename}\"\n",
    "        audio_features, cols = extract_audio_features(filepath, song_name=songs_df.iloc[i]['billboard_name'])\n",
    "        output_df = open_or_create_csv(output_path, cols)\n",
    "        output_df = pd.concat([output_df, audio_features])\n",
    "        output_df.to_csv(output_path, index=False)\n",
    "        status_df = pd.concat([status_df, pd.DataFrame(data=[[filename]], columns=state_cols)])\n",
    "        status_df.to_csv(status_file, index=False)\n",
    "        count += 1\n",
    "        if batch_size and count >= batch_size: break\n",
    "    output_df = open_or_create_csv(output_path, cols=[])\n",
    "    # songs_df = pd.concat([songs_df, output_df], axis=1)\n",
    "    # songs_df.to_csv(song_path, index=False)\n",
    "    return output_df"
   ],
   "metadata": {
    "collapsed": false,
    "pycharm": {
     "name": "#%%\n"
    }
   }
  },
  {
   "cell_type": "code",
   "execution_count": null,
   "outputs": [],
   "source": [
    "# start_time = time.time()\n",
    "# get_billboard_data(2020, 2021, output_dir=\"../data/billboard\")\n",
    "# end_time = time.time() - start_time\n",
    "# print(end_time)"
   ],
   "metadata": {
    "collapsed": false,
    "pycharm": {
     "name": "#%%\n",
     "is_executing": true
    }
   }
  },
  {
   "cell_type": "code",
   "execution_count": 16,
   "outputs": [],
   "source": [
    "# merge_csvs_in_path('../data/billboard/hot-100', glob_pattern='hot-100_*.csv', output_path='../data/billboard', output_filename='hot-100_all')"
   ],
   "metadata": {
    "collapsed": false,
    "pycharm": {
     "name": "#%%\n"
    }
   }
  },
  {
   "cell_type": "code",
   "execution_count": null,
   "outputs": [],
   "source": [
    "# fetch_spotify_songs(song_dir=\"../data/billboard/hot-100/\", glob_pattern=\"hot-100_*.csv\", output_dir='../data/spofity', output_file='songs.csv', audio_analysis_dir='../data/spofity/audio_analysis', preview_audio_dir=\"../data/audio/previews\")"
   ],
   "metadata": {
    "collapsed": false,
    "pycharm": {
     "name": "#%%\n",
     "is_executing": true
    }
   }
  },
  {
   "cell_type": "code",
   "execution_count": null,
   "outputs": [],
   "source": [
    "# start_time = time.time()\n",
    "# fetch_audio_data(\"../data/spofity/songs.csv\", output_dir=\"../data/audio/full\")\n",
    "# execution_time = time.time() - start_time\n",
    "# print(f\"{execution_time} seconds\\n{floor(execution_time/60)} mins, {execution_time%60} seconds\")\n",
    "# execution time to get Billboard charts, Spotify data and YouTube audio data for 2020 and 2021\n",
    "#                = 4776.834360599518 seconds\n",
    "#                = 79 mins, 36.83436059951782 seconds"
   ],
   "metadata": {
    "collapsed": false,
    "pycharm": {
     "name": "#%%\n",
     "is_executing": true
    }
   }
  },
  {
   "cell_type": "code",
   "execution_count": 14,
   "outputs": [
    {
     "name": "stdout",
     "output_type": "stream",
     "text": [
      "\u001B[Kching Audio Features\t\n"
     ]
    },
    {
     "data": {
      "text/plain": "                        billboard_name  \\\n0      All I Want For Christmas Is You   \n1    Rockin' Around The Christmas Tree   \n2                     Jingle Bell Rock   \n3              A Holly Jolly Christmas   \n4                              Circles   \n..                                 ...   \n195                              Loyal   \n196                               KEII   \n197                            Believe   \n198                       Whats Poppin   \n199                       No Judgement   \n\n                                              filename      length  \\\n0    Mariah Carey  All I Want For Christmas Is You ...  241.696508   \n1    Brenda Lee  Rockin Around The Christmas Tree O...  127.523991   \n2             Bobby Helms  Jingle Bell Rock Lyrics.m4a  131.169524   \n3          Burl Ives  Holly Jolly Christmas Lyrics.m4a  153.553560   \n4                      Post Malone  Circles Lyrics.m4a  215.411519   \n..                                                 ...         ...   \n195              PARTYNEXTDOOR Drake  Loyal LYRICS.m4a  198.089433   \n196                     Anuel AA  Keii LetraLyrics.m4a  239.699592   \n197    Meek Mill Justin Timberlake  Believe Lyrics.m4a  211.440907   \n198  Jack Harlow  WHATS POPPIN feat Dababy Tory Lan...  227.694875   \n199               Niall Horan  No Judgement Lyrics.m4a  174.985578   \n\n     chroma_stft_mean  chroma_stft_var  rms_mean   rms_var  \\\n0            0.317660         0.091317  0.160702  0.005551   \n1            0.333602         0.087056  0.099516  0.002398   \n2            0.299308         0.089412  0.129217  0.002749   \n3            0.328846         0.089120  0.069804  0.000859   \n4            0.340946         0.093090  0.329962  0.017911   \n..                ...              ...       ...       ...   \n195          0.388931         0.083847  0.230641  0.019024   \n196          0.326721         0.092567  0.273150  0.017297   \n197          0.381199         0.093838  0.278260  0.011884   \n198          0.429759         0.095006  0.154810  0.007709   \n199          0.384637         0.088071  0.311666  0.011831   \n\n     spectral_centroid_mean  spectral_centroid_var  spectral_bandwidth_mean  \\\n0               2963.679826           4.258230e+05              2887.388904   \n1               2337.289099           3.094718e+05              2206.637701   \n2               2307.602960           5.159224e+05              2374.071872   \n3               2200.466281           2.688014e+05              2378.395310   \n4               1821.167852           6.991870e+05              2252.989888   \n..                      ...                    ...                      ...   \n195             1538.706183           1.033882e+06              1896.777562   \n196             2030.518374           5.556884e+05              2266.121330   \n197             2254.896524           8.066539e+05              2483.954274   \n198             3536.144878           2.245250e+06              2906.832664   \n199             2133.560657           6.158425e+05              2415.366643   \n\n     ...  mfcc16_mean  mfcc16_var  mfcc17_mean  mfcc17_var  mfcc18_mean  \\\n0    ...     1.619618   99.735657    -3.865835   99.024666     2.729783   \n1    ...    -1.039626   78.420586    -4.437555   55.536427     3.890496   \n2    ...     2.863054   54.716408    -3.496011   67.803917     3.036057   \n3    ...    -1.355817   60.197353    -6.695084   52.782776    -4.325858   \n4    ...     2.563944   78.141327   -12.359889   83.661438     4.207565   \n..   ...          ...         ...          ...         ...          ...   \n195  ...    -9.299193  131.676193   -14.050437  115.656837    -6.608180   \n196  ...     9.003270  100.250137    -4.268690   80.482101    -0.368161   \n197  ...     1.469345   70.120537    -6.670409   77.969902     4.237351   \n198  ...     0.405196   85.309494    -6.410496   91.954247     2.467787   \n199  ...    -0.737173   65.735901    -3.056974   62.503632    -0.815427   \n\n     mfcc18_var  mfcc19_mean  mfcc19_var  mfcc20_mean  mfcc20_var  \n0    112.219582    -7.488522  122.569649     2.323859  141.572556  \n1     70.359535     0.014326   77.899239     6.889563   93.610161  \n2     54.096622    -4.979988   54.835514     1.543585   60.288670  \n3     66.221947    -3.533713   50.849602    -1.266797   90.991325  \n4     65.643173    -5.280680   54.441189    -0.751733   59.799530  \n..          ...          ...         ...          ...         ...  \n195   92.221558   -10.323092   92.573296    -7.643232   81.850471  \n196   76.360161    -4.739402   66.883820    -0.469320   78.236832  \n197   65.954094    -5.991199   67.876350     1.282665   77.939034  \n198   86.325760    -4.378901   74.595940    -1.017326   73.496964  \n199   57.145714    -3.520616   53.295174    -0.347871   52.828743  \n\n[200 rows x 60 columns]",
      "text/html": "<div>\n<style scoped>\n    .dataframe tbody tr th:only-of-type {\n        vertical-align: middle;\n    }\n\n    .dataframe tbody tr th {\n        vertical-align: top;\n    }\n\n    .dataframe thead th {\n        text-align: right;\n    }\n</style>\n<table border=\"1\" class=\"dataframe\">\n  <thead>\n    <tr style=\"text-align: right;\">\n      <th></th>\n      <th>billboard_name</th>\n      <th>filename</th>\n      <th>length</th>\n      <th>chroma_stft_mean</th>\n      <th>chroma_stft_var</th>\n      <th>rms_mean</th>\n      <th>rms_var</th>\n      <th>spectral_centroid_mean</th>\n      <th>spectral_centroid_var</th>\n      <th>spectral_bandwidth_mean</th>\n      <th>...</th>\n      <th>mfcc16_mean</th>\n      <th>mfcc16_var</th>\n      <th>mfcc17_mean</th>\n      <th>mfcc17_var</th>\n      <th>mfcc18_mean</th>\n      <th>mfcc18_var</th>\n      <th>mfcc19_mean</th>\n      <th>mfcc19_var</th>\n      <th>mfcc20_mean</th>\n      <th>mfcc20_var</th>\n    </tr>\n  </thead>\n  <tbody>\n    <tr>\n      <th>0</th>\n      <td>All I Want For Christmas Is You</td>\n      <td>Mariah Carey  All I Want For Christmas Is You ...</td>\n      <td>241.696508</td>\n      <td>0.317660</td>\n      <td>0.091317</td>\n      <td>0.160702</td>\n      <td>0.005551</td>\n      <td>2963.679826</td>\n      <td>4.258230e+05</td>\n      <td>2887.388904</td>\n      <td>...</td>\n      <td>1.619618</td>\n      <td>99.735657</td>\n      <td>-3.865835</td>\n      <td>99.024666</td>\n      <td>2.729783</td>\n      <td>112.219582</td>\n      <td>-7.488522</td>\n      <td>122.569649</td>\n      <td>2.323859</td>\n      <td>141.572556</td>\n    </tr>\n    <tr>\n      <th>1</th>\n      <td>Rockin' Around The Christmas Tree</td>\n      <td>Brenda Lee  Rockin Around The Christmas Tree O...</td>\n      <td>127.523991</td>\n      <td>0.333602</td>\n      <td>0.087056</td>\n      <td>0.099516</td>\n      <td>0.002398</td>\n      <td>2337.289099</td>\n      <td>3.094718e+05</td>\n      <td>2206.637701</td>\n      <td>...</td>\n      <td>-1.039626</td>\n      <td>78.420586</td>\n      <td>-4.437555</td>\n      <td>55.536427</td>\n      <td>3.890496</td>\n      <td>70.359535</td>\n      <td>0.014326</td>\n      <td>77.899239</td>\n      <td>6.889563</td>\n      <td>93.610161</td>\n    </tr>\n    <tr>\n      <th>2</th>\n      <td>Jingle Bell Rock</td>\n      <td>Bobby Helms  Jingle Bell Rock Lyrics.m4a</td>\n      <td>131.169524</td>\n      <td>0.299308</td>\n      <td>0.089412</td>\n      <td>0.129217</td>\n      <td>0.002749</td>\n      <td>2307.602960</td>\n      <td>5.159224e+05</td>\n      <td>2374.071872</td>\n      <td>...</td>\n      <td>2.863054</td>\n      <td>54.716408</td>\n      <td>-3.496011</td>\n      <td>67.803917</td>\n      <td>3.036057</td>\n      <td>54.096622</td>\n      <td>-4.979988</td>\n      <td>54.835514</td>\n      <td>1.543585</td>\n      <td>60.288670</td>\n    </tr>\n    <tr>\n      <th>3</th>\n      <td>A Holly Jolly Christmas</td>\n      <td>Burl Ives  Holly Jolly Christmas Lyrics.m4a</td>\n      <td>153.553560</td>\n      <td>0.328846</td>\n      <td>0.089120</td>\n      <td>0.069804</td>\n      <td>0.000859</td>\n      <td>2200.466281</td>\n      <td>2.688014e+05</td>\n      <td>2378.395310</td>\n      <td>...</td>\n      <td>-1.355817</td>\n      <td>60.197353</td>\n      <td>-6.695084</td>\n      <td>52.782776</td>\n      <td>-4.325858</td>\n      <td>66.221947</td>\n      <td>-3.533713</td>\n      <td>50.849602</td>\n      <td>-1.266797</td>\n      <td>90.991325</td>\n    </tr>\n    <tr>\n      <th>4</th>\n      <td>Circles</td>\n      <td>Post Malone  Circles Lyrics.m4a</td>\n      <td>215.411519</td>\n      <td>0.340946</td>\n      <td>0.093090</td>\n      <td>0.329962</td>\n      <td>0.017911</td>\n      <td>1821.167852</td>\n      <td>6.991870e+05</td>\n      <td>2252.989888</td>\n      <td>...</td>\n      <td>2.563944</td>\n      <td>78.141327</td>\n      <td>-12.359889</td>\n      <td>83.661438</td>\n      <td>4.207565</td>\n      <td>65.643173</td>\n      <td>-5.280680</td>\n      <td>54.441189</td>\n      <td>-0.751733</td>\n      <td>59.799530</td>\n    </tr>\n    <tr>\n      <th>...</th>\n      <td>...</td>\n      <td>...</td>\n      <td>...</td>\n      <td>...</td>\n      <td>...</td>\n      <td>...</td>\n      <td>...</td>\n      <td>...</td>\n      <td>...</td>\n      <td>...</td>\n      <td>...</td>\n      <td>...</td>\n      <td>...</td>\n      <td>...</td>\n      <td>...</td>\n      <td>...</td>\n      <td>...</td>\n      <td>...</td>\n      <td>...</td>\n      <td>...</td>\n      <td>...</td>\n    </tr>\n    <tr>\n      <th>195</th>\n      <td>Loyal</td>\n      <td>PARTYNEXTDOOR Drake  Loyal LYRICS.m4a</td>\n      <td>198.089433</td>\n      <td>0.388931</td>\n      <td>0.083847</td>\n      <td>0.230641</td>\n      <td>0.019024</td>\n      <td>1538.706183</td>\n      <td>1.033882e+06</td>\n      <td>1896.777562</td>\n      <td>...</td>\n      <td>-9.299193</td>\n      <td>131.676193</td>\n      <td>-14.050437</td>\n      <td>115.656837</td>\n      <td>-6.608180</td>\n      <td>92.221558</td>\n      <td>-10.323092</td>\n      <td>92.573296</td>\n      <td>-7.643232</td>\n      <td>81.850471</td>\n    </tr>\n    <tr>\n      <th>196</th>\n      <td>KEII</td>\n      <td>Anuel AA  Keii LetraLyrics.m4a</td>\n      <td>239.699592</td>\n      <td>0.326721</td>\n      <td>0.092567</td>\n      <td>0.273150</td>\n      <td>0.017297</td>\n      <td>2030.518374</td>\n      <td>5.556884e+05</td>\n      <td>2266.121330</td>\n      <td>...</td>\n      <td>9.003270</td>\n      <td>100.250137</td>\n      <td>-4.268690</td>\n      <td>80.482101</td>\n      <td>-0.368161</td>\n      <td>76.360161</td>\n      <td>-4.739402</td>\n      <td>66.883820</td>\n      <td>-0.469320</td>\n      <td>78.236832</td>\n    </tr>\n    <tr>\n      <th>197</th>\n      <td>Believe</td>\n      <td>Meek Mill Justin Timberlake  Believe Lyrics.m4a</td>\n      <td>211.440907</td>\n      <td>0.381199</td>\n      <td>0.093838</td>\n      <td>0.278260</td>\n      <td>0.011884</td>\n      <td>2254.896524</td>\n      <td>8.066539e+05</td>\n      <td>2483.954274</td>\n      <td>...</td>\n      <td>1.469345</td>\n      <td>70.120537</td>\n      <td>-6.670409</td>\n      <td>77.969902</td>\n      <td>4.237351</td>\n      <td>65.954094</td>\n      <td>-5.991199</td>\n      <td>67.876350</td>\n      <td>1.282665</td>\n      <td>77.939034</td>\n    </tr>\n    <tr>\n      <th>198</th>\n      <td>Whats Poppin</td>\n      <td>Jack Harlow  WHATS POPPIN feat Dababy Tory Lan...</td>\n      <td>227.694875</td>\n      <td>0.429759</td>\n      <td>0.095006</td>\n      <td>0.154810</td>\n      <td>0.007709</td>\n      <td>3536.144878</td>\n      <td>2.245250e+06</td>\n      <td>2906.832664</td>\n      <td>...</td>\n      <td>0.405196</td>\n      <td>85.309494</td>\n      <td>-6.410496</td>\n      <td>91.954247</td>\n      <td>2.467787</td>\n      <td>86.325760</td>\n      <td>-4.378901</td>\n      <td>74.595940</td>\n      <td>-1.017326</td>\n      <td>73.496964</td>\n    </tr>\n    <tr>\n      <th>199</th>\n      <td>No Judgement</td>\n      <td>Niall Horan  No Judgement Lyrics.m4a</td>\n      <td>174.985578</td>\n      <td>0.384637</td>\n      <td>0.088071</td>\n      <td>0.311666</td>\n      <td>0.011831</td>\n      <td>2133.560657</td>\n      <td>6.158425e+05</td>\n      <td>2415.366643</td>\n      <td>...</td>\n      <td>-0.737173</td>\n      <td>65.735901</td>\n      <td>-3.056974</td>\n      <td>62.503632</td>\n      <td>-0.815427</td>\n      <td>57.145714</td>\n      <td>-3.520616</td>\n      <td>53.295174</td>\n      <td>-0.347871</td>\n      <td>52.828743</td>\n    </tr>\n  </tbody>\n</table>\n<p>200 rows × 60 columns</p>\n</div>"
     },
     "execution_count": 14,
     "metadata": {},
     "output_type": "execute_result"
    }
   ],
   "source": [
    "fetch_audio_features('../data/spofity/songs.csv', batch_size=1)"
   ],
   "metadata": {
    "collapsed": false,
    "pycharm": {
     "name": "#%%\n"
    }
   }
  },
  {
   "cell_type": "code",
   "execution_count": null,
   "outputs": [],
   "source": [],
   "metadata": {
    "collapsed": false,
    "pycharm": {
     "name": "#%%\n"
    }
   }
  }
 ],
 "metadata": {
  "kernelspec": {
   "display_name": "Python 3",
   "language": "python",
   "name": "python3"
  },
  "language_info": {
   "codemirror_mode": {
    "name": "ipython",
    "version": 2
   },
   "file_extension": ".py",
   "mimetype": "text/x-python",
   "name": "python",
   "nbconvert_exporter": "python",
   "pygments_lexer": "ipython2",
   "version": "2.7.6"
  }
 },
 "nbformat": 4,
 "nbformat_minor": 0
}