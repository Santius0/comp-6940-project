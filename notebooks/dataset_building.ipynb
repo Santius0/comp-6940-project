{
 "cells": [
  {
   "cell_type": "code",
   "execution_count": 1,
   "metadata": {
    "collapsed": true
   },
   "outputs": [],
   "source": [
    "import billboard\n",
    "import pandas as pd\n",
    "from datetime import date, timedelta\n",
    "import animation\n",
    "import os\n",
    "import glob\n",
    "import json\n",
    "import spotipy\n",
    "from spotipy import SpotifyClientCredentials\n",
    "# from spotipy.oauth2 import SpotifyOAuth\n",
    "from dotenv import load_dotenv\n",
    "import string\n",
    "\n",
    "from ytmusicapi import YTMusic\n",
    "from pytube import YouTube as YTDownload\n",
    "import re\n",
    "import requests\n",
    "import wget\n",
    "import time\n",
    "from math import floor\n",
    "\n",
    "import librosa\n",
    "import numpy as np\n",
    "import matplotlib.pyplot as plt\n",
    "import warnings\n",
    "warnings.filterwarnings('ignore')\n",
    "\n",
    "\n",
    "# import cupy as cp\n",
    "# import cudf"
   ]
  },
  {
   "cell_type": "code",
   "execution_count": 5,
   "outputs": [
    {
     "ename": "SpotifyOauthError",
     "evalue": "No client_id. Pass it or set a SPOTIPY_CLIENT_ID environment variable.",
     "output_type": "error",
     "traceback": [
      "\u001B[0;31m---------------------------------------------------------------------------\u001B[0m",
      "\u001B[0;31mSpotifyOauthError\u001B[0m                         Traceback (most recent call last)",
      "\u001B[0;32m/tmp/ipykernel_741/928547995.py\u001B[0m in \u001B[0;36m<module>\u001B[0;34m\u001B[0m\n\u001B[1;32m      2\u001B[0m \u001B[0mscope\u001B[0m \u001B[0;34m=\u001B[0m \u001B[0;34m\"user-library-read\"\u001B[0m\u001B[0;34m\u001B[0m\u001B[0;34m\u001B[0m\u001B[0m\n\u001B[1;32m      3\u001B[0m \u001B[0;34m\u001B[0m\u001B[0m\n\u001B[0;32m----> 4\u001B[0;31m spotify = spotipy.Spotify(auth_manager=SpotifyClientCredentials(client_id=os.environ.get('SPOTIPY_CLIENT_ID'),\n\u001B[0m\u001B[1;32m      5\u001B[0m                                                                 client_secret=os.environ.get('SPOTIPY_CLIENT_SECRET')))\n\u001B[1;32m      6\u001B[0m \u001B[0;31m# spotify = spotipy.Spotify(auth_manager=SpotifyOAuth(scope=scope))\u001B[0m\u001B[0;34m\u001B[0m\u001B[0;34m\u001B[0m\u001B[0;34m\u001B[0m\u001B[0m\n",
      "\u001B[0;32m~/miniconda3/envs/rapids-21.12/lib/python3.8/site-packages/spotipy/oauth2.py\u001B[0m in \u001B[0;36m__init__\u001B[0;34m(self, client_id, client_secret, proxies, requests_session, requests_timeout, cache_handler)\u001B[0m\n\u001B[1;32m    199\u001B[0m         \u001B[0msuper\u001B[0m\u001B[0;34m(\u001B[0m\u001B[0mSpotifyClientCredentials\u001B[0m\u001B[0;34m,\u001B[0m \u001B[0mself\u001B[0m\u001B[0;34m)\u001B[0m\u001B[0;34m.\u001B[0m\u001B[0m__init__\u001B[0m\u001B[0;34m(\u001B[0m\u001B[0mrequests_session\u001B[0m\u001B[0;34m)\u001B[0m\u001B[0;34m\u001B[0m\u001B[0;34m\u001B[0m\u001B[0m\n\u001B[1;32m    200\u001B[0m \u001B[0;34m\u001B[0m\u001B[0m\n\u001B[0;32m--> 201\u001B[0;31m         \u001B[0mself\u001B[0m\u001B[0;34m.\u001B[0m\u001B[0mclient_id\u001B[0m \u001B[0;34m=\u001B[0m \u001B[0mclient_id\u001B[0m\u001B[0;34m\u001B[0m\u001B[0;34m\u001B[0m\u001B[0m\n\u001B[0m\u001B[1;32m    202\u001B[0m         \u001B[0mself\u001B[0m\u001B[0;34m.\u001B[0m\u001B[0mclient_secret\u001B[0m \u001B[0;34m=\u001B[0m \u001B[0mclient_secret\u001B[0m\u001B[0;34m\u001B[0m\u001B[0;34m\u001B[0m\u001B[0m\n\u001B[1;32m    203\u001B[0m         \u001B[0mself\u001B[0m\u001B[0;34m.\u001B[0m\u001B[0mproxies\u001B[0m \u001B[0;34m=\u001B[0m \u001B[0mproxies\u001B[0m\u001B[0;34m\u001B[0m\u001B[0;34m\u001B[0m\u001B[0m\n",
      "\u001B[0;32m~/miniconda3/envs/rapids-21.12/lib/python3.8/site-packages/spotipy/oauth2.py\u001B[0m in \u001B[0;36mclient_id\u001B[0;34m(self, val)\u001B[0m\n\u001B[1;32m     92\u001B[0m     \u001B[0;34m@\u001B[0m\u001B[0mclient_id\u001B[0m\u001B[0;34m.\u001B[0m\u001B[0msetter\u001B[0m\u001B[0;34m\u001B[0m\u001B[0;34m\u001B[0m\u001B[0m\n\u001B[1;32m     93\u001B[0m     \u001B[0;32mdef\u001B[0m \u001B[0mclient_id\u001B[0m\u001B[0;34m(\u001B[0m\u001B[0mself\u001B[0m\u001B[0;34m,\u001B[0m \u001B[0mval\u001B[0m\u001B[0;34m)\u001B[0m\u001B[0;34m:\u001B[0m\u001B[0;34m\u001B[0m\u001B[0;34m\u001B[0m\u001B[0m\n\u001B[0;32m---> 94\u001B[0;31m         \u001B[0mself\u001B[0m\u001B[0;34m.\u001B[0m\u001B[0m_client_id\u001B[0m \u001B[0;34m=\u001B[0m \u001B[0m_ensure_value\u001B[0m\u001B[0;34m(\u001B[0m\u001B[0mval\u001B[0m\u001B[0;34m,\u001B[0m \u001B[0;34m\"client_id\"\u001B[0m\u001B[0;34m)\u001B[0m\u001B[0;34m\u001B[0m\u001B[0;34m\u001B[0m\u001B[0m\n\u001B[0m\u001B[1;32m     95\u001B[0m \u001B[0;34m\u001B[0m\u001B[0m\n\u001B[1;32m     96\u001B[0m     \u001B[0;34m@\u001B[0m\u001B[0mproperty\u001B[0m\u001B[0;34m\u001B[0m\u001B[0;34m\u001B[0m\u001B[0m\n",
      "\u001B[0;32m~/miniconda3/envs/rapids-21.12/lib/python3.8/site-packages/spotipy/oauth2.py\u001B[0m in \u001B[0;36m_ensure_value\u001B[0;34m(value, env_key)\u001B[0m\n\u001B[1;32m     68\u001B[0m             \u001B[0menv_val\u001B[0m\u001B[0;34m,\u001B[0m\u001B[0;34m\u001B[0m\u001B[0;34m\u001B[0m\u001B[0m\n\u001B[1;32m     69\u001B[0m         )\n\u001B[0;32m---> 70\u001B[0;31m         \u001B[0;32mraise\u001B[0m \u001B[0mSpotifyOauthError\u001B[0m\u001B[0;34m(\u001B[0m\u001B[0mmsg\u001B[0m\u001B[0;34m)\u001B[0m\u001B[0;34m\u001B[0m\u001B[0;34m\u001B[0m\u001B[0m\n\u001B[0m\u001B[1;32m     71\u001B[0m     \u001B[0;32mreturn\u001B[0m \u001B[0m_val\u001B[0m\u001B[0;34m\u001B[0m\u001B[0;34m\u001B[0m\u001B[0m\n\u001B[1;32m     72\u001B[0m \u001B[0;34m\u001B[0m\u001B[0m\n",
      "\u001B[0;31mSpotifyOauthError\u001B[0m: No client_id. Pass it or set a SPOTIPY_CLIENT_ID environment variable."
     ]
    }
   ],
   "source": [
    "load_dotenv('../.env')\n",
    "scope = \"user-library-read\"\n",
    "\n",
    "spotify = spotipy.Spotify(auth_manager=SpotifyClientCredentials(client_id=os.environ.get('SPOTIPY_CLIENT_ID'),\n",
    "                                                                client_secret=os.environ.get('SPOTIPY_CLIENT_SECRET')))\n",
    "# spotify = spotipy.Spotify(auth_manager=SpotifyOAuth(scope=scope))"
   ],
   "metadata": {
    "collapsed": false,
    "pycharm": {
     "name": "#%%\n"
    }
   }
  },
  {
   "cell_type": "code",
   "execution_count": 8,
   "outputs": [],
   "source": [
    "def all_day_in_year(day=0, year=date.today().year):\n",
    "    \"\"\"Returns every occurrence of a specified weekday in a specified year\"\"\"\n",
    "\n",
    "    # yyyy mm dd\n",
    "    # 0 = mon\n",
    "    # 1 = tue\n",
    "    # 2 = wed\n",
    "    # 3 = thu\n",
    "    # 4 = fri\n",
    "    # 5 = sat\n",
    "    # 6 = sun\n",
    "    dte = date(year, 1, 1)\n",
    "    dte += timedelta(days=(day - dte.weekday()) % 7)\n",
    "    while dte.year == year:\n",
    "        yield dte\n",
    "        dte += timedelta(days=7)\n",
    "\n",
    "def get_chart(chart_title='hot-100', week=date.today(), starting_id=0):\n",
    "    chart = billboard.ChartData(chart_title, date=week, max_retries=10, fetch=True)\n",
    "    return pd.DataFrame(data=[[\n",
    "        # starting_id + idx,\n",
    "        #                        song.title,\n",
    "                               song.artist,\n",
    "                               song.image,\n",
    "                               song.peakPos,\n",
    "                               song.lastPos,\n",
    "                               song.weeks,\n",
    "                               song.rank,\n",
    "                               song.isNew,\n",
    "                               chart.date] for idx, song in enumerate(chart)],\n",
    "                        columns=[\n",
    "                            # 'id',\n",
    "                            #      'title',\n",
    "                                 'artist',\n",
    "                                 'image',\n",
    "                                 'peakPos',\n",
    "                                 'lastPos',\n",
    "                                 'weeks',\n",
    "                                 'rank',\n",
    "                                 'isNew',\n",
    "                                 'date'], index=[song.title for song in chart]), starting_id + len(chart)\n",
    "\n",
    "@animation.wait('spinner', text='Fetching Billboard Charts', speed=0.2)\n",
    "def get_billboard_data(start_year, end_year, chart_title='hot-100', output_dir=os.getcwd()):\n",
    "    state_cols = ['last_date', 'last_id', 'next_id', 'num_weeks', 'num_songs']\n",
    "    default_state = [[None, 0, 0, 0, 0]]\n",
    "    output_path = mkdir(f\"{output_dir}/{chart_title}\")\n",
    "    year = end_year\n",
    "    while year >= start_year:\n",
    "        for week in all_day_in_year(4, year):\n",
    "            state_df= pd.read_csv(f'{output_path}/state.csv') if os.path.exists(f'{output_path}/state.csv') else \\\n",
    "                pd.DataFrame(data=default_state, columns=state_cols)\n",
    "            next_id = state_df.iloc[0]['next_id']\n",
    "            num_weeks = state_df.iloc[0]['num_weeks']\n",
    "            num_songs = state_df.iloc[0]['num_songs']\n",
    "            chart_df, last_id = get_chart(chart_title=chart_title, week=week, starting_id=next_id)\n",
    "            state_df.update(pd.DataFrame(data=[[week, last_id-1, last_id, num_weeks+1, num_songs+(last_id-next_id)]], columns=state_cols))\n",
    "            state_df.to_csv(f\"{output_path}/state.csv\", index=False)\n",
    "            chart_df.to_csv(f\"{output_path}/{chart_title}_{week}.csv\", index_label='title')\n",
    "        year -= 1\n",
    "    print(f\"Data written to {output_path}\")"
   ],
   "metadata": {
    "collapsed": false,
    "pycharm": {
     "name": "#%%\n"
    }
   }
  },
  {
   "cell_type": "code",
   "execution_count": 9,
   "outputs": [],
   "source": [
    "def merge_csvs_in_path(path, glob_pattern=\"hot-100_*.csv\", output_path='../data/billboard', output_filename='merged_csv', index=False):\n",
    "    files = glob.glob(f'{os.path.abspath(path)}/{glob_pattern}')\n",
    "    full_df = None\n",
    "    for file in files:\n",
    "        full_df = pd.read_csv(file) if full_df is None else pd.concat([full_df, pd.read_csv(file)])\n",
    "    full_df.to_csv(f\"{output_path}/{output_filename}.csv\", index=index)"
   ],
   "metadata": {
    "collapsed": false,
    "pycharm": {
     "name": "#%%\n"
    }
   }
  },
  {
   "cell_type": "code",
   "execution_count": 10,
   "outputs": [],
   "source": [
    "def get_song_data(title, artist=None):\n",
    "    # get results with only song name\n",
    "    title = title.replace(\"$\", \"s\")\n",
    "    results = spotify.search(q='track:' + title, type='track')['tracks']['items']\n",
    "    # if that doesn't work get results with song name and first artist\n",
    "    if len(results) == 0:\n",
    "        artist = ' ' + artist.lower().split('featuring')[0] if artist else ''\n",
    "        results = spotify.search(q='track:' + title + artist, type='track')['tracks']['items']\n",
    "        # if that doesn't work return None\n",
    "        if len(results) == 0:\n",
    "            return None, None, None\n",
    "    song_data = results[0]\n",
    "    artists = spotify.artists([ar['id'] for ar in song_data['artists']][:50])\n",
    "    song_data['artist_popularity'] = [ar['popularity'] for ar in artists['artists']]\n",
    "    artist_genres = []\n",
    "    for ag in [ar['genres'] for ar in artists['artists']]:\n",
    "        artist_genres += ag\n",
    "    song_data['artist_genres'] = list(dict.fromkeys(artist_genres))\n",
    "    audio_features = spotify.audio_features([song_data['id']])\n",
    "    try:\n",
    "        audio_analysis = spotify.audio_analysis(song_data['id'])\n",
    "    except spotipy.SpotifyException:\n",
    "        audio_analysis = None\n",
    "\n",
    "    return song_data, audio_features[0], audio_analysis"
   ],
   "metadata": {
    "collapsed": false,
    "pycharm": {
     "name": "#%%\n"
    }
   }
  },
  {
   "cell_type": "code",
   "execution_count": 8,
   "outputs": [],
   "source": [
    "def remove_punctuation(val: str) -> str:\n",
    "    return val.translate(str.maketrans('', '', string.punctuation))\n",
    "\n",
    "def mkdir(path: str) -> str:\n",
    "    path = os.path.abspath(path)\n",
    "    os.makedirs(path) if not os.path.exists(path) else None\n",
    "    return path\n",
    "\n",
    "def open_or_create_csv(path, cols):\n",
    "    path = os.path.abspath(path)\n",
    "    dir = os.sep.join(path.split(os.sep)[:-1])\n",
    "    os.makedirs(dir) if not os.path.exists(dir) else None\n",
    "    try:\n",
    "        return pd.read_csv(path)\n",
    "    except FileNotFoundError:\n",
    "        pd.DataFrame(columns=cols).to_csv(path, index=False)\n",
    "        return pd.read_csv(path)\n",
    "\n",
    "@animation.wait('spinner', text='Fetching Spotify Song Data', speed=0.2)\n",
    "def fetch_spotify_songs(song_dir, glob_pattern='*', output_dir='./', output_file='songs.csv', audio_analysis_dir=None, preview_audio_dir='../data/audio/previews', preview_format=\"m4a\", verbose=False):\n",
    "    state_cols = ['billboard_name', 'spotify_name', 'song_data', 'audio_features', 'audio_analysis']\n",
    "    spotify_song_cols = ['billboard_name', 'spotify_name', 'artist', 'duration_ms', 'spotify_id', 'spotify_uri', 'spotify_external_url', 'spotify_popularity', 'spotify_artist_popularity', 'spotify_artist_popularity_mean', 'explicit', 'preview_url', 'preview_url_audio', 'full_audio', 'full_audio_duration_s', 'artist_genres']\n",
    "    audio_feature_cols = ['danceability', 'energy', 'key', 'loudness', 'mode', 'speechiness', 'acousticness', 'instrumentalness', 'liveness', 'valence', 'tempo', 'time_signature']\n",
    "    audio_analysis_cols = ['audio_analysis_file']\n",
    "    song_dir = os.path.abspath(song_dir)\n",
    "    audio_analysis_dir = os.path.abspath(audio_analysis_dir) if audio_analysis_dir is not None else f\"{output_dir}/audio_analysis\"\n",
    "    audio_analysis_dir = mkdir(audio_analysis_dir)\n",
    "    path_glob = glob.glob(f\"{song_dir}/{glob_pattern}\")\n",
    "    # output_dir = os.path.abspath(output_dir)\n",
    "    output_dir = mkdir(output_dir)\n",
    "    # preview_audio_dir = os.path.abspath(preview_audio_dir)\n",
    "    preview_audio_dir = mkdir(preview_audio_dir)\n",
    "    for file in path_glob:\n",
    "        weeks_songs = pd.read_csv(file)\n",
    "        spotify_songs_df = open_or_create_csv(f'{output_dir}/{output_file}', spotify_song_cols)\n",
    "        for i in range(len(weeks_songs)):\n",
    "            song = weeks_songs.iloc[i]\n",
    "            spotify_song = spotify_songs_df.loc[spotify_songs_df['billboard_name'] == song['title']]\n",
    "            if spotify_song.empty:\n",
    "                # if empty get song data\n",
    "                song_data, audio_features, audio_analysis = get_song_data(song['title'], artist=song['artist'])\n",
    "                state = [song['title']]\n",
    "\n",
    "                if song_data is not None:\n",
    "                    state.append(song_data['name'])\n",
    "                    state.append(True)\n",
    "                    s_df = pd.DataFrame(data=[[\n",
    "                        song['title'],\n",
    "                        song_data['name'],\n",
    "                        song['artist'],\n",
    "                        song_data['duration_ms'],\n",
    "                        song_data['id'],\n",
    "                        song_data['uri'],\n",
    "                        song_data['external_urls']['spotify'],\n",
    "                        song_data['popularity'],\n",
    "                        song_data['artist_popularity'],\n",
    "                        sum(song_data['artist_popularity'])/len(song_data['artist_popularity']),\n",
    "                        song_data['explicit'],\n",
    "                        song_data['preview_url'],\n",
    "                         wget.download(song_data['preview_url'], out=f\"{preview_audio_dir}/{remove_punctuation(song['title'])}.{preview_format}\").split(os.sep)[-1] if song_data['preview_url'] else None,\n",
    "                        \"not_fetched\",\n",
    "                        -1,\n",
    "                        song_data['artist_genres']]], columns=spotify_song_cols)\n",
    "                else:\n",
    "                    state.append(None)\n",
    "                    state.append(False)\n",
    "                    s_df = pd.DataFrame(data=[[song['title']] + [None for i in range(len(spotify_song_cols)-1)]], columns=spotify_song_cols)\n",
    "\n",
    "                if audio_features is not None:\n",
    "                    state.append(True)\n",
    "                    # audio_feature_cols = ['spotify_' + item for item in audio_feature_cols]\n",
    "                    af_df = pd.DataFrame(data=[[audio_features['danceability'],\n",
    "                                                audio_features['energy'],\n",
    "                                                audio_features['key'],\n",
    "                                                audio_features['loudness'],\n",
    "                                                audio_features['mode'],\n",
    "                                                audio_features['speechiness'],\n",
    "                                                audio_features['acousticness'],\n",
    "                                                audio_features['instrumentalness'],\n",
    "                                                audio_features['liveness'],\n",
    "                                                audio_features['valence'],\n",
    "                                                audio_features['tempo'],\n",
    "                                                audio_features['time_signature']]], columns=audio_feature_cols)\n",
    "                    # af_df = pd.DataFrame(data=[['sample feature 1']], columns=['audio_feature_1'])\n",
    "                else:\n",
    "                    state.append(False)\n",
    "                    af_df = pd.DataFrame(data=[[None for i in range(len(audio_feature_cols))]], columns=audio_feature_cols)\n",
    "\n",
    "                if audio_analysis is not None:\n",
    "                    state.append(True)\n",
    "                    song_title = remove_punctuation(song['title'])\n",
    "                    with open(f\"{audio_analysis_dir}/{song_title}.json\", \"w+\", encoding=\"utf-8\") as json_file:\n",
    "                        json.dump(audio_analysis, json_file, ensure_ascii=False, indent=4)\n",
    "                        aa_df = pd.DataFrame(data=[[f\"{song_title}.json\"]], columns=audio_analysis_cols)\n",
    "                    # aa_df = pd.DataFrame(data=[['sample analysis 1']], columns=['audio_analysis_1'])\n",
    "                else:\n",
    "                    state.append(False)\n",
    "                    aa_df = pd.DataFrame(data=[[None for i in range(len(audio_analysis_cols))]], columns=audio_analysis_cols)\n",
    "                    # aa_df = pd.DataFrame(data=[['sample analysis 1 EMPTY']], columns=['audio_analysis_1'])\n",
    "\n",
    "                s_df = pd.concat([s_df, af_df, aa_df], axis=1)\n",
    "                spotify_songs_df = pd.concat([spotify_songs_df, s_df])\n",
    "                spotify_songs_df.to_csv(f'{output_dir}/{output_file}', index=False)\n",
    "                state_df = open_or_create_csv(f'{output_dir}/state.csv', cols=state_cols)\n",
    "                state_df = pd.concat([state_df, pd.DataFrame(data=[state], columns=state_cols)])\n",
    "                state_df.to_csv(f'{output_dir}/state.csv', index=False)\n",
    "            elif verbose:\n",
    "                print(f\"{spotify_song.iloc[0]['billboard_name']} - {song['artist']} skipped...\")\n",
    "    print(f\"Data written to {output_file}\")"
   ],
   "metadata": {
    "collapsed": false,
    "pycharm": {
     "name": "#%%\n"
    }
   }
  },
  {
   "cell_type": "code",
   "execution_count": 12,
   "outputs": [],
   "source": [
    "def yt_get_query_string(song_name: str) ->  bytes:\n",
    "    return \"+\".join(song_name.split()).encode(\"utf-8\")\n",
    "\n",
    "def yt_query(video_title: str, all_ids: bool = False) -> str or None:\n",
    "    query = yt_get_query_string(video_title)\n",
    "    url = f\"https://www.youtube.com/results?search_query={query}\"\n",
    "    html = requests.get(url)\n",
    "    vid_ids = re.findall(r\"watch\\?v=(\\S{11})\", html.text)\n",
    "    if len(vid_ids) == 0: return None\n",
    "    return vid_ids if all_ids else vid_ids[0]\n",
    "\n",
    "def yt_download_audio(vid_id: str, output_dir=os.getcwd(), filename=None, file_type='m4a') -> str or None:\n",
    "    yt_music = YTMusic()\n",
    "    track = yt_music.get_song(videoId=vid_id)\n",
    "    song_url = track['microformat']['microformatDataRenderer']['urlCanonical']\n",
    "    vid = YTDownload(song_url)\n",
    "    vid_audio = vid.streams.get_audio_only()\n",
    "    if vid_audio is None: return None\n",
    "    filename = track['videoDetails']['title'] if filename is None else filename\n",
    "    filename = remove_punctuation(filename)\n",
    "    output_dir = mkdir(output_dir)\n",
    "    return vid_audio.download(output_path=output_dir, filename=f\"{filename}.{file_type}\"), track['videoDetails']['lengthSeconds']"
   ],
   "metadata": {
    "collapsed": false,
    "pycharm": {
     "name": "#%%\n"
    }
   }
  },
  {
   "cell_type": "code",
   "execution_count": 13,
   "outputs": [],
   "source": [
    "@animation.wait('spinner', text='Fetching Audio Files', speed=0.2)\n",
    "def fetch_audio_data(songs_csv_filepath=\"../data/spotify/songs.csv\", output_dir=\"../data/audio/full\"):\n",
    "    songs_csv_filepath = os.path.abspath(songs_csv_filepath)\n",
    "    output_dir = mkdir(output_dir)\n",
    "    songs_df_full = pd.read_csv(songs_csv_filepath)\n",
    "    songs_df = songs_df_full[['billboard_name', 'artist', 'full_audio']]\n",
    "    try:\n",
    "        for i in range(len(songs_df)):\n",
    "            song = songs_df.iloc[i]\n",
    "            if song['full_audio'] == \"not_fetched\":\n",
    "                query_string = f\"{song['billboard_name']} {song['artist']} lyrics\"\n",
    "                yt_id = yt_query(query_string, all_ids=False)\n",
    "                # print(f\"{song['billboard_name']}: {yt_id}\")\n",
    "                audio_file, duration_s = yt_download_audio(yt_id, output_dir=output_dir) if yt_id is not None else (None, None)\n",
    "                songs_df_full.iat[i, songs_df_full.columns.get_loc('full_audio')] = audio_file.split(os.sep)[-1]\n",
    "                songs_df_full.iat[i, songs_df_full.columns.get_loc('full_audio_duration_s')] = duration_s\n",
    "    except Exception:\n",
    "        songs_df_full.to_csv(songs_csv_filepath, index=False)\n",
    "    finally:\n",
    "        songs_df_full.to_csv(songs_csv_filepath, index=False)\n",
    "    print(f\"Data written to {output_dir}\")"
   ],
   "metadata": {
    "collapsed": false,
    "pycharm": {
     "name": "#%%\n"
    }
   }
  },
  {
   "cell_type": "code",
   "execution_count": 14,
   "outputs": [],
   "source": [
    "start_time = time.time()"
   ],
   "metadata": {
    "collapsed": false,
    "pycharm": {
     "name": "#%%\n"
    }
   }
  },
  {
   "cell_type": "code",
   "execution_count": 15,
   "outputs": [
    {
     "name": "stdout",
     "output_type": "stream",
     "text": [
      "Fetching Billboard Charts\t/Data written to C:\\msc_data_science_uwi_sta\\semester_2\\classes\\comp_6940\\project\\comp-6940-project\\data\\billboard\\hot-100\n",
      "\u001B[K\n"
     ]
    }
   ],
   "source": [
    "get_billboard_data(2020, 2021, output_dir=\"../data/billboard\")"
   ],
   "metadata": {
    "collapsed": false,
    "pycharm": {
     "name": "#%%\n"
    }
   }
  },
  {
   "cell_type": "code",
   "execution_count": 16,
   "outputs": [],
   "source": [
    "merge_csvs_in_path('../data/billboard/hot-100', glob_pattern='hot-100_*.csv', output_path='../data/billboard', output_filename='hot-100_all')"
   ],
   "metadata": {
    "collapsed": false,
    "pycharm": {
     "name": "#%%\n"
    }
   }
  },
  {
   "cell_type": "code",
   "execution_count": 17,
   "outputs": [
    {
     "name": "stdout",
     "output_type": "stream",
     "text": [
      "Fetching Spotify Song Data\t\\"
     ]
    },
    {
     "name": "stderr",
     "output_type": "stream",
     "text": [
      "HTTP Error for GET to https://api.spotify.com/v1/audio-analysis/4LaGu95Ui2s4vprSQYWUAZ with Params: {} returned 404 due to analysis not found\n"
     ]
    },
    {
     "name": "stdout",
     "output_type": "stream",
     "text": [
      "\\Data written to songs.csv\n",
      "\u001B[K\n"
     ]
    }
   ],
   "source": [
    "fetch_spotify_songs(song_dir=\"../data/billboard/hot-100/\", glob_pattern=\"hot-100_*.csv\", output_dir='../data/spofity', output_file='songs.csv', audio_analysis_dir='../data/spofity/audio_analysis', preview_audio_dir=\"../data/audio/previews\")"
   ],
   "metadata": {
    "collapsed": false,
    "pycharm": {
     "name": "#%%\n"
    }
   }
  },
  {
   "cell_type": "code",
   "execution_count": 18,
   "outputs": [
    {
     "name": "stdout",
     "output_type": "stream",
     "text": [
      "Fetching Audio Files\t|Data written to C:\\msc_data_science_uwi_sta\\semester_2\\classes\\comp_6940\\project\\comp-6940-project\\data\\audio\\full\n",
      "\u001B[K\n"
     ]
    }
   ],
   "source": [
    "fetch_audio_data(\"../data/spofity/songs.csv\", output_dir=\"../data/audio/full\")"
   ],
   "metadata": {
    "collapsed": false,
    "pycharm": {
     "name": "#%%\n"
    }
   }
  },
  {
   "cell_type": "code",
   "execution_count": 22,
   "outputs": [
    {
     "name": "stdout",
     "output_type": "stream",
     "text": [
      "6874.429597616196 seconds\n",
      "114 mins, 34.42959761619568 seconds\n"
     ]
    }
   ],
   "source": [
    "execution_time = time.time() - start_time\n",
    "print(f\"{execution_time} seconds\\n{floor(execution_time/60)} mins, {execution_time%60} seconds\")\n",
    "# execution time to get Billboard charts, Spotify data and YouTube audio data for 2020 and 2021\n",
    "#                = 4776.834360599518 seconds\n",
    "#                = 79 mins, 36.83436059951782 seconds"
   ],
   "metadata": {
    "collapsed": false,
    "pycharm": {
     "name": "#%%\n"
    }
   }
  },
  {
   "cell_type": "markdown",
   "source": [
    "### Features to extract (modelled off GTZAN dataset):\n",
    "    0. length of analysed segments\n",
    "    1. Chroma stft (short term fourier transform)\n",
    "    2. rms (root mean square)\n",
    "    3. spectral centroid\n",
    "    4. spectral bandwidth\n",
    "    5. rolloff\n",
    "    6. zero crossing rate\n",
    "    7. harmony\n",
    "    8. perceptr\n",
    "    9. tempo\n",
    "    10. mfccs"
   ],
   "metadata": {
    "collapsed": false,
    "pycharm": {
     "name": "#%% md\n"
    }
   }
  },
  {
   "cell_type": "code",
   "execution_count": 11,
   "outputs": [],
   "source": [
    "def extract_audio_features(filepath:str, chunk_length: float or int = None, num_chunks: int = 1, n_fft:int=2048, hop_length:int=512):\n",
    "    assert ((num_chunks > 1) and (chunk_length is not None)) == False, \"either chunk_length or num_chunks must be used\"\n",
    "    assert num_chunks > 0, \"num chunks cannot be negative\"\n",
    "\n",
    "    filepath = os.path.abspath(filepath)\n",
    "    filename = filepath.split(os.sep)[-1]\n",
    "    y, sample_rate = librosa.load(filepath)\n",
    "    duration_s = np.shape(y)[0]/sample_rate\n",
    "\n",
    "    if chunk_length:\n",
    "        num_chunks = int(np.ceil(duration_s/chunk_length))\n",
    "    if num_chunks > 1: chunk_length = duration_s/num_chunks\n",
    "    else: chunk_length = duration_s\n",
    "\n",
    "    final_df = None\n",
    "    cols = []\n",
    "    for chunk in range(num_chunks):\n",
    "        name = filename if num_chunks == 1 else f\"{filename}_{chunk}\"\n",
    "        offset = chunk_length * chunk\n",
    "        audio, sr = librosa.load(filepath, offset=offset, duration=chunk_length)\n",
    "        audio, _ = librosa.effects.trim(audio)\n",
    "        # stft = np.abs(librosa.stft(audio, n_fft=n_fft, hop_length=hop_length))\n",
    "        chroma_stft = librosa.feature.chroma_stft(audio, sr=sr, hop_length=hop_length, n_fft=n_fft)\n",
    "        chroma_stft_mean = np.mean(chroma_stft)\n",
    "        chroma_stft_var = np.var(chroma_stft)\n",
    "        rms = librosa.feature.rms(y=audio)\n",
    "        rms_mean = np.mean(rms)\n",
    "        rms_var = np.var(rms)\n",
    "        spectral_centroid = librosa.feature.spectral_centroid(audio, sr=sr)[0]\n",
    "        spectral_centroid_mean = np.mean(spectral_centroid)\n",
    "        spectral_centroid_var = np.var(spectral_centroid)\n",
    "        spectral_bandwidth = librosa.feature.spectral_bandwidth(audio)\n",
    "        spectral_bandwidth_mean = np.mean(spectral_bandwidth)\n",
    "        spectral_bandwidth_var = np.var(spectral_bandwidth)\n",
    "        rolloff = librosa.feature.spectral_rolloff(audio)\n",
    "        rolloff_mean = np.mean(rolloff)\n",
    "        rolloff_var = np.mean(rolloff)\n",
    "        zero_crossing_rate = librosa.feature.zero_crossing_rate(audio)\n",
    "        zero_crossing_rate_mean = np.mean(zero_crossing_rate)\n",
    "        zero_crossing_rate_var = np.var(zero_crossing_rate)\n",
    "        harmony, perceptr = librosa.effects.hpss(audio)\n",
    "        harmony_mean = np.mean(harmony)\n",
    "        harmony_var = np.var(harmony)\n",
    "        perceptr_mean = np.mean(perceptr)\n",
    "        perceptr_var = np.var(perceptr)\n",
    "        tempo, _ = librosa.beat.beat_track(audio, sr=sr)\n",
    "        mfccs = librosa.feature.mfcc(audio, sr=sr)\n",
    "        mfccs_mean = [np.mean(mfcc) for mfcc in mfccs]\n",
    "        mfccs_var = [np.var(mfcc) for mfcc in mfccs]\n",
    "        cols = ['filename', 'length', 'chroma_stft_mean', 'chroma_stft_var', 'rms_mean', 'rms_var', 'spectral_centroid_mean', 'spectral_centroid_var', 'spectral_bandwidth_mean', 'spectral_bandwidth_var', 'rolloff_mean', 'rolloff_var', 'zero_crossing_rate_mean', 'zero_crossing_rate_var', 'harmony_mean', 'harmony_var', 'perceptr_mean', 'perceptr_var', 'tempo']\n",
    "        data = [name, chunk_length, chroma_stft_mean, chroma_stft_var, rms_mean, rms_var, spectral_centroid_mean, spectral_centroid_var, spectral_bandwidth_mean, spectral_bandwidth_var, rolloff_mean, rolloff_var, zero_crossing_rate_mean, zero_crossing_rate_var, harmony_mean, harmony_var, perceptr_mean, perceptr_var, tempo]\n",
    "        for m in range(len(mfccs_mean)):\n",
    "            cols.append(f\"mfcc{m+1}_mean\")\n",
    "            cols.append(f\"mfcc{m+1}_var\")\n",
    "            data.append(mfccs_mean[m])\n",
    "            data.append(mfccs_var[m])\n",
    "        df = pd.DataFrame(columns=cols, data=[data])\n",
    "        final_df = df if final_df is None else pd.concat([final_df, df], axis=0)\n",
    "    return final_df, cols"
   ],
   "metadata": {
    "collapsed": false,
    "pycharm": {
     "name": "#%%\n"
    }
   }
  },
  {
   "cell_type": "code",
   "execution_count": 5,
   "outputs": [
    {
     "name": "stdout",
     "output_type": "stream",
     "text": [
      "88.07468008995056\n"
     ]
    }
   ],
   "source": [
    "# extract_audio_features('../data/reggae.00036.wav', chunk_length=3)\n",
    "start_time = time.time()\n",
    "# print(os.path.abspath('../data/audio/full/Mariah Carey  All I Want For Christmas Is You Lyrics.m4a'))\n",
    "all_want, _ = extract_audio_features('../data/audio/full/Mariah Carey  All I Want For Christmas Is You Lyrics.m4a', chunk_length=3)\n",
    "print(time.time() - start_time)"
   ],
   "metadata": {
    "collapsed": false,
    "pycharm": {
     "name": "#%%\n"
    }
   }
  },
  {
   "cell_type": "code",
   "execution_count": 17,
   "outputs": [],
   "source": [
    "@animation.wait('spinner', text='Fetching Audio Features', speed=0.2)\n",
    "def fetch_audio_features(song_path='../data/spofity/songs.csv', output_path='../data/audio/audio_features_full.csv', audio_dir='../data/audio/full', audio_type='full'):\n",
    "    assert audio_type == 'full' or audio_type == 'preview', 'audio_type must either be full or preview'\n",
    "    audio_field = \"full_audio\" if audio_type == \"full\" else 'preview_url_audio'\n",
    "    song_path = os.path.abspath(song_path)\n",
    "    output_path = os.path.abspath(output_path)\n",
    "    audio_dir = os.path.abspath(audio_dir)\n",
    "    songs_df = pd.read_csv(song_path)\n",
    "    for i in range(len(songs_df)):\n",
    "        filename = songs_df.iloc[i][audio_field]\n",
    "        filepath = f\"{audio_dir}/{filename}\"\n",
    "        audio_features, cols = extract_audio_features(filepath)\n",
    "        output_df = open_or_create_csv(output_path, cols)\n",
    "        output_df = pd.concat([output_df, audio_features])\n",
    "        output_df.to_csv(output_path, index=False)\n",
    "        if i == 19: break\n",
    "    output_df = open_or_create_csv(output_path, cols=[])\n",
    "    songs_df = pd.concat([songs_df, output_df], axis=1)\n",
    "    songs_df.to_csv(song_path, index=False)\n",
    "    return output_df"
   ],
   "metadata": {
    "collapsed": false,
    "pycharm": {
     "name": "#%%\n"
    }
   }
  },
  {
   "cell_type": "code",
   "execution_count": 18,
   "outputs": [
    {
     "name": "stdout",
     "output_type": "stream",
     "text": [
      "\u001B[Kching Audio Features\t\n"
     ]
    },
    {
     "data": {
      "text/plain": "                                             filename      length  \\\n0   Mariah Carey  All I Want For Christmas Is You ...  241.696508   \n1   Brenda Lee  Rockin Around The Christmas Tree O...  127.523991   \n2            Bobby Helms  Jingle Bell Rock Lyrics.m4a  131.169524   \n3         Burl Ives  Holly Jolly Christmas Lyrics.m4a  153.553560   \n4                     Post Malone  Circles Lyrics.m4a  215.411519   \n5                  Arizona Zervas  ROXANNE Lyrics.m4a  161.494785   \n6   Andy Williams  Its the Most Wonderful Time of ...  153.553560   \n7         Lewis Capaldi  Someone You Loved Lyrics.m4a  181.231746   \n8                       Maroon 5  Memories Lyrics.m4a  184.528980   \n9                      Lizzo  Good As Hell Lyrics.m4a  154.598458   \n10                    Wham  Last Christmas Lyrics.m4a  303.670567   \n11         Feliz Navidad Jose Feliciano lyrics HQ.m4a  189.916009   \n12                    Roddy Ricch  The Box Lyrics.m4a  196.765896   \n13               Tones and I  Dance Monkey Lyrics.m4a  209.049252   \n14                Dean Martin  Let It Snow Lyrics.m4a  135.465215   \n15       Nat King Cole  The Christmas Song Lyrics.m4a  211.510567   \n16  Dan  Shay Justin Bieber  10000 Hours Official ...  176.030476   \n17       Selena Gomez  Lose You To Love Me Lyrics.m4a  198.159093   \n18                Mustard  Ballin’ ft Roddy Ricch.m4a  193.329342   \n19        DaBaby  BOP on Broadway Hip Hop Musical.m4a  183.623401   \n\n    chroma_stft_mean  chroma_stft_var  rms_mean   rms_var  \\\n0           0.317660         0.091317  0.160702  0.005551   \n1           0.333602         0.087056  0.099516  0.002398   \n2           0.299308         0.089412  0.129217  0.002749   \n3           0.328846         0.089120  0.069804  0.000859   \n4           0.340946         0.093090  0.329962  0.017911   \n5           0.424047         0.097844  0.299082  0.027513   \n6           0.325143         0.087049  0.133291  0.001560   \n7           0.259948         0.086315  0.201784  0.007338   \n8           0.248575         0.087786  0.211388  0.007878   \n9           0.377755         0.091206  0.321735  0.009637   \n10          0.327220         0.090244  0.101862  0.001936   \n11          0.347413         0.084386  0.169051  0.003465   \n12          0.389848         0.094896  0.250414  0.029299   \n13          0.323851         0.094318  0.218911  0.009536   \n14          0.282966         0.090793  0.080380  0.001764   \n15          0.280515         0.093706  0.052010  0.000879   \n16          0.348770         0.090282  0.258306  0.013516   \n17          0.323155         0.092309  0.189494  0.009325   \n18          0.363884         0.090348  0.212352  0.016758   \n19          0.392346         0.093618  0.291878  0.025797   \n\n    spectral_centroid_mean  spectral_centroid_var  spectral_bandwidth_mean  \\\n0              2963.679826           4.258230e+05              2887.388904   \n1              2337.289099           3.094718e+05              2206.637701   \n2              2307.602960           5.159224e+05              2374.071872   \n3              2200.466281           2.688014e+05              2378.395310   \n4              1821.167852           6.991870e+05              2252.989888   \n5              2248.047686           1.444712e+06              2305.263220   \n6              2330.858649           3.854296e+05              2320.763895   \n7              1899.207033           1.265346e+06              2039.184601   \n8              1859.723406           6.489857e+05              2293.389983   \n9              2513.184391           5.168879e+05              2498.865489   \n10             2701.253758           1.428068e+06              2599.143818   \n11             1900.112216           1.924123e+05              2123.700178   \n12             2224.077241           1.327905e+06              2354.435755   \n13             1978.258462           8.794270e+05              2248.985019   \n14             1805.933229           5.445264e+05              1937.079906   \n15             1732.042289           5.366779e+05              1821.100673   \n16             2364.034628           6.361023e+05              2624.713465   \n17             2041.660433           1.211287e+06              2374.389727   \n18             2101.087620           8.443671e+05              2292.612750   \n19             2702.608252           1.875506e+06              2533.687247   \n\n    spectral_bandwidth_var  ...  mfcc16_mean  mfcc16_var  mfcc17_mean  \\\n0            135653.618112  ...     1.619618   99.735657    -3.865835   \n1            126190.883543  ...    -1.039626   78.420586    -4.437555   \n2            138396.968012  ...     2.863054   54.716408    -3.496011   \n3            138248.346452  ...    -1.355817   60.197353    -6.695084   \n4            384261.937182  ...     2.563944   78.141327   -12.359889   \n5            581183.960316  ...    -0.585837   99.010071    -1.440359   \n6             91174.203694  ...     1.963041   37.412197    -4.002703   \n7            547795.012985  ...    -1.555600   89.279305   -11.792768   \n8            327877.418799  ...    -7.958815   61.182079   -11.588570   \n9            256137.903882  ...    -0.199346   83.722717     3.348418   \n10           679634.739651  ...    -2.624337   48.467701    -7.295770   \n11           180016.263466  ...     2.459426   57.383186   -10.219800   \n12           523937.062589  ...     3.279098   93.620186    -9.284554   \n13           415030.339921  ...     5.319080  102.710007     1.671414   \n14           170594.018654  ...     0.425298   76.105217    -6.190525   \n15           151170.840375  ...    -1.297457   72.401009    -6.695586   \n16           184703.548200  ...     0.192186   76.395126    -3.280437   \n17           634763.480033  ...     1.371291   84.204552     2.059250   \n18           576143.357401  ...     5.263637   80.946266    -3.640926   \n19           456482.915305  ...     4.582207  116.080505    -9.350299   \n\n    mfcc17_var  mfcc18_mean  mfcc18_var  mfcc19_mean  mfcc19_var  mfcc20_mean  \\\n0    99.024666     2.729783  112.219582    -7.488522  122.569649     2.323859   \n1    55.536427     3.890496   70.359535     0.014326   77.899239     6.889563   \n2    67.803917     3.036057   54.096622    -4.979988   54.835514     1.543585   \n3    52.782776    -4.325858   66.221947    -3.533713   50.849602    -1.266797   \n4    83.661438     4.207565   65.643173    -5.280680   54.441189    -0.751733   \n5    87.535439     5.685742   85.704124    -6.284473   91.432175     0.981402   \n6    42.701202    -1.178072   51.320728    -3.366605   45.293499    -0.123922   \n7   114.129150     3.693107  140.990601    -3.317512  112.066093     0.159881   \n8    81.961098    -3.128419   75.888016   -10.816767   94.981667    -3.104139   \n9    81.358185     5.094876   74.567383     2.727823  124.507904    11.219211   \n10   58.042896    -1.310355   57.454826    -5.640859   56.215103    -2.587569   \n11   35.862499    -3.134667   38.571079    -3.038115   53.996300    -1.606063   \n12  111.688034     1.655618  109.195023    -5.027020   99.500427    -0.380100   \n13  117.953293    11.727896  134.470291     3.304476  110.202766     1.963666   \n14   71.103516    -1.150008   81.325356    -2.915089   86.596039     2.125371   \n15   69.857513    -1.672112   63.673584    -3.387910   68.897141    -0.846600   \n16   85.308708     0.861102   88.986694    -5.054618   75.985138     2.035237   \n17  102.774277     7.972707  101.342880     3.669538  114.078552    11.822185   \n18   86.735161     6.781857   73.776825    -2.146532   93.927017     3.066957   \n19  123.283539     2.019587  111.497078    -6.037023   91.716583    -4.175572   \n\n    mfcc20_var  \n0   141.572556  \n1    93.610161  \n2    60.288670  \n3    90.991325  \n4    59.799530  \n5    73.804573  \n6    44.460934  \n7   152.163422  \n8    99.849464  \n9   139.054459  \n10   73.813835  \n11   53.237873  \n12  104.207520  \n13  147.271729  \n14  116.258392  \n15   91.734306  \n16   89.203255  \n17  151.124054  \n18   77.521385  \n19   83.575348  \n\n[20 rows x 59 columns]",
      "text/html": "<div>\n<style scoped>\n    .dataframe tbody tr th:only-of-type {\n        vertical-align: middle;\n    }\n\n    .dataframe tbody tr th {\n        vertical-align: top;\n    }\n\n    .dataframe thead th {\n        text-align: right;\n    }\n</style>\n<table border=\"1\" class=\"dataframe\">\n  <thead>\n    <tr style=\"text-align: right;\">\n      <th></th>\n      <th>filename</th>\n      <th>length</th>\n      <th>chroma_stft_mean</th>\n      <th>chroma_stft_var</th>\n      <th>rms_mean</th>\n      <th>rms_var</th>\n      <th>spectral_centroid_mean</th>\n      <th>spectral_centroid_var</th>\n      <th>spectral_bandwidth_mean</th>\n      <th>spectral_bandwidth_var</th>\n      <th>...</th>\n      <th>mfcc16_mean</th>\n      <th>mfcc16_var</th>\n      <th>mfcc17_mean</th>\n      <th>mfcc17_var</th>\n      <th>mfcc18_mean</th>\n      <th>mfcc18_var</th>\n      <th>mfcc19_mean</th>\n      <th>mfcc19_var</th>\n      <th>mfcc20_mean</th>\n      <th>mfcc20_var</th>\n    </tr>\n  </thead>\n  <tbody>\n    <tr>\n      <th>0</th>\n      <td>Mariah Carey  All I Want For Christmas Is You ...</td>\n      <td>241.696508</td>\n      <td>0.317660</td>\n      <td>0.091317</td>\n      <td>0.160702</td>\n      <td>0.005551</td>\n      <td>2963.679826</td>\n      <td>4.258230e+05</td>\n      <td>2887.388904</td>\n      <td>135653.618112</td>\n      <td>...</td>\n      <td>1.619618</td>\n      <td>99.735657</td>\n      <td>-3.865835</td>\n      <td>99.024666</td>\n      <td>2.729783</td>\n      <td>112.219582</td>\n      <td>-7.488522</td>\n      <td>122.569649</td>\n      <td>2.323859</td>\n      <td>141.572556</td>\n    </tr>\n    <tr>\n      <th>1</th>\n      <td>Brenda Lee  Rockin Around The Christmas Tree O...</td>\n      <td>127.523991</td>\n      <td>0.333602</td>\n      <td>0.087056</td>\n      <td>0.099516</td>\n      <td>0.002398</td>\n      <td>2337.289099</td>\n      <td>3.094718e+05</td>\n      <td>2206.637701</td>\n      <td>126190.883543</td>\n      <td>...</td>\n      <td>-1.039626</td>\n      <td>78.420586</td>\n      <td>-4.437555</td>\n      <td>55.536427</td>\n      <td>3.890496</td>\n      <td>70.359535</td>\n      <td>0.014326</td>\n      <td>77.899239</td>\n      <td>6.889563</td>\n      <td>93.610161</td>\n    </tr>\n    <tr>\n      <th>2</th>\n      <td>Bobby Helms  Jingle Bell Rock Lyrics.m4a</td>\n      <td>131.169524</td>\n      <td>0.299308</td>\n      <td>0.089412</td>\n      <td>0.129217</td>\n      <td>0.002749</td>\n      <td>2307.602960</td>\n      <td>5.159224e+05</td>\n      <td>2374.071872</td>\n      <td>138396.968012</td>\n      <td>...</td>\n      <td>2.863054</td>\n      <td>54.716408</td>\n      <td>-3.496011</td>\n      <td>67.803917</td>\n      <td>3.036057</td>\n      <td>54.096622</td>\n      <td>-4.979988</td>\n      <td>54.835514</td>\n      <td>1.543585</td>\n      <td>60.288670</td>\n    </tr>\n    <tr>\n      <th>3</th>\n      <td>Burl Ives  Holly Jolly Christmas Lyrics.m4a</td>\n      <td>153.553560</td>\n      <td>0.328846</td>\n      <td>0.089120</td>\n      <td>0.069804</td>\n      <td>0.000859</td>\n      <td>2200.466281</td>\n      <td>2.688014e+05</td>\n      <td>2378.395310</td>\n      <td>138248.346452</td>\n      <td>...</td>\n      <td>-1.355817</td>\n      <td>60.197353</td>\n      <td>-6.695084</td>\n      <td>52.782776</td>\n      <td>-4.325858</td>\n      <td>66.221947</td>\n      <td>-3.533713</td>\n      <td>50.849602</td>\n      <td>-1.266797</td>\n      <td>90.991325</td>\n    </tr>\n    <tr>\n      <th>4</th>\n      <td>Post Malone  Circles Lyrics.m4a</td>\n      <td>215.411519</td>\n      <td>0.340946</td>\n      <td>0.093090</td>\n      <td>0.329962</td>\n      <td>0.017911</td>\n      <td>1821.167852</td>\n      <td>6.991870e+05</td>\n      <td>2252.989888</td>\n      <td>384261.937182</td>\n      <td>...</td>\n      <td>2.563944</td>\n      <td>78.141327</td>\n      <td>-12.359889</td>\n      <td>83.661438</td>\n      <td>4.207565</td>\n      <td>65.643173</td>\n      <td>-5.280680</td>\n      <td>54.441189</td>\n      <td>-0.751733</td>\n      <td>59.799530</td>\n    </tr>\n    <tr>\n      <th>5</th>\n      <td>Arizona Zervas  ROXANNE Lyrics.m4a</td>\n      <td>161.494785</td>\n      <td>0.424047</td>\n      <td>0.097844</td>\n      <td>0.299082</td>\n      <td>0.027513</td>\n      <td>2248.047686</td>\n      <td>1.444712e+06</td>\n      <td>2305.263220</td>\n      <td>581183.960316</td>\n      <td>...</td>\n      <td>-0.585837</td>\n      <td>99.010071</td>\n      <td>-1.440359</td>\n      <td>87.535439</td>\n      <td>5.685742</td>\n      <td>85.704124</td>\n      <td>-6.284473</td>\n      <td>91.432175</td>\n      <td>0.981402</td>\n      <td>73.804573</td>\n    </tr>\n    <tr>\n      <th>6</th>\n      <td>Andy Williams  Its the Most Wonderful Time of ...</td>\n      <td>153.553560</td>\n      <td>0.325143</td>\n      <td>0.087049</td>\n      <td>0.133291</td>\n      <td>0.001560</td>\n      <td>2330.858649</td>\n      <td>3.854296e+05</td>\n      <td>2320.763895</td>\n      <td>91174.203694</td>\n      <td>...</td>\n      <td>1.963041</td>\n      <td>37.412197</td>\n      <td>-4.002703</td>\n      <td>42.701202</td>\n      <td>-1.178072</td>\n      <td>51.320728</td>\n      <td>-3.366605</td>\n      <td>45.293499</td>\n      <td>-0.123922</td>\n      <td>44.460934</td>\n    </tr>\n    <tr>\n      <th>7</th>\n      <td>Lewis Capaldi  Someone You Loved Lyrics.m4a</td>\n      <td>181.231746</td>\n      <td>0.259948</td>\n      <td>0.086315</td>\n      <td>0.201784</td>\n      <td>0.007338</td>\n      <td>1899.207033</td>\n      <td>1.265346e+06</td>\n      <td>2039.184601</td>\n      <td>547795.012985</td>\n      <td>...</td>\n      <td>-1.555600</td>\n      <td>89.279305</td>\n      <td>-11.792768</td>\n      <td>114.129150</td>\n      <td>3.693107</td>\n      <td>140.990601</td>\n      <td>-3.317512</td>\n      <td>112.066093</td>\n      <td>0.159881</td>\n      <td>152.163422</td>\n    </tr>\n    <tr>\n      <th>8</th>\n      <td>Maroon 5  Memories Lyrics.m4a</td>\n      <td>184.528980</td>\n      <td>0.248575</td>\n      <td>0.087786</td>\n      <td>0.211388</td>\n      <td>0.007878</td>\n      <td>1859.723406</td>\n      <td>6.489857e+05</td>\n      <td>2293.389983</td>\n      <td>327877.418799</td>\n      <td>...</td>\n      <td>-7.958815</td>\n      <td>61.182079</td>\n      <td>-11.588570</td>\n      <td>81.961098</td>\n      <td>-3.128419</td>\n      <td>75.888016</td>\n      <td>-10.816767</td>\n      <td>94.981667</td>\n      <td>-3.104139</td>\n      <td>99.849464</td>\n    </tr>\n    <tr>\n      <th>9</th>\n      <td>Lizzo  Good As Hell Lyrics.m4a</td>\n      <td>154.598458</td>\n      <td>0.377755</td>\n      <td>0.091206</td>\n      <td>0.321735</td>\n      <td>0.009637</td>\n      <td>2513.184391</td>\n      <td>5.168879e+05</td>\n      <td>2498.865489</td>\n      <td>256137.903882</td>\n      <td>...</td>\n      <td>-0.199346</td>\n      <td>83.722717</td>\n      <td>3.348418</td>\n      <td>81.358185</td>\n      <td>5.094876</td>\n      <td>74.567383</td>\n      <td>2.727823</td>\n      <td>124.507904</td>\n      <td>11.219211</td>\n      <td>139.054459</td>\n    </tr>\n    <tr>\n      <th>10</th>\n      <td>Wham  Last Christmas Lyrics.m4a</td>\n      <td>303.670567</td>\n      <td>0.327220</td>\n      <td>0.090244</td>\n      <td>0.101862</td>\n      <td>0.001936</td>\n      <td>2701.253758</td>\n      <td>1.428068e+06</td>\n      <td>2599.143818</td>\n      <td>679634.739651</td>\n      <td>...</td>\n      <td>-2.624337</td>\n      <td>48.467701</td>\n      <td>-7.295770</td>\n      <td>58.042896</td>\n      <td>-1.310355</td>\n      <td>57.454826</td>\n      <td>-5.640859</td>\n      <td>56.215103</td>\n      <td>-2.587569</td>\n      <td>73.813835</td>\n    </tr>\n    <tr>\n      <th>11</th>\n      <td>Feliz Navidad Jose Feliciano lyrics HQ.m4a</td>\n      <td>189.916009</td>\n      <td>0.347413</td>\n      <td>0.084386</td>\n      <td>0.169051</td>\n      <td>0.003465</td>\n      <td>1900.112216</td>\n      <td>1.924123e+05</td>\n      <td>2123.700178</td>\n      <td>180016.263466</td>\n      <td>...</td>\n      <td>2.459426</td>\n      <td>57.383186</td>\n      <td>-10.219800</td>\n      <td>35.862499</td>\n      <td>-3.134667</td>\n      <td>38.571079</td>\n      <td>-3.038115</td>\n      <td>53.996300</td>\n      <td>-1.606063</td>\n      <td>53.237873</td>\n    </tr>\n    <tr>\n      <th>12</th>\n      <td>Roddy Ricch  The Box Lyrics.m4a</td>\n      <td>196.765896</td>\n      <td>0.389848</td>\n      <td>0.094896</td>\n      <td>0.250414</td>\n      <td>0.029299</td>\n      <td>2224.077241</td>\n      <td>1.327905e+06</td>\n      <td>2354.435755</td>\n      <td>523937.062589</td>\n      <td>...</td>\n      <td>3.279098</td>\n      <td>93.620186</td>\n      <td>-9.284554</td>\n      <td>111.688034</td>\n      <td>1.655618</td>\n      <td>109.195023</td>\n      <td>-5.027020</td>\n      <td>99.500427</td>\n      <td>-0.380100</td>\n      <td>104.207520</td>\n    </tr>\n    <tr>\n      <th>13</th>\n      <td>Tones and I  Dance Monkey Lyrics.m4a</td>\n      <td>209.049252</td>\n      <td>0.323851</td>\n      <td>0.094318</td>\n      <td>0.218911</td>\n      <td>0.009536</td>\n      <td>1978.258462</td>\n      <td>8.794270e+05</td>\n      <td>2248.985019</td>\n      <td>415030.339921</td>\n      <td>...</td>\n      <td>5.319080</td>\n      <td>102.710007</td>\n      <td>1.671414</td>\n      <td>117.953293</td>\n      <td>11.727896</td>\n      <td>134.470291</td>\n      <td>3.304476</td>\n      <td>110.202766</td>\n      <td>1.963666</td>\n      <td>147.271729</td>\n    </tr>\n    <tr>\n      <th>14</th>\n      <td>Dean Martin  Let It Snow Lyrics.m4a</td>\n      <td>135.465215</td>\n      <td>0.282966</td>\n      <td>0.090793</td>\n      <td>0.080380</td>\n      <td>0.001764</td>\n      <td>1805.933229</td>\n      <td>5.445264e+05</td>\n      <td>1937.079906</td>\n      <td>170594.018654</td>\n      <td>...</td>\n      <td>0.425298</td>\n      <td>76.105217</td>\n      <td>-6.190525</td>\n      <td>71.103516</td>\n      <td>-1.150008</td>\n      <td>81.325356</td>\n      <td>-2.915089</td>\n      <td>86.596039</td>\n      <td>2.125371</td>\n      <td>116.258392</td>\n    </tr>\n    <tr>\n      <th>15</th>\n      <td>Nat King Cole  The Christmas Song Lyrics.m4a</td>\n      <td>211.510567</td>\n      <td>0.280515</td>\n      <td>0.093706</td>\n      <td>0.052010</td>\n      <td>0.000879</td>\n      <td>1732.042289</td>\n      <td>5.366779e+05</td>\n      <td>1821.100673</td>\n      <td>151170.840375</td>\n      <td>...</td>\n      <td>-1.297457</td>\n      <td>72.401009</td>\n      <td>-6.695586</td>\n      <td>69.857513</td>\n      <td>-1.672112</td>\n      <td>63.673584</td>\n      <td>-3.387910</td>\n      <td>68.897141</td>\n      <td>-0.846600</td>\n      <td>91.734306</td>\n    </tr>\n    <tr>\n      <th>16</th>\n      <td>Dan  Shay Justin Bieber  10000 Hours Official ...</td>\n      <td>176.030476</td>\n      <td>0.348770</td>\n      <td>0.090282</td>\n      <td>0.258306</td>\n      <td>0.013516</td>\n      <td>2364.034628</td>\n      <td>6.361023e+05</td>\n      <td>2624.713465</td>\n      <td>184703.548200</td>\n      <td>...</td>\n      <td>0.192186</td>\n      <td>76.395126</td>\n      <td>-3.280437</td>\n      <td>85.308708</td>\n      <td>0.861102</td>\n      <td>88.986694</td>\n      <td>-5.054618</td>\n      <td>75.985138</td>\n      <td>2.035237</td>\n      <td>89.203255</td>\n    </tr>\n    <tr>\n      <th>17</th>\n      <td>Selena Gomez  Lose You To Love Me Lyrics.m4a</td>\n      <td>198.159093</td>\n      <td>0.323155</td>\n      <td>0.092309</td>\n      <td>0.189494</td>\n      <td>0.009325</td>\n      <td>2041.660433</td>\n      <td>1.211287e+06</td>\n      <td>2374.389727</td>\n      <td>634763.480033</td>\n      <td>...</td>\n      <td>1.371291</td>\n      <td>84.204552</td>\n      <td>2.059250</td>\n      <td>102.774277</td>\n      <td>7.972707</td>\n      <td>101.342880</td>\n      <td>3.669538</td>\n      <td>114.078552</td>\n      <td>11.822185</td>\n      <td>151.124054</td>\n    </tr>\n    <tr>\n      <th>18</th>\n      <td>Mustard  Ballin’ ft Roddy Ricch.m4a</td>\n      <td>193.329342</td>\n      <td>0.363884</td>\n      <td>0.090348</td>\n      <td>0.212352</td>\n      <td>0.016758</td>\n      <td>2101.087620</td>\n      <td>8.443671e+05</td>\n      <td>2292.612750</td>\n      <td>576143.357401</td>\n      <td>...</td>\n      <td>5.263637</td>\n      <td>80.946266</td>\n      <td>-3.640926</td>\n      <td>86.735161</td>\n      <td>6.781857</td>\n      <td>73.776825</td>\n      <td>-2.146532</td>\n      <td>93.927017</td>\n      <td>3.066957</td>\n      <td>77.521385</td>\n    </tr>\n    <tr>\n      <th>19</th>\n      <td>DaBaby  BOP on Broadway Hip Hop Musical.m4a</td>\n      <td>183.623401</td>\n      <td>0.392346</td>\n      <td>0.093618</td>\n      <td>0.291878</td>\n      <td>0.025797</td>\n      <td>2702.608252</td>\n      <td>1.875506e+06</td>\n      <td>2533.687247</td>\n      <td>456482.915305</td>\n      <td>...</td>\n      <td>4.582207</td>\n      <td>116.080505</td>\n      <td>-9.350299</td>\n      <td>123.283539</td>\n      <td>2.019587</td>\n      <td>111.497078</td>\n      <td>-6.037023</td>\n      <td>91.716583</td>\n      <td>-4.175572</td>\n      <td>83.575348</td>\n    </tr>\n  </tbody>\n</table>\n<p>20 rows × 59 columns</p>\n</div>"
     },
     "execution_count": 18,
     "metadata": {},
     "output_type": "execute_result"
    }
   ],
   "source": [
    "fetch_audio_features('../data/spofity/songs.csv')"
   ],
   "metadata": {
    "collapsed": false,
    "pycharm": {
     "name": "#%%\n"
    }
   }
  },
  {
   "cell_type": "code",
   "execution_count": 2,
   "outputs": [
    {
     "ename": "ModuleNotFoundError",
     "evalue": "No module named 'torch'",
     "output_type": "error",
     "traceback": [
      "\u001B[0;31m---------------------------------------------------------------------------\u001B[0m",
      "\u001B[0;31mModuleNotFoundError\u001B[0m                       Traceback (most recent call last)",
      "\u001B[0;32m/tmp/ipykernel_13966/3800943534.py\u001B[0m in \u001B[0;36m<module>\u001B[0;34m\u001B[0m\n\u001B[0;32m----> 1\u001B[0;31m \u001B[0;32mimport\u001B[0m \u001B[0mtorch\u001B[0m\u001B[0;34m\u001B[0m\u001B[0;34m\u001B[0m\u001B[0m\n\u001B[0m\u001B[1;32m      2\u001B[0m \u001B[0;32mimport\u001B[0m \u001B[0mtorchlibrosa\u001B[0m \u001B[0;32mas\u001B[0m \u001B[0mtl\u001B[0m\u001B[0;34m\u001B[0m\u001B[0;34m\u001B[0m\u001B[0m\n",
      "\u001B[0;31mModuleNotFoundError\u001B[0m: No module named 'torch'"
     ]
    }
   ],
   "source": [
    "import torch\n",
    "import torchlibrosa as tl"
   ],
   "metadata": {
    "collapsed": false,
    "pycharm": {
     "name": "#%%\n"
    }
   }
  },
  {
   "cell_type": "code",
   "execution_count": null,
   "outputs": [],
   "source": [],
   "metadata": {
    "collapsed": false,
    "pycharm": {
     "name": "#%%\n"
    }
   }
  }
 ],
 "metadata": {
  "kernelspec": {
   "display_name": "Python 3",
   "language": "python",
   "name": "python3"
  },
  "language_info": {
   "codemirror_mode": {
    "name": "ipython",
    "version": 2
   },
   "file_extension": ".py",
   "mimetype": "text/x-python",
   "name": "python",
   "nbconvert_exporter": "python",
   "pygments_lexer": "ipython2",
   "version": "2.7.6"
  }
 },
 "nbformat": 4,
 "nbformat_minor": 0
}