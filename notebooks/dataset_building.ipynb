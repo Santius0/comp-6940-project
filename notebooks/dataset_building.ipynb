{
 "cells": [
  {
   "cell_type": "code",
   "execution_count": 1,
   "metadata": {
    "collapsed": true
   },
   "outputs": [],
   "source": [
    "from utils.general import *\n",
    "from utils.billboard_data import get_chart\n",
    "from utils.spotify import get_song_data\n",
    "from utils.youtube import *\n",
    "from utils.audio import extract_audio_features\n",
    "\n",
    "import pandas as pd\n",
    "\n",
    "import animation\n",
    "import os\n",
    "import glob\n",
    "import json\n",
    "import wget\n",
    "\n",
    "import warnings\n",
    "\n",
    "# import matplotlib.pyplot as plt\n",
    "# import cupy as cp\n",
    "# import cudf"
   ]
  },
  {
   "cell_type": "code",
   "execution_count": 2,
   "outputs": [],
   "source": [
    "warnings.filterwarnings('ignore')"
   ],
   "metadata": {
    "collapsed": false,
    "pycharm": {
     "name": "#%%\n"
    }
   }
  },
  {
   "cell_type": "code",
   "execution_count": 3,
   "outputs": [],
   "source": [
    "@animation.wait('spinner', text='Fetching Billboard Charts', speed=0.2)\n",
    "@execution_time(round_to=2)\n",
    "def get_billboard_data(start_year, end_year, chart_title='hot-100', output_dir=os.getcwd()):\n",
    "    state_cols = ['last_date', 'last_id', 'next_id', 'num_weeks', 'num_songs']\n",
    "    default_state = [[None, 0, 0, 0, 0]]\n",
    "    output_path = mkdir(f\"{output_dir}/{chart_title}\")\n",
    "    year = end_year\n",
    "    while year >= start_year:\n",
    "        for week in all_day_in_year(4, year):\n",
    "            state_df= pd.read_csv(f'{output_path}/state.csv') if os.path.exists(f'{output_path}/state.csv') else \\\n",
    "                pd.DataFrame(data=default_state, columns=state_cols)\n",
    "            next_id = state_df.iloc[0]['next_id']\n",
    "            num_weeks = state_df.iloc[0]['num_weeks']\n",
    "            num_songs = state_df.iloc[0]['num_songs']\n",
    "            chart_df, last_id = get_chart(chart_title=chart_title, week=week, starting_id=next_id)\n",
    "            state_df.update(pd.DataFrame(data=[[week, last_id-1, last_id, num_weeks+1, num_songs+(last_id-next_id)]], columns=state_cols))\n",
    "            state_df.to_csv(f\"{output_path}/state.csv\", index=False)\n",
    "            chart_df.to_csv(f\"{output_path}/{chart_title}_{week}.csv\", index_label='title')\n",
    "        year -= 1\n",
    "    print(f\"Data written to {output_path}\")"
   ],
   "metadata": {
    "collapsed": false,
    "pycharm": {
     "name": "#%%\n"
    }
   }
  },
  {
   "cell_type": "code",
   "execution_count": 4,
   "outputs": [],
   "source": [
    "@animation.wait('spinner', text='Fetching Spotify Song Data', speed=0.2)\n",
    "@execution_time(round_to=2)\n",
    "def fetch_spotify_songs(song_dir, glob_pattern='*', output_dir='./', output_file='songs.csv', audio_analysis_dir=None, preview_audio_dir='../data/audio/previews', preview_format=\"wav\", verbose=False):\n",
    "\n",
    "    state_cols = ['billboard_name', 'spotify_name', 'song_data', 'audio_features', 'audio_analysis']\n",
    "\n",
    "    spotify_song_cols = ['billboard_name', 'spotify_name', 'artist', 'duration_ms', 'spotify_id', 'spotify_uri', 'spotify_external_url', 'spotify_popularity', 'spotify_artist_popularity', 'spotify_artist_popularity_mean', 'explicit', 'preview_url', 'preview_url_audio', 'full_audio', 'full_audio_duration_s', 'artist_genres']\n",
    "\n",
    "    audio_feature_cols = ['danceability', 'energy', 'key', 'loudness', 'mode', 'speechiness', 'acousticness', 'instrumentalness', 'liveness', 'valence', 'tempo', 'time_signature']\n",
    "\n",
    "    audio_analysis_cols = ['audio_analysis_file']\n",
    "\n",
    "    song_dir = os.path.abspath(song_dir)\n",
    "    audio_analysis_dir = os.path.abspath(audio_analysis_dir) if audio_analysis_dir is not None else f\"{output_dir}/audio_analysis\"\n",
    "    audio_analysis_dir = mkdir(audio_analysis_dir)\n",
    "    path_glob = glob.glob(f\"{song_dir}/{glob_pattern}\")\n",
    "    # output_dir = os.path.abspath(output_dir)\n",
    "    output_dir = mkdir(output_dir)\n",
    "    # preview_audio_dir = os.path.abspath(preview_audio_dir)\n",
    "    preview_audio_dir = mkdir(preview_audio_dir)\n",
    "    for file in path_glob:\n",
    "        weeks_songs = pd.read_csv(file)\n",
    "        spotify_songs_df = open_or_create_csv(f'{output_dir}/{output_file}', spotify_song_cols)\n",
    "        for i in range(len(weeks_songs)):\n",
    "            song = weeks_songs.iloc[i]\n",
    "            spotify_song = spotify_songs_df.loc[spotify_songs_df['billboard_name'] == song['title']]\n",
    "            if spotify_song.empty:\n",
    "                # if empty get song data\n",
    "                song_data, audio_features, audio_analysis = get_song_data(song['title'], artist=song['artist'])\n",
    "                state = [song['title']]\n",
    "\n",
    "                if song_data is not None:\n",
    "                    state.append(song_data['name'])\n",
    "                    state.append(True)\n",
    "                    s_df = pd.DataFrame(data=[[\n",
    "                        song['title'],\n",
    "                        song_data['name'],\n",
    "                        song['artist'],\n",
    "                        song_data['duration_ms'],\n",
    "                        song_data['id'],\n",
    "                        song_data['uri'],\n",
    "                        song_data['external_urls']['spotify'],\n",
    "                        song_data['popularity'],\n",
    "                        song_data['artist_popularity'],\n",
    "                        sum(song_data['artist_popularity'])/len(song_data['artist_popularity']),\n",
    "                        song_data['explicit'],\n",
    "                        song_data['preview_url'],\n",
    "                         wget.download(song_data['preview_url'], out=f\"{preview_audio_dir}/{remove_punctuation(song['title'])}.{preview_format}\").split(os.sep)[-1] if song_data['preview_url'] else None,\n",
    "                        \"not_fetched\",\n",
    "                        -1,\n",
    "                        song_data['artist_genres']]], columns=spotify_song_cols)\n",
    "                else:\n",
    "                    state.append(None)\n",
    "                    state.append(False)\n",
    "                    s_df = pd.DataFrame(data=[[song['title']] + [None for i in range(len(spotify_song_cols)-1)]], columns=spotify_song_cols)\n",
    "\n",
    "                if audio_features is not None:\n",
    "                    state.append(True)\n",
    "                    # audio_feature_cols = ['spotify_' + item for item in audio_feature_cols]\n",
    "                    af_df = pd.DataFrame(data=[[audio_features['danceability'],\n",
    "                                                audio_features['energy'],\n",
    "                                                audio_features['key'],\n",
    "                                                audio_features['loudness'],\n",
    "                                                audio_features['mode'],\n",
    "                                                audio_features['speechiness'],\n",
    "                                                audio_features['acousticness'],\n",
    "                                                audio_features['instrumentalness'],\n",
    "                                                audio_features['liveness'],\n",
    "                                                audio_features['valence'],\n",
    "                                                audio_features['tempo'],\n",
    "                                                audio_features['time_signature']]], columns=audio_feature_cols)\n",
    "                    # af_df = pd.DataFrame(data=[['sample feature 1']], columns=['audio_feature_1'])\n",
    "                else:\n",
    "                    state.append(False)\n",
    "                    af_df = pd.DataFrame(data=[[None for i in range(len(audio_feature_cols))]], columns=audio_feature_cols)\n",
    "\n",
    "                if audio_analysis is not None:\n",
    "                    state.append(True)\n",
    "                    song_title = remove_punctuation(song['title'])\n",
    "                    with open(f\"{audio_analysis_dir}/{song_title}.json\", \"w+\", encoding=\"utf-8\") as json_file:\n",
    "                        json.dump(audio_analysis, json_file, ensure_ascii=False, indent=4)\n",
    "                        aa_df = pd.DataFrame(data=[[f\"{song_title}.json\"]], columns=audio_analysis_cols)\n",
    "                    # aa_df = pd.DataFrame(data=[['sample analysis 1']], columns=['audio_analysis_1'])\n",
    "                else:\n",
    "                    state.append(False)\n",
    "                    aa_df = pd.DataFrame(data=[[None for i in range(len(audio_analysis_cols))]], columns=audio_analysis_cols)\n",
    "                    # aa_df = pd.DataFrame(data=[['sample analysis 1 EMPTY']], columns=['audio_analysis_1'])\n",
    "\n",
    "                s_df = pd.concat([s_df, af_df, aa_df], axis=1)\n",
    "                spotify_songs_df = pd.concat([spotify_songs_df, s_df])\n",
    "                spotify_songs_df.to_csv(f'{output_dir}/{output_file}', index=False)\n",
    "                state_df = open_or_create_csv(f'{output_dir}/state.csv', cols=state_cols)\n",
    "                state_df = pd.concat([state_df, pd.DataFrame(data=[state], columns=state_cols)])\n",
    "                state_df.to_csv(f'{output_dir}/state.csv', index=False)\n",
    "            elif verbose:\n",
    "                print(f\"{spotify_song.iloc[0]['billboard_name']} - {song['artist']} skipped...\")\n",
    "    print(f\"Data written to {output_file}\")"
   ],
   "metadata": {
    "collapsed": false,
    "pycharm": {
     "name": "#%%\n"
    }
   }
  },
  {
   "cell_type": "code",
   "execution_count": 5,
   "outputs": [],
   "source": [
    "@animation.wait('spinner', text='Fetching Audio Files', speed=0.2)\n",
    "@execution_time(round_to=2)\n",
    "def fetch_audio_data(songs_csv_filepath=\"../data/spotify/songs.csv\", output_dir=\"../data/audio/full\"):\n",
    "    songs_csv_filepath = os.path.abspath(songs_csv_filepath)\n",
    "    output_dir = mkdir(output_dir)\n",
    "    songs_df_full = pd.read_csv(songs_csv_filepath)\n",
    "    songs_df = songs_df_full[['billboard_name', 'artist', 'full_audio']]\n",
    "    try:\n",
    "        for i in range(len(songs_df)):\n",
    "            song = songs_df.iloc[i]\n",
    "            if song['full_audio'] == \"not_fetched\":\n",
    "                query_string = f\"{song['billboard_name']} {song['artist']} lyrics\"\n",
    "                yt_id = yt_query(query_string, all_ids=False)\n",
    "                # print(f\"{song['billboard_name']}: {yt_id}\")\n",
    "                audio_file, duration_s = yt_download_audio(yt_id, output_dir=output_dir) if yt_id is not None else (None, None)\n",
    "                songs_df_full.iat[i, songs_df_full.columns.get_loc('full_audio')] = audio_file.split(os.sep)[-1]\n",
    "                songs_df_full.iat[i, songs_df_full.columns.get_loc('full_audio_duration_s')] = duration_s\n",
    "    except Exception as e:\n",
    "        print(f\"Exception: {e}\")\n",
    "        songs_df_full.to_csv(songs_csv_filepath, index=False)\n",
    "    finally:\n",
    "        songs_df_full.to_csv(songs_csv_filepath, index=False)\n",
    "    print(f\"Data written to {output_dir}\")"
   ],
   "metadata": {
    "collapsed": false,
    "pycharm": {
     "name": "#%%\n"
    }
   }
  },
  {
   "cell_type": "markdown",
   "source": [
    "### Features to extract (modelled off GTZAN dataset):\n",
    "0. length of analysed segments\n",
    "1. Chroma stft (short term fourier transform)\n",
    "2. rms (root mean square)\n",
    "3. spectral centroid\n",
    "4. spectral bandwidth\n",
    "5. rolloff\n",
    "6. zero crossing rate\n",
    "7. harmony\n",
    "8. perceptr\n",
    "9. tempo\n",
    "10. mfccs"
   ],
   "metadata": {
    "collapsed": false
   }
  },
  {
   "cell_type": "code",
   "execution_count": 28,
   "outputs": [],
   "source": [
    "@animation.wait('spinner', text='Fetching Audio Features', speed=0.2)\n",
    "@execution_time(round_to=2)\n",
    "def fetch_audio_features(song_path='../data/spofity/songs.csv', output_path='../data/audio/audio_features_full.csv', audio_dir='../data/audio/full', audio_type='full', batch_size=None):\n",
    "    assert audio_type == 'full' or audio_type == 'preview', 'audio_type must either be full or preview'\n",
    "    audio_field = \"full_audio\" if audio_type == \"full\" else 'preview_url_audio'\n",
    "    song_path = os.path.abspath(song_path)\n",
    "    output_path = os.path.abspath(output_path)\n",
    "    audio_dir = os.path.abspath(audio_dir)\n",
    "    songs_df = pd.read_csv(song_path)\n",
    "\n",
    "    status_dir = os.sep.join(output_path.split(os.sep)[:-1])\n",
    "    state_cols = ['billboard_name']\n",
    "    status_file = f\"{status_dir}/{audio_type}_state.csv\"\n",
    "    status_df = open_or_create_csv(status_file, state_cols)\n",
    "    count = 0\n",
    "\n",
    "    for i in range(len(songs_df)):\n",
    "        filename = songs_df.iloc[i][audio_field] if not pd.isna(songs_df.iloc[i][audio_field]) else None\n",
    "        if filename in status_df['billboard_name'].unique() or not filename: continue\n",
    "        filepath = f\"{audio_dir}/{filename}\"\n",
    "        audio_features, cols = extract_audio_features(filepath, song_name=songs_df.iloc[i]['billboard_name'])\n",
    "        try:\n",
    "            output_df = open_or_create_csv(output_path, cols)\n",
    "            output_df = pd.concat([output_df, audio_features])\n",
    "            output_df.to_csv(output_path, index=False)\n",
    "            status_df = pd.concat([status_df, pd.DataFrame(data=[[filename]], columns=state_cols)])\n",
    "            status_df.to_csv(status_file, index=False)\n",
    "        except KeyboardInterrupt:\n",
    "            output_df = open_or_create_csv(output_path, cols)\n",
    "            output_df = pd.concat([output_df, audio_features])\n",
    "            output_df.to_csv(output_path, index=False)\n",
    "            status_df = pd.concat([status_df, pd.DataFrame(data=[[filename]], columns=state_cols)])\n",
    "            status_df.to_csv(status_file, index=False)\n",
    "            print('KeyboardInterrupt during save. Data successfully saved.')\n",
    "        count += 1\n",
    "        if batch_size and count >= batch_size: break\n",
    "    try:\n",
    "        output_df = open_or_create_csv(output_path, cols=[])\n",
    "    except KeyboardInterrupt:\n",
    "        output_df = open_or_create_csv(output_path, cols=[])\n",
    "        print('KeyboardInterrupt during save. Data successfully saved.')\n",
    "    # songs_df = pd.concat([songs_df, output_df], axis=1)\n",
    "    # songs_df.to_csv(song_path, index=False)\n",
    "    return output_df"
   ],
   "metadata": {
    "collapsed": false,
    "pycharm": {
     "name": "#%%\n"
    }
   }
  },
  {
   "cell_type": "markdown",
   "source": [
    "# Dataset Construction"
   ],
   "metadata": {
    "collapsed": false,
    "pycharm": {
     "name": "#%% md\n"
    }
   }
  },
  {
   "cell_type": "code",
   "execution_count": 7,
   "outputs": [],
   "source": [
    "# get_billboard_data(2020, 2021, output_dir=\"../data/billboard\")"
   ],
   "metadata": {
    "collapsed": false,
    "pycharm": {
     "name": "#%%\n"
    }
   }
  },
  {
   "cell_type": "code",
   "execution_count": 8,
   "outputs": [],
   "source": [
    "# merge_csvs_in_path('../data/billboard/hot-100', glob_pattern='hot-100_*.csv', output_path='../data/billboard', output_filename='hot-100_all')"
   ],
   "metadata": {
    "collapsed": false,
    "pycharm": {
     "name": "#%%\n"
    }
   }
  },
  {
   "cell_type": "code",
   "execution_count": 9,
   "outputs": [],
   "source": [
    "# fetch_spotify_songs(song_dir=\"../data/billboard/hot-100/\", glob_pattern=\"hot-100_*.csv\", output_dir='../data/spofity', output_file='songs.csv', audio_analysis_dir='../data/spofity/audio_analysis', preview_audio_dir=\"../data/audio/previews\")"
   ],
   "metadata": {
    "collapsed": false,
    "pycharm": {
     "name": "#%%\n"
    }
   }
  },
  {
   "cell_type": "code",
   "execution_count": 31,
   "outputs": [
    {
     "name": "stdout",
     "output_type": "stream",
     "text": [
      "Fetching Audio Files\t-Data written to C:\\msc_data_science_uwi_sta\\semester_2\\classes\\comp_6940\\project\\comp-6940-project\\data\\audio\\full\n",
      "\n",
      " func:fetch_audio_data args:[('../data/spofity/songs.csv',), {'output_dir': '../data/audio/full'}] took: 0.14 sec\n",
      "\u001B[K\n"
     ]
    }
   ],
   "source": [
    "# note: BUG (17/04/22) in PyTube due to YouTube adjusting the JavaScript code containing details of the throttling function to the form: a.D&&(b=a.get(\"n\"))&&(b=$x[0](b)\n",
    "# Temporary fix until official release releases update:\n",
    "#           go to pytube/cipher.py and change function_patterns to:\n",
    "#                     r'a\\.[a-zA-Z]\\s*&&\\s*\\([a-z]\\s*=\\s*a\\.get\\(\"n\"\\)\\)\\s*&&\\s*'\n",
    "#                     r'\\([a-z]\\s*=\\s*([a-zA-Z0-9$]{2,3})(\\[\\d+\\])?\\([a-z]\\)'\n",
    "# and change line 288 in that file to: nfunc=re.escape(function_match.group(1))),\n",
    "# Enter these values exactly.\n",
    "\n",
    "fetch_audio_data(\"../data/spofity/songs.csv\", output_dir=\"../data/audio/full\")"
   ],
   "metadata": {
    "collapsed": false,
    "pycharm": {
     "name": "#%%\n"
    }
   }
  },
  {
   "cell_type": "code",
   "execution_count": 32,
   "outputs": [
    {
     "name": "stdout",
     "output_type": "stream",
     "text": [
      "Fetching Audio Features\t-\n",
      " func:fetch_audio_features args:[('../data/spofity/songs.csv',), {'batch_size': 500}] took: 0.87 sec\n",
      "\u001B[K\n"
     ]
    },
    {
     "data": {
      "text/plain": "                           billboard_name  \\\n0         All I Want For Christmas Is You   \n1       Rockin' Around The Christmas Tree   \n2                        Jingle Bell Rock   \n3                 A Holly Jolly Christmas   \n4                                 Circles   \n...                                   ...   \n1418  Christmas Isn't Canceled (Just You)   \n1419                       Moved To Miami   \n1420                              Hibachi   \n1421                             Thailand   \n1422                          Do It To It   \n\n                                                   name      length  \\\n0     Mariah Carey  All I Want For Christmas Is You ...  241.696508   \n1     Brenda Lee  Rockin Around The Christmas Tree O...  127.523991   \n2     Bobby Helms  Jingle Bell Rock Official Lyric V...  131.378503   \n3           Burl Ives  Holly Jolly Christmas Lyrics.wav  153.553560   \n4                       Post Malone  Circles Lyrics.wav  215.411519   \n...                                                 ...         ...   \n1418  Kelly Clarkson  Christmas Isnt Canceled Just Y...  231.619048   \n1419  Roddy Ricch  moved to miami Lyrics feat Lil Ba...  222.400726   \n1420  Roddy Ricch  hibachi feat Kodak Black  21 Sava...  170.480907   \n1421                   Roddy Ricch  Thailand Lyrics.wav  201.131247   \n1422          ACRAZE  Do It To It Lyrics ft Cherish.wav  159.892608   \n\n      chroma_stft_mean  chroma_stft_var  rms_mean   rms_var  \\\n0             0.317660         0.091317  0.160702  0.005551   \n1             0.333602         0.087056  0.099516  0.002398   \n2             0.278278         0.089981  0.227821  0.008592   \n3             0.328846         0.089120  0.069804  0.000859   \n4             0.340946         0.093090  0.329962  0.017911   \n...                ...              ...       ...       ...   \n1418          0.366283         0.088413  0.246724  0.010484   \n1419          0.496971         0.093589  0.263491  0.032075   \n1420          0.542494         0.082148  0.359854  0.023363   \n1421          0.482211         0.090467  0.299949  0.026273   \n1422          0.464535         0.100079  0.226730  0.031460   \n\n      spectral_centroid_mean  spectral_centroid_var  spectral_bandwidth_mean  \\\n0                2963.679826           4.258230e+05              2887.388904   \n1                2337.289099           3.094718e+05              2206.637701   \n2                1825.951163           3.851751e+05              2046.698502   \n3                2200.466281           2.688014e+05              2378.395310   \n4                1821.167852           6.991870e+05              2252.989888   \n...                      ...                    ...                      ...   \n1418             2656.592627           3.736893e+05              2724.528599   \n1419             2153.282361           1.736386e+06              2375.496133   \n1420             1839.916629           1.082738e+06              2360.276751   \n1421             1990.337814           1.505351e+06              2379.269351   \n1422             2770.581188           1.698511e+06              2547.762218   \n\n      ...  mfcc16_mean  mfcc16_var  mfcc17_mean  mfcc17_var  mfcc18_mean  \\\n0     ...     1.619618   99.735660    -3.865835   99.024666     2.729783   \n1     ...    -1.039626   78.420586    -4.437555   55.536427     3.890496   \n2     ...     1.430321   58.685158    -4.030815   67.332291     1.802275   \n3     ...    -1.355817   60.197350    -6.695084   52.782772    -4.325858   \n4     ...     2.563944   78.141319   -12.359889   83.661438     4.207565   \n...   ...          ...         ...          ...         ...          ...   \n1418  ...     5.321839   70.412506     1.213545   77.698616     4.693950   \n1419  ...     4.598643  180.801086    -4.373017  110.878738     4.545245   \n1420  ...     8.091636   79.854568    -1.646704  123.382797     5.309008   \n1421  ...    10.420262   91.743813    -2.071233   75.112267     8.341298   \n1422  ...     2.155907   68.733521    -5.703623   47.707085    -1.433100   \n\n      mfcc18_var  mfcc19_mean  mfcc19_var  mfcc20_mean  mfcc20_var  \n0     112.219580    -7.488522  122.569650     2.323859  141.572560  \n1      70.359543     0.014326   77.899239     6.889563   93.610161  \n2      58.469532    -5.335912   53.423290     0.133941   58.774597  \n3      66.221947    -3.533713   50.849602    -1.266797   90.991325  \n4      65.643173    -5.280680   54.441185    -0.751733   59.799530  \n...          ...          ...         ...          ...         ...  \n1418   85.284431    -2.604682   76.687698     5.805956   77.433144  \n1419  111.550697     4.918246   63.780304     8.114554   75.806396  \n1420   98.507568     0.213412   80.767159     2.804790   73.490234  \n1421   97.730263    -0.260812   69.875168     1.959964   62.722679  \n1422   45.689129    -6.835608   45.040623    -1.940495   51.794838  \n\n[1423 rows x 60 columns]",
      "text/html": "<div>\n<style scoped>\n    .dataframe tbody tr th:only-of-type {\n        vertical-align: middle;\n    }\n\n    .dataframe tbody tr th {\n        vertical-align: top;\n    }\n\n    .dataframe thead th {\n        text-align: right;\n    }\n</style>\n<table border=\"1\" class=\"dataframe\">\n  <thead>\n    <tr style=\"text-align: right;\">\n      <th></th>\n      <th>billboard_name</th>\n      <th>name</th>\n      <th>length</th>\n      <th>chroma_stft_mean</th>\n      <th>chroma_stft_var</th>\n      <th>rms_mean</th>\n      <th>rms_var</th>\n      <th>spectral_centroid_mean</th>\n      <th>spectral_centroid_var</th>\n      <th>spectral_bandwidth_mean</th>\n      <th>...</th>\n      <th>mfcc16_mean</th>\n      <th>mfcc16_var</th>\n      <th>mfcc17_mean</th>\n      <th>mfcc17_var</th>\n      <th>mfcc18_mean</th>\n      <th>mfcc18_var</th>\n      <th>mfcc19_mean</th>\n      <th>mfcc19_var</th>\n      <th>mfcc20_mean</th>\n      <th>mfcc20_var</th>\n    </tr>\n  </thead>\n  <tbody>\n    <tr>\n      <th>0</th>\n      <td>All I Want For Christmas Is You</td>\n      <td>Mariah Carey  All I Want For Christmas Is You ...</td>\n      <td>241.696508</td>\n      <td>0.317660</td>\n      <td>0.091317</td>\n      <td>0.160702</td>\n      <td>0.005551</td>\n      <td>2963.679826</td>\n      <td>4.258230e+05</td>\n      <td>2887.388904</td>\n      <td>...</td>\n      <td>1.619618</td>\n      <td>99.735660</td>\n      <td>-3.865835</td>\n      <td>99.024666</td>\n      <td>2.729783</td>\n      <td>112.219580</td>\n      <td>-7.488522</td>\n      <td>122.569650</td>\n      <td>2.323859</td>\n      <td>141.572560</td>\n    </tr>\n    <tr>\n      <th>1</th>\n      <td>Rockin' Around The Christmas Tree</td>\n      <td>Brenda Lee  Rockin Around The Christmas Tree O...</td>\n      <td>127.523991</td>\n      <td>0.333602</td>\n      <td>0.087056</td>\n      <td>0.099516</td>\n      <td>0.002398</td>\n      <td>2337.289099</td>\n      <td>3.094718e+05</td>\n      <td>2206.637701</td>\n      <td>...</td>\n      <td>-1.039626</td>\n      <td>78.420586</td>\n      <td>-4.437555</td>\n      <td>55.536427</td>\n      <td>3.890496</td>\n      <td>70.359543</td>\n      <td>0.014326</td>\n      <td>77.899239</td>\n      <td>6.889563</td>\n      <td>93.610161</td>\n    </tr>\n    <tr>\n      <th>2</th>\n      <td>Jingle Bell Rock</td>\n      <td>Bobby Helms  Jingle Bell Rock Official Lyric V...</td>\n      <td>131.378503</td>\n      <td>0.278278</td>\n      <td>0.089981</td>\n      <td>0.227821</td>\n      <td>0.008592</td>\n      <td>1825.951163</td>\n      <td>3.851751e+05</td>\n      <td>2046.698502</td>\n      <td>...</td>\n      <td>1.430321</td>\n      <td>58.685158</td>\n      <td>-4.030815</td>\n      <td>67.332291</td>\n      <td>1.802275</td>\n      <td>58.469532</td>\n      <td>-5.335912</td>\n      <td>53.423290</td>\n      <td>0.133941</td>\n      <td>58.774597</td>\n    </tr>\n    <tr>\n      <th>3</th>\n      <td>A Holly Jolly Christmas</td>\n      <td>Burl Ives  Holly Jolly Christmas Lyrics.wav</td>\n      <td>153.553560</td>\n      <td>0.328846</td>\n      <td>0.089120</td>\n      <td>0.069804</td>\n      <td>0.000859</td>\n      <td>2200.466281</td>\n      <td>2.688014e+05</td>\n      <td>2378.395310</td>\n      <td>...</td>\n      <td>-1.355817</td>\n      <td>60.197350</td>\n      <td>-6.695084</td>\n      <td>52.782772</td>\n      <td>-4.325858</td>\n      <td>66.221947</td>\n      <td>-3.533713</td>\n      <td>50.849602</td>\n      <td>-1.266797</td>\n      <td>90.991325</td>\n    </tr>\n    <tr>\n      <th>4</th>\n      <td>Circles</td>\n      <td>Post Malone  Circles Lyrics.wav</td>\n      <td>215.411519</td>\n      <td>0.340946</td>\n      <td>0.093090</td>\n      <td>0.329962</td>\n      <td>0.017911</td>\n      <td>1821.167852</td>\n      <td>6.991870e+05</td>\n      <td>2252.989888</td>\n      <td>...</td>\n      <td>2.563944</td>\n      <td>78.141319</td>\n      <td>-12.359889</td>\n      <td>83.661438</td>\n      <td>4.207565</td>\n      <td>65.643173</td>\n      <td>-5.280680</td>\n      <td>54.441185</td>\n      <td>-0.751733</td>\n      <td>59.799530</td>\n    </tr>\n    <tr>\n      <th>...</th>\n      <td>...</td>\n      <td>...</td>\n      <td>...</td>\n      <td>...</td>\n      <td>...</td>\n      <td>...</td>\n      <td>...</td>\n      <td>...</td>\n      <td>...</td>\n      <td>...</td>\n      <td>...</td>\n      <td>...</td>\n      <td>...</td>\n      <td>...</td>\n      <td>...</td>\n      <td>...</td>\n      <td>...</td>\n      <td>...</td>\n      <td>...</td>\n      <td>...</td>\n      <td>...</td>\n    </tr>\n    <tr>\n      <th>1418</th>\n      <td>Christmas Isn't Canceled (Just You)</td>\n      <td>Kelly Clarkson  Christmas Isnt Canceled Just Y...</td>\n      <td>231.619048</td>\n      <td>0.366283</td>\n      <td>0.088413</td>\n      <td>0.246724</td>\n      <td>0.010484</td>\n      <td>2656.592627</td>\n      <td>3.736893e+05</td>\n      <td>2724.528599</td>\n      <td>...</td>\n      <td>5.321839</td>\n      <td>70.412506</td>\n      <td>1.213545</td>\n      <td>77.698616</td>\n      <td>4.693950</td>\n      <td>85.284431</td>\n      <td>-2.604682</td>\n      <td>76.687698</td>\n      <td>5.805956</td>\n      <td>77.433144</td>\n    </tr>\n    <tr>\n      <th>1419</th>\n      <td>Moved To Miami</td>\n      <td>Roddy Ricch  moved to miami Lyrics feat Lil Ba...</td>\n      <td>222.400726</td>\n      <td>0.496971</td>\n      <td>0.093589</td>\n      <td>0.263491</td>\n      <td>0.032075</td>\n      <td>2153.282361</td>\n      <td>1.736386e+06</td>\n      <td>2375.496133</td>\n      <td>...</td>\n      <td>4.598643</td>\n      <td>180.801086</td>\n      <td>-4.373017</td>\n      <td>110.878738</td>\n      <td>4.545245</td>\n      <td>111.550697</td>\n      <td>4.918246</td>\n      <td>63.780304</td>\n      <td>8.114554</td>\n      <td>75.806396</td>\n    </tr>\n    <tr>\n      <th>1420</th>\n      <td>Hibachi</td>\n      <td>Roddy Ricch  hibachi feat Kodak Black  21 Sava...</td>\n      <td>170.480907</td>\n      <td>0.542494</td>\n      <td>0.082148</td>\n      <td>0.359854</td>\n      <td>0.023363</td>\n      <td>1839.916629</td>\n      <td>1.082738e+06</td>\n      <td>2360.276751</td>\n      <td>...</td>\n      <td>8.091636</td>\n      <td>79.854568</td>\n      <td>-1.646704</td>\n      <td>123.382797</td>\n      <td>5.309008</td>\n      <td>98.507568</td>\n      <td>0.213412</td>\n      <td>80.767159</td>\n      <td>2.804790</td>\n      <td>73.490234</td>\n    </tr>\n    <tr>\n      <th>1421</th>\n      <td>Thailand</td>\n      <td>Roddy Ricch  Thailand Lyrics.wav</td>\n      <td>201.131247</td>\n      <td>0.482211</td>\n      <td>0.090467</td>\n      <td>0.299949</td>\n      <td>0.026273</td>\n      <td>1990.337814</td>\n      <td>1.505351e+06</td>\n      <td>2379.269351</td>\n      <td>...</td>\n      <td>10.420262</td>\n      <td>91.743813</td>\n      <td>-2.071233</td>\n      <td>75.112267</td>\n      <td>8.341298</td>\n      <td>97.730263</td>\n      <td>-0.260812</td>\n      <td>69.875168</td>\n      <td>1.959964</td>\n      <td>62.722679</td>\n    </tr>\n    <tr>\n      <th>1422</th>\n      <td>Do It To It</td>\n      <td>ACRAZE  Do It To It Lyrics ft Cherish.wav</td>\n      <td>159.892608</td>\n      <td>0.464535</td>\n      <td>0.100079</td>\n      <td>0.226730</td>\n      <td>0.031460</td>\n      <td>2770.581188</td>\n      <td>1.698511e+06</td>\n      <td>2547.762218</td>\n      <td>...</td>\n      <td>2.155907</td>\n      <td>68.733521</td>\n      <td>-5.703623</td>\n      <td>47.707085</td>\n      <td>-1.433100</td>\n      <td>45.689129</td>\n      <td>-6.835608</td>\n      <td>45.040623</td>\n      <td>-1.940495</td>\n      <td>51.794838</td>\n    </tr>\n  </tbody>\n</table>\n<p>1423 rows × 60 columns</p>\n</div>"
     },
     "execution_count": 32,
     "metadata": {},
     "output_type": "execute_result"
    }
   ],
   "source": [
    "fetch_audio_features('../data/spofity/songs.csv', batch_size=500)"
   ],
   "metadata": {
    "collapsed": false,
    "pycharm": {
     "name": "#%%\n"
    }
   }
  },
  {
   "cell_type": "markdown",
   "source": [
    "# Testing Metric"
   ],
   "metadata": {
    "collapsed": false,
    "pycharm": {
     "name": "#%% md\n"
    }
   }
  },
  {
   "cell_type": "code",
   "execution_count": 9,
   "outputs": [
    {
     "data": {
      "text/plain": "1.2882117882117883"
     },
     "execution_count": 9,
     "metadata": {},
     "output_type": "execute_result"
    }
   ],
   "source": [
    "rank_counts = [10, 4, 1]\n",
    "ranks = [11, 13, 14]\n",
    "squiggle(rank_counts, ranks, scaled=False)"
   ],
   "metadata": {
    "collapsed": false,
    "pycharm": {
     "name": "#%%\n"
    }
   }
  },
  {
   "cell_type": "code",
   "execution_count": 10,
   "outputs": [
    {
     "data": {
      "text/plain": "0.7265253672884535"
     },
     "execution_count": 10,
     "metadata": {},
     "output_type": "execute_result"
    }
   ],
   "source": [
    "rank_counts = [4, 4, 1]\n",
    "ranks = [11, 13, 4]\n",
    "squiggle(rank_counts, ranks, scaled=True)"
   ],
   "metadata": {
    "collapsed": false,
    "pycharm": {
     "name": "#%%\n"
    }
   }
  },
  {
   "cell_type": "code",
   "execution_count": 8,
   "outputs": [
    {
     "name": "stdout",
     "output_type": "stream",
     "text": [
      "C:\\Anaconda3\\lib\\site-packages\\pytube\\__init__.py\n"
     ]
    }
   ],
   "source": [
    "import pytube\n",
    "print(pytube.__file__)"
   ],
   "metadata": {
    "collapsed": false,
    "pycharm": {
     "name": "#%%\n"
    }
   }
  },
  {
   "cell_type": "code",
   "execution_count": null,
   "outputs": [],
   "source": [],
   "metadata": {
    "collapsed": false,
    "pycharm": {
     "name": "#%%\n"
    }
   }
  }
 ],
 "metadata": {
  "kernelspec": {
   "display_name": "Python 3",
   "language": "python",
   "name": "python3"
  },
  "language_info": {
   "codemirror_mode": {
    "name": "ipython",
    "version": 2
   },
   "file_extension": ".py",
   "mimetype": "text/x-python",
   "name": "python",
   "nbconvert_exporter": "python",
   "pygments_lexer": "ipython2",
   "version": "2.7.6"
  }
 },
 "nbformat": 4,
 "nbformat_minor": 0
}